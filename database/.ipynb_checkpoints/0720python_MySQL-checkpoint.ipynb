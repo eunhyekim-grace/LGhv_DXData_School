{
 "cells": [
  {
   "cell_type": "code",
   "execution_count": 1,
   "id": "7bbd98c9",
   "metadata": {},
   "outputs": [
    {
     "name": "stdout",
     "output_type": "stream",
     "text": [
      "Collecting pyMySQL\n",
      "  Downloading PyMySQL-1.1.0-py3-none-any.whl (44 kB)\n",
      "     ---------------------------------------- 44.8/44.8 kB ? eta 0:00:00\n",
      "Installing collected packages: pyMySQL\n",
      "Successfully installed pyMySQL-1.1.0\n"
     ]
    }
   ],
   "source": [
    "!pip install pyMySQL"
   ]
  },
  {
   "cell_type": "code",
   "execution_count": 5,
   "id": "92679949",
   "metadata": {},
   "outputs": [],
   "source": [
    "import pymysql\n",
    "import sys"
   ]
  },
  {
   "cell_type": "code",
   "execution_count": 23,
   "id": "2df82137",
   "metadata": {},
   "outputs": [
    {
     "name": "stdout",
     "output_type": "stream",
     "text": [
      "<pymysql.connections.Connection object at 0x00000240D0262290>\n",
      "s.jpg\n"
     ]
    }
   ],
   "source": [
    "try:\n",
    "    #data base 연결 객체 생성\n",
    "    con = pymysql.connect(host = 'localhost', port = 3306, db = 'mydb', user = 'root', passwd = 'qlenfrlsms99',charset = 'utf8')\n",
    "    print(con)\n",
    "    #SQL 실행 객체 생성\n",
    "    cursor = con.cursor()\n",
    "    #SQL 실행 - SQL에 서식을 설정하고 파라미터를 대입하는 코드 작성\n",
    "    #12번 데이터의 부서를 영업 긜고 위치를 서초로 수정\n",
    "    #cursor.execute(\"UPDATE DEPT SET DNAME = %s, LOC = %s WHERE DEPTNO = %s\",('영업','서초',12))\n",
    "    #SQL 실행 - SQL에 서식을 설정하고 parameter 대입\n",
    "    #12번 데이터 삭제\n",
    "    #cursor.execute(\"DELETE FROM DEPT WHERE DEPTNO = %s\",(12))\n",
    "    #12번 데이터 조회\n",
    "#     cursor.execute(\n",
    "#         \"SELECT * FROM DEPT WHERE DEPTNO = %s\", (11))\n",
    "#     #검색 결과 중 하나의 데이터를 읽어오는 것\n",
    "#     #검색 된 결과가 없으면 NONE이고 존재하면 TUPLE\n",
    "#     record = cursor.fetchone()\n",
    "#     if record == None:\n",
    "#         print(\"검색된 데이터가 없습니다.\")\n",
    "#     else:\n",
    "#         for attr in record:\n",
    "#             print(attr)\n",
    "            \n",
    "#     #검색 결과 전체 데이터를 읽어오는 것\n",
    "#     #여러 개의 데이터를 가져오는 경우는 데이터가 없는 경우\n",
    "#     #빈 tuple return\n",
    "#     cursor.execute(\n",
    "#         \"SELECT * FROM DEPT WHRE DEPTNO > %s\",(100))\n",
    "#     record = cursor.fetchall()\n",
    "#     #여러 개를 return하는 함수를 호출해서 데이터가 없다는 사실을 확인하는 방법 - 데이터의 개수가 0인지 아닌지\n",
    "#     if len(record) == 0:\n",
    "#         print(\"검색된 데이터가 없음\")\n",
    "#     else:\n",
    "#         for attr in record:\n",
    "#             print(attr)\n",
    "#     #삽입할 이미지 파일 내용 읽기\n",
    "#     #자신의 파일 경로로 수정\n",
    "#     f = open('s.jpg', 'rb')\n",
    "#     snoopy = f.read()\n",
    "#     f.close()\n",
    "    \n",
    "#     #data 삽입\n",
    "#     cursor.execute('INSERT INTO BLOBTABLE VALUES (%s, %s)',('s.jpg',snoopy))\n",
    "    \n",
    "#     #cursor.execute(\"INSERT INTO DEPT VALUES(%s, %s, %s)\", (12, '기획','제주')) # 위 보다 이 방법 더 권장\n",
    "\n",
    "    #데이터 읽어 오기\n",
    "    cursor.execute('SELECT * FROM BLOBTABLE')\n",
    "    data = cursor.fetchone()\n",
    "    #2번째 data가 blob이므로 두 번째 데이터를 파일로 변경\n",
    "    print(data[0]) #파일명\n",
    "    #파일을 쓰기 모드로 생성\n",
    "    f = open(data[0], 'wb')\n",
    "    #읽은 데이터 파일에 기록\n",
    "    f.write(data[1])\n",
    "    f.close\n",
    "    \n",
    "    #원본에 반영\n",
    "    con.commit()\n",
    "except:\n",
    "    print('예외 발생: ', sys.exc_info())\n",
    "finally:\n",
    "    if con != None:\n",
    "        con.close()"
   ]
  },
  {
   "cell_type": "code",
   "execution_count": null,
   "id": "51f0c4d2",
   "metadata": {},
   "outputs": [],
   "source": []
  }
 ],
 "metadata": {
  "kernelspec": {
   "display_name": "Python 3 (ipykernel)",
   "language": "python",
   "name": "python3"
  },
  "language_info": {
   "codemirror_mode": {
    "name": "ipython",
    "version": 3
   },
   "file_extension": ".py",
   "mimetype": "text/x-python",
   "name": "python",
   "nbconvert_exporter": "python",
   "pygments_lexer": "ipython3",
   "version": "3.10.9"
  }
 },
 "nbformat": 4,
 "nbformat_minor": 5
}
