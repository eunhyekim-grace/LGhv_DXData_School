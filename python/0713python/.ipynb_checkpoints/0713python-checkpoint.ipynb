{
 "cells": [
  {
   "cell_type": "code",
   "execution_count": 25,
   "id": "c6da222f",
   "metadata": {},
   "outputs": [],
   "source": [
    "import numpy as np\n",
    "import sys\n",
    "import re"
   ]
  },
  {
   "cell_type": "markdown",
   "id": "b00709ae",
   "metadata": {},
   "source": [
    "# Sequential type\n",
    "\n",
    "## list"
   ]
  },
  {
   "cell_type": "code",
   "execution_count": 3,
   "id": "39ca0d0c",
   "metadata": {},
   "outputs": [
    {
     "name": "stdout",
     "output_type": "stream",
     "text": [
      "[0 1 2 3 4]\n",
      "[0 1 2]\n",
      "[4 3 2 1 0]\n"
     ]
    }
   ],
   "source": [
    "msg = np.arange(5)\n",
    "\n",
    "print(msg[::1]) #전체\n",
    "print(msg[:-2:]) #뒤에서 두번째 앞까지\n",
    "print(msg[::-1]) #반대로, reverse"
   ]
  },
  {
   "cell_type": "markdown",
   "id": "05eb7ae8",
   "metadata": {},
   "source": [
    "서"
   ]
  },
  {
   "cell_type": "code",
   "execution_count": 19,
   "id": "e29ad811",
   "metadata": {},
   "outputs": [
    {
     "name": "stdout",
     "output_type": "stream",
     "text": [
      "10 \n",
      " a = 10\n",
      "a = 10\n"
     ]
    },
    {
     "data": {
      "text/plain": [
       "'a = 10'"
      ]
     },
     "execution_count": 19,
     "metadata": {},
     "output_type": "execute_result"
    }
   ],
   "source": [
    "a = 10\n",
    "s = \"a = \" +str(a)\n",
    "print(a,'\\n',\"a = %d\"%a)\n",
    "\n",
    "s_ = \"a = {0:d}\".format(a)\n",
    "print(s_)\n",
    "\n",
    "_s = f\"a = {a:d}\"\n",
    "_s"
   ]
  },
  {
   "cell_type": "markdown",
   "id": "6e2ed275",
   "metadata": {},
   "source": [
    "## 정규 표현식"
   ]
  },
  {
   "cell_type": "code",
   "execution_count": 24,
   "id": "d2ec47f9",
   "metadata": {},
   "outputs": [
    {
     "name": "stdout",
     "output_type": "stream",
     "text": [
      "cp949\n",
      "UTF-8\n",
      "b'\\xed\\x95\\x9c\\xea\\xb8\\x80'\n",
      "한글\n",
      "97 54620\n"
     ]
    }
   ],
   "source": [
    "#현재 시스템의 인코딩 확인\n",
    "print(sys.stdin.encoding)\n",
    "print(sys.stdout.encoding)\n",
    "\n",
    "#문자열 -> 바이트 코드\n",
    "print(\"한글\".encode())\n",
    "print(\"한글\".encode().decode())\n",
    "\n",
    "print(ord(\"a\"), ord(\"한\"))"
   ]
  },
  {
   "cell_type": "code",
   "execution_count": 26,
   "id": "26f3e2b9",
   "metadata": {},
   "outputs": [
    {
     "data": {
      "text/plain": [
       "'apple,samsung google,kakao'"
      ]
     },
     "execution_count": 26,
     "metadata": {},
     "output_type": "execute_result"
    }
   ],
   "source": [
    "# :이나  |를 , 로 치환\n",
    "testStr = \"apple:samsung google|kakao\"\n",
    "result = re.sub(\"[:,|]\",\",\",testStr)\n",
    "result"
   ]
  },
  {
   "cell_type": "code",
   "execution_count": 27,
   "id": "b76117fd",
   "metadata": {},
   "outputs": [
    {
     "name": "stdout",
     "output_type": "stream",
     "text": [
      "True\n",
      "False\n",
      "True\n"
     ]
    }
   ],
   "source": [
    "#email이 유효한 email인지 검사\n",
    "\n",
    "p = re.compile(r'([A-Za-z0-9]+[.-_])*[A-Za-z0-9]+@[A-Za-z0-9-]+(\\.[A-Z|a-z]{2,})+') #google 검색 - email pattern regular expression\n",
    "emails = ['hi@google.com','@false@kakao.com','pos12@gmail.com']\n",
    "for email in emails:\n",
    "    print(p.match(email) != None)"
   ]
  },
  {
   "cell_type": "markdown",
   "id": "9d3d3d2a",
   "metadata": {},
   "source": [
    "## list"
   ]
  },
  {
   "cell_type": "code",
   "execution_count": 39,
   "id": "d955cab3",
   "metadata": {},
   "outputs": [
    {
     "name": "stdout",
     "output_type": "stream",
     "text": [
      "one\n",
      "['one', 'two']\n",
      "['one', 'two', 'three', 'five']\n",
      "one\n",
      "two\n",
      "three\n",
      "five\n",
      "[0, 1, 2, 3, 4, 5, 6, 7, 8, 9]\n",
      "[9, 8, 7, 6, 5, 4, 3, 2, 1, 0]\n",
      "[0, 1, 2, 3, 4, 5, 6, 7, 8, 9]\n",
      "['five', 'one', 'three', 'two']\n"
     ]
    }
   ],
   "source": [
    "#list method 사용\n",
    "li1 = [\"one\", \"two\",\"three\",\"four\"]\n",
    "li2 = list(range(10))\n",
    "li2 = li2[::-1]\n",
    "\n",
    "#data 추가\n",
    "li1.append(\"five\")\n",
    "\n",
    "#한 개 data 출력\n",
    "print(li1[0])\n",
    "\n",
    "#slicing -범위를 가지고 추출\n",
    "print(li1[:2])\n",
    "\n",
    "#data 삭제\n",
    "del li1[3]\n",
    "print(li1)\n",
    "\n",
    "#data 순회\n",
    "for pj in li1:\n",
    "    print(pj)\n",
    "    \n",
    "#정렬\n",
    "li2.sort() #오름차순 정렬\n",
    "print(li2)\n",
    "li2.sort(reverse = True) #내림차순 정렬\n",
    "print(li2)\n",
    "\n",
    "result = sorted(li2) #sorted 는 정렬한 결과를 return\n",
    "print(result)\n",
    "\n",
    "#영문 대소문자 구분없이 정렬\n",
    "li1.sort(key = str.lower)\n",
    "print(li1)"
   ]
  },
  {
   "cell_type": "markdown",
   "id": "e5c65cfc",
   "metadata": {},
   "source": [
    "## Record"
   ]
  },
  {
   "cell_type": "code",
   "execution_count": 42,
   "id": "4bb1f2e9",
   "metadata": {},
   "outputs": [
    {
     "name": "stdout",
     "output_type": "stream",
     "text": [
      "('one', 'two', 2)\n",
      "one\n",
      "2\n",
      "['one', 'two']\n"
     ]
    }
   ],
   "source": [
    "record = (\"one\", \"two\", 2) #tuple 생성\n",
    "print(record)\n",
    "print(record[0]) #indexing 기능\n",
    "#record[0] = \"adam\" #수정 불가능\n",
    "\n",
    "#list, tuple - unpacking 가능\n",
    "name, job, albumCnt = record\n",
    "print(albumCnt)\n",
    "\n",
    "*etc, albumCnt = record #*을 이용하면 나머지 모두를 list로 받음\n",
    "print(etc)"
   ]
  },
  {
   "cell_type": "code",
   "execution_count": 43,
   "id": "2868b49e",
   "metadata": {},
   "outputs": [
    {
     "name": "stdout",
     "output_type": "stream",
     "text": [
      "20 10\n"
     ]
    }
   ],
   "source": [
    "#swap\n",
    "a = 10; b= 20\n",
    "a,b = b,a\n",
    "print(a,b)"
   ]
  },
  {
   "cell_type": "markdown",
   "id": "2bca2092",
   "metadata": {},
   "source": [
    "### named tuple"
   ]
  },
  {
   "cell_type": "code",
   "execution_count": 48,
   "id": "e4cd5d35",
   "metadata": {},
   "outputs": [
    {
     "name": "stdout",
     "output_type": "stream",
     "text": [
      "adam\n",
      "jessica\n",
      "adam\n",
      "jessica\n"
     ]
    }
   ],
   "source": [
    "#table 구조 data 생성\n",
    "data = [(\"adam\", '010'), (\"jessica\",\"011\")]\n",
    "\n",
    "#이름만 출력\n",
    "for row in data:\n",
    "    print(row[0]) # 구조를 외우고 있어야 사용 가능\n",
    "    \n",
    "#이름 있는 tuple\n",
    "from collections import namedtuple\n",
    "#자료구조 생성 - 튜플의 각 컬럼 이름 만들기\n",
    "Person = namedtuple(\"Person\", \"name mobile\")\n",
    "persons = [Person('adam','010'), Person(\"jessica\",'011')]\n",
    "for person in persons:\n",
    "    print(person.name)"
   ]
  },
  {
   "cell_type": "markdown",
   "id": "32e27798",
   "metadata": {},
   "source": [
    "## set"
   ]
  },
  {
   "cell_type": "code",
   "execution_count": 52,
   "id": "6856706f",
   "metadata": {},
   "outputs": [
    {
     "name": "stdout",
     "output_type": "stream",
     "text": [
      "{'exodus', 'gensis', 'adam', 'genesis'}\n",
      "numbers\n",
      "genesis\n",
      "gensis\n",
      "exodus\n",
      "adam\n"
     ]
    }
   ],
   "source": [
    "#set은 data의 순서와 상관 없이 저장되므로 출력되는 순서는 예측할 수 없음\n",
    "s = {\"adam\", \"genesis\",\"exodus\",\"gensis\"}\n",
    "print(s)\n",
    "\n",
    "s.add(\"numbers\")\n",
    "for d in s:\n",
    "    print(d)"
   ]
  },
  {
   "cell_type": "markdown",
   "id": "7f42dee7",
   "metadata": {},
   "source": [
    "## dict"
   ]
  },
  {
   "cell_type": "code",
   "execution_count": 63,
   "id": "aadcfdea",
   "metadata": {},
   "outputs": [
    {
     "name": "stdout",
     "output_type": "stream",
     "text": [
      "name adam\n",
      "job singer\n",
      "father pjm\n"
     ]
    }
   ],
   "source": [
    "#dict 생성\n",
    "dic = {}\n",
    "# data 추가(upsert)\n",
    "dic['name'] = 'adam'\n",
    "dic['job'] = 'singer'\n",
    "dic['father'] = 'pms'\n",
    "dic['father'] = 'pjm'\n",
    "dic, dic['job'], dic.get('job', 'nojob')\n",
    "#dic['score'] #존재하지 않는 key를 사용하면 keyError 발생\n",
    "dic.get('score', 8) #존재하지 않는 key를 사용하면 두 번째 매개변수 return\n",
    "\n",
    "#순회\n",
    "for key in dic:\n",
    "    print(key, dic[key])"
   ]
  },
  {
   "cell_type": "code",
   "execution_count": null,
   "id": "be488e56",
   "metadata": {},
   "outputs": [],
   "source": [
    "#dict를 이용한 MVC\n",
    "\n",
    "#DTO 역할 수행하는 class 생성 - 최근 권장\n",
    "class DTO:\n",
    "    def __init__(self)"
   ]
  }
 ],
 "metadata": {
  "kernelspec": {
   "display_name": "Python 3 (ipykernel)",
   "language": "python",
   "name": "python3"
  },
  "language_info": {
   "codemirror_mode": {
    "name": "ipython",
    "version": 3
   },
   "file_extension": ".py",
   "mimetype": "text/x-python",
   "name": "python",
   "nbconvert_exporter": "python",
   "pygments_lexer": "ipython3",
   "version": "3.10.9"
  }
 },
 "nbformat": 4,
 "nbformat_minor": 5
}
