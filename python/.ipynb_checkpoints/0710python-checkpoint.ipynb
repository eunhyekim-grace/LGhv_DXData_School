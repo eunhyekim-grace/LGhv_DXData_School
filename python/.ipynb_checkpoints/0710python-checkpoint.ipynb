{
 "cells": [
  {
   "cell_type": "markdown",
   "id": "fe749f6f",
   "metadata": {},
   "source": [
    "# function - 함수형 programming"
   ]
  },
  {
   "cell_type": "markdown",
   "id": "dc9ed659",
   "metadata": {},
   "source": [
    "## map"
   ]
  },
  {
   "cell_type": "code",
   "execution_count": 11,
   "id": "8ec2ee9d",
   "metadata": {},
   "outputs": [],
   "source": [
    "#숫자 list -> 제곱 list\n",
    "li = [i for i in range(100)] # 0 ~ 99\n",
    "temp = []\n",
    "for x in li:\n",
    "    temp.append(x*x)\n",
    "    \n",
    "def f(x):\n",
    "    return x*x\n",
    "#li의 모든 element에 f 함수를 적용해서 변환된 결과를 temp에 대입\n",
    "temp = list(map(f, li)) \n",
    "#temp\n",
    "\n",
    "#함수의 내용이 한 줄 -> 람다 function\n",
    "temp = list(map(lambda x: x*x, li)) #map을 이용한 변환\n",
    "#temp"
   ]
  },
  {
   "cell_type": "code",
   "execution_count": 16,
   "id": "e993cb03",
   "metadata": {},
   "outputs": [
    {
     "data": {
      "text/plain": [
       "['1,2...']"
      ]
     },
     "execution_count": 16,
     "metadata": {},
     "output_type": "execute_result"
    }
   ],
   "source": [
    "ar = [\"1,2,3\"]\n",
    "def f(x):\n",
    "    if len(x) > 3:\n",
    "        return x[0:3] + \"...\"\n",
    "    return x\n",
    "\n",
    "temp = list(map(f, ar))\n",
    "temp"
   ]
  },
  {
   "cell_type": "markdown",
   "id": "9e4fdb38",
   "metadata": {},
   "source": [
    "## filter"
   ]
  },
  {
   "cell_type": "code",
   "execution_count": 27,
   "id": "d2ca6b80",
   "metadata": {},
   "outputs": [
    {
     "name": "stdout",
     "output_type": "stream",
     "text": [
      "True\n"
     ]
    },
    {
     "data": {
      "text/plain": [
       "['김좌진', '안중근', '윤봉길']"
      ]
     },
     "execution_count": 27,
     "metadata": {},
     "output_type": "execute_result"
    }
   ],
   "source": [
    "#이름이 3자 이상인 data만 추출\n",
    "ar = [\"김구\", \"김좌진\", \"안중근\",\"윤봉길\", None]\n",
    "\n",
    "#in : data가 collection에 포함되어 있는지 없는지 확인 <-> not in\n",
    "print(None in ar) #결측치 여부 확인\n",
    "\n",
    "def check_none(x): #결측치 제거 \n",
    "    return x != None\n",
    "\n",
    "ar = list(filter(check_none, ar))\n",
    "#print(ar)\n",
    "\n",
    "def f(x):\n",
    "    return len(x) >= 3\n",
    "result = list(filter(f,ar))\n",
    "#result\n",
    "\n",
    "list(filter(lambda x: len(x)>= 3, ar)) #lambda 함수 사용"
   ]
  },
  {
   "cell_type": "code",
   "execution_count": 36,
   "id": "e6335a45",
   "metadata": {},
   "outputs": [
    {
     "name": "stdout",
     "output_type": "stream",
     "text": [
      "False\n",
      "True\n"
     ]
    },
    {
     "data": {
      "text/plain": [
       "['안중근', '윤봉길']"
      ]
     },
     "execution_count": 36,
     "metadata": {},
     "output_type": "execute_result"
    }
   ],
   "source": [
    "#문자열 비교 확인\n",
    "print( \"가\">\"나\")\n",
    "print(\"가\" <\"나\")\n",
    "\n",
    "#성에 ㅇ이 들어가는 이름만 return\n",
    "result = list(filter(lambda x: x[0]>= \"아\" and x[0]<\"자\", ar))\n",
    "result"
   ]
  },
  {
   "cell_type": "code",
   "execution_count": 43,
   "id": "81efcb36",
   "metadata": {},
   "outputs": [],
   "source": [
    "ar = [\"1\",\"2\",\"3\"]\n",
    "kwlist = [\"2\"]\n",
    "#ar에서 kwlist에 있는 것 제외 하고 return\n"
   ]
  },
  {
   "cell_type": "markdown",
   "id": "f86e2c6d",
   "metadata": {},
   "source": [
    "## reduce"
   ]
  },
  {
   "cell_type": "code",
   "execution_count": 41,
   "id": "2d51b588",
   "metadata": {},
   "outputs": [
    {
     "data": {
      "text/plain": [
       "10"
      ]
     },
     "execution_count": 41,
     "metadata": {},
     "output_type": "execute_result"
    }
   ],
   "source": [
    "from functools import reduce\n",
    "\n",
    "result = reduce(lambda x, y: x+y, [1,2,3,4])\n",
    "result"
   ]
  },
  {
   "cell_type": "markdown",
   "id": "aa8bcf3d",
   "metadata": {},
   "source": [
    "## zip"
   ]
  },
  {
   "cell_type": "code",
   "execution_count": 45,
   "id": "e07eb8f0",
   "metadata": {},
   "outputs": [
    {
     "data": {
      "text/plain": [
       "[('국민학교', 1), ('중학교', 2), ('고등학교', 3)]"
      ]
     },
     "execution_count": 45,
     "metadata": {},
     "output_type": "execute_result"
    }
   ],
   "source": [
    "key = ['국민학교','중학교','고등학교']\n",
    "value = [1,2,3]\n",
    "\n",
    "list(zip(key,value))\n",
    "#dict(zip(key,value))"
   ]
  },
  {
   "cell_type": "markdown",
   "id": "f98dd602",
   "metadata": {},
   "source": [
    "## 중첩함수"
   ]
  },
  {
   "cell_type": "code",
   "execution_count": 51,
   "id": "444ba22b",
   "metadata": {},
   "outputs": [
    {
     "name": "stdout",
     "output_type": "stream",
     "text": [
      "change outer data in inner fct\n",
      "outer funct data\n"
     ]
    }
   ],
   "source": [
    "def outer():\n",
    "    outer_data = \"outer funct data\" #외부 함수 데이터\n",
    "    def inner():\n",
    "        inner_data = \"inner funct data\" # 내부 함수 데이터\n",
    "        #print(outer_data) #unboundlocal Error\n",
    "        outer_data = \"change outer data in inner fct\"\n",
    "        print(outer_data)# 내부에서는 외부 함수 데이터 접근 가능\n",
    "    #print(inner_data) #외부에서는 내부 함수 데이터 접근 불가\n",
    "    inner()\n",
    "    print(outer_data)\n",
    "        \n",
    "outer()"
   ]
  },
  {
   "cell_type": "markdown",
   "id": "54ffdffc",
   "metadata": {},
   "source": [
    "## nonlocal, global"
   ]
  },
  {
   "cell_type": "code",
   "execution_count": 58,
   "id": "8e97a045",
   "metadata": {},
   "outputs": [
    {
     "name": "stdout",
     "output_type": "stream",
     "text": [
      "change outer data in inner fct - nonlocal\n",
      "change outer data in inner fct - nonlocal\n"
     ]
    }
   ],
   "source": [
    "def outer():\n",
    "    outer_data = \"outer funct data\" \n",
    "    def inner():\n",
    "        nonlocal outer_data # 함수 내부에 데이터를 생성하지 X \n",
    "        #외부의 데이터를 사용하기 위해 이름을 다시 등록\n",
    "        \n",
    "        outer_data = \"change outer data in inner fct - nonlocal\" # 실행 X\n",
    "        print(outer_data)\n",
    "    inner()\n",
    "    print(outer_data)\n",
    "        \n",
    "outer()"
   ]
  },
  {
   "cell_type": "code",
   "execution_count": 60,
   "id": "02dfd312",
   "metadata": {},
   "outputs": [
    {
     "name": "stdout",
     "output_type": "stream",
     "text": [
      "change outer data in inner fct\n",
      "change outer data in inner fct\n"
     ]
    }
   ],
   "source": [
    "#동일한 이름의 변수가 최상위 level에 존재하는 경우 -> gloabal\n",
    "outer_data = \"outer funct data - global\" \n",
    "\n",
    "def outer():\n",
    "    def inner():\n",
    "        global outer_data # 함수 내부에 데이터를 생성하지 X \n",
    "        #외부의 데이터를 사용하기 위해 이름을 다시 등록\n",
    "        \n",
    "        outer_data = \"change outer data in inner fct\" # 실행 X\n",
    "        print(outer_data)\n",
    "    inner()\n",
    "    print(outer_data)\n",
    "        \n",
    "outer()"
   ]
  },
  {
   "cell_type": "markdown",
   "id": "50021920",
   "metadata": {},
   "source": [
    "## closure"
   ]
  },
  {
   "cell_type": "code",
   "execution_count": 68,
   "id": "3aeb2f64",
   "metadata": {},
   "outputs": [
    {
     "name": "stdout",
     "output_type": "stream",
     "text": [
      "1\n",
      "2\n"
     ]
    }
   ],
   "source": [
    "def outer():\n",
    "    data = 0\n",
    "    #자신을 감싸고 있는 함수의 데이터를 수정하는 함수\n",
    "    def inner():\n",
    "        nonlocal data\n",
    "        data += 1\n",
    "        print(data)\n",
    "    #함수 내부의 데이터를 수정하는 함수를 리턴하는 함수- closure\n",
    "    return inner\n",
    "\n",
    "closure = outer()\n",
    "closure()\n",
    "closure()"
   ]
  },
  {
   "cell_type": "markdown",
   "id": "9e6a1469",
   "metadata": {},
   "source": [
    "## decorator"
   ]
  },
  {
   "cell_type": "code",
   "execution_count": 1,
   "id": "7a06a646",
   "metadata": {},
   "outputs": [],
   "source": [
    "def transaction():\n",
    "    print(\"공통\")\n",
    "    print(\"business logic\")\n",
    "    print(\"공통2\")"
   ]
  },
  {
   "cell_type": "code",
   "execution_count": 2,
   "id": "aa6eb128",
   "metadata": {},
   "outputs": [],
   "source": [
    "def commonconcern1():\n",
    "    print(\"공통1\")\n",
    "    \n",
    "def commonconcern2():\n",
    "    print(\"공통2\")\n",
    "    \n",
    "def businesslogic():\n",
    "    print(\"business logic\")\n",
    "    \n",
    "def transaction():\n",
    "    commonconcern1()\n",
    "    commonconcern2()\n",
    "    businesslogic()"
   ]
  },
  {
   "cell_type": "code",
   "execution_count": 3,
   "id": "746dcd9f",
   "metadata": {},
   "outputs": [
    {
     "name": "stdout",
     "output_type": "stream",
     "text": [
      "공통1\n",
      "공통2\n",
      "business logic\n"
     ]
    }
   ],
   "source": [
    "transaction()"
   ]
  },
  {
   "cell_type": "code",
   "execution_count": 6,
   "id": "96a72db1",
   "metadata": {},
   "outputs": [
    {
     "name": "stdout",
     "output_type": "stream",
     "text": [
      "common\n",
      "bisiness logic\n"
     ]
    }
   ],
   "source": [
    "def deco(func):\n",
    "    print(\"common\")\n",
    "    func()\n",
    "    \n",
    "#이제 부터 businlogic이라는 함수를 호출하면 deco 라는 함수를 수행함\n",
    "#개발자가 작성한 코드 대신에 다른 코드를 불러내는 방식: proxy pattern\n",
    "    \n",
    "@deco\n",
    "def businlogic():\n",
    "    print(\"bisiness logic\")\n",
    "    "
   ]
  },
  {
   "cell_type": "code",
   "execution_count": 8,
   "id": "8c0177c5",
   "metadata": {},
   "outputs": [
    {
     "name": "stdout",
     "output_type": "stream",
     "text": [
      "busin logic\n",
      "logging\n"
     ]
    }
   ],
   "source": [
    "#고객의 니즈가 변경\n",
    "#업무 로직과는 관계가 없는 로깅을 출력하는 코드를 추가하기를 원하는 방향으로 변경\n",
    "#유지보수 과정이나 업무 로직과 관련이 없는 코드를 추가하거나 삭제하는 경우\n",
    "#업무 로직을 직접 수행하는 것은 예상하지 못한 결과를 불러올 수 있음\n",
    "#이런 경우에는 업무 로직은 손을 대지 않고 데코레이터 사용\n",
    "\n",
    "def decorator(func):\n",
    "    func()\n",
    "    print(\"logging\")\n",
    "    \n",
    "@decorator\n",
    "def businlogic():\n",
    "    print(\"busin logic\")"
   ]
  },
  {
   "cell_type": "code",
   "execution_count": 12,
   "id": "87f2e887",
   "metadata": {},
   "outputs": [],
   "source": [
    "import time"
   ]
  },
  {
   "cell_type": "code",
   "execution_count": 19,
   "id": "aeac65fc",
   "metadata": {},
   "outputs": [
    {
     "name": "stdout",
     "output_type": "stream",
     "text": [
      "수행 시간:  0.0\n",
      "매개 변수:  (2,)\n",
      "리턴 값:  1\n",
      "수행 시간:  0.0\n",
      "매개 변수:  (1,)\n",
      "리턴 값:  1\n",
      "수행 시간:  0.0\n",
      "매개 변수:  (3,)\n",
      "리턴 값:  2\n",
      "수행 시간:  0.0\n",
      "매개 변수:  (2,)\n",
      "리턴 값:  1\n",
      "수행 시간:  0.0\n",
      "매개 변수:  (4,)\n",
      "리턴 값:  3\n",
      "수행 시간:  0.0\n",
      "매개 변수:  (2,)\n",
      "리턴 값:  1\n",
      "수행 시간:  0.0\n",
      "매개 변수:  (1,)\n",
      "리턴 값:  1\n",
      "수행 시간:  0.0\n",
      "매개 변수:  (3,)\n",
      "리턴 값:  2\n",
      "수행 시간:  0.0\n",
      "매개 변수:  (5,)\n",
      "리턴 값:  5\n",
      "수행 시간:  0.0\n",
      "매개 변수:  (2,)\n",
      "리턴 값:  1\n",
      "수행 시간:  0.0\n",
      "매개 변수:  (1,)\n",
      "리턴 값:  1\n",
      "수행 시간:  0.0\n",
      "매개 변수:  (3,)\n",
      "리턴 값:  2\n",
      "수행 시간:  0.0\n",
      "매개 변수:  (2,)\n",
      "리턴 값:  1\n",
      "수행 시간:  0.001031637191772461\n",
      "매개 변수:  (4,)\n",
      "리턴 값:  3\n",
      "수행 시간:  0.001031637191772461\n",
      "매개 변수:  (6,)\n",
      "리턴 값:  8\n",
      "수행 시간:  0.0\n",
      "매개 변수:  (2,)\n",
      "리턴 값:  1\n",
      "수행 시간:  0.0\n",
      "매개 변수:  (1,)\n",
      "리턴 값:  1\n",
      "수행 시간:  0.0\n",
      "매개 변수:  (3,)\n",
      "리턴 값:  2\n",
      "수행 시간:  0.0\n",
      "매개 변수:  (2,)\n",
      "리턴 값:  1\n",
      "수행 시간:  0.0\n",
      "매개 변수:  (4,)\n",
      "리턴 값:  3\n",
      "수행 시간:  0.0\n",
      "매개 변수:  (2,)\n",
      "리턴 값:  1\n",
      "수행 시간:  0.0\n",
      "매개 변수:  (1,)\n",
      "리턴 값:  1\n",
      "수행 시간:  0.0\n",
      "매개 변수:  (3,)\n",
      "리턴 값:  2\n",
      "수행 시간:  0.0\n",
      "매개 변수:  (5,)\n",
      "리턴 값:  5\n",
      "수행 시간:  0.001031637191772461\n",
      "매개 변수:  (7,)\n",
      "리턴 값:  13\n",
      "수행 시간:  0.0\n",
      "매개 변수:  (2,)\n",
      "리턴 값:  1\n",
      "수행 시간:  0.0\n",
      "매개 변수:  (1,)\n",
      "리턴 값:  1\n",
      "수행 시간:  0.0\n",
      "매개 변수:  (3,)\n",
      "리턴 값:  2\n",
      "수행 시간:  0.0\n",
      "매개 변수:  (2,)\n",
      "리턴 값:  1\n",
      "수행 시간:  0.0\n",
      "매개 변수:  (4,)\n",
      "리턴 값:  3\n",
      "수행 시간:  0.0\n",
      "매개 변수:  (2,)\n",
      "리턴 값:  1\n",
      "수행 시간:  0.0\n",
      "매개 변수:  (1,)\n",
      "리턴 값:  1\n",
      "수행 시간:  0.0\n",
      "매개 변수:  (3,)\n",
      "리턴 값:  2\n",
      "수행 시간:  0.0\n",
      "매개 변수:  (5,)\n",
      "리턴 값:  5\n",
      "수행 시간:  0.0\n",
      "매개 변수:  (2,)\n",
      "리턴 값:  1\n",
      "수행 시간:  0.0\n",
      "매개 변수:  (1,)\n",
      "리턴 값:  1\n",
      "수행 시간:  0.0\n",
      "매개 변수:  (3,)\n",
      "리턴 값:  2\n",
      "수행 시간:  0.0\n",
      "매개 변수:  (2,)\n",
      "리턴 값:  1\n",
      "수행 시간:  0.0\n",
      "매개 변수:  (4,)\n",
      "리턴 값:  3\n",
      "수행 시간:  0.0\n",
      "매개 변수:  (6,)\n",
      "리턴 값:  8\n",
      "수행 시간:  0.001031637191772461\n",
      "매개 변수:  (8,)\n",
      "리턴 값:  21\n",
      "수행 시간:  0.0\n",
      "매개 변수:  (2,)\n",
      "리턴 값:  1\n",
      "수행 시간:  0.0\n",
      "매개 변수:  (1,)\n",
      "리턴 값:  1\n",
      "수행 시간:  0.0\n",
      "매개 변수:  (3,)\n",
      "리턴 값:  2\n",
      "수행 시간:  0.0\n",
      "매개 변수:  (2,)\n",
      "리턴 값:  1\n",
      "수행 시간:  0.0\n",
      "매개 변수:  (4,)\n",
      "리턴 값:  3\n",
      "수행 시간:  0.0\n",
      "매개 변수:  (2,)\n",
      "리턴 값:  1\n",
      "수행 시간:  0.0\n",
      "매개 변수:  (1,)\n",
      "리턴 값:  1\n",
      "수행 시간:  0.0\n",
      "매개 변수:  (3,)\n",
      "리턴 값:  2\n",
      "수행 시간:  0.0\n",
      "매개 변수:  (5,)\n",
      "리턴 값:  5\n",
      "수행 시간:  0.0\n",
      "매개 변수:  (2,)\n",
      "리턴 값:  1\n",
      "수행 시간:  0.0\n",
      "매개 변수:  (1,)\n",
      "리턴 값:  1\n",
      "수행 시간:  0.0\n",
      "매개 변수:  (3,)\n",
      "리턴 값:  2\n",
      "수행 시간:  0.0\n",
      "매개 변수:  (2,)\n",
      "리턴 값:  1\n",
      "수행 시간:  0.0\n",
      "매개 변수:  (4,)\n",
      "리턴 값:  3\n",
      "수행 시간:  0.0\n",
      "매개 변수:  (6,)\n",
      "리턴 값:  8\n",
      "수행 시간:  0.0\n",
      "매개 변수:  (2,)\n",
      "리턴 값:  1\n",
      "수행 시간:  0.0\n",
      "매개 변수:  (1,)\n",
      "리턴 값:  1\n",
      "수행 시간:  0.0010242462158203125\n",
      "매개 변수:  (3,)\n",
      "리턴 값:  2\n",
      "수행 시간:  0.0\n",
      "매개 변수:  (2,)\n",
      "리턴 값:  1\n",
      "수행 시간:  0.0010242462158203125\n",
      "매개 변수:  (4,)\n",
      "리턴 값:  3\n",
      "수행 시간:  0.0\n",
      "매개 변수:  (2,)\n",
      "리턴 값:  1\n",
      "수행 시간:  0.0\n",
      "매개 변수:  (1,)\n",
      "리턴 값:  1\n",
      "수행 시간:  0.0\n",
      "매개 변수:  (3,)\n",
      "리턴 값:  2\n",
      "수행 시간:  0.0010242462158203125\n",
      "매개 변수:  (5,)\n",
      "리턴 값:  5\n",
      "수행 시간:  0.0010242462158203125\n",
      "매개 변수:  (7,)\n",
      "리턴 값:  13\n",
      "수행 시간:  0.0020558834075927734\n",
      "매개 변수:  (9,)\n",
      "리턴 값:  34\n",
      "수행 시간:  0.0\n",
      "매개 변수:  (2,)\n",
      "리턴 값:  1\n",
      "수행 시간:  0.0\n",
      "매개 변수:  (1,)\n",
      "리턴 값:  1\n",
      "수행 시간:  0.0\n",
      "매개 변수:  (3,)\n",
      "리턴 값:  2\n",
      "수행 시간:  0.0\n",
      "매개 변수:  (2,)\n",
      "리턴 값:  1\n",
      "수행 시간:  0.0\n",
      "매개 변수:  (4,)\n",
      "리턴 값:  3\n",
      "수행 시간:  0.0\n",
      "매개 변수:  (2,)\n",
      "리턴 값:  1\n",
      "수행 시간:  0.0\n",
      "매개 변수:  (1,)\n",
      "리턴 값:  1\n",
      "수행 시간:  0.0\n",
      "매개 변수:  (3,)\n",
      "리턴 값:  2\n",
      "수행 시간:  0.0\n",
      "매개 변수:  (5,)\n",
      "리턴 값:  5\n",
      "수행 시간:  0.0\n",
      "매개 변수:  (2,)\n",
      "리턴 값:  1\n",
      "수행 시간:  0.0\n",
      "매개 변수:  (1,)\n",
      "리턴 값:  1\n",
      "수행 시간:  0.0\n",
      "매개 변수:  (3,)\n",
      "리턴 값:  2\n",
      "수행 시간:  0.0\n",
      "매개 변수:  (2,)\n",
      "리턴 값:  1\n",
      "수행 시간:  0.0\n",
      "매개 변수:  (4,)\n",
      "리턴 값:  3\n",
      "수행 시간:  0.0\n",
      "매개 변수:  (6,)\n",
      "리턴 값:  8\n",
      "수행 시간:  0.0\n",
      "매개 변수:  (2,)\n",
      "리턴 값:  1\n",
      "수행 시간:  0.0\n",
      "매개 변수:  (1,)\n",
      "리턴 값:  1\n",
      "수행 시간:  0.0\n",
      "매개 변수:  (3,)\n",
      "리턴 값:  2\n",
      "수행 시간:  0.0\n",
      "매개 변수:  (2,)\n",
      "리턴 값:  1\n",
      "수행 시간:  0.0\n",
      "매개 변수:  (4,)\n",
      "리턴 값:  3\n",
      "수행 시간:  0.0\n",
      "매개 변수:  (2,)\n",
      "리턴 값:  1\n",
      "수행 시간:  0.0\n",
      "매개 변수:  (1,)\n",
      "리턴 값:  1\n",
      "수행 시간:  0.0\n",
      "매개 변수:  (3,)\n",
      "리턴 값:  2\n",
      "수행 시간:  0.0\n",
      "매개 변수:  (5,)\n",
      "리턴 값:  5\n",
      "수행 시간:  0.0\n",
      "매개 변수:  (7,)\n",
      "리턴 값:  13\n",
      "수행 시간:  0.0\n",
      "매개 변수:  (2,)\n",
      "리턴 값:  1\n",
      "수행 시간:  0.0\n",
      "매개 변수:  (1,)\n",
      "리턴 값:  1\n",
      "수행 시간:  0.0\n",
      "매개 변수:  (3,)\n",
      "리턴 값:  2\n",
      "수행 시간:  0.0\n",
      "매개 변수:  (2,)\n",
      "리턴 값:  1\n",
      "수행 시간:  0.0\n",
      "매개 변수:  (4,)\n",
      "리턴 값:  3\n",
      "수행 시간:  0.0\n",
      "매개 변수:  (2,)\n",
      "리턴 값:  1\n",
      "수행 시간:  0.0\n",
      "매개 변수:  (1,)\n",
      "리턴 값:  1\n",
      "수행 시간:  0.0\n",
      "매개 변수:  (3,)\n",
      "리턴 값:  2\n",
      "수행 시간:  0.0\n",
      "매개 변수:  (5,)\n",
      "리턴 값:  5\n",
      "수행 시간:  0.0\n",
      "매개 변수:  (2,)\n",
      "리턴 값:  1\n",
      "수행 시간:  0.0\n",
      "매개 변수:  (1,)\n",
      "리턴 값:  1\n",
      "수행 시간:  0.0\n",
      "매개 변수:  (3,)\n",
      "리턴 값:  2\n",
      "수행 시간:  0.0\n",
      "매개 변수:  (2,)\n",
      "리턴 값:  1\n",
      "수행 시간:  0.0\n",
      "매개 변수:  (4,)\n",
      "리턴 값:  3\n",
      "수행 시간:  0.0\n",
      "매개 변수:  (6,)\n",
      "리턴 값:  8\n",
      "수행 시간:  0.0\n",
      "매개 변수:  (8,)\n",
      "리턴 값:  21\n",
      "수행 시간:  0.0020558834075927734\n",
      "매개 변수:  (10,)\n",
      "리턴 값:  55\n"
     ]
    },
    {
     "data": {
      "text/plain": [
       "55"
      ]
     },
     "execution_count": 19,
     "metadata": {},
     "output_type": "execute_result"
    }
   ],
   "source": [
    "#함수를 호출 할 때마다 실행에 걸린 시간, 매개 변수, 리턴 값을 출력하는 decorator 생성\n",
    "\n",
    "def clock(func):\n",
    "    #decorator가 적용된 함수가 호출되면 수행될 실제 함수\n",
    "    def clocked(*args):\n",
    "        start = time.time()\n",
    "        #업무 로직 함수 호출\n",
    "        result = func(*args)\n",
    "        end = time.time()\n",
    "        elapsed = end-start #함수 수행 시간\n",
    "        print(\"수행 시간: \", elapsed)\n",
    "        \n",
    "        #매개 변수 확인\n",
    "        print(\"매개 변수: \", args)\n",
    "        #return 값\n",
    "        print(\"리턴 값: \", result)\n",
    "        return result\n",
    "    return clocked\n",
    "\n",
    "@clock\n",
    "#피보나치 수열을 구해주는 함수\n",
    "#첫 번째와 두 번째는 무조건 1\n",
    "#세번째 부터는 이전 2개 항의 합\n",
    "def fibonacci(n):\n",
    "    if n == 1 or n == 2:\n",
    "        return 1\n",
    "    else:\n",
    "        return fibonacci(n-1) + fibonacci(n-2)\n",
    "    \n",
    "fibonacci(10)"
   ]
  },
  {
   "cell_type": "code",
   "execution_count": 10,
   "id": "7d3857fd",
   "metadata": {},
   "outputs": [
    {
     "data": {
      "text/plain": [
       "55"
      ]
     },
     "execution_count": 10,
     "metadata": {},
     "output_type": "execute_result"
    }
   ],
   "source": [
    "fibonacci(10)"
   ]
  },
  {
   "cell_type": "markdown",
   "id": "677e8868",
   "metadata": {},
   "source": [
    "## functools"
   ]
  },
  {
   "cell_type": "code",
   "execution_count": 20,
   "id": "872449e3",
   "metadata": {},
   "outputs": [],
   "source": [
    "import functools"
   ]
  },
  {
   "cell_type": "code",
   "execution_count": 21,
   "id": "381c8bed",
   "metadata": {},
   "outputs": [
    {
     "name": "stdout",
     "output_type": "stream",
     "text": [
      "수행 시간:  0.0\n",
      "매개 변수:  (2,)\n",
      "리턴 값:  1\n",
      "수행 시간:  0.0\n",
      "매개 변수:  (1,)\n",
      "리턴 값:  1\n",
      "수행 시간:  0.0009965896606445312\n",
      "매개 변수:  (3,)\n",
      "리턴 값:  2\n",
      "수행 시간:  0.0009965896606445312\n",
      "매개 변수:  (4,)\n",
      "리턴 값:  3\n",
      "수행 시간:  0.0009965896606445312\n",
      "매개 변수:  (5,)\n",
      "리턴 값:  5\n",
      "수행 시간:  0.0009965896606445312\n",
      "매개 변수:  (6,)\n",
      "리턴 값:  8\n",
      "수행 시간:  0.0009965896606445312\n",
      "매개 변수:  (7,)\n",
      "리턴 값:  13\n",
      "수행 시간:  0.0009965896606445312\n",
      "매개 변수:  (8,)\n",
      "리턴 값:  21\n",
      "수행 시간:  0.0009965896606445312\n",
      "매개 변수:  (9,)\n",
      "리턴 값:  34\n",
      "수행 시간:  0.0009965896606445312\n",
      "매개 변수:  (10,)\n",
      "리턴 값:  55\n"
     ]
    },
    {
     "data": {
      "text/plain": [
       "55"
      ]
     },
     "execution_count": 21,
     "metadata": {},
     "output_type": "execute_result"
    }
   ],
   "source": [
    "#함수를 호출 할 때마다 실행에 걸린 시간, 매개 변수, 리턴 값을 출력하는 decorator 생성\n",
    "\n",
    "def clock(func):\n",
    "    #decorator가 적용된 함수가 호출되면 수행될 실제 함수\n",
    "    def clocked(*args):\n",
    "        start = time.time()\n",
    "        #업무 로직 함수 호출\n",
    "        result = func(*args)\n",
    "        end = time.time()\n",
    "        elapsed = end-start #함수 수행 시간\n",
    "        print(\"수행 시간: \", elapsed)\n",
    "        \n",
    "        #매개 변수 확인\n",
    "        print(\"매개 변수: \", args)\n",
    "        #return 값\n",
    "        print(\"리턴 값: \", result)\n",
    "        return result\n",
    "    return clocked\n",
    "\n",
    "@functools.lru_cache() #같은거 캐싱 X\n",
    "@clock\n",
    "#피보나치 수열을 구해주는 함수\n",
    "#첫 번째와 두 번째는 무조건 1\n",
    "#세번째 부터는 이전 2개 항의 합\n",
    "def fibonacci(n):\n",
    "    if n == 1 or n == 2:\n",
    "        return 1\n",
    "    else:\n",
    "        return fibonacci(n-1) + fibonacci(n-2)\n",
    "    \n",
    "fibonacci(10)"
   ]
  },
  {
   "cell_type": "markdown",
   "id": "e047600f",
   "metadata": {},
   "source": [
    "# class"
   ]
  },
  {
   "cell_type": "code",
   "execution_count": 29,
   "id": "743b50b5",
   "metadata": {},
   "outputs": [
    {
     "name": "stdout",
     "output_type": "stream",
     "text": [
      "grace\n",
      "class 속성\n",
      "class 속성\n",
      "modify class data\n",
      "modify class data\n",
      "modify class data\n",
      "modify with instance name\n"
     ]
    }
   ],
   "source": [
    "class Student:\n",
    "    class_data = \"class 속성\" #class 안, method외부 -> class 속성\n",
    "    #instance가 있어야만 호출되는 method\n",
    "    def disp(self):\n",
    "        print(\"instance 생성\")\n",
    "        \n",
    "    def setName(self, name):\n",
    "        self.name = name #self.name -> instance의 속성\n",
    "        \n",
    "#instance 생성\n",
    "#student = Student()\n",
    "\n",
    "stu = Student()\n",
    "stu.setName(\"grace\")\n",
    "stu.score = 90 #instance에 score라는 속성이 있으면 수정 없으면 생성 -> python은 이와 같은 동적 생성 가능\n",
    "print(stu.name)\n",
    "\n",
    "\n",
    "#class 속성\n",
    "print(Student.class_data) #class 이름을 이용해서 class 속성 접근\n",
    "print(stu.class_data) #instance 이름을 이용해서 class 속성 접근\n",
    "\n",
    "Student.class_data = \"modify class data\"\n",
    "print(Student.class_data) #class 이름을 이용해서 class 속성 접근\n",
    "print(stu.class_data) #instance 이름을 이용해서 class 속성 접근\n",
    "\n",
    "stu.class_data = \"modify with instance name\"\n",
    "print(Student.class_data) #class 이름을 이용해서 class 속성 접근\n",
    "print(stu.class_data) #instance 이름을 이용해서 class 속성 접근\n",
    "\n",
    "#method 호출 - bound호출\n",
    "#student.disp()\n",
    "#Student().disp() #이름 없이 한 번만 사용할 경우\n",
    "#method 호출 - unbound 호출\n",
    "#Student.disp(student)"
   ]
  },
  {
   "cell_type": "markdown",
   "id": "89667674",
   "metadata": {},
   "source": [
    "## IS 연산자"
   ]
  },
  {
   "cell_type": "code",
   "execution_count": 32,
   "id": "7fbfed9c",
   "metadata": {},
   "outputs": [
    {
     "name": "stdout",
     "output_type": "stream",
     "text": [
      "False\n",
      "False\n",
      "True\n"
     ]
    }
   ],
   "source": [
    "class Student():\n",
    "    class_data = \"class 속성\"\n",
    "    \n",
    "#instance 생성해서 대입\n",
    "stu1 = Student()\n",
    "stu2 = Student()\n",
    "#stu1의 data를 대입 - stu1이 참조하고 있는 data의 참조를 stu3이 참조함\n",
    "stu3 = stu1\n",
    "\n",
    "#2개의 instance가 동일한지 확인\n",
    "print(stu1 == stu2) #내부 data 확인\n",
    "print(stu1 is stu2) #id 확인\n",
    "print(stu1 is stu3)"
   ]
  },
  {
   "cell_type": "markdown",
   "id": "698caf95",
   "metadata": {},
   "source": [
    "## Accessor, 접근자"
   ]
  },
  {
   "cell_type": "code",
   "execution_count": 33,
   "id": "8bf50d73",
   "metadata": {},
   "outputs": [],
   "source": [
    "#이름과 점수를 갖는 객체가 여러개 필요한 경우\n",
    "class Student:\n",
    "    def getName(self):\n",
    "        return self.name\n",
    "    def setName(self, name):\n",
    "        self.name = name\n",
    "        \n",
    "    def getScore(self):\n",
    "        return self.score\n",
    "    def setScore(self, score):\n",
    "        self.score = score"
   ]
  },
  {
   "cell_type": "code",
   "execution_count": 36,
   "id": "8de6c28d",
   "metadata": {},
   "outputs": [
    {
     "data": {
      "text/plain": [
       "'grace'"
      ]
     },
     "execution_count": 36,
     "metadata": {},
     "output_type": "execute_result"
    }
   ],
   "source": [
    "stu = Student()\n",
    "stu.setName('grace')\n",
    "stu.getName()\n",
    "#최근에 등장한 IDE는 대부분 getter와 setter를 만드는 util을 제공함"
   ]
  },
  {
   "cell_type": "code",
   "execution_count": null,
   "id": "1713c795",
   "metadata": {},
   "outputs": [],
   "source": []
  }
 ],
 "metadata": {
  "kernelspec": {
   "display_name": "Python 3 (ipykernel)",
   "language": "python",
   "name": "python3"
  },
  "language_info": {
   "codemirror_mode": {
    "name": "ipython",
    "version": 3
   },
   "file_extension": ".py",
   "mimetype": "text/x-python",
   "name": "python",
   "nbconvert_exporter": "python",
   "pygments_lexer": "ipython3",
   "version": "3.10.9"
  }
 },
 "nbformat": 4,
 "nbformat_minor": 5
}
