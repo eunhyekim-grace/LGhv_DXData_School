{
 "cells": [
  {
   "cell_type": "markdown",
   "id": "fcf4af47",
   "metadata": {},
   "source": [
    "# OOP\n",
    "## review + constructor"
   ]
  },
  {
   "cell_type": "code",
   "execution_count": 19,
   "id": "20e901c8",
   "metadata": {},
   "outputs": [
    {
     "name": "stdout",
     "output_type": "stream",
     "text": [
      "instance 생성\n",
      "instance 소멸\n",
      "instance - method\n",
      "instance - method\n"
     ]
    },
    {
     "data": {
      "text/plain": [
       "'no name'"
      ]
     },
     "execution_count": 19,
     "metadata": {},
     "output_type": "execute_result"
    }
   ],
   "source": [
    "#class 생성\n",
    "class Student:\n",
    "    #constructor, 생성자: instance를 생성할 때 호출하는 method\n",
    "    #이 method에서 속성을 생성해서 속성을 처음부터 소유하도록 만들어 주는 것이 좋음\n",
    "    #매개 변수를 이용해서 초기화하면 만들어질 때 다양한 값으로 초기화 가능\n",
    "    #매개 변수를 이용해서 초기화 할 때 매개 변수의 기본값을 설정하지 않으면 instance를 생성할 때 반드시 매개 변수에 값을 대입해야 함\n",
    "    def __init__(self, name = \"no name\"):\n",
    "        print(\"instance 생성\")\n",
    "        #특정한 상수로 생성하고자 하는 경우는 생성자 내부에서 직접 설정\n",
    "        #self.name = \"default\"\n",
    "        self.name = name\n",
    "        \n",
    "    #destructor, 소멸자: instance가 소멸될 때 호출되는 method\n",
    "    def __del__(self):\n",
    "        print(\"instance 소멸\")\n",
    "        \n",
    "    def disp(self): #class에 만들어 졌지만 instance 없이는 호출 불가한 method\n",
    "        print(\"instance - method\")\n",
    "        \n",
    "    #setter - 속성을 수정하거나 생성하는 method \n",
    "    def setName(self, name): #name이라는 속성이 없으면 만들어서 대입하고 존재하면 수정\n",
    "        self.name = name\n",
    "        \n",
    "    #getter - 속성의 값을 사용할 수 있도록 return하는 method\n",
    "    def getName(self):\n",
    "        return self.name\n",
    "        \n",
    "stu = Student() #instance 생성\n",
    "#method 호출\n",
    "Student.disp(stu) #unbound 호출 - class 가 instance의 method를 호출\n",
    "stu.disp() #bound 호출 - self에 instance가 대입되서 method 호출\n",
    "\n",
    "stu.getName()\n",
    "#stu.setName('grace')\n",
    "#stu.getName()"
   ]
  },
  {
   "cell_type": "markdown",
   "id": "ff5b29f5",
   "metadata": {},
   "source": [
    "## 생성자 + 소멸자"
   ]
  },
  {
   "cell_type": "code",
   "execution_count": 31,
   "id": "43fca54c",
   "metadata": {},
   "outputs": [
    {
     "name": "stdout",
     "output_type": "stream",
     "text": [
      "destruct instance\n",
      "destruct instance\n",
      "end program\n"
     ]
    }
   ],
   "source": [
    "class Student:\n",
    "    auto_increment = 0 #class 속성, class에 1개만 생성\n",
    "    #class 속성과 생성자를 이용한 일련 번호 - ex) 게시판 글 번호\n",
    "    \n",
    "    def __init__(self, name = \"no name\"):\n",
    "        Student.auto_increment += 1\n",
    "        self.no = Student.auto_increment\n",
    "        #print(Student.auto_increment)\n",
    "        \n",
    "    def __del__(self):\n",
    "        print(\"destruct instance\")\n",
    "        \n",
    "        \n",
    "stu1 = Student() #instance 가 생성되고 참조 카운트(ref count) = 1\n",
    "stuq = None #참조를 가리키는 변수에 None대입 -> ref count = 0 -> instance 소멸\n",
    "#print(stu1.no)\n",
    "stu2 = Student() #class의 속성은 instance가 가지고 있는것이 X -> 숫자 계속 증가, ref count = 1\n",
    "#print(stu2.no)\n",
    "\n",
    "stu3 = stu2 #다른 변수에 참조를 대입하므로 참조 카운트 +1 = 2\n",
    "stu2 = None#참조 카운트가 1 줄어들어도 1이라 instance 소멸 X\n",
    "print(\"end program\")\n",
    "\n",
    "#output should be\n",
    "    #destruct instance\n",
    "    #end program\n",
    "    #destruct instance\n",
    "#jupyter notebook 에서 ref count가 제대로 동작하지 않는 이유? \n",
    "    #cell 단위 실행하는 jupyter notebook의 특성상 stu1이 소멸되지 않기 때문\n",
    "    #cell != bloack"
   ]
  },
  {
   "cell_type": "markdown",
   "id": "ab1ebdae",
   "metadata": {},
   "source": [
    "## static method, 속성 생성 제한"
   ]
  },
  {
   "cell_type": "code",
   "execution_count": 3,
   "id": "23680c86",
   "metadata": {},
   "outputs": [
    {
     "name": "stdout",
     "output_type": "stream",
     "text": [
      "grace\n",
      "1\n"
     ]
    }
   ],
   "source": [
    "class Student1():\n",
    "    #name과 age속성만 사용하도록 제한\n",
    "    __slots__ = ['name', 'age']\n",
    "    auto_increment = 0\n",
    "    \n",
    "    def __inint__(self):\n",
    "        self.name = \"default\"\n",
    "        self.__no = 1 #속성을 만들 때 __로 시작하면 instance는 속성에 직접 접근 불가\n",
    "        print(\"instance 생성\")\n",
    "        \n",
    "    #@staticmethod\n",
    "    #def method():\n",
    "    #    print(\"매개 변수가 없는 static method\")\n",
    "        \n",
    "    @classmethod\n",
    "    def method(self):\n",
    "        Student1.auto_increment = 1\n",
    "    \n",
    "stu = Student1()\n",
    "stu.name = 'grace'\n",
    "stu.age = 22\n",
    "#stu.job = \"dancer\" #job은 생성할 수 없다고 에러 \n",
    "Student1.method()  \n",
    "print(stu.name)\n",
    "print(Student1.auto_increment)\n",
    "#print(stu.__no) #Attribute Error - 직접접근 불가"
   ]
  },
  {
   "cell_type": "markdown",
   "id": "6da47f53",
   "metadata": {},
   "source": [
    "## class method"
   ]
  },
  {
   "cell_type": "code",
   "execution_count": 3,
   "id": "775352bb",
   "metadata": {},
   "outputs": [
    {
     "name": "stdout",
     "output_type": "stream",
     "text": [
      "1\n"
     ]
    }
   ],
   "source": [
    "class Student1():\n",
    "    #name과 age속성만 사용하도록 제한\n",
    "    __slots__ = ['name', 'age']\n",
    "    auto_increment = 0\n",
    "    \n",
    "    def __inint__(self):\n",
    "        self.name = \"default\"\n",
    "        self.__no = 1 #속성을 만들 때 __로 시작하면 instance는 속성에 직접 접근 불가\n",
    "        print(\"instance 생성\")\n",
    "        \n",
    "    @classmethod\n",
    "    def method(self):\n",
    "        Student1.auto_increment = 1\n",
    "    \n",
    "stu = Student1()\n",
    "Student1.method()  \n",
    "print(Student1.auto_increment)"
   ]
  },
  {
   "cell_type": "markdown",
   "id": "982718cf",
   "metadata": {},
   "source": [
    "## Property"
   ]
  },
  {
   "cell_type": "code",
   "execution_count": 11,
   "id": "f3e45056",
   "metadata": {},
   "outputs": [
    {
     "ename": "NameError",
     "evalue": "name 'name' is not defined",
     "output_type": "error",
     "traceback": [
      "\u001b[1;31m---------------------------------------------------------------------------\u001b[0m",
      "\u001b[1;31mNameError\u001b[0m                                 Traceback (most recent call last)",
      "Cell \u001b[1;32mIn[11], line 1\u001b[0m\n\u001b[1;32m----> 1\u001b[0m \u001b[38;5;28;01mclass\u001b[39;00m \u001b[38;5;21;01mStudent\u001b[39;00m:\n\u001b[0;32m      2\u001b[0m     \u001b[38;5;28;01mdef\u001b[39;00m \u001b[38;5;21m__init__\u001b[39m(\u001b[38;5;28mself\u001b[39m, name\u001b[38;5;241m=\u001b[39m \u001b[38;5;124m'\u001b[39m\u001b[38;5;124mnoname\u001b[39m\u001b[38;5;124m'\u001b[39m):\n\u001b[0;32m      3\u001b[0m         \u001b[38;5;28mself\u001b[39m\u001b[38;5;241m.\u001b[39m__name \u001b[38;5;241m=\u001b[39m name \u001b[38;5;66;03m#속성 이름이 __로 시작하면 instance 속성 직접 접근 불가\u001b[39;00m\n",
      "Cell \u001b[1;32mIn[11], line 12\u001b[0m, in \u001b[0;36mStudent\u001b[1;34m()\u001b[0m\n\u001b[0;32m      9\u001b[0m     \u001b[38;5;28mprint\u001b[39m(\u001b[38;5;124m\"\u001b[39m\u001b[38;5;124mname의 getter 호출\u001b[39m\u001b[38;5;124m\"\u001b[39m)\n\u001b[0;32m     10\u001b[0m     \u001b[38;5;28;01mreturn\u001b[39;00m \u001b[38;5;28mself\u001b[39m\u001b[38;5;241m.\u001b[39m__name\n\u001b[1;32m---> 12\u001b[0m \u001b[38;5;129m@name\u001b[39m\u001b[38;5;241m.\u001b[39msetter\n\u001b[0;32m     13\u001b[0m \u001b[38;5;28;01mdef\u001b[39;00m \u001b[38;5;21msetName\u001b[39m(\u001b[38;5;28mself\u001b[39m, name):\n\u001b[0;32m     14\u001b[0m     \u001b[38;5;28mprint\u001b[39m(\u001b[38;5;124m\"\u001b[39m\u001b[38;5;124mname의 setter 호출\u001b[39m\u001b[38;5;124m\"\u001b[39m)\n\u001b[0;32m     15\u001b[0m     \u001b[38;5;28mself\u001b[39m\u001b[38;5;241m.\u001b[39m__name \u001b[38;5;241m=\u001b[39m name\n",
      "\u001b[1;31mNameError\u001b[0m: name 'name' is not defined"
     ]
    }
   ],
   "source": [
    "class Student:\n",
    "    def __init__(self, name= 'noname'):\n",
    "        self.__name = name #속성 이름이 __로 시작하면 instance 속성 직접 접근 불가\n",
    "        \n",
    "    \n",
    "    #접근자 method\n",
    "    @property # getter 설정\n",
    "    def getName(self):\n",
    "        print(\"name의 getter 호출\")\n",
    "        return self.__name\n",
    "    \n",
    "    @name.setter\n",
    "    def setName(self, name):\n",
    "        print(\"name의 setter 호출\")\n",
    "        self.__name = name\n",
    "        \n",
    "    #property 생성\n",
    "    #name 호출 getName 호출되고 name에 값을 대입하면 setName 호출됨\n",
    "    #name = property(fget = getName, fset = setName)\n",
    "        \n",
    "stu = Student()\n",
    "#setter 와 getter를 직접 호출\n",
    "#stu.setName(\"fighter\")\n",
    "#stu.getName()\n",
    "#property 를 이용한 getter와 setter 호출\n",
    "stu.name = \"night\"\n",
    "stu.name"
   ]
  },
  {
   "cell_type": "markdown",
   "id": "c892a605",
   "metadata": {},
   "source": [
    "## overloading"
   ]
  },
  {
   "cell_type": "code",
   "execution_count": 26,
   "id": "d4aa6a02",
   "metadata": {},
   "outputs": [
    {
     "name": "stdout",
     "output_type": "stream",
     "text": [
      "soccersoccer\n",
      "True\n",
      "False\n"
     ]
    }
   ],
   "source": [
    "class Operator:\n",
    "    def __init__(self, name = 'noname'):\n",
    "        self.name = name\n",
    "        \n",
    "    #+ operator overloading\n",
    "    def __add__(self, other):\n",
    "        return self.name + other.name\n",
    "    \n",
    "    # == operator overloading\n",
    "    def __eq__(self,other): #id확인 하지 않고 name만 같으면 True return\n",
    "        return self.name == other.name\n",
    "    \n",
    "op1 = Operator(\"soccer\")\n",
    "op2 = Operator(\"soccer\")\n",
    "#op1 + op2 #Type Error\n",
    "print(op1+op2)\n",
    "\n",
    "op3 = op1\n",
    "#print(op3 == op1)\n",
    "#print(op3 is op1)\n",
    "\n",
    "print(op1 == op2) #== operator -> __eq__ method 호출, 이름 같으면 true\n",
    "print(op1 is op2) # id 비교 -> false return "
   ]
  },
  {
   "cell_type": "code",
   "execution_count": 27,
   "id": "1b44b23a",
   "metadata": {},
   "outputs": [
    {
     "data": {
      "text/plain": [
       "7"
      ]
     },
     "execution_count": 27,
     "metadata": {},
     "output_type": "execute_result"
    }
   ],
   "source": [
    "class Student():\n",
    "    def __init__(self, name = 'noname', count  = 0):\n",
    "        self.name= name\n",
    "        self.count = count\n",
    "        \n",
    "    def __add__(self, other): #서로 다른 두 class의 count 더하는 걸로 연산자 overload\n",
    "        return self.count + other.count\n",
    "        \n",
    "stu1 = Student(\"apple\",3)\n",
    "stu2 = Student(\"banana\", 4)\n",
    "stu1 +stu2"
   ]
  },
  {
   "cell_type": "markdown",
   "id": "e29184c6",
   "metadata": {},
   "source": [
    "# Inheritance"
   ]
  },
  {
   "cell_type": "code",
   "execution_count": 37,
   "id": "522c252d",
   "metadata": {},
   "outputs": [
    {
     "name": "stdout",
     "output_type": "stream",
     "text": [
      "상위 class의 method\n",
      "하위 class의 method\n",
      "noname\n"
     ]
    }
   ],
   "source": [
    "class Sup:\n",
    "    def __init__(self):\n",
    "        self.name = \"noname\"\n",
    "    \n",
    "    def superMethod(self):\n",
    "        print('상위 class의 method')\n",
    "        \n",
    "#Sup class를 상속하는 Sub class\n",
    "class Sub(Sup):\n",
    "    #하위 class에서 __init__을 생성하면 상위 class의 __init__을 호출하지 않음\n",
    "    #하위 class에 __init__을 만들 때는 상위 class의 __init__을 호출해 주어야 함\n",
    "    def __init__(self):\n",
    "        super().__init__()\n",
    "        self.score= 80\n",
    "    \n",
    "    def subMethod(self):\n",
    "        print('하위 class의 method')\n",
    " \n",
    "sub = Sub() #Sub의 instance 생성\n",
    "sub.superMethod()\n",
    "sub.subMethod() #Sub class에는 없지만 Sup를 상속 받았기 때문에 호출 가능\n",
    "print(sub.name)"
   ]
  },
  {
   "cell_type": "markdown",
   "id": "4e1244a7",
   "metadata": {},
   "source": [
    "## overriding"
   ]
  },
  {
   "cell_type": "code",
   "execution_count": 43,
   "id": "46d02e03",
   "metadata": {},
   "outputs": [
    {
     "name": "stdout",
     "output_type": "stream",
     "text": [
      "super class method\n",
      "sub class method\n"
     ]
    }
   ],
   "source": [
    "class Sup:\n",
    "    def method(self):\n",
    "        print(\"super class method\")\n",
    "        \n",
    "class Sub(Sup):\n",
    "    #상위 클래스에 존재하는 method를 하위 class에서 다시 정의 - overriding\n",
    "    #목적은 기능 확장\n",
    "    def method(self):\n",
    "        super().method() #상위 class의 method 호출\n",
    "        print(\"sub class method\")\n",
    "        \n",
    "#sub의 instance 생성해서 필요한 method 호출        \n",
    "s = Sub()\n",
    "s.method()"
   ]
  },
  {
   "cell_type": "markdown",
   "id": "17128d67",
   "metadata": {},
   "source": [
    "# Abstract"
   ]
  },
  {
   "cell_type": "code",
   "execution_count": 50,
   "id": "e308101f",
   "metadata": {},
   "outputs": [
    {
     "name": "stdout",
     "output_type": "stream",
     "text": [
      "instance 생성\n"
     ]
    }
   ],
   "source": [
    "import abc\n",
    "\n",
    "#추상 class - 자신의 instance를 생성할 수 없음\n",
    "class AbstractClass(metaclass = abc.ABCMeta):\n",
    "    \n",
    "    #추상 method - 내용이 없는 method로 하위 class에서 구현해서 사용해야 함\n",
    "    @abc.abstractmethod\n",
    "    def method(self):\n",
    "        pass\n",
    "    \n",
    "class Sub_abs(AbstractClass):\n",
    "    \n",
    "    def __init__(self):\n",
    "        print(\"instance 생성\")\n",
    "        \n",
    "    #추상 class를 상속 받는 경우 추상 method를 반드시 implementation 해줘야 함\n",
    "    #만들지 X -> Error\n",
    "    def method(self):\n",
    "        print(\"abs method\")\n",
    "        \n",
    "    \n",
    "  \n",
    "\n",
    "#\n",
    "#추상 class는 instance를 만들 수 없어서 ERROR -> 항상 상속을 통해서만 사용해야 함\n",
    "#instance = AbstractClass() #추상 class관련 error\n",
    "\n",
    "instance = Sub_abs() #추상 method 관련 error if Sub_abs에 method 따로 설정 안했을 경우\n"
   ]
  },
  {
   "cell_type": "markdown",
   "id": "17b44aad",
   "metadata": {},
   "source": [
    "# module/ package"
   ]
  },
  {
   "cell_type": "code",
   "execution_count": 54,
   "id": "6186ee55",
   "metadata": {},
   "outputs": [],
   "source": [
    "import sys #sys 패키지 import\n",
    "\n",
    "#print(sys.modules) #사용 가능한 모듈 확인\n",
    "#print(sys.path) #모듈을 찾는 위치 확인\n",
    "#sys.path.append(\"{찾는 위치}\") #모듈을 찾는 위치 추가\n",
    "sys.path.append('./') "
   ]
  },
  {
   "cell_type": "markdown",
   "id": "22b67426",
   "metadata": {},
   "source": [
    "## application - graph using matplotlib library "
   ]
  },
  {
   "cell_type": "code",
   "execution_count": 70,
   "id": "9a4dfc2c",
   "metadata": {},
   "outputs": [
    {
     "data": {
      "image/png": "[encoded data removed]",
      "text/plain": [
       "<Figure size 500x500 with 1 Axes>"
      ]
     },
     "metadata": {},
     "output_type": "display_data"
    }
   ],
   "source": [
    "import matplotlib.pyplot as plt\n",
    "import numpy as np\n",
    "\n",
    "fig = plt.figure(figsize = (5,5))\n",
    "\n",
    "x1 = np.arange(10)\n",
    "x2 = np.arange(10,20)\n",
    "plt.boxplot((x1,x2))\n",
    "plt.title(\"box plot\")\n",
    "plt.grid()\n",
    "plt.show()\n",
    "#plt.savefig(\"graph.png\")"
   ]
  },
  {
   "cell_type": "markdown",
   "id": "dea43695",
   "metadata": {},
   "source": [
    "# Data type\n",
    "\n",
    "## Decimal"
   ]
  },
  {
   "cell_type": "code",
   "execution_count": 75,
   "id": "544410bd",
   "metadata": {},
   "outputs": [
    {
     "name": "stdout",
     "output_type": "stream",
     "text": [
      "1280.2458299999998\n",
      "1280.24583\n",
      "1280.245830000000009788437488\n",
      "1280.245830000000009788437488\n",
      "False\n",
      "True\n"
     ]
    }
   ],
   "source": [
    "#실수 표현으로 인해 2개의 연산 결과가 다르게 나옴\n",
    "print((1234.567+45.6788)+0.00003)\n",
    "print(1234.567+(45.6788+0.00003))\n",
    "\n",
    "#동일한 결과 값 리턴\n",
    "from decimal import Decimal\n",
    "print((Decimal(1234.567)+Decimal(45.6788))+Decimal(0.00003))\n",
    "print(Decimal(1234.567)+(Decimal(45.6788)+Decimal(0.00003)))\n",
    "\n",
    "print(0.2 == (1.0-0.8))\n",
    "print(Decimal('0.2') == Decimal(Decimal('1.0')- Decimal('0.8')))"
   ]
  },
  {
   "cell_type": "code",
   "execution_count": null,
   "id": "d2967111",
   "metadata": {},
   "outputs": [],
   "source": [
    "\n"
   ]
  }
 ],
 "metadata": {
  "kernelspec": {
   "display_name": "Python 3 (ipykernel)",
   "language": "python",
   "name": "python3"
  },
  "language_info": {
   "codemirror_mode": {
    "name": "ipython",
    "version": 3
   },
   "file_extension": ".py",
   "mimetype": "text/x-python",
   "name": "python",
   "nbconvert_exporter": "python",
   "pygments_lexer": "ipython3",
   "version": "3.10.9"
  }
 },
 "nbformat": 4,
 "nbformat_minor": 5
}
