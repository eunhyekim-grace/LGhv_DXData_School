{
 "cells": [
  {
   "cell_type": "markdown",
   "id": "b7f3bf1b",
   "metadata": {},
   "source": [
    "# python programming 구성 요소"
   ]
  },
  {
   "cell_type": "code",
   "execution_count": 2,
   "id": "26b8ba43",
   "metadata": {},
   "outputs": [
    {
     "ename": "IndentationError",
     "evalue": "unexpected indent (3628927741.py, line 5)",
     "output_type": "error",
     "traceback": [
      "\u001b[1;36m  Cell \u001b[1;32mIn[2], line 5\u001b[1;36m\u001b[0m\n\u001b[1;33m    print(\"Error\")\u001b[0m\n\u001b[1;37m    ^\u001b[0m\n\u001b[1;31mIndentationError\u001b[0m\u001b[1;31m:\u001b[0m unexpected indent\n"
     ]
    }
   ],
   "source": [
    "#동일한 블럭에서는 들여쓰기 맞추기, 다른 블럭은 맞출 필요 없음\n",
    "num = 20\n",
    "if num >= 10:\n",
    "    print(\"bigger than 10\")\n",
    "        print(\"Error\")\n",
    "else:\n",
    "        print(\"Error X\")\n",
    "    "
   ]
  },
  {
   "cell_type": "code",
   "execution_count": 14,
   "id": "6e72291d",
   "metadata": {},
   "outputs": [
    {
     "data": {
      "text/plain": [
       "(6, 6, 6)"
      ]
     },
     "execution_count": 14,
     "metadata": {},
     "output_type": "execute_result"
    }
   ],
   "source": [
    "# 주석\n",
    "'''\n",
    "주석은 아니지만 주석 처럼 사용 가능 \n",
    "문자열 상수 만드는 문장\n",
    "'''\n",
    "data = \"Hello Python\"\n",
    "#print(dir(data)) #호출 가능한 속성이나 method\n",
    "#help(sum) #함수나 method 사용법 확인\n",
    "\n",
    "sum([1,2,3]), sum((1,2,3)), sum({1,2,3}) #순서대로 list, tuple, set"
   ]
  },
  {
   "cell_type": "code",
   "execution_count": 10,
   "id": "37edbb6d",
   "metadata": {},
   "outputs": [
    {
     "name": "stdout",
     "output_type": "stream",
     "text": [
      "['False', 'None', 'True', 'and', 'as', 'assert', 'async', 'await', 'break', 'class', 'continue', 'def', 'del', 'elif', 'else', 'except', 'finally', 'for', 'from', 'global', 'if', 'import', 'in', 'is', 'lambda', 'nonlocal', 'not', 'or', 'pass', 'raise', 'return', 'try', 'while', 'with', 'yield']\n"
     ]
    }
   ],
   "source": [
    "import keyword\n",
    "print(keyword.kwlist)\n",
    "\n",
    "#None = 20 # None은 keyword이므로 다른 data 대입 불가"
   ]
  },
  {
   "cell_type": "code",
   "execution_count": 11,
   "id": "3a38bf53",
   "metadata": {},
   "outputs": [
    {
     "name": "stdout",
     "output_type": "stream",
     "text": [
      "['C:\\\\Users\\\\USER\\\\Documents\\\\LGhv_practice\\\\0706python', 'C:\\\\Users\\\\USER\\\\anaconda3\\\\python310.zip', 'C:\\\\Users\\\\USER\\\\anaconda3\\\\DLLs', 'C:\\\\Users\\\\USER\\\\anaconda3\\\\lib', 'C:\\\\Users\\\\USER\\\\anaconda3', '', 'C:\\\\Users\\\\USER\\\\anaconda3\\\\lib\\\\site-packages', 'C:\\\\Users\\\\USER\\\\anaconda3\\\\lib\\\\site-packages\\\\win32', 'C:\\\\Users\\\\USER\\\\anaconda3\\\\lib\\\\site-packages\\\\win32\\\\lib', 'C:\\\\Users\\\\USER\\\\anaconda3\\\\lib\\\\site-packages\\\\Pythonwin']\n"
     ]
    }
   ],
   "source": [
    "import sys\n",
    "print(sys.path)"
   ]
  },
  {
   "cell_type": "code",
   "execution_count": 13,
   "id": "bb28622e",
   "metadata": {},
   "outputs": [
    {
     "name": "stdout",
     "output_type": "stream",
     "text": [
      "same id\n"
     ]
    }
   ],
   "source": [
    "#literal id check\n",
    "a = 10\n",
    "b = 10\n",
    "if id(a) == id(b):\n",
    "    print('same id')"
   ]
  },
  {
   "cell_type": "code",
   "execution_count": 19,
   "id": "7139e65b",
   "metadata": {},
   "outputs": [
    {
     "name": "stdout",
     "output_type": "stream",
     "text": [
      "[1, 2, 3, 4, 5]\n",
      "(1, 2, 3, 1, 2, 3, 1, 2, 3)\n"
     ]
    }
   ],
   "source": [
    "# 연산자\n",
    "print([1,2,3] +[4,5])\n",
    "#print(\"string\" + 3) # data type diff error\n",
    "print((1,2,3)*3) # 반복"
   ]
  },
  {
   "cell_type": "code",
   "execution_count": 91,
   "id": "d8d7a1e1",
   "metadata": {},
   "outputs": [
    {
     "name": "stdout",
     "output_type": "stream",
     "text": [
      "2023 는 윤년이 아님\n"
     ]
    }
   ],
   "source": [
    "# 반복문\n",
    "# 윤년의 조건\n",
    "#1 4의 배수이고 100의 배수가 아닌 경우\n",
    "#2 400의 배수인 경우\n",
    "\n",
    "year = 2023\n",
    "#true 확률이 높은 게 앞으로 \n",
    "if (year % 4 == 0 & year % 100 != 0) or (year % 400 == 0):\n",
    "    print(year, \"는 윤년\")\n",
    "else:\n",
    "    print(year, \"는 윤년이 아님\")"
   ]
  },
  {
   "cell_type": "code",
   "execution_count": 126,
   "id": "8dedf3fd",
   "metadata": {},
   "outputs": [
    {
     "name": "stdout",
     "output_type": "stream",
     "text": [
      "num: 20\n",
      "num: 20\n",
      "adam은 신촌 라이브 카페를 좋아함\n",
      "신촌 라이브 카페는 adam을 좋아함\n"
     ]
    }
   ],
   "source": [
    "#출력\n",
    "#서식 설정\n",
    "num = 20\n",
    "print(\"num:\",num)\n",
    "print(\"num: %d\"%num )\n",
    "\n",
    "print(\"{0}은 {1}를 좋아함\".format(\"adam\",\"신촌 라이브 카페\"))\n",
    "print(\"{1}는 {0}을 좋아함\".format(\"adam\",\"신촌 라이브 카페\"))"
   ]
  },
  {
   "cell_type": "code",
   "execution_count": 144,
   "id": "fa6a5336",
   "metadata": {},
   "outputs": [
    {
     "name": "stdout",
     "output_type": "stream",
     "text": [
      "이름 입력hi\n",
      "hi\n",
      "나이 입력d\n",
      "문제 발생\n",
      "프로그램 종료\n"
     ]
    }
   ],
   "source": [
    "#입력\n",
    "name = input(\"이름 입력\")\n",
    "print(name)\n",
    "#예외 처리\n",
    "try:\n",
    "    age = ininput(\"나이 입력\"))\n",
    "    print(age+1)\n",
    "except:\n",
    "    print('문제 발생')\n",
    "print('프로그램 종료')"
   ]
  },
  {
   "cell_type": "code",
   "execution_count": 1,
   "id": "399ac31e",
   "metadata": {},
   "outputs": [
    {
     "name": "stdout",
     "output_type": "stream",
     "text": [
      "나이 입력4\n",
      "5\n",
      "취미를 , 로 구분해서 입력a,b\n",
      "a\n",
      "b\n"
     ]
    }
   ],
   "source": [
    "#입력2\n",
    "#문자열 -> 정수 변환\n",
    "age = int(input(\"나이 입력\"))\n",
    "print(age+1)\n",
    "#여러 개 입력\n",
    "hobbys = input(\"취미를 , 로 구분해서 입력\").split(\",\")\n",
    "#print(hobbys)\n",
    "for i in hobbys:\n",
    "    print(i)"
   ]
  },
  {
   "cell_type": "code",
   "execution_count": null,
   "id": "b2990b45",
   "metadata": {},
   "outputs": [],
   "source": []
  }
 ],
 "metadata": {
  "kernelspec": {
   "display_name": "Python 3 (ipykernel)",
   "language": "python",
   "name": "python3"
  },
  "language_info": {
   "codemirror_mode": {
    "name": "ipython",
    "version": 3
   },
   "file_extension": ".py",
   "mimetype": "text/x-python",
   "name": "python",
   "nbconvert_exporter": "python",
   "pygments_lexer": "ipython3",
   "version": "3.10.9"
  }
 },
 "nbformat": 4,
 "nbformat_minor": 5
}
