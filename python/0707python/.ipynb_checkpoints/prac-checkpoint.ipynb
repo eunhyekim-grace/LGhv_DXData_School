{
 "cells": [
  {
   "cell_type": "markdown",
   "id": "7eb5e031",
   "metadata": {},
   "source": [
    "# 제어문"
   ]
  },
  {
   "cell_type": "markdown",
   "id": "2fbd3fd9",
   "metadata": {},
   "source": [
    "## if, 조건 분기"
   ]
  },
  {
   "cell_type": "code",
   "execution_count": 2,
   "id": "99cc2578",
   "metadata": {},
   "outputs": [
    {
     "name": "stdout",
     "output_type": "stream",
     "text": [
      "점수를 입력하세요:55\n",
      "프로그램 종료\n"
     ]
    }
   ],
   "source": [
    "#하나의 점수를 입력 받아서 60점 이상이면 합격, 아니면 불합격\n",
    "#무조건 프로그램 종료라는 문구를 출력\n",
    "\n",
    "#실제 프로그램이라면 잘못된 입력을 할 수 있으므로 예외처리를 해주는 것이 좋음\n",
    "\n",
    "score = int(input(\"점수를 입력하세요:\"))\n",
    "#print(type(score)) # data type확인\n",
    "if score >= 60:\n",
    "    print(\"합격\")\n",
    "else:\n",
    "    print(\"불합격\")\n",
    "print(\"프로그램 종료\")"
   ]
  },
  {
   "cell_type": "code",
   "execution_count": 4,
   "id": "8c52ed49",
   "metadata": {},
   "outputs": [
    {
     "name": "stdout",
     "output_type": "stream",
     "text": [
      "점수 입력87\n",
      "B\n"
     ]
    }
   ],
   "source": [
    "#90~100 A, 80~89 B, 70~79 C, 60~69 D, 0~59 F\n",
    "score = int(input(\"점수 입력\"))\n",
    "\n",
    "if score >= 90 and score <=100:\n",
    "    print(\"A\")\n",
    "elif score > 79 and score < 90:\n",
    "    print(\"B\")\n",
    "elif score > 69 and score < 80:\n",
    "    print(\"C\")\n",
    "elif score > 59 and score < 70:\n",
    "    print(\"D\")\n",
    "elif score >=0 and score < 60:\n",
    "    print(\"F\")\n",
    "else:\n",
    "    print(\"invalid score\")"
   ]
  },
  {
   "cell_type": "code",
   "execution_count": 20,
   "id": "cd366085",
   "metadata": {},
   "outputs": [
    {
     "data": {
      "text/plain": [
       "'tuesday'"
      ]
     },
     "execution_count": 20,
     "metadata": {},
     "output_type": "execute_result"
    }
   ],
   "source": [
    "switcher = {\n",
    "    0:\"sunday\",\n",
    "    1:\"monday\",\n",
    "    2:\"tuesday\",\n",
    "    3:\"wednesday\",\n",
    "    4:\"thursday\",\n",
    "    5:\"friday\",\n",
    "    6:\"sturday\"\n",
    "}\n",
    "#dict 에서 get은 일치하는 키가 있으면 그 값을 가져오고 없으면 두 번쪠 매개변수의 값을 return\n",
    "switcher.get(2,\"X\")"
   ]
  },
  {
   "cell_type": "code",
   "execution_count": 21,
   "id": "00ced257",
   "metadata": {},
   "outputs": [
    {
     "data": {
      "text/plain": [
       "False"
      ]
     },
     "execution_count": 21,
     "metadata": {},
     "output_type": "execute_result"
    }
   ],
   "source": [
    "#if를 이용한 축약 \n",
    "x = 9\n",
    "y = False if x < 10 else True\n",
    "y"
   ]
  },
  {
   "cell_type": "markdown",
   "id": "180288a5",
   "metadata": {},
   "source": [
    "## while"
   ]
  },
  {
   "cell_type": "code",
   "execution_count": 25,
   "id": "4e6e1082",
   "metadata": {},
   "outputs": [
    {
     "name": "stdout",
     "output_type": "stream",
     "text": [
      "0\n",
      "1\n",
      "2\n",
      "3\n",
      "4\n",
      "5\n",
      "6\n"
     ]
    }
   ],
   "source": [
    "# 0~9까지 10번 출력\n",
    "idx =0\n",
    "\n",
    "while idx < 10:\n",
    "    print(idx)\n",
    "    idx +=1\n",
    "    if idx > 5:\n",
    "        break\n",
    "else: #반복문이 모두 수행하고 종료된 경우에 호출, break를 만나거나 예외가 발생하면 수행되지 않음\n",
    "    print(\"반복문 종료\")\n",
    "#idx가 10에서 종료\n",
    "print(idx)"
   ]
  },
  {
   "cell_type": "code",
   "execution_count": 30,
   "id": "0c878f04",
   "metadata": {},
   "outputs": [
    {
     "name": "stdout",
     "output_type": "stream",
     "text": [
      "https://www.donga.com/news/search?p=1\n",
      "https://www.donga.com/news/search?p=16\n",
      "https://www.donga.com/news/search?p=31\n",
      "https://www.donga.com/news/search?p=1\n",
      "https://www.donga.com/news/search?p=16\n",
      "https://www.donga.com/news/search?p=31\n"
     ]
    }
   ],
   "source": [
    "#url 생성\n",
    "for i in range(1,32,15):\n",
    "    print(\"https://www.donga.com/news/search?p=\",i, sep = '')\n",
    "    \n",
    "for i in range(3):\n",
    "    url = \"https://www.donga.com/news/search?p=\"+str((i*15)+1)\n",
    "    print(url)"
   ]
  },
  {
   "cell_type": "markdown",
   "id": "9f5ab3ec",
   "metadata": {},
   "source": [
    "# 함수"
   ]
  },
  {
   "cell_type": "code",
   "execution_count": 47,
   "id": "df53b8fc",
   "metadata": {},
   "outputs": [
    {
     "name": "stdout",
     "output_type": "stream",
     "text": [
      "hello python\n",
      "hello python\n",
      "hello python\n",
      "<function display at 0x0000020DE7A985E0>\n"
     ]
    }
   ],
   "source": [
    "def display() -> None:\n",
    "    for i in range(3):\n",
    "        print(\"hello python\")\n",
    "        \n",
    "display()\n",
    "\n",
    "print(display) #함수 이름은 함수를 저장한 곳의 참조"
   ]
  },
  {
   "cell_type": "code",
   "execution_count": null,
   "id": "b85d4b7c",
   "metadata": {},
   "outputs": [],
   "source": [
    "def indAddwithInt(a,b):\n",
    "    return a+b\n",
    "\n",
    "#함수가 종료되고 다시 함수를 호출하기 때문에 어느 한 순간에 하나의 스택만 존재\n",
    "result = intAddwithInt(100,300)\n",
    "x = intAddwithInt(result, 600)\n",
    "\n",
    "#함수의 수가 2개 \n",
    "intAddwithInt(intAddwithInt(100,300),600)"
   ]
  },
  {
   "cell_type": "code",
   "execution_count": 49,
   "id": "68853450",
   "metadata": {},
   "outputs": [
    {
     "name": "stdout",
     "output_type": "stream",
     "text": [
      "(300, -100)\n",
      "300 -100\n"
     ]
    }
   ],
   "source": [
    "#python은 여러개의 데이터를 나열해서 return 하는 것이 가능\n",
    "#여러 개의 data를 나열해서 리턴하면 하나의 tuple로 만들어서 return\n",
    "def intOpwithInt(a,b):\n",
    "    return a+b, a-b # tuple로 만들어서 리턴\n",
    "\n",
    "t = intOpwithInt(100,200)\n",
    "print(t) # tuple 전체를 받음 - 데이터 받거나 가져오는게 목적일 때 권장(table)\n",
    "\n",
    "add, sub = intOpwithInt(100,200) #tuple을 분해해서 받음 - 데이터 분석할 때 권장(regression)\n",
    "print(add, sub)"
   ]
  },
  {
   "cell_type": "code",
   "execution_count": 50,
   "id": "b6bd29a6",
   "metadata": {},
   "outputs": [
    {
     "data": {
      "text/plain": [
       "300"
      ]
     },
     "execution_count": 50,
     "metadata": {},
     "output_type": "execute_result"
    }
   ],
   "source": [
    "#정수 2개를 받아 결과를 정수로 return 하는 함수\n",
    "def add(a: int, b: int) -> int: # 자료형 기재 권장\n",
    "    return a+b\n",
    "\n",
    "add(100,200)"
   ]
  },
  {
   "cell_type": "markdown",
   "id": "8294c638",
   "metadata": {},
   "source": [
    "## 값 전달 vs 참조 전달"
   ]
  },
  {
   "cell_type": "code",
   "execution_count": 53,
   "id": "ba5003e8",
   "metadata": {},
   "outputs": [
    {
     "name": "stdout",
     "output_type": "stream",
     "text": [
      "20\n",
      "30\n",
      "[20, 200, 300]\n",
      "[20, 200, 300]\n"
     ]
    }
   ],
   "source": [
    "#call by val -> 값 전달\n",
    "def callByVal(a:int) -> None:\n",
    "    a = 20\n",
    "    print(a)\n",
    "    \n",
    "x=30\n",
    "callByVal(x)\n",
    "print(x)\n",
    "\n",
    "#call by ref -> 참조 전달\n",
    "def callByRef(li: list)-> None:\n",
    "    li[0] = 20\n",
    "    print(li)\n",
    "    \n",
    "l = [100,200,300]\n",
    "callByRef(l)\n",
    "print(l)"
   ]
  },
  {
   "cell_type": "code",
   "execution_count": 56,
   "id": "c95f1992",
   "metadata": {},
   "outputs": [
    {
     "name": "stdout",
     "output_type": "stream",
     "text": [
      "10\n",
      "20\n",
      "100\n",
      "200\n",
      "key1\n",
      "key2\n",
      "100\n",
      "200\n"
     ]
    }
   ],
   "source": [
    "def collect(a,b):\n",
    "    print(a)\n",
    "    print(b)\n",
    "    \n",
    "collect(10,20) \n",
    "collect(*[100,200]) #list를 분할 해서 a에 100, b에 200 대입\n",
    "collect(*{\"key1\":100, \"key2\": 200}) #dict는 key 값이 매개 변수에 전달\n",
    "collect(**{\"a\": 100, \"b\": 200}) # *이 2개이면 value 값이 매개 변수에 전달, 이 때 key 이름 == 매개 변수 이름"
   ]
  },
  {
   "cell_type": "markdown",
   "id": "17b8da27",
   "metadata": {},
   "source": [
    "## 가변 매개 변수"
   ]
  },
  {
   "cell_type": "code",
   "execution_count": 57,
   "id": "82e5e3b7",
   "metadata": {},
   "outputs": [
    {
     "name": "stdout",
     "output_type": "stream",
     "text": [
      "10\n",
      "10\n",
      "20\n",
      "30\n",
      "40\n"
     ]
    }
   ],
   "source": [
    "# 가변 매개 변수 - 데이터 개수 상관 없이 대입해서 호출 가능\n",
    "# 함수 내부에서는 튜플 \n",
    "def merge(*li):\n",
    "    for element in li:\n",
    "        print(element)\n",
    "        \n",
    "merge(10) \n",
    "merge(10,20,30,40) #data의 개수 1~n개까지 가능"
   ]
  },
  {
   "cell_type": "code",
   "execution_count": 63,
   "id": "ce4a8664",
   "metadata": {},
   "outputs": [
    {
     "name": "stdout",
     "output_type": "stream",
     "text": [
      "10\n",
      "20\n",
      "30\n",
      "10\n",
      "20\n",
      "30\n"
     ]
    }
   ],
   "source": [
    "def merge(name,*li):\n",
    "    for element in li:\n",
    "        print(element)\n",
    "        \n",
    "merge(\"adam\", 10,20,30) # name에 adam 대입, 나머지는 li에 대입\n",
    "#merge(name = \"adam\", 10,20, 30) #Error - SyntaxError: positional argument follows keyword argument\n",
    "\n",
    "def merge(*li, name):\n",
    "    for element in li:\n",
    "        print(element)\n",
    "        \n",
    "#merge(10,20,30,\"adam\") #Error - TypeError: merge() missing 1 required keyword-only argument: 'name'\n",
    "merge(10,20,30, name = \"adam\") #가변 매개 변수 뒤의 data는 이름과 함께 호출"
   ]
  },
  {
   "cell_type": "code",
   "execution_count": 64,
   "id": "5c84845e",
   "metadata": {},
   "outputs": [
    {
     "name": "stdout",
     "output_type": "stream",
     "text": [
      "job singer\n",
      "gender male\n"
     ]
    }
   ],
   "source": [
    "#name 매개 변수와 그 이외 매개 변수로 구성된 함수\n",
    "def merge(name, **param):\n",
    "    for k in param:\n",
    "        print(k, param[k])\n",
    "        \n",
    "merge(name = \"adam\", job = \"singer\", gender = \"male\")"
   ]
  },
  {
   "cell_type": "markdown",
   "id": "dbff465d",
   "metadata": {},
   "source": [
    "## 재귀 함수"
   ]
  },
  {
   "cell_type": "code",
   "execution_count": 65,
   "id": "17cc8b7b",
   "metadata": {},
   "outputs": [
    {
     "data": {
      "text/plain": [
       "6"
      ]
     },
     "execution_count": 65,
     "metadata": {},
     "output_type": "execute_result"
    }
   ],
   "source": [
    "def getsum(n: int) -> int:\n",
    "    if n== 1:\n",
    "        return 1\n",
    "    return n+ getsum(n-1)\n",
    "\n",
    "getsum(3)"
   ]
  },
  {
   "cell_type": "code",
   "execution_count": 82,
   "id": "6d5bd9a3",
   "metadata": {},
   "outputs": [],
   "source": [
    "#fibonacci function\n",
    "#10 -> 55, 11-> 89\n",
    "def fibonacci(num):\n",
    "    if num == 1 or num == 2:\n",
    "        return 1\n",
    "    return fibonacci(num-1) + fibonacci(num-2)"
   ]
  },
  {
   "cell_type": "code",
   "execution_count": 83,
   "id": "6366203c",
   "metadata": {},
   "outputs": [],
   "source": [
    "import functools"
   ]
  },
  {
   "cell_type": "code",
   "execution_count": 86,
   "id": "1767fd8d",
   "metadata": {},
   "outputs": [],
   "source": [
    "@functools.lru_cache() #memoization: 함수의 호출 결과를 저장해 둔 후 재사용 하는 것 <- 재귀 함수의 단점 보완\n",
    "def fibonacci_func(num: int) -> int:\n",
    "    if n == 1 or num == 2:\n",
    "        return 1\n",
    "    return fibonacci(num-1) + fibonacci(num-2)"
   ]
  },
  {
   "cell_type": "code",
   "execution_count": 88,
   "id": "eb748804",
   "metadata": {},
   "outputs": [
    {
     "data": {
      "text/plain": [
       "832040"
      ]
     },
     "execution_count": 88,
     "metadata": {},
     "output_type": "execute_result"
    }
   ],
   "source": [
    "fibonacci(10)\n",
    "fibonacci_func(30)"
   ]
  },
  {
   "cell_type": "markdown",
   "id": "a85c35dc",
   "metadata": {},
   "source": [
    "## annotation"
   ]
  },
  {
   "cell_type": "code",
   "execution_count": null,
   "id": "20acfa1f",
   "metadata": {},
   "outputs": [],
   "source": [
    "#def pan(score: 'int >= 0 and <= 100' = 0) -> None:"
   ]
  },
  {
   "cell_type": "markdown",
   "id": "69a25356",
   "metadata": {},
   "source": [
    "## 도움말 "
   ]
  },
  {
   "cell_type": "code",
   "execution_count": 93,
   "id": "5d487079",
   "metadata": {},
   "outputs": [
    {
     "name": "stdout",
     "output_type": "stream",
     "text": [
      "Help on _lru_cache_wrapper in module __main__:\n",
      "\n",
      "fibonacci_func(num: int) -> int\n",
      "    재귀를 이용해서 피보나치 수열의 값을 return하는 함수\n",
      "\n"
     ]
    }
   ],
   "source": [
    "fibonacci_func.__doc__ = \"재귀를 이용해서 피보나치 수열의 값을 return하는 함수\"\n",
    "\n",
    "help(fibonacci_func)"
   ]
  },
  {
   "cell_type": "markdown",
   "id": "b2a06756",
   "metadata": {},
   "source": [
    "## 함수 = 일급 객체"
   ]
  },
  {
   "cell_type": "code",
   "execution_count": 97,
   "id": "259d4393",
   "metadata": {},
   "outputs": [
    {
     "name": "stdout",
     "output_type": "stream",
     "text": [
      "드래곤의 공격\n",
      "탱크의 공격\n"
     ]
    }
   ],
   "source": [
    "def dragonAttack():\n",
    "    print(\"드래곤의 공격\")\n",
    "\n",
    "def tankAttack():\n",
    "    print(\"탱크의 공격\")\n",
    "    \n",
    "delegate = dragonAttack\n",
    "delegate()\n",
    "\n",
    "delegate = tankAttack\n",
    "delegate()"
   ]
  },
  {
   "cell_type": "markdown",
   "id": "4fbd375e",
   "metadata": {},
   "source": [
    "## high order fct"
   ]
  },
  {
   "cell_type": "code",
   "execution_count": 98,
   "id": "d935b8c2",
   "metadata": {},
   "outputs": [
    {
     "name": "stdout",
     "output_type": "stream",
     "text": [
      "inner function\n"
     ]
    }
   ],
   "source": [
    "#함수가 함수를 내부에 만들어서 return하면 = 고위 함수\n",
    "def outer():\n",
    "    def inner():\n",
    "        print(\"inner function\")\n",
    "    return inner\n",
    "\n",
    "#함수를 호출해서 그 결과를 변수에 대입하고 그 변수를 통해서 함수를 호출함\n",
    "func = outer()\n",
    "func()"
   ]
  },
  {
   "cell_type": "markdown",
   "id": "4d050f6e",
   "metadata": {},
   "source": [
    "## Lambda"
   ]
  },
  {
   "cell_type": "code",
   "execution_count": 99,
   "id": "88678e63",
   "metadata": {},
   "outputs": [
    {
     "data": {
      "text/plain": [
       "<function __main__.<lambda>(x, y)>"
      ]
     },
     "execution_count": 99,
     "metadata": {},
     "output_type": "execute_result"
    }
   ],
   "source": [
    "#숫자 2개 받아서 더한 결과 return 하는 lambda\n",
    "lambda x,y: x+y"
   ]
  },
  {
   "cell_type": "markdown",
   "id": "a0533f51",
   "metadata": {},
   "source": [
    "# 문제"
   ]
  },
  {
   "cell_type": "markdown",
   "id": "b27961e9",
   "metadata": {},
   "source": [
    "\\* 출력 문제"
   ]
  },
  {
   "cell_type": "code",
   "execution_count": 36,
   "id": "5efaac05",
   "metadata": {},
   "outputs": [
    {
     "name": "stdout",
     "output_type": "stream",
     "text": [
      "*\n",
      "*\n",
      "*\n",
      "*\n",
      "*\n",
      "\n",
      "\n",
      "*\n",
      "*\n",
      "*\n",
      "*\n",
      "*\n",
      "\n",
      "\n",
      "*\n",
      "*\n",
      "*\n",
      "*\n",
      "*\n",
      "\n",
      "\n",
      "*\n",
      "*\n",
      "*\n",
      "*\n",
      "*\n",
      "\n",
      "\n",
      "*\n",
      "*\n",
      "*\n",
      "*\n",
      "*\n",
      "\n",
      "\n"
     ]
    }
   ],
   "source": [
    "'''\n",
    "아래 출력 예시\n",
    "*****\n",
    "*****\n",
    "*****\n",
    "*****\n",
    "*****\n",
    "\n",
    "'''\n",
    "for i in range(1,26):\n",
    "    print(\"*\")\n",
    "    if i % 5 == 0:\n",
    "        print(\"\\n\")"
   ]
  },
  {
   "cell_type": "code",
   "execution_count": 37,
   "id": "a10d8e8c",
   "metadata": {},
   "outputs": [
    {
     "name": "stdout",
     "output_type": "stream",
     "text": [
      "\n",
      "\n",
      "\n",
      "*\n",
      "\n",
      "\n",
      "**\n",
      "\n",
      "\n",
      "***\n",
      "\n",
      "\n",
      "****\n",
      "\n",
      "\n"
     ]
    }
   ],
   "source": [
    "for i in range(5):\n",
    "    print(\"*\"*i)\n",
    "    print(\"\\n\")"
   ]
  },
  {
   "cell_type": "markdown",
   "id": "2ed76a54",
   "metadata": {},
   "source": [
    "2~100까지 완전수의 개수 \n",
    "\n",
    "완전수 = 자신을 제외한 약수의 합이 자신과 같은 수\n",
    "\n",
    "    6 = 완전수 -> 1,2,3,6\n",
    "\n",
    "피보나치 수열\n",
    "\n",
    "    1,2 data는 1\n",
    "    3번째 data부터는 앞의 2개의 합\n",
    "    \n",
    "n 번째 피보나치 수열의 값 구하는 문제 "
   ]
  },
  {
   "cell_type": "code",
   "execution_count": 41,
   "id": "f8fbf4df",
   "metadata": {},
   "outputs": [],
   "source": [
    "cnt = 0 #완전수의 개수를 저장할 변수\n",
    "for idx in range(2, 1001):\n",
    "    #약수의 합을 저장할 변수\n",
    "    #합계를 구할 때 무조건 0으로 초기화 하지는 않음\n",
    "    result = 1\n",
    "    #2부터  자신의 수 전까지 나머지가 0이 나오는 숫자가 약수\n",
    "    for num in range(2, idx//2 +1):\n",
    "        if idx % num == 0:\n",
    "            result += num\n",
    "    if result == idx:\n",
    "        cnt += 1"
   ]
  },
  {
   "cell_type": "code",
   "execution_count": 42,
   "id": "5a4558a7",
   "metadata": {},
   "outputs": [
    {
     "data": {
      "text/plain": [
       "3"
      ]
     },
     "execution_count": 42,
     "metadata": {},
     "output_type": "execute_result"
    }
   ],
   "source": [
    "cnt"
   ]
  },
  {
   "cell_type": "markdown",
   "id": "a11564be",
   "metadata": {},
   "source": [
    "n 번째 피보나치 수열 값"
   ]
  },
  {
   "cell_type": "code",
   "execution_count": 71,
   "id": "98232a84",
   "metadata": {},
   "outputs": [
    {
     "name": "stdout",
     "output_type": "stream",
     "text": [
      "구하고자 하는 fibonacci 수열 값? 11\n",
      "89\n"
     ]
    }
   ],
   "source": [
    "n = int(input(\"구하고자 하는 fibonacci 수열 값? \"))\n",
    "\n",
    "if n == 1 or n == 2:\n",
    "    print(1)\n",
    "else:\n",
    "    n1 = 1 #직전 항\n",
    "    n2 = 1 #두번 째 앞의 항\n",
    "    result = 0\n",
    "    for idx in range(3, n+1):\n",
    "        result = n1+n2\n",
    "        n2 = n1\n",
    "        n1 = result\n",
    "print(result)"
   ]
  },
  {
   "cell_type": "code",
   "execution_count": null,
   "id": "1090480d",
   "metadata": {},
   "outputs": [],
   "source": []
  }
 ],
 "metadata": {
  "kernelspec": {
   "display_name": "Python 3 (ipykernel)",
   "language": "python",
   "name": "python3"
  },
  "language_info": {
   "codemirror_mode": {
    "name": "ipython",
    "version": 3
   },
   "file_extension": ".py",
   "mimetype": "text/x-python",
   "name": "python",
   "nbconvert_exporter": "python",
   "pygments_lexer": "ipython3",
   "version": "3.10.9"
  }
 },
 "nbformat": 4,
 "nbformat_minor": 5
}
