{
 "cells": [
  {
   "cell_type": "markdown",
   "id": "d8bbb1dc",
   "metadata": {},
   "source": [
    "# Numpy"
   ]
  },
  {
   "cell_type": "markdown",
   "id": "df06faad",
   "metadata": {},
   "source": [
    "0807"
   ]
  },
  {
   "cell_type": "code",
   "execution_count": 1,
   "id": "6ee37350",
   "metadata": {},
   "outputs": [],
   "source": [
    "import numpy as np\n",
    "import datetime"
   ]
  },
  {
   "cell_type": "markdown",
   "id": "afa1a8ac",
   "metadata": {},
   "source": [
    "## 속도 비교"
   ]
  },
  {
   "cell_type": "code",
   "execution_count": 12,
   "id": "85524119",
   "metadata": {},
   "outputs": [
    {
     "name": "stdout",
     "output_type": "stream",
     "text": [
      "시작시간: 2023-08-07 15:27:33.244225\n",
      "종료 시간: 2023-08-07 15:27:33.354231\n",
      "0:00:00.110006\n"
     ]
    }
   ],
   "source": [
    "#list 작업 시간\n",
    "li = range(1, 1000000)\n",
    "\n",
    "#현재 시간\n",
    "s = datetime.datetime.now()\n",
    "print('시작시간:',s)\n",
    "\n",
    "#모든 요소에 10을 곱해서 list 수정\n",
    "for i in li:\n",
    "    i = i*10\n",
    "    \n",
    "end = datetime.datetime.now()\n",
    "\n",
    "print('종료 시간:',end)\n",
    "print(end - s)"
   ]
  },
  {
   "cell_type": "code",
   "execution_count": 15,
   "id": "6343d2c8",
   "metadata": {},
   "outputs": [
    {
     "name": "stdout",
     "output_type": "stream",
     "text": [
      "시작시간: 2023-08-07 15:29:10.068767\n",
      "종료 시간: 2023-08-07 15:29:10.071773\n",
      "0:00:00.003006\n"
     ]
    }
   ],
   "source": [
    "ar = np.arange(1, 1000000)\n",
    "s = datetime.datetime.now()\n",
    "print(\"시작시간:\",s)\n",
    "ar = ar * 10\n",
    "end = datetime.datetime.now()\n",
    "print('종료 시간:',end)\n",
    "print(end - s)"
   ]
  },
  {
   "cell_type": "markdown",
   "id": "b6b31e23",
   "metadata": {},
   "source": [
    "## 배열의 정보 확인"
   ]
  },
  {
   "cell_type": "code",
   "execution_count": 19,
   "id": "b9bd1a68",
   "metadata": {},
   "outputs": [
    {
     "name": "stdout",
     "output_type": "stream",
     "text": [
      "<class 'numpy.ndarray'>\n",
      "int32\n",
      "1\n",
      "(3,)\n"
     ]
    }
   ],
   "source": [
    "ar = np.array([1,2,3])\n",
    " \n",
    "print(type(ar)) #ar의 자료형\n",
    "print(ar.dtype) #ar에 저장된 요소의 자료형\n",
    "print(ar.ndim) #일차원 배열\n",
    "print(ar.shape) #3개의 행으로 구성"
   ]
  },
  {
   "cell_type": "code",
   "execution_count": 22,
   "id": "eb34846b",
   "metadata": {},
   "outputs": [
    {
     "name": "stdout",
     "output_type": "stream",
     "text": [
      "2\n",
      "(2, 3)\n"
     ]
    }
   ],
   "source": [
    "ar = np.array([[1,2,3],[4,5,6]])\n",
    "print(ar.ndim) #2차원 배열\n",
    "print(ar.shape) #2행 3열"
   ]
  },
  {
   "cell_type": "markdown",
   "id": "6b54a26b",
   "metadata": {},
   "source": [
    "## 생성 함수"
   ]
  },
  {
   "cell_type": "code",
   "execution_count": 23,
   "id": "a1732437",
   "metadata": {},
   "outputs": [
    {
     "name": "stdout",
     "output_type": "stream",
     "text": [
      "[ 1  3  5  7  9 11 13 15 17 19 21 23 25 27 29 31 33 35 37 39 41 43 45 47\n",
      " 49 51 53 55 57 59 61 63 65 67 69 71 73 75 77 79 81 83 85 87 89 91 93 95\n",
      " 97 99]\n",
      "[  1.  12.  23.  34.  45.  56.  67.  78.  89. 100.]\n"
     ]
    }
   ],
   "source": [
    "ar = np.arange(1, 100, 2)\n",
    "print(ar)\n",
    "\n",
    "ar = np.linspace(1, 100, num = 10)\n",
    "print(ar)"
   ]
  },
  {
   "cell_type": "markdown",
   "id": "419b2e34",
   "metadata": {},
   "source": [
    "## 특수 행렬"
   ]
  },
  {
   "cell_type": "code",
   "execution_count": 25,
   "id": "1275379d",
   "metadata": {},
   "outputs": [
    {
     "name": "stdout",
     "output_type": "stream",
     "text": [
      "[[1. 0. 0.]\n",
      " [0. 1. 0.]\n",
      " [0. 0. 1.]]\n",
      "[[0. 1. 0.]\n",
      " [0. 0. 1.]\n",
      " [0. 0. 0.]]\n",
      "[[0. 0. 0.]\n",
      " [1. 0. 0.]\n",
      " [0. 1. 0.]]\n"
     ]
    }
   ],
   "source": [
    "#eye - 대각 행렬\n",
    "ar = np.eye(3) #3*3 행렬 생성, 대각선 방향으로 1을 채움\n",
    "print(ar)\n",
    "ar = np.eye(3, k= 1) #3*3 행렬 생성, 대각선 방향으로 1을 채우는데 기본에서 1위로\n",
    "print(ar)\n",
    "ar = np.eye(3, k= -1) #3*3 행렬 생성, 대각선 방향으로 1을 채우는데 기본에서 1아래로\n",
    "print(ar)"
   ]
  },
  {
   "cell_type": "code",
   "execution_count": 28,
   "id": "371781b7",
   "metadata": {},
   "outputs": [
    {
     "name": "stdout",
     "output_type": "stream",
     "text": [
      "[[1 2 3]\n",
      " [4 5 6]\n",
      " [7 8 9]]\n",
      "[1 5 9]\n",
      "[4 8]\n"
     ]
    }
   ],
   "source": [
    "ar = np.array([[1,2,3],[4,5,6],[7,8,9]])\n",
    "print(ar)\n",
    " \n",
    "br = np.diag(ar) #대각선 방향이므로 1,5,9\n",
    "print(br)\n",
    "\n",
    "cr = np.diag(ar, k = -1) #기본 대각선에서 하나 아래로 내려가므로 4, 8\n",
    "print(cr)"
   ]
  },
  {
   "cell_type": "markdown",
   "id": "0330af72",
   "metadata": {},
   "source": [
    "## dtype"
   ]
  },
  {
   "cell_type": "code",
   "execution_count": 29,
   "id": "467cfbaa",
   "metadata": {},
   "outputs": [
    {
     "name": "stdout",
     "output_type": "stream",
     "text": [
      "['1' '2' '3']\n",
      "[1 2 3]\n",
      "['1' '2' '3']\n",
      "[1 2 3]\n"
     ]
    }
   ],
   "source": [
    "ar = np.array(['1','2','3']) #문자열로 배열 생성\n",
    "print(ar)\n",
    "#자료형 변경\n",
    "ar = np.array([1,2,'3'], dtype = np.int32) #정수로 배열이 생성 - 자료형 지정\n",
    "print(ar)\n",
    "\n",
    "ar = np.array([1,2,'3']) #문자열로 배열이 생성\n",
    "print(ar)\n",
    "\n",
    "br = ar.astype(np.int32) #기존 배열의 자료형을 변경해서 생성\n",
    "print(br)"
   ]
  },
  {
   "cell_type": "markdown",
   "id": "96552559",
   "metadata": {},
   "source": [
    "## 행렬의 차원 변환"
   ]
  },
  {
   "cell_type": "code",
   "execution_count": 32,
   "id": "addcebe3",
   "metadata": {},
   "outputs": [
    {
     "name": "stdout",
     "output_type": "stream",
     "text": [
      "[[1 2 3]\n",
      " [4 5 6]\n",
      " [7 8 9]]\n",
      "[1 2 3 4 5 6 7 8 9]\n"
     ]
    },
    {
     "data": {
      "text/plain": [
       "(array([101,   2,   3,   4,   5,   6,   7,   8,   9]),\n",
       " array([[101,   2,   3],\n",
       "        [  4,   5,   6],\n",
       "        [  7,   8,   9]]))"
      ]
     },
     "execution_count": 32,
     "metadata": {},
     "output_type": "execute_result"
    }
   ],
   "source": [
    "matrix = np.array([[1,2,3],[4,5,6],[7,8,9]]) #3*3행렬\n",
    "print(matrix)\n",
    "\n",
    "ar = matrix.reshape(-1) #1차원 변환 - 접근 방법을 변환한 것이라서 이전과 동일한 데이터\n",
    "print(ar)\n",
    "ar[0] = 101\n",
    "ar, matrix"
   ]
  },
  {
   "cell_type": "code",
   "execution_count": 35,
   "id": "76228159",
   "metadata": {},
   "outputs": [
    {
     "data": {
      "text/plain": [
       "(array([201,   2,   3,   4,   5,   6,   7,   8,   9]),\n",
       " array([[101,   2,   3],\n",
       "        [  4,   5,   6],\n",
       "        [  7,   8,   9]]))"
      ]
     },
     "execution_count": 35,
     "metadata": {},
     "output_type": "execute_result"
    }
   ],
   "source": [
    "br = matrix.flatten() #복제 해서 1차원으로 변경 - 원본과 다른 데이터 생성\n",
    "br[0] = 201\n",
    "br, matrix"
   ]
  },
  {
   "cell_type": "markdown",
   "id": "246a454a",
   "metadata": {},
   "source": [
    "## indexing"
   ]
  },
  {
   "cell_type": "code",
   "execution_count": 45,
   "id": "83efb038",
   "metadata": {},
   "outputs": [
    {
     "name": "stdout",
     "output_type": "stream",
     "text": [
      "[[1 2 3]\n",
      " [4 5 6]\n",
      " [7 8 9]]\n",
      "2\n",
      "[1 2 3]\n",
      "[1 4 7]\n",
      "[[1 2 3]\n",
      " [4 5 6]]\n",
      "1\n",
      "1\n",
      "1004\n",
      "1\n"
     ]
    }
   ],
   "source": [
    "matrix = np.array([[1,2,3],[4,5,6],[7,8,9]])\n",
    "print(matrix) #전체 출력 \n",
    "print(matrix[0][1]) #0번째 열 1번째 행\n",
    "print(matrix[0]) #0번째 행 전체 - 0번째 행을 선택할 때는 열 인덱스 제외\n",
    "print(matrix[:,0]) #0번째 열 전체 - 열을 선택할 때는 전체라고 설정을 해야 함\n",
    "#행렬 구조가 있을 때 행을 먼저 선택하고 열을 선택하기 때문에 행은 생략할 수 없음\n",
    "print(matrix[0:2]) #0번째 행부터 2번째 행 앞까지\n",
    "\n",
    "#일반 인덱싱은 참조를 복사 \n",
    "x = matrix[0][0]\n",
    "print(x)\n",
    "print(matrix[0][0])\n",
    "#현재는 둘 다 1\n",
    "\n",
    "x = 1004\n",
    "print(x)\n",
    "print(matrix[0][0]) #[행 번호][열 번호] 로 접근 하는 것이 slicing, [행 번호, 열번호] 로 접근 하는 것 indexing\n",
    "#slicing 은 복제함\n",
    "#indexing은 참조를 복사합니다 \n"
   ]
  },
  {
   "cell_type": "markdown",
   "id": "4a8d900c",
   "metadata": {},
   "source": [
    "## fancy indexing"
   ]
  },
  {
   "cell_type": "code",
   "execution_count": 47,
   "id": "f49f4f0e",
   "metadata": {},
   "outputs": [
    {
     "name": "stdout",
     "output_type": "stream",
     "text": [
      "[[1 2 3]\n",
      " [4 5 6]\n",
      " [7 8 9]]\n",
      "[1 2 3]\n",
      "[1 2 3]\n",
      "[100   2   3]\n",
      "[100   2   3]\n",
      "[[100   2   3]\n",
      " [  4   5   6]\n",
      " [  7   8   9]]\n",
      "[[100   2   3]]\n",
      "[100   2   3]\n",
      "[[1004    2    3]]\n",
      "[100   2   3]\n",
      "[[100   2   3]\n",
      " [  4   5   6]\n",
      " [  7   8   9]]\n"
     ]
    }
   ],
   "source": [
    "matrix = np.array([[1,2,3],[4,5,6],[7,8,9]])\n",
    "print(matrix) #전체 출력\n",
    "\n",
    "#0번 행을 indexing - 참조를 복사\n",
    "ar = matrix[0]\n",
    "br = matrix[0,]\n",
    "print(ar) #[1,2,3]\n",
    "print(br)\n",
    "\n",
    "#ar의 0번째 요소를 100으로 수정\n",
    "ar[0] = 100\n",
    "print(ar) #[100, 2, 3]\n",
    "print(br) #[100, 2, 3]\n",
    "print(matrix) #[100, 2, 3]\n",
    "\n",
    "#list를 이용하는 인덱싱 = fancy indexing\n",
    "cr = matrix[[0]]\n",
    "#범위를 이용하는 형태 = slicing\n",
    "dr = matrix[0][:]\n",
    "#팬시 인덱싱과 슬라이싱은 복제를 함\n",
    "#복제된 데이터를 수정해도 원본에 영향을 주지 X\n",
    "print(cr)\n",
    "print(dr)\n",
    "cr[0,0] = 1004\n",
    "print(cr) #[1004, 2, 3]\n",
    "print(dr) #[100, 2, 3]\n",
    "print(matrix) #[[100, 2, 3], [4, 5, 6], [7, 8, 9]]"
   ]
  },
  {
   "cell_type": "markdown",
   "id": "d43edc5d",
   "metadata": {},
   "source": [
    "## boolean indexing"
   ]
  },
  {
   "cell_type": "code",
   "execution_count": 50,
   "id": "666d417e",
   "metadata": {},
   "outputs": [
    {
     "name": "stdout",
     "output_type": "stream",
     "text": [
      "[3 6]\n",
      "[1 2 3 4 6]\n"
     ]
    }
   ],
   "source": [
    "ar = np.array([10,2,30,5,22,37])\n",
    "br = np.array([1,2,3,4,5,6])\n",
    "\n",
    "print(br[ar >= 30])\n",
    "print(br[(ar >= 30) | (ar <= 10)])"
   ]
  },
  {
   "cell_type": "markdown",
   "id": "e34daa2e",
   "metadata": {},
   "source": [
    "------"
   ]
  },
  {
   "cell_type": "markdown",
   "id": "526dfff9",
   "metadata": {},
   "source": [
    "0808"
   ]
  },
  {
   "cell_type": "markdown",
   "id": "215a80b2",
   "metadata": {},
   "source": [
    "## recap - indexing"
   ]
  },
  {
   "cell_type": "code",
   "execution_count": 3,
   "id": "0fee5e3f",
   "metadata": {},
   "outputs": [
    {
     "name": "stdout",
     "output_type": "stream",
     "text": [
      "[1, 2, 3, 4, 5, 6, 7, 8, 9]\n",
      "[1 2 3 4 5 6 7 8 9]\n",
      "[[1 2 3]\n",
      " [4 5 6]\n",
      " [7 8 9]]\n"
     ]
    }
   ],
   "source": [
    "#일차원 배열과 이차원 배열 생성\n",
    "li = list(range(1,10))\n",
    "print(li)\n",
    "\n",
    "#list를 이용해서 ndarray 생ㅇ성\n",
    "ar = np.array(li)\n",
    "print(ar)\n",
    "\n",
    "matrix = np.array(li).reshape((3,3)) #일차원 배열을 생성한 후 행과 열의 계수를 3*3으로 변경\n",
    "print(matrix)"
   ]
  },
  {
   "cell_type": "code",
   "execution_count": 17,
   "id": "73758c61",
   "metadata": {},
   "outputs": [
    {
     "name": "stdout",
     "output_type": "stream",
     "text": [
      "100 [1 2 3 4 5 6 7 8 9]\n",
      "1004 1004\n",
      "[1004    2    3] [2 5 8]\n",
      "[1004    2    3]\n",
      "[[1004    2    3]\n",
      " [   4    5    6]\n",
      " [   7    8    9]]\n"
     ]
    }
   ],
   "source": [
    "#인덱싱 - 데이터 가져오기\n",
    "#scala data를 복사하는 경우는 원본의 값을 복사해서 대입하기 때문에 서로 간에 영향을 주지 X\n",
    "data1 = ar[0]\n",
    "data1 = 100\n",
    "print(data1, ar)\n",
    "\n",
    "#2차원 배열에서 데이터 1개 찾아오기\n",
    "data2 = matrix[0,0]\n",
    "data3 = matrix[0][0]\n",
    "print(data2, data3)\n",
    "\n",
    "#2차원 배열에서 행 1개 찾아오기\n",
    "row = matrix[0] #matrix[0][:]\n",
    "#2차원 배열에서 열 1개 찾아오기\n",
    "column = matrix[:,1] #:은 전체를 의미함\n",
    "print(row, column)\n",
    "\n",
    "#row는 scala data(primitive type) X, vector data(non-primitive type) -> vector data를 다른 곳에 대입하면 참조가 복사됨\n",
    "#따라서 복사본을 수정하면 원본도 영향을 받음\n",
    "row[0] = 1004\n",
    "print(row)\n",
    "print(matrix)"
   ]
  },
  {
   "cell_type": "code",
   "execution_count": 14,
   "id": "569aa876",
   "metadata": {},
   "outputs": [
    {
     "data": {
      "text/plain": [
       "[100, 2, 3]"
      ]
     },
     "execution_count": 14,
     "metadata": {},
     "output_type": "execute_result"
    }
   ],
   "source": [
    "#일반 인덱싱한 데이터는 파이썬의 기본 데이터와 동일하게 동작함\n",
    "#python의 scala data -> immutable = 변경 불가\n",
    "#scala 데이터는 다른 변수에 대입할 때 값을 복사해서 대입함\n",
    "a = 10\n",
    "b = a\n",
    "b = 20\n",
    "print(a)\n",
    "\n",
    "#python의 vector data는 다른 변수에 대입할 때 참조를 복사해서 대입함\n",
    "ax =  [1,2,3]\n",
    "bx = ax\n",
    "bx[0] = 100\n",
    "ax"
   ]
  },
  {
   "cell_type": "markdown",
   "id": "b77028d2",
   "metadata": {},
   "source": [
    "## data copy - copy method"
   ]
  },
  {
   "cell_type": "code",
   "execution_count": 23,
   "id": "1fed633d",
   "metadata": {},
   "outputs": [
    {
     "name": "stdout",
     "output_type": "stream",
     "text": [
      "[100, 2, 3] [1, 2, 3]\n",
      "[[100, 2, 3], [4, 5, 6]] [[100, 2, 3], [4, 5, 6]]\n",
      "[[1004, 2, 3], [4, 5, 6]] [[100, 2, 3], [4, 5, 6]]\n",
      "[[1 2 3]\n",
      " [4 5 6]\n",
      " [7 8 9]]\n",
      "[[1004    2    3]\n",
      " [   4    5    6]\n",
      " [   7    8    9]]\n"
     ]
    }
   ],
   "source": [
    "#python에서의 data 복제\n",
    "#copy 모듈 의 copy(얕은 복사)와 deepcopy(깊은 복사) 함수 이용\n",
    "#얕은 복사는 한 번은 복제를 하지만 재귀적으로 수행X\n",
    "#깊은 복사는 재귀적으로 복제 수행\n",
    "from copy import copy, deepcopy\n",
    "\n",
    "li = [1,2,3]\n",
    "c = li.copy() #얕은 복사\n",
    "c[0] = 100 #일차원 list의 경우는 원본에 영향을 주지 않음\n",
    "print(c, li)\n",
    "\n",
    "m = [[1,2,3],[4,5,6]]\n",
    "c = m.copy()\n",
    "c[0][0] = 100 #얕은 복사는 2차원 배열의 경우는 원본에 영향을 줌\n",
    "print(c, m)\n",
    "\n",
    "d = deepcopy(m)\n",
    "d[0][0] = 1004 #깊은 복사는 재귀적으로 복제를 수행하기 때문에 복사본에서 데이터를 수정해도 원본에 영향 X\n",
    "print(d, m)\n",
    "\n",
    "#데이터 복제는 copy method 사용\n",
    "clone = matrix.copy() #복사본\n",
    "clone[0][0] = 1 #복사본의 데이터를 수정해도 원본에서는 그대로 1004\n",
    "print(clone)\n",
    "print(matrix)\n",
    "\n",
    "#matrix는 np array, m은 list array"
   ]
  },
  {
   "cell_type": "markdown",
   "id": "8c03b0a2",
   "metadata": {},
   "source": [
    "## slicing - list vs np array"
   ]
  },
  {
   "cell_type": "code",
   "execution_count": 37,
   "id": "3f98ce45",
   "metadata": {},
   "outputs": [
    {
     "name": "stdout",
     "output_type": "stream",
     "text": [
      "[1, 2, 3]\n",
      "[100, 2, 3] [1, 2, 3]\n",
      "[1 2 3]\n",
      "[100   2   3] [100   2   3]\n",
      "[100, 2, 3] [1, 2, 3]\n"
     ]
    },
    {
     "data": {
      "text/plain": [
       "False"
      ]
     },
     "execution_count": 37,
     "metadata": {},
     "output_type": "execute_result"
    }
   ],
   "source": [
    "li = [1,2,3]\n",
    "c = li[0:3] #list의 slicing\n",
    "#c 와 li는 앞 3개의 데이터가 동일하지만 다른 공간의 데이터\n",
    "print(c)\n",
    "c[0] = 100 #c의 값을 변경해도 li에는 영향이 없음\n",
    "print(c, li)\n",
    "\n",
    "ar = np.array(li)\n",
    "d = ar[0:3] #배열에서 0-2까지 데이터 복사 -> 데티어 개수 3개 = vector data = 참조 복사\n",
    "print(d)\n",
    "d[0] = 100 #참조를 복사했기 때문에 값을 수정하면 영향을 주게 됨\n",
    "print(d, ar)\n",
    "\n",
    "c is li #가리키는 데이터가 같은지 다른지 비교"
   ]
  },
  {
   "cell_type": "markdown",
   "id": "fe44792c",
   "metadata": {},
   "source": [
    "## fancy indexing"
   ]
  },
  {
   "cell_type": "code",
   "execution_count": 39,
   "id": "6d188da4",
   "metadata": {},
   "outputs": [
    {
     "name": "stdout",
     "output_type": "stream",
     "text": [
      "[100 300]\n",
      "[100 200 300 400 500]\n"
     ]
    }
   ],
   "source": [
    "#indexing을 할 때 list를 이용하는 것\n",
    "ar = np.array([100,200,300,400,500])\n",
    "f = ar[[0,2]]\n",
    "print(f)\n",
    "f[0] = 1004 #영향 X\n",
    "print(ar)"
   ]
  },
  {
   "cell_type": "markdown",
   "id": "248d33ac",
   "metadata": {},
   "source": [
    "## bool indexing"
   ]
  },
  {
   "cell_type": "code",
   "execution_count": 49,
   "id": "c26881c6",
   "metadata": {},
   "outputs": [
    {
     "name": "stdout",
     "output_type": "stream",
     "text": [
      "True\n",
      "True\n",
      "[1 2 5 7]\n",
      "[6 7]\n"
     ]
    }
   ],
   "source": [
    "print(bool(1))\n",
    "print(bool([1,2,3]))\n",
    "#print(bool([1,2,3] > 2)) #비교하기 위해서는 데이터의 크기 / 타입이 같아야함\n",
    "#python은 비교를 위해 비교하고자 하는 데이터가 참조인지 값인지 먼저 파악 = 비교 대상 파악 먼저\n",
    "\n",
    "#boolean index: array의 인덱스에 bool 배열을 대입해서 True인 데이터만 골라내기\n",
    "ar = np.array([1,2,3,4,5,6,7])\n",
    "result = ar[[True, True, False, False, True, False, True]]\n",
    "print(result)\n",
    "\n",
    "br = np.array([10,20,30,40,50,80,90])\n",
    "result = ar[(br >= 70) &(br <= 90)]\n",
    "print(result)"
   ]
  },
  {
   "cell_type": "markdown",
   "id": "5cdc7b4b",
   "metadata": {},
   "source": [
    "# ndarry의 연산"
   ]
  },
  {
   "cell_type": "markdown",
   "id": "43bbde8f",
   "metadata": {},
   "source": [
    "## 산술 연산"
   ]
  },
  {
   "cell_type": "code",
   "execution_count": 62,
   "id": "69695619",
   "metadata": {},
   "outputs": [
    {
     "data": {
      "text/plain": [
       "array([[ 2,  4,  6,  8, 10],\n",
       "       [ 7,  9, 11, 13, 15]])"
      ]
     },
     "execution_count": 62,
     "metadata": {},
     "output_type": "execute_result"
    }
   ],
   "source": [
    "ar = np.array([1,2,3,4,5])\n",
    "br = np.array([10,20,30,40,50])\n",
    "\n",
    "result = ar + br\n",
    "result\n",
    "\n",
    "result = ar+4 #2개의 차원이 다른 경우로 이 경우는 적인 차원의 데이터를 큰 차원의 데이터로 수정\n",
    "result\n",
    "\n",
    "k = range(1,11)\n",
    "#일차원 배열을 2행 5열로 수정해서 연산 수행\n",
    "cr = np.array(k).reshape((2,5))\n",
    "#cr + ar #data의 개수가 맞지 않아 error\n",
    "cr + ar"
   ]
  },
  {
   "cell_type": "markdown",
   "id": "bc97d72f",
   "metadata": {},
   "source": [
    "## 논리 연산"
   ]
  },
  {
   "cell_type": "code",
   "execution_count": 64,
   "id": "0335058c",
   "metadata": {},
   "outputs": [
    {
     "name": "stdout",
     "output_type": "stream",
     "text": [
      "[False False  True False  True]\n",
      "[ True  True  True  True  True]\n",
      "[False False  True False  True]\n"
     ]
    }
   ],
   "source": [
    "ar = np.array([1,2,3,4,5])\n",
    "br = np.array([10,20,False, 40, 0])\n",
    "\n",
    "print(ar > br)\n",
    "print(np.not_equal(ar, br))\n",
    "#and, or, xor는 bool(True, False)로 변경해서 판정\n",
    "print(np.logical_xor(ar, br)) #xor는 같으면 False, 다르면 True -> 데이터의 값이 아닌 bool 값으로 연산 수행"
   ]
  },
  {
   "cell_type": "markdown",
   "id": "9755b85e",
   "metadata": {},
   "source": [
    "## 연산 후 할당 가능"
   ]
  },
  {
   "cell_type": "code",
   "execution_count": 65,
   "id": "371f6d1f",
   "metadata": {},
   "outputs": [
    {
     "data": {
      "text/plain": [
       "array([11, 22,  3, 44,  5])"
      ]
     },
     "execution_count": 65,
     "metadata": {},
     "output_type": "execute_result"
    }
   ],
   "source": [
    "ar += br # ar = ar + br\n",
    "ar"
   ]
  },
  {
   "cell_type": "markdown",
   "id": "5f67c17b",
   "metadata": {},
   "source": [
    "## in / not in"
   ]
  },
  {
   "cell_type": "code",
   "execution_count": 67,
   "id": "f4e04451",
   "metadata": {},
   "outputs": [
    {
     "name": "stdout",
     "output_type": "stream",
     "text": [
      "False\n",
      "False\n",
      "False\n"
     ]
    },
    {
     "name": "stderr",
     "output_type": "stream",
     "text": [
      "C:\\Users\\USER\\AppData\\Local\\Temp\\ipykernel_17168\\330414030.py:2: DeprecationWarning: elementwise comparison failed; this will raise an error in the future.\n",
      "  print([1,2] in ar)\n",
      "C:\\Users\\USER\\AppData\\Local\\Temp\\ipykernel_17168\\330414030.py:3: DeprecationWarning: elementwise comparison failed; this will raise an error in the future.\n",
      "  print([1,100] in ar)\n"
     ]
    }
   ],
   "source": [
    "print(1 in ar)\n",
    "print([1,2] in ar)\n",
    "print([1,100] in ar)"
   ]
  },
  {
   "cell_type": "markdown",
   "id": "e737dacb",
   "metadata": {},
   "source": [
    "# vectorization"
   ]
  },
  {
   "cell_type": "code",
   "execution_count": 69,
   "id": "7be1f361",
   "metadata": {},
   "outputs": [
    {
     "name": "stdout",
     "output_type": "stream",
     "text": [
      "[111 122 103 144 105]\n",
      "[111 122 103 144 105]\n"
     ]
    }
   ],
   "source": [
    "#vector화 된 함수 적용\n",
    "#매개 변수에 100을 더해서 리턴하는 함수\n",
    "\n",
    "def f(i):\n",
    "    return i + 100\n",
    "\n",
    "#백터화 된 함수로 수정\n",
    "vector_f = np.vectorize(f)\n",
    "#배열에 벡터화 된 함수 적용\n",
    "print(vector_f(ar))\n",
    "\n",
    "#람다 함수(python의 한 줄 짜리 이름 없는 함수)를 이용해서 동일한 작업 수행\n",
    "print(np.vectorize(lambda i: i+100)(ar))"
   ]
  },
  {
   "cell_type": "markdown",
   "id": "a381997f",
   "metadata": {},
   "source": [
    "## 전치"
   ]
  },
  {
   "cell_type": "code",
   "execution_count": 73,
   "id": "2af649f1",
   "metadata": {},
   "outputs": [
    {
     "name": "stdout",
     "output_type": "stream",
     "text": [
      "[[ 1  2]\n",
      " [ 3  4]\n",
      " [ 5  6]\n",
      " [ 7  8]\n",
      " [ 9 10]]\n",
      "[[ 1  2  3  4  5]\n",
      " [ 6  7  8  9 10]]\n",
      "[[ 1  3  5  7  9]\n",
      " [ 2  4  6  8 10]]\n"
     ]
    }
   ],
   "source": [
    "matrix = np.array(range(1, 11)).reshape((5,2))\n",
    "print(matrix)\n",
    "print(matrix.reshape((2,5))) #행과 열의 수를 변경\n",
    "print(matrix.T) #행과 열을 변경\n",
    "print(np.transpose(matrix)) #행과 열을 변경"
   ]
  },
  {
   "cell_type": "markdown",
   "id": "8a14d6d1",
   "metadata": {},
   "source": [
    "# numpy 함수"
   ]
  },
  {
   "cell_type": "markdown",
   "id": "845f8068",
   "metadata": {},
   "source": [
    "## random"
   ]
  },
  {
   "cell_type": "code",
   "execution_count": 78,
   "id": "1187ebf4",
   "metadata": {},
   "outputs": [
    {
     "name": "stdout",
     "output_type": "stream",
     "text": [
      "[ 1  2  3  4  5  6  7  8  9 10 11 12 13 14 15 16 17 18 19 20 21 22 23 24\n",
      " 25 26 27 28 29 30 31 32 33 34 35 36 37 38 39 40 41 42 43 44 45 46 47 48]\n"
     ]
    },
    {
     "data": {
      "text/plain": [
       "array([28, 41, 27, 44, 25, 38, 13, 20,  5, 26,  9,  4,  7, 40, 34, 14, 18,\n",
       "       46, 16, 10, 17, 30, 33, 47,  1, 32, 31,  6, 12, 35,  2, 45, 22,  3,\n",
       "       37, 36, 24, 42, 11, 23, 19, 48, 21,  8, 43, 15, 29, 39])"
      ]
     },
     "execution_count": 78,
     "metadata": {},
     "output_type": "execute_result"
    }
   ],
   "source": [
    "np.random.seed(seed = 42) #seed 고정\n",
    "cards = np.array(range(1, 49)) #1~48까지 일차원 배열\n",
    "print(cards)\n",
    "#배열을 섞어서 return\n",
    "result = np.random.permutation(cards)\n",
    "result"
   ]
  },
  {
   "cell_type": "markdown",
   "id": "f666ac11",
   "metadata": {},
   "source": [
    "## 기본 통계 함수"
   ]
  },
  {
   "cell_type": "code",
   "execution_count": 89,
   "id": "d2515af3",
   "metadata": {},
   "outputs": [
    {
     "name": "stdout",
     "output_type": "stream",
     "text": [
      "[[10 20]\n",
      " [30 40]\n",
      " [50 60]]\n",
      "210\n",
      "17.07825127659933\n",
      "18.708286933869708\n",
      "47.5\n",
      "[ 90 120]\n",
      "[ 30  70 110]\n",
      "[[ 30]\n",
      " [ 70]\n",
      " [110]]\n",
      "[2 2]\n",
      "[       10       200      6000    240000  12000000 720000000]\n"
     ]
    }
   ],
   "source": [
    "matrix = np.array([[10,20],[30,40],[50,60]])\n",
    "#matrix = np.random.randn(20).reshape((4,5))\n",
    "print(matrix)\n",
    "\n",
    "print(matrix.sum())\n",
    "print(matrix.std()) #표준 편차\n",
    "print(matrix.std(ddof = 1)) #표준 편차 - 자유도 1 적용\n",
    "print(np.percentile(matrix, 75))\n",
    "\n",
    "#행 단위, 열 단위\n",
    "print(matrix.sum(axis = 0)) # 열 단위 계산\n",
    "print(matrix.sum(axis = 1)) # 행 단위 계산\n",
    "print(matrix.sum(axis = 1, keepdims = True)) #행 단위 - matrix와 동일한 차원으로 return\n",
    "\n",
    "print(matrix.argmax(axis = 0)) #index를 return\n",
    "print(matrix.cumprod()) #누적 곱"
   ]
  },
  {
   "cell_type": "markdown",
   "id": "5fd7fb56",
   "metadata": {},
   "source": [
    "## data 정렬"
   ]
  },
  {
   "cell_type": "code",
   "execution_count": 92,
   "id": "1c457cb8",
   "metadata": {},
   "outputs": [
    {
     "name": "stdout",
     "output_type": "stream",
     "text": [
      "[20 20 25 27 30]\n",
      "[20 30 20 25 27]\n",
      "[[10 60 80]\n",
      " [20 30 50]\n",
      " [15 29 32]]\n"
     ]
    }
   ],
   "source": [
    "#일차원 배열 정렬\n",
    "ar = np.array([20,30,20,25,27])\n",
    "result = np.sort(ar) #데이터를 정렬\n",
    "print(result)\n",
    "print(ar)\n",
    "\n",
    "#2차원 배열의 행에서의 정렬 -> 2차원 배열은 열 또는 행을 기준으로 정렬 \n",
    "br = np.array([[10,60,80],[20,50,30],[15,32,29]])\n",
    "result = np.sort(br, axis = 1) \n",
    "print(result)"
   ]
  },
  {
   "cell_type": "markdown",
   "id": "13f0b881",
   "metadata": {},
   "source": [
    "# 분할 과 병합\n",
    "\n",
    "## split"
   ]
  },
  {
   "cell_type": "code",
   "execution_count": 111,
   "id": "f74bace8",
   "metadata": {},
   "outputs": [
    {
     "name": "stdout",
     "output_type": "stream",
     "text": [
      "(10, 5)\n",
      "<class 'tuple'>\n",
      "10\n",
      "[[ 1  2  3  4  5]\n",
      " [ 6  7  8  9 10]\n",
      " [11 12 13 14 15]\n",
      " [16 17 18 19 20]\n",
      " [21 22 23 24 25]\n",
      " [26 27 28 29 30]\n",
      " [31 32 33 34 35]\n",
      " [36 37 38 39 40]\n",
      " [41 42 43 44 45]\n",
      " [46 47 48 49 50]]\n"
     ]
    },
    {
     "data": {
      "text/plain": [
       "[array([[ 1,  2,  3,  4,  5],\n",
       "        [ 6,  7,  8,  9, 10],\n",
       "        [11, 12, 13, 14, 15],\n",
       "        [16, 17, 18, 19, 20],\n",
       "        [21, 22, 23, 24, 25],\n",
       "        [26, 27, 28, 29, 30],\n",
       "        [31, 32, 33, 34, 35]]),\n",
       " array([[36, 37, 38, 39, 40],\n",
       "        [41, 42, 43, 44, 45],\n",
       "        [46, 47, 48, 49, 50]])]"
      ]
     },
     "execution_count": 111,
     "metadata": {},
     "output_type": "execute_result"
    }
   ],
   "source": [
    "x = range(1, 51)\n",
    "#위의 데이터를 가지고 10행 5열 2차원 데이터 생성\n",
    "matrix = np.array(x).reshape((10,5))\n",
    "\n",
    "#행과 열의 개수 알아오기\n",
    "print(matrix.shape)\n",
    "print(type(matrix.shape))\n",
    "\n",
    "#data를 7:3 분할\n",
    "cnt = matrix.shape[0]\n",
    "print(cnt)\n",
    "\n",
    "#여기에 permutation을 적용하면 sampling 해주는 함수가 됨\n",
    "np.split(matrix, [int(cnt * 0.7)])\n",
    "#result\n",
    "#help(np.split)"
   ]
  },
  {
   "cell_type": "code",
   "execution_count": null,
   "id": "4ec8b5ca",
   "metadata": {},
   "outputs": [],
   "source": []
  }
 ],
 "metadata": {
  "kernelspec": {
   "display_name": "Python 3 (ipykernel)",
   "language": "python",
   "name": "python3"
  },
  "language_info": {
   "codemirror_mode": {
    "name": "ipython",
    "version": 3
   },
   "file_extension": ".py",
   "mimetype": "text/x-python",
   "name": "python",
   "nbconvert_exporter": "python",
   "pygments_lexer": "ipython3",
   "version": "3.10.9"
  }
 },
 "nbformat": 4,
 "nbformat_minor": 5
}
