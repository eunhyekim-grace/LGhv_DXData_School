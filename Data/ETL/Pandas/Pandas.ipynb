{
 "cells": [
  {
   "cell_type": "markdown",
   "id": "234b8e79",
   "metadata": {},
   "source": [
    "# Pandas"
   ]
  },
  {
   "cell_type": "code",
   "execution_count": 3,
   "id": "dbb4d38b",
   "metadata": {},
   "outputs": [],
   "source": [
    "import pandas as pd\n",
    "import numpy as np\n",
    "import os"
   ]
  },
  {
   "cell_type": "markdown",
   "id": "3cadf053",
   "metadata": {},
   "source": [
    "# Series\n",
    "\n",
    "## 생성"
   ]
  },
  {
   "cell_type": "code",
   "execution_count": 12,
   "id": "ee162169",
   "metadata": {},
   "outputs": [
    {
     "name": "stdout",
     "output_type": "stream",
     "text": [
      "0    10\n",
      "1    20\n",
      "2    30\n",
      "3    40\n",
      "dtype: int64\n",
      "one      10\n",
      "two      20\n",
      "three    30\n",
      "four     40\n",
      "dtype: int64\n",
      "태연      소녀시대\n",
      "수지     MissA\n",
      "카리나    aespa\n",
      "dtype: object\n"
     ]
    }
   ],
   "source": [
    "#생성\n",
    "series1 = pd.Series([10,20,30,40]) #index 없이 0,1,2,3으로 접근 하도록 생성\n",
    "series2 = pd.Series([10,20,30,40], index = ['one','two','three','four']) \n",
    "#dict를 이용해서 key는 index가 되고 value는 value가 되도록 설정\n",
    "series3 = pd.Series({'태연':'소녀시대','수지':'MissA','카리나':'aespa'})\n",
    "\n",
    "print(series1)\n",
    "print(series2)\n",
    "print(series3)"
   ]
  },
  {
   "cell_type": "markdown",
   "id": "39226362",
   "metadata": {},
   "source": [
    "## indexing"
   ]
  },
  {
   "cell_type": "code",
   "execution_count": 9,
   "id": "574eca34",
   "metadata": {},
   "outputs": [
    {
     "name": "stdout",
     "output_type": "stream",
     "text": [
      "소녀시대\n",
      "소녀시대\n",
      "태연     소녀시대\n",
      "수지    MissA\n",
      "dtype: object\n",
      "태연      소녀시대\n",
      "수지     MissA\n",
      "카리나    aespa\n",
      "dtype: object\n"
     ]
    }
   ],
   "source": [
    "#인덱싱\n",
    "print(series3[0]) #일련 번호를 가지고 접근\n",
    "print(series3['태연']) #인덱스를 가지고 접근\n",
    "print(series3[0:2]) #일련 번호는 종료 위치가 포함되지 않음\n",
    "print(series3['태연':'카리나']) #인덱스는 종료 위치가 포함됨"
   ]
  },
  {
   "cell_type": "code",
   "execution_count": 11,
   "id": "2595f0a7",
   "metadata": {},
   "outputs": [
    {
     "name": "stdout",
     "output_type": "stream",
     "text": [
      "[10 20 30 40]\n",
      "0    110\n",
      "1    120\n",
      "2    130\n",
      "3    140\n",
      "dtype: int64\n",
      "100\n"
     ]
    }
   ],
   "source": [
    "print(series1.values) #값들만 추출\n",
    "print(series1 + 100) #연산은 ndarray와 동일하게 수행되는데 values 속성의 멤버를 가지고 연산\n",
    "print(np.sum(series1))"
   ]
  },
  {
   "cell_type": "code",
   "execution_count": 13,
   "id": "555c238c",
   "metadata": {},
   "outputs": [
    {
     "name": "stdout",
     "output_type": "stream",
     "text": [
      "수지     197.0\n",
      "채원       NaN\n",
      "카리나    165.0\n",
      "태연       NaN\n",
      "혜린       NaN\n",
      "dtype: float64\n"
     ]
    }
   ],
   "source": [
    "#series와 series의 계산\n",
    "s1 = pd.Series({'태연':81,'수지':99,'카리나':88, '혜린':78})\n",
    "s2 = pd.Series({'태연':np.nan,'카리나':77,'수지':98, '채원': 89})\n",
    "print(s1 + s2) #dataframe 이나 series는 index를 가지고 연산함"
   ]
  },
  {
   "cell_type": "markdown",
   "id": "436e8e19",
   "metadata": {},
   "source": [
    "# DataFrame\n",
    "\n",
    "## 생성"
   ]
  },
  {
   "cell_type": "code",
   "execution_count": 15,
   "id": "16763d3f",
   "metadata": {},
   "outputs": [
    {
     "name": "stdout",
     "output_type": "stream",
     "text": [
      "   code name  price\n",
      "0     1   수박   3000\n",
      "1     2   키위   2200\n",
      "2     3  복숭아   4000\n",
      "3     4   자두   2500\n"
     ]
    }
   ],
   "source": [
    "#DataFrame을 만들기 위한 dict 생성\n",
    "items = {\n",
    "    'code':[1,2,3,4],\n",
    "    'name':['수박','키위','복숭아','자두'],\n",
    "    'price':[3000,2200,4000,2500]\n",
    "}\n",
    "\n",
    "df = pd.DataFrame(items)\n",
    "print(df)"
   ]
  },
  {
   "cell_type": "code",
   "execution_count": 18,
   "id": "6ba8e1db",
   "metadata": {},
   "outputs": [
    {
     "name": "stdout",
     "output_type": "stream",
     "text": [
      "RangeIndex(start=1, stop=5, step=1)\n",
      "Index(['code', '이름', '가격'], dtype='object')\n",
      "   code   이름    가격\n",
      "1     1   수박  3000\n",
      "2     2   키위  2200\n",
      "3     3  복숭아  4000\n",
      "4     4   자두  2500\n"
     ]
    }
   ],
   "source": [
    "print(df.index) \n",
    "print(df.columns)\n",
    "\n",
    "df.index = range(1,5)\n",
    "df.columns = ['code','이름','가격']\n",
    "print(df)"
   ]
  },
  {
   "cell_type": "markdown",
   "id": "090deceb",
   "metadata": {},
   "source": [
    "## 탐색 관련 함수 / 속성"
   ]
  },
  {
   "cell_type": "code",
   "execution_count": 25,
   "id": "c9db881c",
   "metadata": {},
   "outputs": [
    {
     "name": "stdout",
     "output_type": "stream",
     "text": [
      "   code   이름    가격\n",
      "1     1   수박  3000\n",
      "2     2   키위  2200\n",
      "3     3  복숭아  4000\n",
      "4     4   자두  2500\n",
      "<class 'numpy.ndarray'>\n",
      "<class 'pandas.core.frame.DataFrame'>\n",
      "RangeIndex: 4 entries, 1 to 4\n",
      "Data columns (total 3 columns):\n",
      " #   Column  Non-Null Count  Dtype \n",
      "---  ------  --------------  ----- \n",
      " 0   code    4 non-null      int64 \n",
      " 1   이름      4 non-null      object\n",
      " 2   가격      4 non-null      int64 \n",
      "dtypes: int64(2), object(1)\n",
      "memory usage: 228.0+ bytes\n",
      "None\n"
     ]
    }
   ],
   "source": [
    "#head나 tail 함수는 데이터가 제대로 불러져 왔는지 확인 할 때 사용\n",
    "print(df.head())\n",
    "#이 데이터로 ML을 하고자 하면 ML은 numpy의 ndarray로만 가능\n",
    "print(type(df.values))\n",
    "#데이터 분석을 하기 전에 데이터를 가져왔으면 데이터에 대한 정보 확인\n",
    "print(df.info())"
   ]
  },
  {
   "cell_type": "markdown",
   "id": "7f6b978a",
   "metadata": {},
   "source": [
    "# 텍스트 파일 읽기\n",
    "\n",
    "## CSV"
   ]
  },
  {
   "cell_type": "code",
   "execution_count": 26,
   "id": "6861675a",
   "metadata": {},
   "outputs": [
    {
     "data": {
      "text/plain": [
       "'C:\\\\Users\\\\USER\\\\Documents\\\\LGhv_practice\\\\ETL'"
      ]
     },
     "execution_count": 26,
     "metadata": {},
     "output_type": "execute_result"
    }
   ],
   "source": [
    "#현재 작업 디렉토리 확인\n",
    "import os\n",
    "os.getcwd()"
   ]
  },
  {
   "cell_type": "code",
   "execution_count": 27,
   "id": "b127ff1e",
   "metadata": {},
   "outputs": [
    {
     "name": "stdout",
     "output_type": "stream",
     "text": [
      "      manufacture            name  price\n",
      "code                                    \n",
      "1           korea           apple   1500\n",
      "2           korea      watermelon  15000\n",
      "3           korea  oriental melon   1000\n",
      "4     philippines          banana    500\n",
      "5           korea           lemon   1500\n",
      "6           korea           mango    700\n"
     ]
    }
   ],
   "source": [
    "items = pd.read_csv('../resource/data/data/item.csv', index_col  = 'code')\n",
    "print(items)"
   ]
  },
  {
   "cell_type": "code",
   "execution_count": 28,
   "id": "66d9e5ea",
   "metadata": {},
   "outputs": [
    {
     "data": {
      "text/html": [
       "<div>\n",
       "<style scoped>\n",
       "    .dataframe tbody tr th:only-of-type {\n",
       "        vertical-align: middle;\n",
       "    }\n",
       "\n",
       "    .dataframe tbody tr th {\n",
       "        vertical-align: top;\n",
       "    }\n",
       "\n",
       "    .dataframe thead th {\n",
       "        text-align: right;\n",
       "    }\n",
       "</style>\n",
       "<table border=\"1\" class=\"dataframe\">\n",
       "  <thead>\n",
       "    <tr style=\"text-align: right;\">\n",
       "      <th></th>\n",
       "      <th>과일</th>\n",
       "      <th>개수</th>\n",
       "      <th>가격</th>\n",
       "    </tr>\n",
       "  </thead>\n",
       "  <tbody>\n",
       "    <tr>\n",
       "      <th>0</th>\n",
       "      <td>apple</td>\n",
       "      <td>10</td>\n",
       "      <td>1500</td>\n",
       "    </tr>\n",
       "    <tr>\n",
       "      <th>1</th>\n",
       "      <td>banana</td>\n",
       "      <td>5</td>\n",
       "      <td>15000</td>\n",
       "    </tr>\n",
       "    <tr>\n",
       "      <th>2</th>\n",
       "      <td>melon</td>\n",
       "      <td>7</td>\n",
       "      <td>1000</td>\n",
       "    </tr>\n",
       "    <tr>\n",
       "      <th>3</th>\n",
       "      <td>kiwi</td>\n",
       "      <td>20</td>\n",
       "      <td>500</td>\n",
       "    </tr>\n",
       "    <tr>\n",
       "      <th>4</th>\n",
       "      <td>mango</td>\n",
       "      <td>30</td>\n",
       "      <td>1500</td>\n",
       "    </tr>\n",
       "    <tr>\n",
       "      <th>5</th>\n",
       "      <td>orange</td>\n",
       "      <td>4</td>\n",
       "      <td>700</td>\n",
       "    </tr>\n",
       "  </tbody>\n",
       "</table>\n",
       "</div>"
      ],
      "text/plain": [
       "       과일  개수     가격\n",
       "0   apple  10   1500\n",
       "1  banana   5  15000\n",
       "2   melon   7   1000\n",
       "3    kiwi  20    500\n",
       "4   mango  30   1500\n",
       "5  orange   4    700"
      ]
     },
     "execution_count": 28,
     "metadata": {},
     "output_type": "execute_result"
    }
   ],
   "source": [
    "#good.csv는 첫 번째 행도 일반 데이터이므로 첫 번째 행이 header가 아니라고 설정하고 names를 이용해서 header이름 설정\n",
    "good = pd.read_csv('../resource/data/data/good.csv', header =None, names = ['과일','개수','가격'])\n",
    "good"
   ]
  },
  {
   "cell_type": "code",
   "execution_count": 29,
   "id": "866afd34",
   "metadata": {},
   "outputs": [
    {
     "name": "stdout",
     "output_type": "stream",
     "text": [
      "<class 'pandas.core.frame.DataFrame'>\n",
      "        0   1      2\n",
      "0   apple  10   1500\n",
      "1  banana   5  15000\n",
      "2   melon   7   1000\n",
      "<class 'pandas.core.frame.DataFrame'>\n",
      "        0   1     2\n",
      "3    kiwi  20   500\n",
      "4   mango  30  1500\n",
      "5  orange   4   700\n"
     ]
    }
   ],
   "source": [
    "#3개 씩 읽어오도록설정\n",
    "goods = pd.read_csv('../resource/data/data/good.csv', header =None, chunksize = 3)\n",
    "for piece in goods:\n",
    "    print(type(piece))\n",
    "    print(piece)"
   ]
  },
  {
   "cell_type": "code",
   "execution_count": 31,
   "id": "004015bd",
   "metadata": {},
   "outputs": [
    {
     "data": {
      "text/html": [
       "<div>\n",
       "<style scoped>\n",
       "    .dataframe tbody tr th:only-of-type {\n",
       "        vertical-align: middle;\n",
       "    }\n",
       "\n",
       "    .dataframe tbody tr th {\n",
       "        vertical-align: top;\n",
       "    }\n",
       "\n",
       "    .dataframe thead th {\n",
       "        text-align: right;\n",
       "    }\n",
       "</style>\n",
       "<table border=\"1\" class=\"dataframe\">\n",
       "  <thead>\n",
       "    <tr style=\"text-align: right;\">\n",
       "      <th></th>\n",
       "      <th>country</th>\n",
       "      <th>continent</th>\n",
       "      <th>year</th>\n",
       "      <th>lifeExp</th>\n",
       "      <th>pop</th>\n",
       "      <th>gdpPercap</th>\n",
       "    </tr>\n",
       "  </thead>\n",
       "  <tbody>\n",
       "    <tr>\n",
       "      <th>0</th>\n",
       "      <td>Afghanistan</td>\n",
       "      <td>Asia</td>\n",
       "      <td>1952</td>\n",
       "      <td>28.801</td>\n",
       "      <td>8425333</td>\n",
       "      <td>779.445314</td>\n",
       "    </tr>\n",
       "    <tr>\n",
       "      <th>1</th>\n",
       "      <td>Afghanistan</td>\n",
       "      <td>Asia</td>\n",
       "      <td>1957</td>\n",
       "      <td>30.332</td>\n",
       "      <td>9240934</td>\n",
       "      <td>820.853030</td>\n",
       "    </tr>\n",
       "    <tr>\n",
       "      <th>2</th>\n",
       "      <td>Afghanistan</td>\n",
       "      <td>Asia</td>\n",
       "      <td>1962</td>\n",
       "      <td>31.997</td>\n",
       "      <td>10267083</td>\n",
       "      <td>853.100710</td>\n",
       "    </tr>\n",
       "    <tr>\n",
       "      <th>3</th>\n",
       "      <td>Afghanistan</td>\n",
       "      <td>Asia</td>\n",
       "      <td>1967</td>\n",
       "      <td>34.020</td>\n",
       "      <td>11537966</td>\n",
       "      <td>836.197138</td>\n",
       "    </tr>\n",
       "    <tr>\n",
       "      <th>4</th>\n",
       "      <td>Afghanistan</td>\n",
       "      <td>Asia</td>\n",
       "      <td>1972</td>\n",
       "      <td>36.088</td>\n",
       "      <td>13079460</td>\n",
       "      <td>739.981106</td>\n",
       "    </tr>\n",
       "    <tr>\n",
       "      <th>...</th>\n",
       "      <td>...</td>\n",
       "      <td>...</td>\n",
       "      <td>...</td>\n",
       "      <td>...</td>\n",
       "      <td>...</td>\n",
       "      <td>...</td>\n",
       "    </tr>\n",
       "    <tr>\n",
       "      <th>1699</th>\n",
       "      <td>Zimbabwe</td>\n",
       "      <td>Africa</td>\n",
       "      <td>1987</td>\n",
       "      <td>62.351</td>\n",
       "      <td>9216418</td>\n",
       "      <td>706.157306</td>\n",
       "    </tr>\n",
       "    <tr>\n",
       "      <th>1700</th>\n",
       "      <td>Zimbabwe</td>\n",
       "      <td>Africa</td>\n",
       "      <td>1992</td>\n",
       "      <td>60.377</td>\n",
       "      <td>10704340</td>\n",
       "      <td>693.420786</td>\n",
       "    </tr>\n",
       "    <tr>\n",
       "      <th>1701</th>\n",
       "      <td>Zimbabwe</td>\n",
       "      <td>Africa</td>\n",
       "      <td>1997</td>\n",
       "      <td>46.809</td>\n",
       "      <td>11404948</td>\n",
       "      <td>792.449960</td>\n",
       "    </tr>\n",
       "    <tr>\n",
       "      <th>1702</th>\n",
       "      <td>Zimbabwe</td>\n",
       "      <td>Africa</td>\n",
       "      <td>2002</td>\n",
       "      <td>39.989</td>\n",
       "      <td>11926563</td>\n",
       "      <td>672.038623</td>\n",
       "    </tr>\n",
       "    <tr>\n",
       "      <th>1703</th>\n",
       "      <td>Zimbabwe</td>\n",
       "      <td>Africa</td>\n",
       "      <td>2007</td>\n",
       "      <td>43.487</td>\n",
       "      <td>12311143</td>\n",
       "      <td>469.709298</td>\n",
       "    </tr>\n",
       "  </tbody>\n",
       "</table>\n",
       "<p>1704 rows × 6 columns</p>\n",
       "</div>"
      ],
      "text/plain": [
       "          country continent  year  lifeExp       pop   gdpPercap\n",
       "0     Afghanistan      Asia  1952   28.801   8425333  779.445314\n",
       "1     Afghanistan      Asia  1957   30.332   9240934  820.853030\n",
       "2     Afghanistan      Asia  1962   31.997  10267083  853.100710\n",
       "3     Afghanistan      Asia  1967   34.020  11537966  836.197138\n",
       "4     Afghanistan      Asia  1972   36.088  13079460  739.981106\n",
       "...           ...       ...   ...      ...       ...         ...\n",
       "1699     Zimbabwe    Africa  1987   62.351   9216418  706.157306\n",
       "1700     Zimbabwe    Africa  1992   60.377  10704340  693.420786\n",
       "1701     Zimbabwe    Africa  1997   46.809  11404948  792.449960\n",
       "1702     Zimbabwe    Africa  2002   39.989  11926563  672.038623\n",
       "1703     Zimbabwe    Africa  2007   43.487  12311143  469.709298\n",
       "\n",
       "[1704 rows x 6 columns]"
      ]
     },
     "execution_count": 31,
     "metadata": {},
     "output_type": "execute_result"
    }
   ],
   "source": [
    "gapminder = pd.read_csv('../resource/data/data/gapminder.tsv', sep = '\\t')\n",
    "gapminder"
   ]
  },
  {
   "cell_type": "markdown",
   "id": "c33e60a8",
   "metadata": {},
   "source": [
    "-----"
   ]
  },
  {
   "cell_type": "markdown",
   "id": "dc906e6b",
   "metadata": {},
   "source": [
    "0809\n",
    "\n",
    "# csv 저장"
   ]
  },
  {
   "cell_type": "code",
   "execution_count": 2,
   "id": "10263680",
   "metadata": {},
   "outputs": [
    {
     "data": {
      "text/html": [
       "<div>\n",
       "<style scoped>\n",
       "    .dataframe tbody tr th:only-of-type {\n",
       "        vertical-align: middle;\n",
       "    }\n",
       "\n",
       "    .dataframe tbody tr th {\n",
       "        vertical-align: top;\n",
       "    }\n",
       "\n",
       "    .dataframe thead th {\n",
       "        text-align: right;\n",
       "    }\n",
       "</style>\n",
       "<table border=\"1\" class=\"dataframe\">\n",
       "  <thead>\n",
       "    <tr style=\"text-align: right;\">\n",
       "      <th></th>\n",
       "      <th>code</th>\n",
       "      <th>fruit</th>\n",
       "      <th>price</th>\n",
       "    </tr>\n",
       "  </thead>\n",
       "  <tbody>\n",
       "    <tr>\n",
       "      <th>0</th>\n",
       "      <td>1</td>\n",
       "      <td>apple</td>\n",
       "      <td>1000</td>\n",
       "    </tr>\n",
       "    <tr>\n",
       "      <th>1</th>\n",
       "      <td>2</td>\n",
       "      <td>pear</td>\n",
       "      <td>2000</td>\n",
       "    </tr>\n",
       "    <tr>\n",
       "      <th>2</th>\n",
       "      <td>3</td>\n",
       "      <td>watermelon</td>\n",
       "      <td>3000</td>\n",
       "    </tr>\n",
       "  </tbody>\n",
       "</table>\n",
       "</div>"
      ],
      "text/plain": [
       "   code       fruit  price\n",
       "0     1       apple   1000\n",
       "1     2        pear   2000\n",
       "2     3  watermelon   3000"
      ]
     },
     "execution_count": 2,
     "metadata": {},
     "output_type": "execute_result"
    }
   ],
   "source": [
    "items = {\n",
    "    'code': [1,2,3],\n",
    "    'fruit':['apple','pear','watermelon'],\n",
    "    'price': [1000,2000,3000]\n",
    "}\n",
    "\n",
    "df = pd.DataFrame(items)\n",
    "df"
   ]
  },
  {
   "cell_type": "code",
   "execution_count": 4,
   "id": "1b8d3138",
   "metadata": {},
   "outputs": [
    {
     "data": {
      "text/plain": [
       "'C:\\\\Users\\\\USER\\\\Documents\\\\LGhv_practice\\\\ETL'"
      ]
     },
     "execution_count": 4,
     "metadata": {},
     "output_type": "execute_result"
    }
   ],
   "source": [
    "os.getcwd()"
   ]
  },
  {
   "cell_type": "code",
   "execution_count": 8,
   "id": "5dc697db",
   "metadata": {},
   "outputs": [],
   "source": [
    "datadir_path = '../resource/data/data/'"
   ]
  },
  {
   "cell_type": "code",
   "execution_count": 6,
   "id": "03249bf3",
   "metadata": {},
   "outputs": [],
   "source": [
    "df.to_csv(datadir_path+'items.csv')"
   ]
  },
  {
   "cell_type": "markdown",
   "id": "f6bb5ec2",
   "metadata": {},
   "source": [
    "# excel 저장"
   ]
  },
  {
   "cell_type": "code",
   "execution_count": 9,
   "id": "d19fda03",
   "metadata": {},
   "outputs": [
    {
     "data": {
      "text/html": [
       "<div>\n",
       "<style scoped>\n",
       "    .dataframe tbody tr th:only-of-type {\n",
       "        vertical-align: middle;\n",
       "    }\n",
       "\n",
       "    .dataframe tbody tr th {\n",
       "        vertical-align: top;\n",
       "    }\n",
       "\n",
       "    .dataframe thead th {\n",
       "        text-align: right;\n",
       "    }\n",
       "</style>\n",
       "<table border=\"1\" class=\"dataframe\">\n",
       "  <thead>\n",
       "    <tr style=\"text-align: right;\">\n",
       "      <th></th>\n",
       "      <th>이름</th>\n",
       "      <th>1과목</th>\n",
       "      <th>2과목</th>\n",
       "      <th>3과목</th>\n",
       "    </tr>\n",
       "    <tr>\n",
       "      <th>번호</th>\n",
       "      <th></th>\n",
       "      <th></th>\n",
       "      <th></th>\n",
       "      <th></th>\n",
       "    </tr>\n",
       "  </thead>\n",
       "  <tbody>\n",
       "    <tr>\n",
       "      <th>1</th>\n",
       "      <td>이효준</td>\n",
       "      <td>40.0</td>\n",
       "      <td>NaN</td>\n",
       "      <td>45.0</td>\n",
       "    </tr>\n",
       "    <tr>\n",
       "      <th>2</th>\n",
       "      <td>김성희</td>\n",
       "      <td>42.0</td>\n",
       "      <td>55.0</td>\n",
       "      <td>50.0</td>\n",
       "    </tr>\n",
       "    <tr>\n",
       "      <th>3</th>\n",
       "      <td>이연숙</td>\n",
       "      <td>NaN</td>\n",
       "      <td>60.0</td>\n",
       "      <td>55.0</td>\n",
       "    </tr>\n",
       "    <tr>\n",
       "      <th>4</th>\n",
       "      <td>노화현</td>\n",
       "      <td>50.0</td>\n",
       "      <td>70.0</td>\n",
       "      <td>60.0</td>\n",
       "    </tr>\n",
       "    <tr>\n",
       "      <th>5</th>\n",
       "      <td>최희순</td>\n",
       "      <td>55.0</td>\n",
       "      <td>75.0</td>\n",
       "      <td>NaN</td>\n",
       "    </tr>\n",
       "    <tr>\n",
       "      <th>6</th>\n",
       "      <td>정원주</td>\n",
       "      <td>60.0</td>\n",
       "      <td>80.0</td>\n",
       "      <td>70.0</td>\n",
       "    </tr>\n",
       "  </tbody>\n",
       "</table>\n",
       "</div>"
      ],
      "text/plain": [
       "                            이름   1과목   2과목   3과목\n",
       "번호                                              \n",
       "1                          이효준  40.0   NaN  45.0\n",
       "2                          김성희  42.0  55.0  50.0\n",
       "3                          이연숙   NaN  60.0  55.0\n",
       "4                          노화현  50.0  70.0  60.0\n",
       "5                          최희순  55.0  75.0   NaN\n",
       "6                          정원주  60.0  80.0  70.0"
      ]
     },
     "execution_count": 9,
     "metadata": {},
     "output_type": "execute_result"
    }
   ],
   "source": [
    "#첫 번째 열을 index로 활용하도록 읽기\n",
    "df = pd.read_excel(datadir_path+'excel.xlsx', index_col = 0, sheet_name = 'Sheet1')\n",
    "df"
   ]
  },
  {
   "cell_type": "code",
   "execution_count": 10,
   "id": "036775d4",
   "metadata": {},
   "outputs": [
    {
     "name": "stderr",
     "output_type": "stream",
     "text": [
      "C:\\Users\\USER\\AppData\\Local\\Temp\\ipykernel_14592\\1023709643.py:3: FutureWarning: save is not part of the public API, usage can give unexpected results and will be removed in a future version\n",
      "  writer.save()\n"
     ]
    }
   ],
   "source": [
    "writer = pd.ExcelWriter(datadir_path+'excelwriter.xlsx')\n",
    "df.to_excel(writer)\n",
    "writer.save()"
   ]
  },
  {
   "cell_type": "markdown",
   "id": "0cd16145",
   "metadata": {},
   "source": [
    "# html table 읽기"
   ]
  },
  {
   "cell_type": "code",
   "execution_count": null,
   "id": "fc9a89d9",
   "metadata": {},
   "outputs": [],
   "source": [
    "#li = pd.read_html()"
   ]
  },
  {
   "cell_type": "markdown",
   "id": "e65f44e5",
   "metadata": {},
   "source": [
    "# web 데이터 읽기\n",
    "\n",
    "## python기본 library 사용"
   ]
  },
  {
   "cell_type": "code",
   "execution_count": 13,
   "id": "2d618ee6",
   "metadata": {},
   "outputs": [],
   "source": [
    "import urllib.request"
   ]
  },
  {
   "cell_type": "code",
   "execution_count": 25,
   "id": "0a3e3e4b",
   "metadata": {},
   "outputs": [],
   "source": [
    "#data 읽어오기\n",
    "response = urllib.request.urlopen('https://www.kakao.com')\n",
    "#url에 한글 -> 읽어오기 실패 \n",
    "#response = urllib.request.urlopen('https://www.google.com/search?q=%EC%A0%90%EB%A9%94%EC%B6%94&oq=%EC%A0%90%EB%A9%94%EC%B6%94&gs_lcrp=EgZjaHJvbWUyBggAEEUYOTIHCAEQABiABDIHCAIQABiABDIHCAMQABiABDIHCAQQABiABDIHCAUQABiABDIHCAYQABiABDIHCAcQABiABDIJCAgQABgKGIAEMgkICRAAGAoYgATSAQgyNjMwajBqN6gCALACAA&sourceid=chrome&ie=UTF-8')\n",
    "#읽은 정보를 저장\n",
    "data = response.read()\n",
    "#print(data) #바로 출력했더니 인코딩 문제가 발생\n",
    "\n",
    "#data의 인코딩을 확인해서 인코딩 설정해서 읽기\n",
    "encoding = response.info().get_content_charset()\n",
    "html = data.decode(encoding)\n",
    "#print(html)"
   ]
  },
  {
   "cell_type": "code",
   "execution_count": 24,
   "id": "7263e98c",
   "metadata": {},
   "outputs": [],
   "source": [
    "from urllib.parse import quote\n",
    "\n",
    "#url에 한글이 있는 경우 data 읽어오기\n",
    "keyword = quote('점메추')\n",
    "#url에 한글\n",
    "response = urllib.request.urlopen('https://www.bing.com/search?pglt=2081&q='+keyword+'&cvid=339edec3fe73452ca847b5fb46e488a2&aqs=edge..69i57j0l7.1852j0j1&FORM=ANAB01&PC=U531')\n",
    "#읽은 정보를 저장\n",
    "data = response.read()\n",
    "#print(data) #바로 출력했더니 인코딩 문제가 발생\n",
    "\n",
    "#data의 인코딩을 확인해서 인코딩 설정해서 읽기\n",
    "encoding = response.info().get_content_charset()\n",
    "html = data.decode(encoding)\n",
    "#print(html)"
   ]
  },
  {
   "cell_type": "markdown",
   "id": "d0edf860",
   "metadata": {},
   "source": [
    "## requests 모듈 - python의 기본 모듈 아님"
   ]
  },
  {
   "cell_type": "code",
   "execution_count": 20,
   "id": "d3945472",
   "metadata": {},
   "outputs": [
    {
     "data": {
      "text/plain": [
       "'{\\n  \"args\": {}, \\n  \"headers\": {\\n    \"Accept\": \"*/*\", \\n    \"Accept-Encoding\": \"gzip, deflate, br\", \\n    \"Host\": \"httpbin.org\", \\n    \"User-Agent\": \"python-requests/2.28.1\", \\n    \"X-Amzn-Trace-Id\": \"Root=1-64d2f016-5618c4d0372886ae1531ed0b\"\\n  }, \\n  \"origin\": \"1.220.201.110\", \\n  \"url\": \"http://httpbin.org/get\"\\n}\\n'"
      ]
     },
     "execution_count": 20,
     "metadata": {},
     "output_type": "execute_result"
    }
   ],
   "source": [
    "import requests\n",
    "\n",
    "#get 방식 요청\n",
    "response = requests.get('http://httpbin.org/get')\n",
    "response.text"
   ]
  },
  {
   "cell_type": "code",
   "execution_count": 21,
   "id": "770663d5",
   "metadata": {},
   "outputs": [
    {
     "data": {
      "text/plain": [
       "'{\\n  \"args\": {}, \\n  \"data\": \"\", \\n  \"files\": {}, \\n  \"form\": {\\n    \"alias\": \"\\\\uae40\\\\uc740\\\\ud61c\", \\n    \"id\": \"itstudy\", \\n    \"name\": \"grace\"\\n  }, \\n  \"headers\": {\\n    \"Accept\": \"*/*\", \\n    \"Accept-Encoding\": \"gzip, deflate, br\", \\n    \"Content-Length\": \"55\", \\n    \"Content-Type\": \"application/x-www-form-urlencoded\", \\n    \"Host\": \"httpbin.org\", \\n    \"User-Agent\": \"python-requests/2.28.1\", \\n    \"X-Amzn-Trace-Id\": \"Root=1-64d2f0a1-77eb45a638ccb98b2a0ded4a\"\\n  }, \\n  \"json\": null, \\n  \"origin\": \"1.220.201.110\", \\n  \"url\": \"http://httpbin.org/post\"\\n}\\n'"
      ]
     },
     "execution_count": 21,
     "metadata": {},
     "output_type": "execute_result"
    }
   ],
   "source": [
    "#전송할 parameter 만들기\n",
    "dic = {'id':'itstudy', 'name':'grace','alias':'김은혜'}\n",
    "#요청하고 응답 받기\n",
    "response = requests.post('http://httpbin.org/post',data = dic)\n",
    "response.text"
   ]
  },
  {
   "cell_type": "markdown",
   "id": "590f2944",
   "metadata": {},
   "source": [
    "## HTML parsing"
   ]
  },
  {
   "cell_type": "code",
   "execution_count": 27,
   "id": "a81700b9",
   "metadata": {},
   "outputs": [],
   "source": [
    "import requests, bs4"
   ]
  },
  {
   "cell_type": "code",
   "execution_count": 31,
   "id": "a5fedfc6",
   "metadata": {},
   "outputs": [
    {
     "name": "stdout",
     "output_type": "stream",
     "text": [
      "관련서비스\n"
     ]
    }
   ],
   "source": [
    "try:\n",
    "    #url이 잘못 되었거나 network 연결이 안되면 예외\n",
    "    response = requests.get('http://finance.daum.net')\n",
    "    #parsing 가능 확인 -> parsing이 불가능 하면 예외\n",
    "    bs = bs4.BeautifulSoup(response.text,'html.parser')\n",
    "except Exception as e:\n",
    "    print('예외 발생:',e)\n",
    "else:\n",
    "    print(bs.get_text())\n",
    "    #tag 가지고 실행\n",
    "    #print(bs.body.strong.get_text())"
   ]
  },
  {
   "cell_type": "code",
   "execution_count": 34,
   "id": "20e1913e",
   "metadata": {},
   "outputs": [
    {
     "name": "stdout",
     "output_type": "stream",
     "text": [
      "[스페셜] '이대호 4연타석 홈런 모음집' 단언컨대, 이 경기의 주인공은 이대호입니다. | JTBC 230807 방송\n",
      "뉴욕 지하철서 10대 소녀, 아시아계 가족 모욕·폭행\n",
      "'같은 맥주 다른 맛' 역대 최다 8점 차에서 취소된 어제 경기 [7AM]\n"
     ]
    }
   ],
   "source": [
    "#네이버 팟 캐스트에서 원하는 데이터 가져오기\n",
    "try:\n",
    "    response = requests.get('https://tv.naver.com/r/category/drama')\n",
    "    html = response.text\n",
    "    #print(html)\n",
    "    bs = bs4.BeautifulSoup(html, 'html.parser')\n",
    "    #print(bs)\n",
    "    tags = bs.select('a > strong > span')\n",
    "    \n",
    "    for tag in tags:\n",
    "        print(tag.getText())\n",
    "except Exception as e:\n",
    "    print('예외 발생:', e)"
   ]
  },
  {
   "cell_type": "code",
   "execution_count": 35,
   "id": "77452d69",
   "metadata": {},
   "outputs": [
    {
     "name": "stdout",
     "output_type": "stream",
     "text": [
      "Collecting selenium\n",
      "  Downloading selenium-4.11.2-py3-none-any.whl (7.2 MB)\n",
      "     ---------------------------------------- 7.2/7.2 MB 17.0 MB/s eta 0:00:00\n",
      "Requirement already satisfied: certifi>=2021.10.8 in c:\\users\\user\\anaconda3\\lib\\site-packages (from selenium) (2022.12.7)\n",
      "Collecting trio-websocket~=0.9\n",
      "  Downloading trio_websocket-0.10.3-py3-none-any.whl (17 kB)\n",
      "Requirement already satisfied: urllib3[socks]<3,>=1.26 in c:\\users\\user\\anaconda3\\lib\\site-packages (from selenium) (1.26.14)\n",
      "Collecting trio~=0.17\n",
      "  Downloading trio-0.22.2-py3-none-any.whl (400 kB)\n",
      "     ------------------------------------- 400.2/400.2 kB 26.0 MB/s eta 0:00:00\n",
      "Requirement already satisfied: sortedcontainers in c:\\users\\user\\anaconda3\\lib\\site-packages (from trio~=0.17->selenium) (2.4.0)\n",
      "Requirement already satisfied: attrs>=20.1.0 in c:\\users\\user\\anaconda3\\lib\\site-packages (from trio~=0.17->selenium) (22.1.0)\n",
      "Collecting exceptiongroup>=1.0.0rc9\n",
      "  Downloading exceptiongroup-1.1.2-py3-none-any.whl (14 kB)\n",
      "Requirement already satisfied: idna in c:\\users\\user\\anaconda3\\lib\\site-packages (from trio~=0.17->selenium) (3.4)\n",
      "Requirement already satisfied: cffi>=1.14 in c:\\users\\user\\anaconda3\\lib\\site-packages (from trio~=0.17->selenium) (1.15.1)\n",
      "Collecting outcome\n",
      "  Downloading outcome-1.2.0-py2.py3-none-any.whl (9.7 kB)\n",
      "Requirement already satisfied: sniffio in c:\\users\\user\\anaconda3\\lib\\site-packages (from trio~=0.17->selenium) (1.2.0)\n",
      "Collecting wsproto>=0.14\n",
      "  Downloading wsproto-1.2.0-py3-none-any.whl (24 kB)\n",
      "Requirement already satisfied: PySocks!=1.5.7,<2.0,>=1.5.6 in c:\\users\\user\\anaconda3\\lib\\site-packages (from urllib3[socks]<3,>=1.26->selenium) (1.7.1)\n",
      "Requirement already satisfied: pycparser in c:\\users\\user\\anaconda3\\lib\\site-packages (from cffi>=1.14->trio~=0.17->selenium) (2.21)\n",
      "Requirement already satisfied: h11<1,>=0.9.0 in c:\\users\\user\\anaconda3\\lib\\site-packages (from wsproto>=0.14->trio-websocket~=0.9->selenium) (0.14.0)\n",
      "Installing collected packages: wsproto, outcome, exceptiongroup, trio, trio-websocket, selenium\n",
      "Successfully installed exceptiongroup-1.1.2 outcome-1.2.0 selenium-4.11.2 trio-0.22.2 trio-websocket-0.10.3 wsproto-1.2.0\n"
     ]
    }
   ],
   "source": [
    "!pip install selenium"
   ]
  },
  {
   "cell_type": "code",
   "execution_count": 50,
   "id": "af5910c3",
   "metadata": {},
   "outputs": [
    {
     "name": "stderr",
     "output_type": "stream",
     "text": [
      "IOPub data rate exceeded.\n",
      "The notebook server will temporarily stop sending output\n",
      "to the client in order to avoid crashing it.\n",
      "To change this limit, set the config variable\n",
      "`--NotebookApp.iopub_data_rate_limit`.\n",
      "\n",
      "Current values:\n",
      "NotebookApp.iopub_data_rate_limit=1000000.0 (bytes/sec)\n",
      "NotebookApp.rate_limit_window=3.0 (secs)\n",
      "\n"
     ]
    },
    {
     "ename": "KeyboardInterrupt",
     "evalue": "",
     "output_type": "error",
     "traceback": [
      "\u001b[1;31m---------------------------------------------------------------------------\u001b[0m",
      "\u001b[1;31mKeyboardInterrupt\u001b[0m                         Traceback (most recent call last)",
      "Cell \u001b[1;32mIn[50], line 31\u001b[0m\n\u001b[0;32m     28\u001b[0m html \u001b[38;5;241m=\u001b[39m bs4\u001b[38;5;241m.\u001b[39mBeautifulSoup(driver\u001b[38;5;241m.\u001b[39mpage_source, \u001b[38;5;124m'\u001b[39m\u001b[38;5;124mhtml.parser\u001b[39m\u001b[38;5;124m'\u001b[39m)\n\u001b[0;32m     29\u001b[0m \u001b[38;5;28mprint\u001b[39m(html)\n\u001b[1;32m---> 31\u001b[0m \u001b[38;5;28;01mwhile\u001b[39;00m(\u001b[38;5;28;01mTrue\u001b[39;00m):\n\u001b[0;32m     32\u001b[0m     \u001b[38;5;28;01mpass\u001b[39;00m\n",
      "\u001b[1;31mKeyboardInterrupt\u001b[0m: "
     ]
    }
   ],
   "source": [
    "#chrome browser 실행\n",
    "from selenium import webdriver\n",
    "import os\n",
    "import time\n",
    "from selenium.webdriver.common.by import By\n",
    "from selenium.webdriver.common.keys import Keys\n",
    "import bs4\n",
    "\n",
    "os.environ['webdrier.chrome.driver'] = 'C:\\\\Users\\\\USER\\Downloads\\\\chromedriver-win64\\\\chromedriver-win64\\\\chromedriver.exe'\n",
    "driver = webdriver.Chrome()\n",
    "driver.get('https://www.youtube.com/')\n",
    "#3초 대기\n",
    "time.sleep(3)\n",
    "\n",
    "#driver.find_element(By.XPATH, '//*[@id=\"search\"]').send_keys('지브리')\n",
    "#driver.find_element(By.XPATH, '//*[@id=\"search-icon-legacy\"]').click()\n",
    "\n",
    "#scroll 할 개수\n",
    "num_of_pagedowns = 2\n",
    "\n",
    "while num_of_pagedowns:\n",
    "    #body tag에 PAGE_DOWN을 전송해서 하단으로 drag\n",
    "    driver.find_element(By.TAG_NAME, 'body').send_keys(Keys.PAGE_DOWN)\n",
    "    time.sleep(3)\n",
    "    num_of_pagedowns -= 1\n",
    "\n",
    "#10번 scroll 한 결과를 읽어오기\n",
    "html = bs4.BeautifulSoup(driver.page_source, 'html.parser')\n",
    "print(html)\n",
    "\n",
    "while(True):\n",
    "    pass"
   ]
  },
  {
   "cell_type": "markdown",
   "id": "8b042c2f",
   "metadata": {},
   "source": [
    "# xml - df 생성"
   ]
  },
  {
   "cell_type": "code",
   "execution_count": 51,
   "id": "51d65318",
   "metadata": {},
   "outputs": [],
   "source": [
    "import xml.etree.ElementTree as et #XML 파싱을 위한 import\n",
    "import urllib.request #웹에서 문자열 다운로드 받기 위해서 import"
   ]
  },
  {
   "cell_type": "code",
   "execution_count": 55,
   "id": "3c33915b",
   "metadata": {},
   "outputs": [],
   "source": [
    "#data 다운\n",
    "url = 'http://www.hani.co.kr/rss/sports/'\n",
    "request = urllib.request.Request(url)\n",
    "response = urllib.request.urlopen(request)\n",
    "#response.read()"
   ]
  },
  {
   "cell_type": "code",
   "execution_count": 56,
   "id": "94819a2a",
   "metadata": {},
   "outputs": [],
   "source": [
    "#root를 찾기\n",
    "tree = et.parse(response)\n",
    "xroot = tree.getroot()\n",
    "#print(xroot)"
   ]
  },
  {
   "cell_type": "code",
   "execution_count": 57,
   "id": "77886f45",
   "metadata": {},
   "outputs": [
    {
     "name": "stdout",
     "output_type": "stream",
     "text": [
      "[<Element 'channel' at 0x0000019089DEA7F0>]\n"
     ]
    }
   ],
   "source": [
    "#찾고자 하는 태그의 내용을 가져오기 \n",
    "channel = xroot.findall('channel')\n",
    "#print(channel)"
   ]
  },
  {
   "cell_type": "code",
   "execution_count": 59,
   "id": "9084867f",
   "metadata": {},
   "outputs": [],
   "source": [
    "#channel의 0번 데이터에서  item 태그의 내용 찾아오기\n",
    "items = channel[0].findall('item')\n",
    "#print(items)"
   ]
  },
  {
   "cell_type": "code",
   "execution_count": 61,
   "id": "6e1c2dbd",
   "metadata": {},
   "outputs": [
    {
     "data": {
      "text/html": [
       "<div>\n",
       "<style scoped>\n",
       "    .dataframe tbody tr th:only-of-type {\n",
       "        vertical-align: middle;\n",
       "    }\n",
       "\n",
       "    .dataframe tbody tr th {\n",
       "        vertical-align: top;\n",
       "    }\n",
       "\n",
       "    .dataframe thead th {\n",
       "        text-align: right;\n",
       "    }\n",
       "</style>\n",
       "<table border=\"1\" class=\"dataframe\">\n",
       "  <thead>\n",
       "    <tr style=\"text-align: right;\">\n",
       "      <th></th>\n",
       "      <th>title</th>\n",
       "      <th>link</th>\n",
       "    </tr>\n",
       "  </thead>\n",
       "  <tbody>\n",
       "    <tr>\n",
       "      <th>0</th>\n",
       "      <td>홈런 1위 노시환, 한화 선수 5년 만의 월간 MVP</td>\n",
       "      <td>http://www.hani.co.kr/arti/sports/baseball/110...</td>\n",
       "    </tr>\n",
       "    <tr>\n",
       "      <th>1</th>\n",
       "      <td>장현석, 다저스와 90만달러 입단 계약…“명문 구단 입단 영광”</td>\n",
       "      <td>http://www.hani.co.kr/arti/sports/baseball/110...</td>\n",
       "    </tr>\n",
       "    <tr>\n",
       "      <th>2</th>\n",
       "      <td>리빌딩 나선 PSG, 메시·음바페 이어 네이마르도 ‘헤어질 결심’</td>\n",
       "      <td>http://www.hani.co.kr/arti/sports/soccer/11034...</td>\n",
       "    </tr>\n",
       "    <tr>\n",
       "      <th>3</th>\n",
       "      <td>강습 타구 맞은 류현진 “무릎에 멍들었지만 괜찮다”</td>\n",
       "      <td>http://www.hani.co.kr/arti/sports/baseball/110...</td>\n",
       "    </tr>\n",
       "    <tr>\n",
       "      <th>4</th>\n",
       "      <td>김하성 15경기 연속 멀티 출루…이치로와 타이 기록</td>\n",
       "      <td>http://www.hani.co.kr/arti/sports/baseball/110...</td>\n",
       "    </tr>\n",
       "    <tr>\n",
       "      <th>5</th>\n",
       "      <td>클리블랜드전 무피안타 류현진, 강습 타구에 무릎 맞고 교체</td>\n",
       "      <td>http://www.hani.co.kr/arti/sports/baseball/110...</td>\n",
       "    </tr>\n",
       "    <tr>\n",
       "      <th>6</th>\n",
       "      <td>수원FC 공격수 라스 음주운전 적발…“징계·후속 조치할 것”</td>\n",
       "      <td>http://www.hani.co.kr/arti/sports/soccer/11033...</td>\n",
       "    </tr>\n",
       "    <tr>\n",
       "      <th>7</th>\n",
       "      <td>류현진, 시즌 첫 승 노린다…8일 클리블랜드전 등판</td>\n",
       "      <td>http://www.hani.co.kr/arti/sports/baseball/110...</td>\n",
       "    </tr>\n",
       "    <tr>\n",
       "      <th>8</th>\n",
       "      <td>조규성, 덴마크 데뷔 뒤 3경기 연속골…팀 열세 속 빛난 만회포</td>\n",
       "      <td>http://www.hani.co.kr/arti/sports/soccer/11032...</td>\n",
       "    </tr>\n",
       "    <tr>\n",
       "      <th>9</th>\n",
       "      <td>‘부상 투혼’ 김효주, LPGA 스코틀랜드 여자오픈 준우승</td>\n",
       "      <td>http://www.hani.co.kr/arti/sports/golf/1103254...</td>\n",
       "    </tr>\n",
       "    <tr>\n",
       "      <th>10</th>\n",
       "      <td>‘최강’ 미국 여자축구, 16강 승부차기 끝에 스웨덴에 패배</td>\n",
       "      <td>http://www.hani.co.kr/arti/sports/soccer/11032...</td>\n",
       "    </tr>\n",
       "    <tr>\n",
       "      <th>11</th>\n",
       "      <td>‘제주의 딸’ 임진희, 삼다수 마스터스 우승</td>\n",
       "      <td>http://www.hani.co.kr/arti/sports/golf/1103202...</td>\n",
       "    </tr>\n",
       "    <tr>\n",
       "      <th>12</th>\n",
       "      <td>궤도 오른 프로당구…‘심야 편성’에 팬 반발 커져</td>\n",
       "      <td>http://www.hani.co.kr/arti/sports/sports_gener...</td>\n",
       "    </tr>\n",
       "    <tr>\n",
       "      <th>13</th>\n",
       "      <td>결승전서 21점 뽑아낸 강소휘…MVP도 3번째 수상</td>\n",
       "      <td>http://www.hani.co.kr/arti/sports//1103188.html</td>\n",
       "    </tr>\n",
       "    <tr>\n",
       "      <th>14</th>\n",
       "      <td>공격 돌파구 날린 천가람 “더 강한 선수 되겠다”</td>\n",
       "      <td>http://www.hani.co.kr/arti/sports/soccer/11031...</td>\n",
       "    </tr>\n",
       "    <tr>\n",
       "      <th>15</th>\n",
       "      <td>GS칼텍스, 기업은행에 3-1 설욕…6번째 KOVO컵 정상</td>\n",
       "      <td>http://www.hani.co.kr/arti/sports//1103131.html</td>\n",
       "    </tr>\n",
       "    <tr>\n",
       "      <th>16</th>\n",
       "      <td>승패 가른 김가영 샷…“초클루와 연습한 공 나와 짜릿했어요”</td>\n",
       "      <td>http://www.hani.co.kr/arti/sports/sports_gener...</td>\n",
       "    </tr>\n",
       "    <tr>\n",
       "      <th>17</th>\n",
       "      <td>KBO리그 500만 관중 돌파…평균 관중 1만1033명</td>\n",
       "      <td>http://www.hani.co.kr/arti/sports/baseball/110...</td>\n",
       "    </tr>\n",
       "    <tr>\n",
       "      <th>18</th>\n",
       "      <td>기업은행, 3-1로 인삼공사 꺾고 결승행…GS칼텍스와 맞대결</td>\n",
       "      <td>http://www.hani.co.kr/arti/sports//1103093.html</td>\n",
       "    </tr>\n",
       "    <tr>\n",
       "      <th>19</th>\n",
       "      <td>김연경·박인비 등 6명, IOC 선수위원 ‘국내 후보’ 등록</td>\n",
       "      <td>http://www.hani.co.kr/arti/sports/sports_gener...</td>\n",
       "    </tr>\n",
       "    <tr>\n",
       "      <th>20</th>\n",
       "      <td>GS칼텍스, 3-1로 현대건설 꺾고 결승행…KOVO컵 2연패 도전</td>\n",
       "      <td>http://www.hani.co.kr/arti/sports//1103079.html</td>\n",
       "    </tr>\n",
       "    <tr>\n",
       "      <th>21</th>\n",
       "      <td>기적도 치욕도 반복된다…여자월드컵 강타한 ‘언더도그 돌풍’</td>\n",
       "      <td>http://www.hani.co.kr/arti/sports/soccer/11030...</td>\n",
       "    </tr>\n",
       "    <tr>\n",
       "      <th>22</th>\n",
       "      <td>오타니, 시즌 40호 홈런…오른손 경련으로 투구는 4이닝만</td>\n",
       "      <td>http://www.hani.co.kr/arti/sports/baseball/110...</td>\n",
       "    </tr>\n",
       "    <tr>\n",
       "      <th>23</th>\n",
       "      <td>KBO리그 500만 관중 오늘 돌파…10개 구단 관중수입 762억</td>\n",
       "      <td>http://www.hani.co.kr/arti/sports/baseball/110...</td>\n",
       "    </tr>\n",
       "    <tr>\n",
       "      <th>24</th>\n",
       "      <td>에스와이 여성 삼총사 “산체스 정말 ‘진국’…팀 분위기 최고”</td>\n",
       "      <td>http://www.hani.co.kr/arti/sports/sports_gener...</td>\n",
       "    </tr>\n",
       "    <tr>\n",
       "      <th>25</th>\n",
       "      <td>‘오기상’이 그리는 안산의 새로운 배구…웃으면서 해도 “OK”</td>\n",
       "      <td>http://www.hani.co.kr/arti/sports//1102999.html</td>\n",
       "    </tr>\n",
       "    <tr>\n",
       "      <th>26</th>\n",
       "      <td>여자축구 조소현, 한국 첫·마지막 골 쐈다…독일 탈락시켜</td>\n",
       "      <td>http://www.hani.co.kr/arti/sports/soccer/11029...</td>\n",
       "    </tr>\n",
       "    <tr>\n",
       "      <th>27</th>\n",
       "      <td>네이마르 2골1도움·이강인 24분…PSG, 부산을 파리로 만들다</td>\n",
       "      <td>http://www.hani.co.kr/arti/sports/soccer/11029...</td>\n",
       "    </tr>\n",
       "    <tr>\n",
       "      <th>28</th>\n",
       "      <td>조기성, 세계장애인선수권 개인혼영 150ｍ 은메달</td>\n",
       "      <td>http://www.hani.co.kr/arti/sports/sports_gener...</td>\n",
       "    </tr>\n",
       "    <tr>\n",
       "      <th>29</th>\n",
       "      <td>여자축구 1년 수입 ‘톱’ 15명 합쳐도…호날두 3분의 1도 안 돼</td>\n",
       "      <td>http://www.hani.co.kr/arti/sports/soccer/11028...</td>\n",
       "    </tr>\n",
       "  </tbody>\n",
       "</table>\n",
       "</div>"
      ],
      "text/plain": [
       "                                    title  \\\n",
       "0           홈런 1위 노시환, 한화 선수 5년 만의 월간 MVP   \n",
       "1     장현석, 다저스와 90만달러 입단 계약…“명문 구단 입단 영광”   \n",
       "2    리빌딩 나선 PSG, 메시·음바페 이어 네이마르도 ‘헤어질 결심’   \n",
       "3            강습 타구 맞은 류현진 “무릎에 멍들었지만 괜찮다”   \n",
       "4            김하성 15경기 연속 멀티 출루…이치로와 타이 기록   \n",
       "5        클리블랜드전 무피안타 류현진, 강습 타구에 무릎 맞고 교체   \n",
       "6       수원FC 공격수 라스 음주운전 적발…“징계·후속 조치할 것”   \n",
       "7            류현진, 시즌 첫 승 노린다…8일 클리블랜드전 등판   \n",
       "8     조규성, 덴마크 데뷔 뒤 3경기 연속골…팀 열세 속 빛난 만회포   \n",
       "9        ‘부상 투혼’ 김효주, LPGA 스코틀랜드 여자오픈 준우승   \n",
       "10      ‘최강’ 미국 여자축구, 16강 승부차기 끝에 스웨덴에 패배   \n",
       "11               ‘제주의 딸’ 임진희, 삼다수 마스터스 우승   \n",
       "12            궤도 오른 프로당구…‘심야 편성’에 팬 반발 커져   \n",
       "13           결승전서 21점 뽑아낸 강소휘…MVP도 3번째 수상   \n",
       "14            공격 돌파구 날린 천가람 “더 강한 선수 되겠다”   \n",
       "15       GS칼텍스, 기업은행에 3-1 설욕…6번째 KOVO컵 정상   \n",
       "16      승패 가른 김가영 샷…“초클루와 연습한 공 나와 짜릿했어요”   \n",
       "17         KBO리그 500만 관중 돌파…평균 관중 1만1033명   \n",
       "18      기업은행, 3-1로 인삼공사 꺾고 결승행…GS칼텍스와 맞대결   \n",
       "19      김연경·박인비 등 6명, IOC 선수위원 ‘국내 후보’ 등록   \n",
       "20   GS칼텍스, 3-1로 현대건설 꺾고 결승행…KOVO컵 2연패 도전   \n",
       "21       기적도 치욕도 반복된다…여자월드컵 강타한 ‘언더도그 돌풍’   \n",
       "22       오타니, 시즌 40호 홈런…오른손 경련으로 투구는 4이닝만   \n",
       "23   KBO리그 500만 관중 오늘 돌파…10개 구단 관중수입 762억   \n",
       "24     에스와이 여성 삼총사 “산체스 정말 ‘진국’…팀 분위기 최고”   \n",
       "25     ‘오기상’이 그리는 안산의 새로운 배구…웃으면서 해도 “OK”   \n",
       "26        여자축구 조소현, 한국 첫·마지막 골 쐈다…독일 탈락시켜   \n",
       "27    네이마르 2골1도움·이강인 24분…PSG, 부산을 파리로 만들다   \n",
       "28            조기성, 세계장애인선수권 개인혼영 150ｍ 은메달   \n",
       "29  여자축구 1년 수입 ‘톱’ 15명 합쳐도…호날두 3분의 1도 안 돼   \n",
       "\n",
       "                                                 link  \n",
       "0   http://www.hani.co.kr/arti/sports/baseball/110...  \n",
       "1   http://www.hani.co.kr/arti/sports/baseball/110...  \n",
       "2   http://www.hani.co.kr/arti/sports/soccer/11034...  \n",
       "3   http://www.hani.co.kr/arti/sports/baseball/110...  \n",
       "4   http://www.hani.co.kr/arti/sports/baseball/110...  \n",
       "5   http://www.hani.co.kr/arti/sports/baseball/110...  \n",
       "6   http://www.hani.co.kr/arti/sports/soccer/11033...  \n",
       "7   http://www.hani.co.kr/arti/sports/baseball/110...  \n",
       "8   http://www.hani.co.kr/arti/sports/soccer/11032...  \n",
       "9   http://www.hani.co.kr/arti/sports/golf/1103254...  \n",
       "10  http://www.hani.co.kr/arti/sports/soccer/11032...  \n",
       "11  http://www.hani.co.kr/arti/sports/golf/1103202...  \n",
       "12  http://www.hani.co.kr/arti/sports/sports_gener...  \n",
       "13    http://www.hani.co.kr/arti/sports//1103188.html  \n",
       "14  http://www.hani.co.kr/arti/sports/soccer/11031...  \n",
       "15    http://www.hani.co.kr/arti/sports//1103131.html  \n",
       "16  http://www.hani.co.kr/arti/sports/sports_gener...  \n",
       "17  http://www.hani.co.kr/arti/sports/baseball/110...  \n",
       "18    http://www.hani.co.kr/arti/sports//1103093.html  \n",
       "19  http://www.hani.co.kr/arti/sports/sports_gener...  \n",
       "20    http://www.hani.co.kr/arti/sports//1103079.html  \n",
       "21  http://www.hani.co.kr/arti/sports/soccer/11030...  \n",
       "22  http://www.hani.co.kr/arti/sports/baseball/110...  \n",
       "23  http://www.hani.co.kr/arti/sports/baseball/110...  \n",
       "24  http://www.hani.co.kr/arti/sports/sports_gener...  \n",
       "25    http://www.hani.co.kr/arti/sports//1102999.html  \n",
       "26  http://www.hani.co.kr/arti/sports/soccer/11029...  \n",
       "27  http://www.hani.co.kr/arti/sports/soccer/11029...  \n",
       "28  http://www.hani.co.kr/arti/sports/sports_gener...  \n",
       "29  http://www.hani.co.kr/arti/sports/soccer/11028...  "
      ]
     },
     "execution_count": 61,
     "metadata": {},
     "output_type": "execute_result"
    }
   ],
   "source": [
    "rows = []\n",
    "for node in items:\n",
    "    s_title = node.find('title').text\n",
    "    s_link = node.find('link').text\n",
    "    rows.append({'title':s_title, 'link':s_link})\n",
    "    \n",
    "df = pd.DataFrame(rows, columns = ['title','link'])\n",
    "df"
   ]
  },
  {
   "cell_type": "markdown",
   "id": "3c420477",
   "metadata": {},
   "source": [
    "## Json data -> DataFrame"
   ]
  },
  {
   "cell_type": "code",
   "execution_count": 71,
   "id": "cc04c6e9",
   "metadata": {},
   "outputs": [],
   "source": [
    "#help(pd.read_json)"
   ]
  },
  {
   "cell_type": "code",
   "execution_count": 70,
   "id": "2ddb2749",
   "metadata": {},
   "outputs": [
    {
     "name": "stdout",
     "output_type": "stream",
     "text": [
      "인포먼트\n",
      "엣지 오브 다크니스\n",
      "베이비 돌\n",
      "황야의 역마차\n",
      "전원 교향곡\n",
      "아버지의 깃발\n",
      "여덟번의감정\n",
      "레드\n",
      "영광의 탈출\n",
      "크로싱\n",
      "맨 인 블랙\n",
      "차형사\n",
      "에이지 오브 드래곤\n",
      "로드 오브 워리어\n",
      "[메이킹 다큐] 도둑들 영화를 만들다!\n",
      "괜찮아요 수달씨\n",
      "파파\n",
      "이케맨 뱅크\n",
      "다중인격소녀 ISOLA\n",
      "위조지폐\n",
      "카인과 아벨\n",
      "돌핀 블루\n",
      "더 코드\n",
      "철권 블러드 벤전스\n",
      "블루 엘리펀트 (우리말 더빙)\n",
      "해결사 (2010)\n",
      "하나오니 2: 사랑의 시작\n",
      "하나오니 3: 복수의 시간\n",
      "아테나 전쟁의 여신 극장판\n",
      "아이스 프린세스\n"
     ]
    }
   ],
   "source": [
    "df = pd.read_json('http://swiftapi.rubypaper.co.kr:2029/hoppin/movies?version=1&page=1&count=30&genreId=&order=releasedateasc')\n",
    "df\n",
    "hoppin = df['hoppin']\n",
    "movies = hoppin['movies']\n",
    "movie = movies['movie']\n",
    "\n",
    "for temp in movie:\n",
    "    print(temp['title'])"
   ]
  },
  {
   "cell_type": "code",
   "execution_count": 73,
   "id": "01508ecb",
   "metadata": {},
   "outputs": [
    {
     "data": {
      "text/html": [
       "<div>\n",
       "<style scoped>\n",
       "    .dataframe tbody tr th:only-of-type {\n",
       "        vertical-align: middle;\n",
       "    }\n",
       "\n",
       "    .dataframe tbody tr th {\n",
       "        vertical-align: top;\n",
       "    }\n",
       "\n",
       "    .dataframe thead th {\n",
       "        text-align: right;\n",
       "    }\n",
       "</style>\n",
       "<table border=\"1\" class=\"dataframe\">\n",
       "  <thead>\n",
       "    <tr style=\"text-align: right;\">\n",
       "      <th></th>\n",
       "      <th>integer</th>\n",
       "      <th>datetime</th>\n",
       "      <th>category</th>\n",
       "    </tr>\n",
       "  </thead>\n",
       "  <tbody>\n",
       "    <tr>\n",
       "      <th>0</th>\n",
       "      <td>5</td>\n",
       "      <td>2015-01-01 00:00:00</td>\n",
       "      <td>0</td>\n",
       "    </tr>\n",
       "    <tr>\n",
       "      <th>1</th>\n",
       "      <td>5</td>\n",
       "      <td>2015-01-01 00:00:01</td>\n",
       "      <td>0</td>\n",
       "    </tr>\n",
       "    <tr>\n",
       "      <th>2</th>\n",
       "      <td>9</td>\n",
       "      <td>2015-01-01 00:00:02</td>\n",
       "      <td>0</td>\n",
       "    </tr>\n",
       "    <tr>\n",
       "      <th>3</th>\n",
       "      <td>6</td>\n",
       "      <td>2015-01-01 00:00:03</td>\n",
       "      <td>0</td>\n",
       "    </tr>\n",
       "    <tr>\n",
       "      <th>4</th>\n",
       "      <td>6</td>\n",
       "      <td>2015-01-01 00:00:04</td>\n",
       "      <td>0</td>\n",
       "    </tr>\n",
       "    <tr>\n",
       "      <th>...</th>\n",
       "      <td>...</td>\n",
       "      <td>...</td>\n",
       "      <td>...</td>\n",
       "    </tr>\n",
       "    <tr>\n",
       "      <th>95</th>\n",
       "      <td>9</td>\n",
       "      <td>2015-01-01 00:01:35</td>\n",
       "      <td>0</td>\n",
       "    </tr>\n",
       "    <tr>\n",
       "      <th>96</th>\n",
       "      <td>8</td>\n",
       "      <td>2015-01-01 00:01:36</td>\n",
       "      <td>0</td>\n",
       "    </tr>\n",
       "    <tr>\n",
       "      <th>97</th>\n",
       "      <td>6</td>\n",
       "      <td>2015-01-01 00:01:37</td>\n",
       "      <td>0</td>\n",
       "    </tr>\n",
       "    <tr>\n",
       "      <th>98</th>\n",
       "      <td>8</td>\n",
       "      <td>2015-01-01 00:01:38</td>\n",
       "      <td>0</td>\n",
       "    </tr>\n",
       "    <tr>\n",
       "      <th>99</th>\n",
       "      <td>1</td>\n",
       "      <td>2015-01-01 00:01:39</td>\n",
       "      <td>0</td>\n",
       "    </tr>\n",
       "  </tbody>\n",
       "</table>\n",
       "<p>100 rows × 3 columns</p>\n",
       "</div>"
      ],
      "text/plain": [
       "    integer            datetime  category\n",
       "0         5 2015-01-01 00:00:00         0\n",
       "1         5 2015-01-01 00:00:01         0\n",
       "2         9 2015-01-01 00:00:02         0\n",
       "3         6 2015-01-01 00:00:03         0\n",
       "4         6 2015-01-01 00:00:04         0\n",
       "..      ...                 ...       ...\n",
       "95        9 2015-01-01 00:01:35         0\n",
       "96        8 2015-01-01 00:01:36         0\n",
       "97        6 2015-01-01 00:01:37         0\n",
       "98        8 2015-01-01 00:01:38         0\n",
       "99        1 2015-01-01 00:01:39         0\n",
       "\n",
       "[100 rows x 3 columns]"
      ]
     },
     "execution_count": 73,
     "metadata": {},
     "output_type": "execute_result"
    }
   ],
   "source": [
    "#최신 라이브러리를 사용하면 이런 경우에도 데이터 프레임으로 잘 변환이 되지만\n",
    "#column에 객체가 존재하는 경우 제대로 파싱이 수행되지 않는 경우가 있음\n",
    "#컬럼 이름에 객체가 존재하는 경우는 orient 옵션에 columns를 설정하면 됨\n",
    "\n",
    "#df = pd.read_json('https://raw.githubusercontent.com/chrisalbon/simulated_datasets/master/data.json')\n",
    "df = pd.read_json('https://tinyurl.com/simulated-json')\n",
    "df"
   ]
  },
  {
   "cell_type": "markdown",
   "id": "366efc93",
   "metadata": {},
   "source": [
    "## kakao open API 가져오기"
   ]
  },
  {
   "cell_type": "code",
   "execution_count": 79,
   "id": "18982f53",
   "metadata": {},
   "outputs": [
    {
     "name": "stdout",
     "output_type": "stream",
     "text": [
      "보령약국\t서울 종로구 종로5가 103\n",
      "온유약국\t서울 종로구 종로5가 102\n",
      "신림4번출구약국\t서울 관악구 신림동 1640-6\n",
      "남시약국\t서울 중구 남대문로3가 30-15\n",
      "오거리약국\t부산 사하구 하단동 619-1\n",
      "세명약국\t부산 중구 창선동2가 21-6\n",
      "종로약국\t경기 안양시 만안구 안양동 676-143\n",
      "진정주약국\t경기 안산시 단원구 고잔동 681-6\n",
      "강남약국\t대구 동구 신암동 1196-2\n",
      "부전약국\t부산 부산진구 부전동 267-18\n",
      "부부온누리약국\t제주특별자치도 제주시 연동 283-12\n",
      "방약국\t서울 중랑구 면목동 367-6\n",
      "큰사랑약국\t충북 청주시 상당구 용암동 1595\n",
      "종로백제약국\t서울 종로구 종로5가 36-1\n",
      "고은약국\t인천 남동구 만수동 898-7\n"
     ]
    }
   ],
   "source": [
    "#REST API key\n",
    "# d3d36d92fe9d09b60e0cdd6d1223afb3\n",
    "import requests\n",
    "import json\n",
    "\n",
    "url = 'https://dapi.kakao.com/v2/local/search/category.json?category_group_code=PM9&rect=126.95.37.55.127.0.0.37.60'\n",
    "\n",
    "\n",
    "#전송할 헤더 만들기\n",
    "headers = {'Authorization': 'KakaoAK d3d36d92fe9d09b60e0cdd6d1223afb3'}\n",
    "\n",
    "data = requests.post(url, headers = headers)\n",
    "#print(data)\n",
    "result = json.loads(data.text)\n",
    "\n",
    "for data in result['documents']:\n",
    "    print(data['place_name'], end = '\\t')\n",
    "    print(data['address_name'])\n"
   ]
  },
  {
   "cell_type": "code",
   "execution_count": null,
   "id": "f2451596",
   "metadata": {},
   "outputs": [],
   "source": []
  }
 ],
 "metadata": {
  "kernelspec": {
   "display_name": "Python 3 (ipykernel)",
   "language": "python",
   "name": "python3"
  },
  "language_info": {
   "codemirror_mode": {
    "name": "ipython",
    "version": 3
   },
   "file_extension": ".py",
   "mimetype": "text/x-python",
   "name": "python",
   "nbconvert_exporter": "python",
   "pygments_lexer": "ipython3",
   "version": "3.10.9"
  }
 },
 "nbformat": 4,
 "nbformat_minor": 5
}
