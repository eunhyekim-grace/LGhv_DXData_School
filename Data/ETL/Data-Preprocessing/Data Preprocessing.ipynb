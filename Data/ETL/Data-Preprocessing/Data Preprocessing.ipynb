{
 "cells": [
  {
   "cell_type": "code",
   "execution_count": 1,
   "id": "0b7d9338",
   "metadata": {},
   "outputs": [
    {
     "data": {
      "text/plain": [
       "'C:\\\\Users\\\\USER\\\\Documents\\\\LGhv_practice\\\\ETL'"
      ]
     },
     "execution_count": 1,
     "metadata": {},
     "output_type": "execute_result"
    }
   ],
   "source": [
    "import numpy as np\n",
    "import pandas as pd\n",
    "import matplotlib.pyplot as plt\n",
    "import platform\n",
    "from matplotlib import font_manager, rc\n",
    "\n",
    "import warnings\n",
    "warnings.filterwarnings('ignore')\n",
    "\n",
    "import os\n",
    "os.getcwd()"
   ]
  },
  {
   "cell_type": "code",
   "execution_count": 2,
   "id": "f25e854f",
   "metadata": {},
   "outputs": [],
   "source": [
    "#그래프 - 한글 사용 설정\n",
    "if platform.system() == 'Darwin':\n",
    "    rc('font', family = 'AppleGothic')\n",
    "elif platform.system() == 'Windows':\n",
    "    font_name = font_manager.FontProperties(fname = 'c:/Windows/Fonts/malgun.ttf').get_name()\n",
    "    rc('font', family = font_name)\n",
    "    \n",
    "#그래프 - 음수 사용 설정\n",
    "plt.rcParams['axes.unicode_minus'] = False"
   ]
  },
  {
   "cell_type": "code",
   "execution_count": 3,
   "id": "f3b78393",
   "metadata": {},
   "outputs": [],
   "source": [
    "file_path = '../resource/data/data/'"
   ]
  },
  {
   "cell_type": "markdown",
   "id": "a9e873e2",
   "metadata": {},
   "source": [
    "# 수치 데이터"
   ]
  },
  {
   "cell_type": "code",
   "execution_count": 7,
   "id": "bba47d85",
   "metadata": {},
   "outputs": [
    {
     "name": "stdout",
     "output_type": "stream",
     "text": [
      "<class 'pandas.core.frame.DataFrame'>\n",
      "RangeIndex: 398 entries, 0 to 397\n",
      "Data columns (total 9 columns):\n",
      " #   Column        Non-Null Count  Dtype  \n",
      "---  ------        --------------  -----  \n",
      " 0   mpg           398 non-null    float64\n",
      " 1   cylinders     398 non-null    int64  \n",
      " 2   displacement  398 non-null    float64\n",
      " 3   horsepower    398 non-null    object \n",
      " 4   weight        398 non-null    float64\n",
      " 5   acceleration  398 non-null    float64\n",
      " 6   model year    398 non-null    int64  \n",
      " 7   origin        398 non-null    int64  \n",
      " 8   name          398 non-null    object \n",
      "dtypes: float64(4), int64(3), object(2)\n",
      "memory usage: 28.1+ KB\n"
     ]
    }
   ],
   "source": [
    "df =pd.read_csv(file_path+'auto-mpg.csv',header = None)\n",
    "df.columns = ['mpg', 'cylinders', 'displacement', 'horsepower', 'weight', \n",
    "             'acceleration', 'model year', 'origin', 'name']\n",
    "\n",
    "df.head()\n",
    "\n",
    "#data의 자료형 확인은 dtypes 속성이나 info()를 호출하면 됨\n",
    "df.info()"
   ]
  },
  {
   "cell_type": "markdown",
   "id": "937f15f9",
   "metadata": {},
   "source": [
    "## 자료형 변환"
   ]
  },
  {
   "cell_type": "code",
   "execution_count": 13,
   "id": "921028f0",
   "metadata": {},
   "outputs": [],
   "source": [
    "#horsepower 컬럼의 자료형을 float으로 변경해서 대입\n",
    "\n",
    "#df['horsepower'] = df['horsepower'].astype('float') #Error 발생\n",
    "\n",
    "#Error - > data 확인\n",
    "df['horsepower'].unique()\n",
    "df['horsepower'].sort_values() #더 빠른 방법\n",
    "\n",
    "#?라는 값을 가진 데이터를 어떻게 할 것인지 결정\n",
    "#?값을 None으로 설정하고 None인 데이터를 제거\n",
    "df['horsepower'].replace('?', np.nan, inplace = True)\n",
    "df.dropna(subset = ['horsepower'], axis = 0, inplace = True)\n",
    "df['horsepower'] = df['horsepower'].astype('float')"
   ]
  },
  {
   "cell_type": "code",
   "execution_count": 17,
   "id": "a2e42664",
   "metadata": {},
   "outputs": [
    {
     "data": {
      "text/html": [
       "<div>\n",
       "<style scoped>\n",
       "    .dataframe tbody tr th:only-of-type {\n",
       "        vertical-align: middle;\n",
       "    }\n",
       "\n",
       "    .dataframe tbody tr th {\n",
       "        vertical-align: top;\n",
       "    }\n",
       "\n",
       "    .dataframe thead th {\n",
       "        text-align: right;\n",
       "    }\n",
       "</style>\n",
       "<table border=\"1\" class=\"dataframe\">\n",
       "  <thead>\n",
       "    <tr style=\"text-align: right;\">\n",
       "      <th></th>\n",
       "      <th>mpg</th>\n",
       "      <th>cylinders</th>\n",
       "      <th>displacement</th>\n",
       "      <th>horsepower</th>\n",
       "      <th>weight</th>\n",
       "      <th>acceleration</th>\n",
       "      <th>model year</th>\n",
       "      <th>origin</th>\n",
       "      <th>name</th>\n",
       "    </tr>\n",
       "  </thead>\n",
       "  <tbody>\n",
       "    <tr>\n",
       "      <th>0</th>\n",
       "      <td>18.0</td>\n",
       "      <td>8</td>\n",
       "      <td>307.0</td>\n",
       "      <td>130.0</td>\n",
       "      <td>3504.0</td>\n",
       "      <td>12.0</td>\n",
       "      <td>70</td>\n",
       "      <td>미국</td>\n",
       "      <td>chevrolet chevelle malibu</td>\n",
       "    </tr>\n",
       "    <tr>\n",
       "      <th>1</th>\n",
       "      <td>15.0</td>\n",
       "      <td>8</td>\n",
       "      <td>350.0</td>\n",
       "      <td>165.0</td>\n",
       "      <td>3693.0</td>\n",
       "      <td>11.5</td>\n",
       "      <td>70</td>\n",
       "      <td>미국</td>\n",
       "      <td>buick skylark 320</td>\n",
       "    </tr>\n",
       "    <tr>\n",
       "      <th>2</th>\n",
       "      <td>18.0</td>\n",
       "      <td>8</td>\n",
       "      <td>318.0</td>\n",
       "      <td>150.0</td>\n",
       "      <td>3436.0</td>\n",
       "      <td>11.0</td>\n",
       "      <td>70</td>\n",
       "      <td>미국</td>\n",
       "      <td>plymouth satellite</td>\n",
       "    </tr>\n",
       "    <tr>\n",
       "      <th>3</th>\n",
       "      <td>16.0</td>\n",
       "      <td>8</td>\n",
       "      <td>304.0</td>\n",
       "      <td>150.0</td>\n",
       "      <td>3433.0</td>\n",
       "      <td>12.0</td>\n",
       "      <td>70</td>\n",
       "      <td>미국</td>\n",
       "      <td>amc rebel sst</td>\n",
       "    </tr>\n",
       "    <tr>\n",
       "      <th>4</th>\n",
       "      <td>17.0</td>\n",
       "      <td>8</td>\n",
       "      <td>302.0</td>\n",
       "      <td>140.0</td>\n",
       "      <td>3449.0</td>\n",
       "      <td>10.5</td>\n",
       "      <td>70</td>\n",
       "      <td>미국</td>\n",
       "      <td>ford torino</td>\n",
       "    </tr>\n",
       "  </tbody>\n",
       "</table>\n",
       "</div>"
      ],
      "text/plain": [
       "    mpg  cylinders  displacement  horsepower  weight  acceleration  \\\n",
       "0  18.0          8         307.0       130.0  3504.0          12.0   \n",
       "1  15.0          8         350.0       165.0  3693.0          11.5   \n",
       "2  18.0          8         318.0       150.0  3436.0          11.0   \n",
       "3  16.0          8         304.0       150.0  3433.0          12.0   \n",
       "4  17.0          8         302.0       140.0  3449.0          10.5   \n",
       "\n",
       "   model year origin                       name  \n",
       "0          70     미국  chevrolet chevelle malibu  \n",
       "1          70     미국          buick skylark 320  \n",
       "2          70     미국         plymouth satellite  \n",
       "3          70     미국              amc rebel sst  \n",
       "4          70     미국                ford torino  "
      ]
     },
     "execution_count": 17,
     "metadata": {},
     "output_type": "execute_result"
    }
   ],
   "source": [
    "#값 변경 + 자료형 변경\n",
    "\n",
    "#origin이라는 열은 1,2,3이라는 값만 소유하고 있음\n",
    "#이 값은 실제로는 미국, 유럽, 일본을 의미하는 숫자\n",
    "#분석을 할 때는 미국, 유럽, 일본으로 보여지는 것이 더 나을 수 있음\n",
    "#이런 경우는 새로운 컬럼을 추가해서 보여지도록 할 수 도 있고 컬럼의 값을 변경할 수도 있음\n",
    "#범주형으로 변경해 두는 것이 분석 속도를 높이는데 도움이 됨\n",
    "\n",
    "df['origin'].replace({1:'미국', 2:'유럽', 3:'일본'}, inplace = True)\n",
    "df['origin'] = df['origin'].astype('category') #범주형으로 변환\n",
    "#df.info()\n",
    "df.head()"
   ]
  },
  {
   "cell_type": "markdown",
   "id": "b6c1ef7e",
   "metadata": {},
   "source": [
    "## standardization\n"
   ]
  },
  {
   "cell_type": "code",
   "execution_count": 12,
   "id": "3267bdec",
   "metadata": {},
   "outputs": [
    {
     "data": {
      "text/plain": [
       "<Axes: xlabel='이름'>"
      ]
     },
     "execution_count": 12,
     "metadata": {},
     "output_type": "execute_result"
    },
    {
     "data": {
      "image/png": "[encoded data removed]",
      "text/plain": [
       "<Figure size 640x480 with 1 Axes>"
      ]
     },
     "metadata": {},
     "output_type": "display_data"
    }
   ],
   "source": [
    "#student.csv 파일 읽어오기\n",
    "#이름을 인덱스로 사용\n",
    "\n",
    "df = pd.read_csv(file_path+'student.csv', index_col = '이름', encoding = 'cp949')\n",
    "#df.head()\n",
    "\n",
    "#원본 데이터 사용 막대 그래프 생성\n",
    "df.plot(kind = 'bar')"
   ]
  },
  {
   "cell_type": "code",
   "execution_count": 14,
   "id": "648f7885",
   "metadata": {},
   "outputs": [
    {
     "data": {
      "text/plain": [
       "<Axes: xlabel='이름'>"
      ]
     },
     "execution_count": 14,
     "metadata": {},
     "output_type": "execute_result"
    },
    {
     "data": {
      "image/png": "[encoded data removed]",
      "text/plain": [
       "<Figure size 640x480 with 1 Axes>"
      ]
     },
     "metadata": {},
     "output_type": "display_data"
    }
   ],
   "source": [
    "#이 데이터의 경우 단순한 표준화 작업만으로는 성적을 비교하는 것이 어려울 수 있음 -> 단순 표준화 = 표준편차 고려 X\n",
    "#최대값이나 최대값 - 최소값으로 나눈 데이터로는 비교하기가 어려움\n",
    "#3 데이터의 크기가 동일함\n",
    "#이런 경우에는 표준 값이나 편차 값을 구해서 비교하는 것이 좋음\n",
    "\n",
    "#평균 & 표준 편차 구하기\n",
    "kormean, korstd = df['국어'].mean(), df['국어'].std()\n",
    "engmean, engstd = df['영어'].mean(), df['영어'].std()\n",
    "matmean, matstd = df['수학'].mean(), df['수학'].std()\n",
    "\n",
    "#표준값 구하기\n",
    "df['국어 표준값'] = (df['국어'] - kormean) / korstd\n",
    "df['영어 표준값'] = (df['영어'] - engmean) / engstd\n",
    "df['수학 표준값'] = (df['수학'] - matmean) / matstd\n",
    "\n",
    "#편차값 구하기\n",
    "df['국어 편차값'] = df['국어 표준값'] * 10 + 50\n",
    "df['영어 편차값'] = df['영어 표준값'] * 10 + 50\n",
    "df['수학 편차값'] = df['수학 표준값'] * 10 + 50\n",
    "\n",
    "df[['국어 편차값', '영어 편차값', '수학 편차값']].plot(kind = 'bar')"
   ]
  },
  {
   "cell_type": "code",
   "execution_count": 16,
   "id": "38f86953",
   "metadata": {},
   "outputs": [
    {
     "data": {
      "text/html": [
       "<div>\n",
       "<style scoped>\n",
       "    .dataframe tbody tr th:only-of-type {\n",
       "        vertical-align: middle;\n",
       "    }\n",
       "\n",
       "    .dataframe tbody tr th {\n",
       "        vertical-align: top;\n",
       "    }\n",
       "\n",
       "    .dataframe thead th {\n",
       "        text-align: right;\n",
       "    }\n",
       "</style>\n",
       "<table border=\"1\" class=\"dataframe\">\n",
       "  <thead>\n",
       "    <tr style=\"text-align: right;\">\n",
       "      <th></th>\n",
       "      <th>mpg</th>\n",
       "      <th>cylinders</th>\n",
       "      <th>displacement</th>\n",
       "      <th>horsepower</th>\n",
       "      <th>weight</th>\n",
       "      <th>acceleration</th>\n",
       "      <th>model year</th>\n",
       "      <th>origin</th>\n",
       "      <th>name</th>\n",
       "    </tr>\n",
       "  </thead>\n",
       "  <tbody>\n",
       "    <tr>\n",
       "      <th>0</th>\n",
       "      <td>18.0</td>\n",
       "      <td>8</td>\n",
       "      <td>307.0</td>\n",
       "      <td>130.0</td>\n",
       "      <td>3504.0</td>\n",
       "      <td>12.0</td>\n",
       "      <td>70</td>\n",
       "      <td>1</td>\n",
       "      <td>chevrolet chevelle malibu</td>\n",
       "    </tr>\n",
       "    <tr>\n",
       "      <th>1</th>\n",
       "      <td>15.0</td>\n",
       "      <td>8</td>\n",
       "      <td>350.0</td>\n",
       "      <td>165.0</td>\n",
       "      <td>3693.0</td>\n",
       "      <td>11.5</td>\n",
       "      <td>70</td>\n",
       "      <td>1</td>\n",
       "      <td>buick skylark 320</td>\n",
       "    </tr>\n",
       "    <tr>\n",
       "      <th>2</th>\n",
       "      <td>18.0</td>\n",
       "      <td>8</td>\n",
       "      <td>318.0</td>\n",
       "      <td>150.0</td>\n",
       "      <td>3436.0</td>\n",
       "      <td>11.0</td>\n",
       "      <td>70</td>\n",
       "      <td>1</td>\n",
       "      <td>plymouth satellite</td>\n",
       "    </tr>\n",
       "    <tr>\n",
       "      <th>3</th>\n",
       "      <td>16.0</td>\n",
       "      <td>8</td>\n",
       "      <td>304.0</td>\n",
       "      <td>150.0</td>\n",
       "      <td>3433.0</td>\n",
       "      <td>12.0</td>\n",
       "      <td>70</td>\n",
       "      <td>1</td>\n",
       "      <td>amc rebel sst</td>\n",
       "    </tr>\n",
       "    <tr>\n",
       "      <th>4</th>\n",
       "      <td>17.0</td>\n",
       "      <td>8</td>\n",
       "      <td>302.0</td>\n",
       "      <td>140.0</td>\n",
       "      <td>3449.0</td>\n",
       "      <td>10.5</td>\n",
       "      <td>70</td>\n",
       "      <td>1</td>\n",
       "      <td>ford torino</td>\n",
       "    </tr>\n",
       "  </tbody>\n",
       "</table>\n",
       "</div>"
      ],
      "text/plain": [
       "    mpg  cylinders  displacement  horsepower  weight  acceleration  \\\n",
       "0  18.0          8         307.0       130.0  3504.0          12.0   \n",
       "1  15.0          8         350.0       165.0  3693.0          11.5   \n",
       "2  18.0          8         318.0       150.0  3436.0          11.0   \n",
       "3  16.0          8         304.0       150.0  3433.0          12.0   \n",
       "4  17.0          8         302.0       140.0  3449.0          10.5   \n",
       "\n",
       "   model year  origin                       name  \n",
       "0          70       1  chevrolet chevelle malibu  \n",
       "1          70       1          buick skylark 320  \n",
       "2          70       1         plymouth satellite  \n",
       "3          70       1              amc rebel sst  \n",
       "4          70       1                ford torino  "
      ]
     },
     "execution_count": 16,
     "metadata": {},
     "output_type": "execute_result"
    }
   ],
   "source": [
    "#데이터 읽어오기\n",
    "auto_mpg = pd.read_csv(file_path + 'auto-mpg.csv', header = None)\n",
    "#컬럼 이름 설정\n",
    "auto_mpg.columns = ['mpg','cylinders','displacement','horsepower','weight','acceleration','model year','origin','name']\n",
    "#horsepower 열의 자료형을 실수로 변경\n",
    "#? -> None으로 치환하고 제거한 후 자료형 변경\n",
    "auto_mpg.horsepower.replace('?', np.nan, inplace = True)\n",
    "auto_mpg.dropna(subset = ['horsepower'], axis = 0, inplace = True)\n",
    "auto_mpg.horsepower = auto_mpg.horsepower.astype('float')\n",
    "\n",
    "auto_mpg.head()"
   ]
  },
  {
   "cell_type": "code",
   "execution_count": 17,
   "id": "54368331",
   "metadata": {},
   "outputs": [
    {
     "data": {
      "text/html": [
       "<div>\n",
       "<style scoped>\n",
       "    .dataframe tbody tr th:only-of-type {\n",
       "        vertical-align: middle;\n",
       "    }\n",
       "\n",
       "    .dataframe tbody tr th {\n",
       "        vertical-align: top;\n",
       "    }\n",
       "\n",
       "    .dataframe thead th {\n",
       "        text-align: right;\n",
       "    }\n",
       "</style>\n",
       "<table border=\"1\" class=\"dataframe\">\n",
       "  <thead>\n",
       "    <tr style=\"text-align: right;\">\n",
       "      <th></th>\n",
       "      <th>mpg</th>\n",
       "      <th>cylinders</th>\n",
       "      <th>displacement</th>\n",
       "      <th>horsepower</th>\n",
       "      <th>weight</th>\n",
       "      <th>acceleration</th>\n",
       "      <th>model year</th>\n",
       "      <th>origin</th>\n",
       "      <th>maxhorserpower</th>\n",
       "      <th>minmaxhorsepower</th>\n",
       "    </tr>\n",
       "  </thead>\n",
       "  <tbody>\n",
       "    <tr>\n",
       "      <th>count</th>\n",
       "      <td>392.000000</td>\n",
       "      <td>392.000000</td>\n",
       "      <td>392.000000</td>\n",
       "      <td>392.000000</td>\n",
       "      <td>392.000000</td>\n",
       "      <td>392.000000</td>\n",
       "      <td>392.000000</td>\n",
       "      <td>392.000000</td>\n",
       "      <td>392.000000</td>\n",
       "      <td>392.000000</td>\n",
       "    </tr>\n",
       "    <tr>\n",
       "      <th>mean</th>\n",
       "      <td>23.445918</td>\n",
       "      <td>5.471939</td>\n",
       "      <td>194.411990</td>\n",
       "      <td>104.469388</td>\n",
       "      <td>2977.584184</td>\n",
       "      <td>15.541327</td>\n",
       "      <td>75.979592</td>\n",
       "      <td>1.576531</td>\n",
       "      <td>0.454215</td>\n",
       "      <td>0.317768</td>\n",
       "    </tr>\n",
       "    <tr>\n",
       "      <th>std</th>\n",
       "      <td>7.805007</td>\n",
       "      <td>1.705783</td>\n",
       "      <td>104.644004</td>\n",
       "      <td>38.491160</td>\n",
       "      <td>849.402560</td>\n",
       "      <td>2.758864</td>\n",
       "      <td>3.683737</td>\n",
       "      <td>0.805518</td>\n",
       "      <td>0.167353</td>\n",
       "      <td>0.209191</td>\n",
       "    </tr>\n",
       "    <tr>\n",
       "      <th>min</th>\n",
       "      <td>9.000000</td>\n",
       "      <td>3.000000</td>\n",
       "      <td>68.000000</td>\n",
       "      <td>46.000000</td>\n",
       "      <td>1613.000000</td>\n",
       "      <td>8.000000</td>\n",
       "      <td>70.000000</td>\n",
       "      <td>1.000000</td>\n",
       "      <td>0.200000</td>\n",
       "      <td>0.000000</td>\n",
       "    </tr>\n",
       "    <tr>\n",
       "      <th>25%</th>\n",
       "      <td>17.000000</td>\n",
       "      <td>4.000000</td>\n",
       "      <td>105.000000</td>\n",
       "      <td>75.000000</td>\n",
       "      <td>2225.250000</td>\n",
       "      <td>13.775000</td>\n",
       "      <td>73.000000</td>\n",
       "      <td>1.000000</td>\n",
       "      <td>0.326087</td>\n",
       "      <td>0.157609</td>\n",
       "    </tr>\n",
       "    <tr>\n",
       "      <th>50%</th>\n",
       "      <td>22.750000</td>\n",
       "      <td>4.000000</td>\n",
       "      <td>151.000000</td>\n",
       "      <td>93.500000</td>\n",
       "      <td>2803.500000</td>\n",
       "      <td>15.500000</td>\n",
       "      <td>76.000000</td>\n",
       "      <td>1.000000</td>\n",
       "      <td>0.406522</td>\n",
       "      <td>0.258152</td>\n",
       "    </tr>\n",
       "    <tr>\n",
       "      <th>75%</th>\n",
       "      <td>29.000000</td>\n",
       "      <td>8.000000</td>\n",
       "      <td>275.750000</td>\n",
       "      <td>126.000000</td>\n",
       "      <td>3614.750000</td>\n",
       "      <td>17.025000</td>\n",
       "      <td>79.000000</td>\n",
       "      <td>2.000000</td>\n",
       "      <td>0.547826</td>\n",
       "      <td>0.434783</td>\n",
       "    </tr>\n",
       "    <tr>\n",
       "      <th>max</th>\n",
       "      <td>46.600000</td>\n",
       "      <td>8.000000</td>\n",
       "      <td>455.000000</td>\n",
       "      <td>230.000000</td>\n",
       "      <td>5140.000000</td>\n",
       "      <td>24.800000</td>\n",
       "      <td>82.000000</td>\n",
       "      <td>3.000000</td>\n",
       "      <td>1.000000</td>\n",
       "      <td>1.000000</td>\n",
       "    </tr>\n",
       "  </tbody>\n",
       "</table>\n",
       "</div>"
      ],
      "text/plain": [
       "              mpg   cylinders  displacement  horsepower       weight  \\\n",
       "count  392.000000  392.000000    392.000000  392.000000   392.000000   \n",
       "mean    23.445918    5.471939    194.411990  104.469388  2977.584184   \n",
       "std      7.805007    1.705783    104.644004   38.491160   849.402560   \n",
       "min      9.000000    3.000000     68.000000   46.000000  1613.000000   \n",
       "25%     17.000000    4.000000    105.000000   75.000000  2225.250000   \n",
       "50%     22.750000    4.000000    151.000000   93.500000  2803.500000   \n",
       "75%     29.000000    8.000000    275.750000  126.000000  3614.750000   \n",
       "max     46.600000    8.000000    455.000000  230.000000  5140.000000   \n",
       "\n",
       "       acceleration  model year      origin  maxhorserpower  minmaxhorsepower  \n",
       "count    392.000000  392.000000  392.000000      392.000000        392.000000  \n",
       "mean      15.541327   75.979592    1.576531        0.454215          0.317768  \n",
       "std        2.758864    3.683737    0.805518        0.167353          0.209191  \n",
       "min        8.000000   70.000000    1.000000        0.200000          0.000000  \n",
       "25%       13.775000   73.000000    1.000000        0.326087          0.157609  \n",
       "50%       15.500000   76.000000    1.000000        0.406522          0.258152  \n",
       "75%       17.025000   79.000000    2.000000        0.547826          0.434783  \n",
       "max       24.800000   82.000000    3.000000        1.000000          1.000000  "
      ]
     },
     "execution_count": 17,
     "metadata": {},
     "output_type": "execute_result"
    }
   ],
   "source": [
    "#horsepower 열의 표준화\n",
    "#max로 나누면 0부터 시작하지 않을 수 있음\n",
    "auto_mpg['maxhorserpower'] = auto_mpg['horsepower'] / auto_mpg['horsepower'].max()\n",
    "auto_mpg['minmaxhorsepower'] = (auto_mpg['horsepower'] - auto_mpg['horsepower'].min()) / (auto_mpg['horsepower'].max() - auto_mpg['horsepower'].min())\n",
    "\n",
    "auto_mpg.describe()"
   ]
  },
  {
   "cell_type": "code",
   "execution_count": null,
   "id": "6ac5ac6f",
   "metadata": {},
   "outputs": [],
   "source": [
    "✏️"
   ]
  },
  {
   "cell_type": "code",
   "execution_count": 21,
   "id": "a0ea8c0a",
   "metadata": {},
   "outputs": [
    {
     "name": "stdout",
     "output_type": "stream",
     "text": [
      "평균: 104.46938775510205\n",
      "표준 편차: 38.44203271442593\n",
      "최대 값: 230.0\n",
      "최소 값: 46.0\n",
      "평균: -1.812609019796174e-16\n",
      "표준 편차: 0.9999999999999998\n",
      "최대 값: 3.2654519904664348\n",
      "최소 값: -1.5209754434541274\n"
     ]
    }
   ],
   "source": [
    "from sklearn import preprocessing\n",
    "\n",
    "#scaling을 수행할 데이터를 가져오기\n",
    "x = auto_mpg[['horsepower']].values\n",
    "#print(type(x))\n",
    "print('평균:', np.mean(x))\n",
    "print('표준 편차:', np.std(x))\n",
    "print('최대 값:', np.max(x))\n",
    "print('최소 값:', np.min(x))\n",
    "\n",
    "scaler = preprocessing.StandardScaler()\n",
    "#scaler.fit(x)\n",
    "#x_scaled = scaler.transform(x)\n",
    "x_scaled = scaler.fit_transform(x)\n",
    "\n",
    "print('평균:', np.mean(x_scaled))\n",
    "print('표준 편차:', np.std(x_scaled))\n",
    "print('최대 값:', np.max(x_scaled))\n",
    "print('최소 값:', np.min(x_scaled))"
   ]
  },
  {
   "cell_type": "markdown",
   "id": "e564489d",
   "metadata": {},
   "source": [
    "## 정규화"
   ]
  },
  {
   "cell_type": "code",
   "execution_count": 26,
   "id": "fe365d55",
   "metadata": {},
   "outputs": [
    {
     "data": {
      "text/plain": [
       "array([[0.33333333, 0.66666667],\n",
       "       [0.4       , 0.6       ],\n",
       "       [0.27272727, 0.72727273],\n",
       "       [0.66666667, 0.33333333],\n",
       "       [0.77777778, 0.22222222]])"
      ]
     },
     "execution_count": 26,
     "metadata": {},
     "output_type": "execute_result"
    }
   ],
   "source": [
    "features = np.array([[1,2],[2,3],[3,8],[4,2],[7,2]])\n",
    "\n",
    "#정규화 객체 생성\n",
    "#l1을 norm에 적용하면 맨하튼 거리 - 합치면\n",
    "#ㅣ2를 적용하면 Euclid 거리 - 각 값을 전체 데이터를 제곱해서 더한 값의 제곱근으로 나누기\n",
    "normalizer = preprocessing.Normalizer(norm = 'l1')\n",
    "l2_norm = normalizer.transform(features)\n",
    "l2_norm"
   ]
  },
  {
   "cell_type": "markdown",
   "id": "339b1041",
   "metadata": {},
   "source": [
    "## 다항과 교차항 특성"
   ]
  },
  {
   "cell_type": "code",
   "execution_count": 30,
   "id": "b565fc40",
   "metadata": {},
   "outputs": [
    {
     "name": "stdout",
     "output_type": "stream",
     "text": [
      "[[1 2]\n",
      " [2 3]\n",
      " [3 8]\n",
      " [4 2]\n",
      " [7 2]]\n"
     ]
    },
    {
     "data": {
      "text/plain": [
       "array([[ 1.,  2.,  1.,  2.,  4.],\n",
       "       [ 2.,  3.,  4.,  6.,  9.],\n",
       "       [ 3.,  8.,  9., 24., 64.],\n",
       "       [ 4.,  2., 16.,  8.,  4.],\n",
       "       [ 7.,  2., 49., 14.,  4.]])"
      ]
     },
     "execution_count": 30,
     "metadata": {},
     "output_type": "execute_result"
    }
   ],
   "source": [
    "#다항과 교차항 생성\n",
    "print(features)\n",
    "#제곱항까지의 다항을 생성 - 열의 개수가 늘어나게 되는데 회귀 분석을 할 때 시간의 흐름에 따라 변화가 급격하게 일어나는 경우\n",
    "#또는 데이터가 부족할 때 샘플 데이터를 추가하기 위해서 사용\n",
    "#제곱을 하거나 곱하기를 하게 되면 데이터의 특성 자체는 크게 변화하지 않기 때문에 사용\n",
    "polynomialer = preprocessing.PolynomialFeatures(degree = 2, include_bias = False, \n",
    "                                               interaction_only = False) #두 elem의 곱만 출력\n",
    "result = polynomialer.fit_transform(features)\n",
    "result"
   ]
  },
  {
   "cell_type": "markdown",
   "id": "9d4faf73",
   "metadata": {},
   "source": [
    "## 특성 변환"
   ]
  },
  {
   "cell_type": "code",
   "execution_count": 38,
   "id": "02879f7c",
   "metadata": {},
   "outputs": [
    {
     "name": "stdout",
     "output_type": "stream",
     "text": [
      "[[1 2]\n",
      " [2 3]\n",
      " [3 8]\n",
      " [4 2]\n",
      " [7 2]]\n",
      "[[2 3]\n",
      " [3 4]\n",
      " [4 9]\n",
      " [5 3]\n",
      " [8 3]]\n"
     ]
    }
   ],
   "source": [
    "#위의 데이터에 함수 적용\n",
    "print(features)\n",
    "\n",
    "#하나의 함수 적용\n",
    "result1 = preprocessing.FunctionTransformer(lambda x: x+1).transform(features)\n",
    "#print(result1)\n",
    "\n",
    "df = pd.DataFrame(features, columns = ['feature1', 'feature2'])\n",
    "print(df.apply(lambda x: x+1).values)"
   ]
  },
  {
   "cell_type": "code",
   "execution_count": null,
   "id": "79392e4e",
   "metadata": {},
   "outputs": [],
   "source": [
    "from sklearn.compose import ColumnTransformer\n",
    "\n",
    "#컬럼 별로 다른 함수 적용\n",
    "def add_one(x):\n",
    "    return x+1\n",
    "\n",
    "def sub_one(x):\n",
    "    return x-1\n",
    "\n",
    "#feature1에는 add_one적용, feature2에는 sub_one 적용\n",
    "result2 = ColumnTransformer([('add_one', preprocessing.FunctionTransformer(add_one, validate = True), ['feature1']),\n",
    "                            ('sub_one', preprocessing.FunctionTransformer(sub_one, validate = True), ['feature2'])]).fit_transform(df)\n",
    "result2"
   ]
  },
  {
   "cell_type": "markdown",
   "id": "830e08fb",
   "metadata": {},
   "source": [
    "## 이산화\n",
    "\n",
    "### pandas - cut"
   ]
  },
  {
   "cell_type": "code",
   "execution_count": 43,
   "id": "900fb957",
   "metadata": {},
   "outputs": [
    {
     "name": "stdout",
     "output_type": "stream",
     "text": [
      "[257 103  32] [ 46.         107.33333333 168.66666667 230.        ]\n"
     ]
    },
    {
     "data": {
      "text/html": [
       "<div>\n",
       "<style scoped>\n",
       "    .dataframe tbody tr th:only-of-type {\n",
       "        vertical-align: middle;\n",
       "    }\n",
       "\n",
       "    .dataframe tbody tr th {\n",
       "        vertical-align: top;\n",
       "    }\n",
       "\n",
       "    .dataframe thead th {\n",
       "        text-align: right;\n",
       "    }\n",
       "</style>\n",
       "<table border=\"1\" class=\"dataframe\">\n",
       "  <thead>\n",
       "    <tr style=\"text-align: right;\">\n",
       "      <th></th>\n",
       "      <th>horsepower</th>\n",
       "      <th>hp_bin</th>\n",
       "    </tr>\n",
       "  </thead>\n",
       "  <tbody>\n",
       "    <tr>\n",
       "      <th>0</th>\n",
       "      <td>130.0</td>\n",
       "      <td>보통출력</td>\n",
       "    </tr>\n",
       "    <tr>\n",
       "      <th>1</th>\n",
       "      <td>165.0</td>\n",
       "      <td>보통출력</td>\n",
       "    </tr>\n",
       "    <tr>\n",
       "      <th>2</th>\n",
       "      <td>150.0</td>\n",
       "      <td>보통출력</td>\n",
       "    </tr>\n",
       "    <tr>\n",
       "      <th>3</th>\n",
       "      <td>150.0</td>\n",
       "      <td>보통출력</td>\n",
       "    </tr>\n",
       "    <tr>\n",
       "      <th>4</th>\n",
       "      <td>140.0</td>\n",
       "      <td>보통출력</td>\n",
       "    </tr>\n",
       "    <tr>\n",
       "      <th>5</th>\n",
       "      <td>198.0</td>\n",
       "      <td>고출력</td>\n",
       "    </tr>\n",
       "    <tr>\n",
       "      <th>6</th>\n",
       "      <td>220.0</td>\n",
       "      <td>고출력</td>\n",
       "    </tr>\n",
       "    <tr>\n",
       "      <th>7</th>\n",
       "      <td>215.0</td>\n",
       "      <td>고출력</td>\n",
       "    </tr>\n",
       "    <tr>\n",
       "      <th>8</th>\n",
       "      <td>225.0</td>\n",
       "      <td>고출력</td>\n",
       "    </tr>\n",
       "    <tr>\n",
       "      <th>9</th>\n",
       "      <td>190.0</td>\n",
       "      <td>고출력</td>\n",
       "    </tr>\n",
       "    <tr>\n",
       "      <th>10</th>\n",
       "      <td>170.0</td>\n",
       "      <td>고출력</td>\n",
       "    </tr>\n",
       "    <tr>\n",
       "      <th>11</th>\n",
       "      <td>160.0</td>\n",
       "      <td>보통출력</td>\n",
       "    </tr>\n",
       "    <tr>\n",
       "      <th>12</th>\n",
       "      <td>150.0</td>\n",
       "      <td>보통출력</td>\n",
       "    </tr>\n",
       "    <tr>\n",
       "      <th>13</th>\n",
       "      <td>225.0</td>\n",
       "      <td>고출력</td>\n",
       "    </tr>\n",
       "    <tr>\n",
       "      <th>14</th>\n",
       "      <td>95.0</td>\n",
       "      <td>저출력</td>\n",
       "    </tr>\n",
       "    <tr>\n",
       "      <th>15</th>\n",
       "      <td>95.0</td>\n",
       "      <td>저출력</td>\n",
       "    </tr>\n",
       "    <tr>\n",
       "      <th>16</th>\n",
       "      <td>97.0</td>\n",
       "      <td>저출력</td>\n",
       "    </tr>\n",
       "    <tr>\n",
       "      <th>17</th>\n",
       "      <td>85.0</td>\n",
       "      <td>저출력</td>\n",
       "    </tr>\n",
       "    <tr>\n",
       "      <th>18</th>\n",
       "      <td>88.0</td>\n",
       "      <td>저출력</td>\n",
       "    </tr>\n",
       "    <tr>\n",
       "      <th>19</th>\n",
       "      <td>46.0</td>\n",
       "      <td>저출력</td>\n",
       "    </tr>\n",
       "  </tbody>\n",
       "</table>\n",
       "</div>"
      ],
      "text/plain": [
       "    horsepower hp_bin\n",
       "0        130.0   보통출력\n",
       "1        165.0   보통출력\n",
       "2        150.0   보통출력\n",
       "3        150.0   보통출력\n",
       "4        140.0   보통출력\n",
       "5        198.0    고출력\n",
       "6        220.0    고출력\n",
       "7        215.0    고출력\n",
       "8        225.0    고출력\n",
       "9        190.0    고출력\n",
       "10       170.0    고출력\n",
       "11       160.0   보통출력\n",
       "12       150.0   보통출력\n",
       "13       225.0    고출력\n",
       "14        95.0    저출력\n",
       "15        95.0    저출력\n",
       "16        97.0    저출력\n",
       "17        85.0    저출력\n",
       "18        88.0    저출력\n",
       "19        46.0    저출력"
      ]
     },
     "execution_count": 43,
     "metadata": {},
     "output_type": "execute_result"
    }
   ],
   "source": [
    "#auto_mpg의 horsepower를 3개의 구간으로 분할\n",
    "#auto_mpg['horsepower'].describe() #기술통계 값\n",
    "\n",
    "#경계값 찾기\n",
    "count, bin_dividers = np.histogram(auto_mpg['horsepower'], bins= 3)\n",
    "print(count, bin_dividers)\n",
    "\n",
    "#각 그룹에 할당할 값의 list\n",
    "bin_names = ['저출력', '보통출력', '고출력']\n",
    "\n",
    "auto_mpg['hp_bin'] = pd.cut(x = auto_mpg['horsepower'],\n",
    "                           bins = bin_dividers,\n",
    "                           labels = bin_names,\n",
    "                           include_lowest = True)\n",
    "auto_mpg[['horsepower', 'hp_bin']].head(20)"
   ]
  },
  {
   "cell_type": "markdown",
   "id": "954c168b",
   "metadata": {},
   "source": [
    "### np - digitize"
   ]
  },
  {
   "cell_type": "code",
   "execution_count": 45,
   "id": "d347bbec",
   "metadata": {},
   "outputs": [
    {
     "data": {
      "text/plain": [
       "array([1, 1, 1, 1, 1, 2, 2, 2, 2, 2, 2, 1, 1, 2, 0, 0, 0, 0, 0, 0, 0, 0,\n",
       "       0, 1, 0, 2, 2, 2, 2, 0, 0, 0, 0, 0, 0, 0, 0, 1, 2, 1, 1, 2, 2, 2,\n",
       "       1, 0, 0, 0, 0, 0, 0, 0, 0, 0, 0, 0, 0, 0, 0, 0, 0, 1, 2, 1, 1, 1,\n",
       "       2, 1, 1, 2, 0, 1, 1, 1, 1, 1, 0, 0, 0, 0, 0, 0, 0, 0, 2, 1, 1, 1,\n",
       "       1, 2, 1, 1, 1, 2, 2, 2, 0, 0, 0, 0, 0, 0, 1, 1, 2, 2, 0, 0, 0, 0,\n",
       "       0, 0, 0, 0, 1, 2, 0, 0, 0, 1, 1, 1, 1, 2, 0, 0, 0, 0, 0, 0, 0, 0,\n",
       "       1, 0, 1, 1, 1, 1, 1, 0, 0, 0, 0, 0, 0, 0, 0, 0, 0, 0, 0, 0, 0, 0,\n",
       "       2, 1, 1, 1, 1, 0, 1, 0, 1, 1, 1, 0, 0, 0, 0, 0, 0, 0, 0, 0, 0, 0,\n",
       "       0, 0, 1, 0, 0, 0, 0, 0, 0, 1, 1, 1, 1, 0, 0, 0, 0, 0, 0, 0, 0, 0,\n",
       "       0, 1, 0, 0, 0, 0, 0, 0, 1, 0, 1, 1, 2, 1, 1, 1, 0, 0, 0, 0, 0, 1,\n",
       "       1, 1, 1, 1, 0, 0, 0, 2, 2, 2, 1, 0, 0, 0, 0, 0, 0, 0, 0, 0, 1, 1,\n",
       "       0, 0, 0, 0, 0, 1, 1, 1, 0, 0, 0, 0, 0, 0, 0, 0, 1, 1, 1, 1, 1, 1,\n",
       "       0, 0, 0, 0, 0, 0, 0, 0, 0, 1, 1, 1, 0, 0, 1, 0, 0, 0, 1, 1, 1, 1,\n",
       "       1, 1, 1, 1, 1, 0, 0, 0, 0, 0, 1, 0, 0, 0, 0, 0, 0, 0, 1, 1, 0, 0,\n",
       "       0, 0, 0, 0, 0, 0, 0, 0, 0, 0, 0, 0, 0, 0, 0, 0, 0, 0, 0, 0, 0, 0,\n",
       "       1, 0, 0, 0, 0, 0, 0, 1, 0, 0, 0, 0, 0, 0, 0, 0, 0, 0, 0, 0, 0, 0,\n",
       "       0, 0, 0, 0, 1, 1, 1, 0, 0, 0, 0, 0, 0, 0, 0, 0, 0, 0, 0, 0, 0, 0,\n",
       "       0, 0, 0, 0, 0, 0, 1, 0, 0, 1, 0, 0, 0, 0, 0, 0, 0, 0], dtype=int64)"
      ]
     },
     "execution_count": 45,
     "metadata": {},
     "output_type": "execute_result"
    }
   ],
   "source": [
    "#numpy에서는 group의 명칭을 설정하지 않고 0,1,2처럼 인덱스로 구분함\n",
    "result = np.digitize(auto_mpg['horsepower'],\n",
    "                    bins = [107.33333333, 168.66666667, 230.0],\n",
    "                    right = True)\n",
    "result"
   ]
  },
  {
   "cell_type": "markdown",
   "id": "b1f6bcd2",
   "metadata": {},
   "source": [
    "### sklearn - binning"
   ]
  },
  {
   "cell_type": "code",
   "execution_count": 48,
   "id": "f014fe00",
   "metadata": {},
   "outputs": [
    {
     "name": "stdout",
     "output_type": "stream",
     "text": [
      "[[0]\n",
      " [0]\n",
      " [1]\n",
      " [0]\n",
      " [1]\n",
      " [0]\n",
      " [0]]\n"
     ]
    },
    {
     "data": {
      "text/plain": [
       "array([[0.],\n",
       "       [1.],\n",
       "       [3.],\n",
       "       [0.],\n",
       "       [1.],\n",
       "       [1.],\n",
       "       [0.]])"
      ]
     },
     "execution_count": 48,
     "metadata": {},
     "output_type": "execute_result"
    }
   ],
   "source": [
    "age = np.array([[13],[30],[67],[20],[33],[27],[19]])\n",
    "#2개의 그룹으로 분할\n",
    "binarizer = preprocessing.Binarizer(threshold = 30.0)\n",
    "result = binarizer.transform(age)\n",
    "print(result)\n",
    "\n",
    "#여러 개의 그룹으로 분할\n",
    "#4개의 그룹으로 일련 번호 형태로 일정한 비율로 분할 - quantile\n",
    "#strategy에 uniform을 설정하면 간격을 일정하게 분할\n",
    "#encode가 ordinal이면 일련번호로 그룹이 생성\n",
    "#onehot을 설정하면 onehot encoding을 한 후 희소 행렬로 \n",
    "#onehot-dense를 설정하면 onehot encoding을 한 후 밀집 행렬로 \n",
    "kb = preprocessing.KBinsDiscretizer(4, encode = 'ordinal', strategy = 'uniform')\n",
    "result = kb.fit_transform(age)\n",
    "result\n"
   ]
  },
  {
   "cell_type": "markdown",
   "id": "253dcff6",
   "metadata": {},
   "source": [
    "### 군집 분석"
   ]
  },
  {
   "cell_type": "code",
   "execution_count": 51,
   "id": "f1e261df",
   "metadata": {},
   "outputs": [
    {
     "name": "stdout",
     "output_type": "stream",
     "text": [
      "   feature_1  feature_2\n",
      "0         13         30\n",
      "1         30         40\n",
      "2         67         44\n",
      "3         26         24\n",
      "4         22         11\n",
      "5         98         28\n"
     ]
    },
    {
     "data": {
      "text/html": [
       "<div>\n",
       "<style scoped>\n",
       "    .dataframe tbody tr th:only-of-type {\n",
       "        vertical-align: middle;\n",
       "    }\n",
       "\n",
       "    .dataframe tbody tr th {\n",
       "        vertical-align: top;\n",
       "    }\n",
       "\n",
       "    .dataframe thead th {\n",
       "        text-align: right;\n",
       "    }\n",
       "</style>\n",
       "<table border=\"1\" class=\"dataframe\">\n",
       "  <thead>\n",
       "    <tr style=\"text-align: right;\">\n",
       "      <th></th>\n",
       "      <th>feature_1</th>\n",
       "      <th>feature_2</th>\n",
       "      <th>group</th>\n",
       "    </tr>\n",
       "  </thead>\n",
       "  <tbody>\n",
       "    <tr>\n",
       "      <th>0</th>\n",
       "      <td>13</td>\n",
       "      <td>30</td>\n",
       "      <td>0</td>\n",
       "    </tr>\n",
       "    <tr>\n",
       "      <th>1</th>\n",
       "      <td>30</td>\n",
       "      <td>40</td>\n",
       "      <td>0</td>\n",
       "    </tr>\n",
       "    <tr>\n",
       "      <th>2</th>\n",
       "      <td>67</td>\n",
       "      <td>44</td>\n",
       "      <td>2</td>\n",
       "    </tr>\n",
       "    <tr>\n",
       "      <th>3</th>\n",
       "      <td>26</td>\n",
       "      <td>24</td>\n",
       "      <td>0</td>\n",
       "    </tr>\n",
       "    <tr>\n",
       "      <th>4</th>\n",
       "      <td>22</td>\n",
       "      <td>11</td>\n",
       "      <td>0</td>\n",
       "    </tr>\n",
       "    <tr>\n",
       "      <th>5</th>\n",
       "      <td>98</td>\n",
       "      <td>28</td>\n",
       "      <td>1</td>\n",
       "    </tr>\n",
       "  </tbody>\n",
       "</table>\n",
       "</div>"
      ],
      "text/plain": [
       "   feature_1  feature_2  group\n",
       "0         13         30      0\n",
       "1         30         40      0\n",
       "2         67         44      2\n",
       "3         26         24      0\n",
       "4         22         11      0\n",
       "5         98         28      1"
      ]
     },
     "execution_count": 51,
     "metadata": {},
     "output_type": "execute_result"
    }
   ],
   "source": [
    "from sklearn.cluster import KMeans\n",
    "\n",
    "sample = np.array([[13,30],[30,40],[67,44],[26,24],[22,11],[98,28]])\n",
    "df = pd.DataFrame(sample, columns = ['feature_1', 'feature_2'])\n",
    "print(df)\n",
    "\n",
    "#3개의 군집으로 분할하는 객체 생성\n",
    "cluster = KMeans(3, random_state = 42)\n",
    "#sample data를 이용해서 훈련\n",
    "cluster.fit(sample)\n",
    "#sample 데이터를 가지고 예측\n",
    "df['group'] = cluster.predict(sample)\n",
    "\n",
    "df"
   ]
  },
  {
   "cell_type": "markdown",
   "id": "b0ae4325",
   "metadata": {},
   "source": [
    "## 이상치 탐지\n",
    "\n",
    "### z- score"
   ]
  },
  {
   "cell_type": "code",
   "execution_count": 57,
   "id": "57f1c9c7",
   "metadata": {},
   "outputs": [
    {
     "name": "stdout",
     "output_type": "stream",
     "text": [
      "평균: 10.0\n",
      "표준 편차: 3.5\n",
      "z_scores: [array([ 0.        ,  0.        , -0.57814286, -0.77085714, -1.349     ]), array([ 3.85235857e+03, -1.34900000e+00,  2.50528571e+00,  3.85428571e-01,\n",
      "        1.92714286e-01])]\n"
     ]
    },
    {
     "data": {
      "text/plain": [
       "(array([1], dtype=int64), array([0], dtype=int64))"
      ]
     },
     "execution_count": 57,
     "metadata": {},
     "output_type": "execute_result"
    }
   ],
   "source": [
    "#z-score 구하는 함수\n",
    "def outliers_z_score(ys):\n",
    "    #표준 편차 임계 값\n",
    "    threshold = 3.5\n",
    "    \n",
    "    #평균 대신에 중앙값 사용\n",
    "    med_y = np.median(ys) #mean\n",
    "    print('평균:', med_y)\n",
    "    stdev_y = np.median([np.abs(y - med_y) for y in ys]) #std\n",
    "    print('표준 편차:',stdev_y)\n",
    "    z_scores = [0.6745 * (y - med_y) / stdev_y for y in ys]\n",
    "    print('z_scores:',z_scores)\n",
    "    return np.where(np.abs(z_scores) > threshold)\n",
    "\n",
    "features = np.array([[10,10,7,6,3],[20000,3,23,12,11]])\n",
    "outliers_z_score(features)"
   ]
  },
  {
   "cell_type": "markdown",
   "id": "4d00fbd8",
   "metadata": {},
   "source": [
    "### IQR"
   ]
  },
  {
   "cell_type": "code",
   "execution_count": 58,
   "id": "dec2dcca",
   "metadata": {},
   "outputs": [
    {
     "data": {
      "text/plain": [
       "(array([1, 1], dtype=int64), array([0, 2], dtype=int64))"
      ]
     },
     "execution_count": 58,
     "metadata": {},
     "output_type": "execute_result"
    }
   ],
   "source": [
    "def outliers_iqr(ys):\n",
    "    #Q1, Q3 구하기\n",
    "    q1, q3 = np.percentile(ys, [25,75])\n",
    "    iqr = q3 - q1\n",
    "    #일반적인 데이터의 하한과 상한\n",
    "    lower_bound = q1 - (iqr * 1.5)\n",
    "    upper_bound = q3 + (iqr * 1.5)\n",
    "    return np.where((ys > upper_bound) | (ys < lower_bound))\n",
    "\n",
    "features = np.array([[10,10,7,6,3], [2000,3,23,12,11]])\n",
    "outliers_iqr(features)"
   ]
  },
  {
   "cell_type": "markdown",
   "id": "56adef63",
   "metadata": {},
   "source": [
    "### 일정한 비율"
   ]
  },
  {
   "cell_type": "code",
   "execution_count": 63,
   "id": "ef410fef",
   "metadata": {},
   "outputs": [
    {
     "name": "stdout",
     "output_type": "stream",
     "text": [
      "[[-2.743351    8.78014917]\n",
      " [-3.4172217   7.60198243]\n",
      " [-3.52202874  9.32853346]\n",
      " [-2.26723535  7.10100588]\n",
      " [-2.97261532  8.54855637]\n",
      " [-1.04354885  8.78850983]\n",
      " [-1.86150908 10.53731598]\n",
      " [-2.97867201  9.55684617]\n",
      " [-4.23411546  8.4519986 ]\n",
      " [-0.92998481  9.78172086]]\n"
     ]
    },
    {
     "data": {
      "text/plain": [
       "array([-1,  1,  1,  1,  1,  1,  1,  1,  1,  1])"
      ]
     },
     "execution_count": 63,
     "metadata": {},
     "output_type": "execute_result"
    }
   ],
   "source": [
    "from sklearn.covariance import EllipticEnvelope\n",
    "from sklearn.datasets import make_blobs\n",
    "\n",
    "#10행 2열의 데이터를 중앙점을 1.0으로 해서 랜덤하게 생성\n",
    "features, _ = make_blobs(n_samples = 10, n_features = 2, centers = 1, random_state = 42)\n",
    "print(features)\n",
    "\n",
    "#첫 번째 행의 데이터를 이상치로 수정\n",
    "features[0,0] = 10000\n",
    "features[0,1] = 10000\n",
    "\n",
    "#이상치 감지 객체를 생성 - 이상치 비율을 설정\n",
    "outlier_detector = EllipticEnvelope(contamination = 0.1)\n",
    "outlier_detector.fit(features)\n",
    "\n",
    "#이상치로 판정되면 -1을 return 하고 그렇지 않으면 1을 return\n",
    "outlier_detector.predict(features)"
   ]
  },
  {
   "cell_type": "markdown",
   "id": "c34d11ba",
   "metadata": {},
   "source": [
    "## 이상치 처리"
   ]
  },
  {
   "cell_type": "code",
   "execution_count": 66,
   "id": "06299216",
   "metadata": {},
   "outputs": [
    {
     "data": {
      "text/html": [
       "<div>\n",
       "<style scoped>\n",
       "    .dataframe tbody tr th:only-of-type {\n",
       "        vertical-align: middle;\n",
       "    }\n",
       "\n",
       "    .dataframe tbody tr th {\n",
       "        vertical-align: top;\n",
       "    }\n",
       "\n",
       "    .dataframe thead th {\n",
       "        text-align: right;\n",
       "    }\n",
       "</style>\n",
       "<table border=\"1\" class=\"dataframe\">\n",
       "  <thead>\n",
       "    <tr style=\"text-align: right;\">\n",
       "      <th></th>\n",
       "      <th>Price</th>\n",
       "      <th>Rooms</th>\n",
       "      <th>Feet</th>\n",
       "      <th>Outlier</th>\n",
       "      <th>Log_Feet</th>\n",
       "      <th>Scale_Rooms</th>\n",
       "    </tr>\n",
       "  </thead>\n",
       "  <tbody>\n",
       "    <tr>\n",
       "      <th>0</th>\n",
       "      <td>500000</td>\n",
       "      <td>2</td>\n",
       "      <td>1500</td>\n",
       "      <td>0</td>\n",
       "      <td>7.313220</td>\n",
       "      <td>-0.066667</td>\n",
       "    </tr>\n",
       "    <tr>\n",
       "      <th>1</th>\n",
       "      <td>390000</td>\n",
       "      <td>3</td>\n",
       "      <td>2000</td>\n",
       "      <td>0</td>\n",
       "      <td>7.600902</td>\n",
       "      <td>-0.033333</td>\n",
       "    </tr>\n",
       "    <tr>\n",
       "      <th>2</th>\n",
       "      <td>290000</td>\n",
       "      <td>5</td>\n",
       "      <td>1300</td>\n",
       "      <td>0</td>\n",
       "      <td>7.170120</td>\n",
       "      <td>0.033333</td>\n",
       "    </tr>\n",
       "    <tr>\n",
       "      <th>3</th>\n",
       "      <td>5000000</td>\n",
       "      <td>116</td>\n",
       "      <td>20000</td>\n",
       "      <td>1</td>\n",
       "      <td>9.903488</td>\n",
       "      <td>3.733333</td>\n",
       "    </tr>\n",
       "  </tbody>\n",
       "</table>\n",
       "</div>"
      ],
      "text/plain": [
       "     Price  Rooms   Feet  Outlier  Log_Feet  Scale_Rooms\n",
       "0   500000      2   1500        0  7.313220    -0.066667\n",
       "1   390000      3   2000        0  7.600902    -0.033333\n",
       "2   290000      5   1300        0  7.170120     0.033333\n",
       "3  5000000    116  20000        1  9.903488     3.733333"
      ]
     },
     "execution_count": 66,
     "metadata": {},
     "output_type": "execute_result"
    }
   ],
   "source": [
    "houses = pd.DataFrame()\n",
    "houses['Price'] = [500000, 390000, 290000, 5000000]\n",
    "houses['Rooms'] = [2,3,5,116]\n",
    "houses['Feet'] = [1500,2000,1300,20000]\n",
    "\n",
    "#Rooms 값이 20보다 크면 이상치로 간주하고 특성 추가\n",
    "houses['Outlier'] = np.where(houses['Rooms']> 20, 1, 0)\n",
    "houses\n",
    "\n",
    "#Outlier의 영향을 최소화 - 특성 변환(로그 변환)\n",
    "houses['Log_Feet'] = [np.log(x) for x in houses['Feet']]\n",
    "houses\n",
    "\n",
    "#Outlier의 영향 최소화 - 특성 변환(Scaling)\n",
    "imsi = pd.DataFrame(houses['Rooms'])\n",
    "scaler = preprocessing.RobustScaler()\n",
    "scaler.fit(imsi)\n",
    "houses['Scale_Rooms'] = scaler.transform(imsi)\n",
    "#houses['Scale_Rooms'] = scaler.fit_transform(imsi)\n",
    "houses"
   ]
  },
  {
   "cell_type": "markdown",
   "id": "29a1f3ec",
   "metadata": {},
   "source": [
    "## 결측치\n",
    "\n",
    "### 결측치 확인"
   ]
  },
  {
   "cell_type": "code",
   "execution_count": 71,
   "id": "1c07b1ab",
   "metadata": {},
   "outputs": [
    {
     "data": {
      "text/plain": [
       "177"
      ]
     },
     "execution_count": 71,
     "metadata": {},
     "output_type": "execute_result"
    }
   ],
   "source": [
    "import seaborn as sns\n",
    "\n",
    "titanic = sns.load_dataset('titanic')\n",
    "#titanic.info()\n",
    "\n",
    "#None의 개수도 출력\n",
    "titanic['age'].value_counts(dropna = False)\n",
    "titanic['age'].isnull().sum(axis = 0)"
   ]
  },
  {
   "cell_type": "markdown",
   "id": "bf2b54a5",
   "metadata": {},
   "source": [
    "### 결측치 삭제"
   ]
  },
  {
   "cell_type": "code",
   "execution_count": 76,
   "id": "1b9bda63",
   "metadata": {},
   "outputs": [
    {
     "name": "stdout",
     "output_type": "stream",
     "text": [
      "<class 'pandas.core.frame.DataFrame'>\n",
      "Int64Index: 714 entries, 0 to 890\n",
      "Data columns (total 5 columns):\n",
      " #   Column    Non-Null Count  Dtype  \n",
      "---  ------    --------------  -----  \n",
      " 0   survived  714 non-null    int64  \n",
      " 1   pclass    714 non-null    int64  \n",
      " 2   sex       714 non-null    object \n",
      " 3   age       714 non-null    float64\n",
      " 4   sibsp     714 non-null    int64  \n",
      "dtypes: float64(1), int64(3), object(1)\n",
      "memory usage: 33.5+ KB\n"
     ]
    }
   ],
   "source": [
    "#각 컬럼의 None 개수 파악\n",
    "titanic.isnull().sum(axis = 0)\n",
    "\n",
    "#결측치의 개수 가 200개 이상인 컬럼 제거\n",
    "#titanic_thresh = titanic.dropna(axis = 1, thresh = 200)\n",
    "#titanic_thresh.columns\n",
    "result = titanic[['survived','pclass','sex','age','sibsp']] #사용할 컬럼만 선택\n",
    "\n",
    "#결측치 인 행만 제거 - age 행이 결측치인 행을 제거 \n",
    "result_age = result.dropna(subset = ['age'], how = 'any',axis = 0)\n",
    "result_age.info()"
   ]
  },
  {
   "cell_type": "markdown",
   "id": "7e7b1bab",
   "metadata": {},
   "source": [
    "### 결측치 대체"
   ]
  },
  {
   "cell_type": "markdown",
   "id": "af07de57",
   "metadata": {},
   "source": [
    "#### 이전 값, 대표값"
   ]
  },
  {
   "cell_type": "code",
   "execution_count": 83,
   "id": "01837d9c",
   "metadata": {},
   "outputs": [
    {
     "data": {
      "text/plain": [
       "825     Queenstown\n",
       "826    Southampton\n",
       "827      Cherbourg\n",
       "828     Queenstown\n",
       "829    Southampton\n",
       "830      Cherbourg\n",
       "Name: embark_town, dtype: object"
      ]
     },
     "execution_count": 83,
     "metadata": {},
     "output_type": "execute_result"
    }
   ],
   "source": [
    "#None을 포함하고 있는 값 출력\n",
    "titanic['embark_town'][825:831]\n",
    "\n",
    "#1 - 이전 값으로 채우기\n",
    "#embark_town 컬럼의 특성이 계절성을 갖는다면 이 경우는 앞의 값으로 채우는 것도 나쁘지 않은 방법\n",
    "result = titanic['embark_town'].fillna(method = 'ffill')\n",
    "result[825:831]\n",
    "\n",
    "#2 - 대표값으로 채우기\n",
    "#결측치가 몇 개 되지 않을 때는 대표값으로 대체\n",
    "#대표값으로 사용될 수 있는 데이터는 평균, 중간값, 최빈값 등\n",
    "#대표값으로 변환하는 경우 많은 양의 데이터를 변경하면 분석할 때 결과가 왜곡될 수 있음\n",
    "mode = titanic['embark_town'].value_counts()\n",
    "#가장 많이 출현한 데이터\n",
    "#mode.idxmax()\n",
    "result = titanic['embark_town'].fillna(mode.idxmax())\n",
    "result[825:831]"
   ]
  },
  {
   "cell_type": "markdown",
   "id": "d6b1d472",
   "metadata": {},
   "source": [
    "#### sklearn - SimpleImputer"
   ]
  },
  {
   "cell_type": "code",
   "execution_count": 84,
   "id": "ed3e4c3d",
   "metadata": {},
   "outputs": [
    {
     "data": {
      "text/plain": [
       "array([[100.],\n",
       "       [200.],\n",
       "       [300.],\n",
       "       [400.],\n",
       "       [500.],\n",
       "       [300.]])"
      ]
     },
     "execution_count": 84,
     "metadata": {},
     "output_type": "execute_result"
    }
   ],
   "source": [
    "#sklearn - SimpleImputer 이용\n",
    "#객체를 만들 때 strategy 옵션에 mean, median, most_frequent, constant를 설정\n",
    "#constant를 설정하면 fill_value 옵션에 채울 값을 추가해줘야 함\n",
    "from sklearn.impute import SimpleImputer\n",
    "\n",
    "features = np.array([[100],[200],[300],[400],[500],[np.nan]])\n",
    "simple_imputer = SimpleImputer(strategy = 'median')\n",
    "simple_imputer.fit_transform(features)"
   ]
  },
  {
   "cell_type": "markdown",
   "id": "6ee078fe",
   "metadata": {},
   "source": [
    "#### 데이터 간 상관 관계 파악"
   ]
  },
  {
   "cell_type": "code",
   "execution_count": 85,
   "id": "30679240",
   "metadata": {},
   "outputs": [
    {
     "name": "stdout",
     "output_type": "stream",
     "text": [
      "Collecting fancyimpute\n",
      "  Downloading fancyimpute-0.7.0.tar.gz (25 kB)\n",
      "  Preparing metadata (setup.py): started\n",
      "  Preparing metadata (setup.py): finished with status 'done'\n",
      "Collecting knnimpute>=0.1.0\n",
      "  Downloading knnimpute-0.1.0.tar.gz (8.3 kB)\n",
      "  Preparing metadata (setup.py): started\n",
      "  Preparing metadata (setup.py): finished with status 'done'\n",
      "Requirement already satisfied: scikit-learn>=0.24.2 in c:\\users\\user\\anaconda3\\lib\\site-packages (from fancyimpute) (1.2.1)\n",
      "Collecting cvxpy\n",
      "  Downloading cvxpy-1.3.2-cp310-cp310-win_amd64.whl (892 kB)\n",
      "     -------------------------------------- 892.6/892.6 kB 9.4 MB/s eta 0:00:00\n",
      "Collecting cvxopt\n",
      "  Downloading cvxopt-1.3.2-cp310-cp310-win_amd64.whl (12.8 MB)\n",
      "     --------------------------------------- 12.8/12.8 MB 15.9 MB/s eta 0:00:00\n",
      "Requirement already satisfied: pytest in c:\\users\\user\\anaconda3\\lib\\site-packages (from fancyimpute) (7.1.2)\n",
      "Collecting nose\n",
      "  Downloading nose-1.3.7-py3-none-any.whl (154 kB)\n",
      "     ---------------------------------------- 154.7/154.7 kB ? eta 0:00:00\n",
      "Requirement already satisfied: six in c:\\users\\user\\anaconda3\\lib\\site-packages (from knnimpute>=0.1.0->fancyimpute) (1.16.0)\n",
      "Requirement already satisfied: numpy>=1.10 in c:\\users\\user\\anaconda3\\lib\\site-packages (from knnimpute>=0.1.0->fancyimpute) (1.23.5)\n",
      "Requirement already satisfied: scipy>=1.3.2 in c:\\users\\user\\anaconda3\\lib\\site-packages (from scikit-learn>=0.24.2->fancyimpute) (1.10.0)\n",
      "Requirement already satisfied: joblib>=1.1.1 in c:\\users\\user\\anaconda3\\lib\\site-packages (from scikit-learn>=0.24.2->fancyimpute) (1.1.1)\n",
      "Requirement already satisfied: threadpoolctl>=2.0.0 in c:\\users\\user\\anaconda3\\lib\\site-packages (from scikit-learn>=0.24.2->fancyimpute) (2.2.0)\n",
      "Collecting scs>=1.1.6\n",
      "  Downloading scs-3.2.3-cp310-cp310-win_amd64.whl (8.2 MB)\n",
      "     ---------------------------------------- 8.2/8.2 MB 14.6 MB/s eta 0:00:00\n",
      "Collecting ecos>=2\n",
      "  Downloading ecos-2.0.12-cp310-cp310-win_amd64.whl (72 kB)\n",
      "     ---------------------------------------- 72.0/72.0 kB ? eta 0:00:00\n",
      "Requirement already satisfied: setuptools>65.5.1 in c:\\users\\user\\anaconda3\\lib\\site-packages (from cvxpy->fancyimpute) (65.6.3)\n",
      "Collecting osqp>=0.4.1\n",
      "  Downloading osqp-0.6.3-cp310-cp310-win_amd64.whl (292 kB)\n",
      "     ------------------------------------- 292.9/292.9 kB 18.8 MB/s eta 0:00:00\n",
      "Requirement already satisfied: attrs>=19.2.0 in c:\\users\\user\\anaconda3\\lib\\site-packages (from pytest->fancyimpute) (22.1.0)\n",
      "Requirement already satisfied: iniconfig in c:\\users\\user\\anaconda3\\lib\\site-packages (from pytest->fancyimpute) (1.1.1)\n",
      "Requirement already satisfied: packaging in c:\\users\\user\\anaconda3\\lib\\site-packages (from pytest->fancyimpute) (22.0)\n",
      "Requirement already satisfied: pluggy<2.0,>=0.12 in c:\\users\\user\\anaconda3\\lib\\site-packages (from pytest->fancyimpute) (1.0.0)\n",
      "Requirement already satisfied: py>=1.8.2 in c:\\users\\user\\anaconda3\\lib\\site-packages (from pytest->fancyimpute) (1.11.0)\n",
      "Requirement already satisfied: tomli>=1.0.0 in c:\\users\\user\\anaconda3\\lib\\site-packages (from pytest->fancyimpute) (2.0.1)\n",
      "Requirement already satisfied: atomicwrites>=1.0 in c:\\users\\user\\anaconda3\\lib\\site-packages (from pytest->fancyimpute) (1.4.0)\n",
      "Requirement already satisfied: colorama in c:\\users\\user\\anaconda3\\lib\\site-packages (from pytest->fancyimpute) (0.4.6)\n",
      "Collecting qdldl\n",
      "  Downloading qdldl-0.1.7.post0-cp310-cp310-win_amd64.whl (85 kB)\n",
      "     ---------------------------------------- 85.1/85.1 kB 5.0 MB/s eta 0:00:00\n",
      "Building wheels for collected packages: fancyimpute, knnimpute\n",
      "  Building wheel for fancyimpute (setup.py): started\n",
      "  Building wheel for fancyimpute (setup.py): finished with status 'done'\n",
      "  Created wheel for fancyimpute: filename=fancyimpute-0.7.0-py3-none-any.whl size=29907 sha256=e4fcb4aea9f38a97d18019d8367b206ea9aba85545789cac99ecb46e623bd732\n",
      "  Stored in directory: c:\\users\\user\\appdata\\local\\pip\\cache\\wheels\\d4\\dc\\1d\\df95900d5962d8a6da97306201c1695abe1922d56910ffa3b2\n",
      "  Building wheel for knnimpute (setup.py): started\n",
      "  Building wheel for knnimpute (setup.py): finished with status 'done'\n",
      "  Created wheel for knnimpute: filename=knnimpute-0.1.0-py3-none-any.whl size=11345 sha256=0a3f2e7deebd80bf60e6f087d2e0ef9285625578fa39295e071284a820b1003a\n",
      "  Stored in directory: c:\\users\\user\\appdata\\local\\pip\\cache\\wheels\\46\\44\\b7\\0546c472093bdae2adaafdab7062ab6156f20c8e79af2ee999\n",
      "Successfully built fancyimpute knnimpute\n",
      "Installing collected packages: nose, knnimpute, cvxopt, scs, qdldl, ecos, osqp, cvxpy, fancyimpute\n",
      "Successfully installed cvxopt-1.3.2 cvxpy-1.3.2 ecos-2.0.12 fancyimpute-0.7.0 knnimpute-0.1.0 nose-1.3.7 osqp-0.6.3 qdldl-0.1.7.post0 scs-3.2.3\n"
     ]
    }
   ],
   "source": [
    "!pip install fancyimpute"
   ]
  },
  {
   "cell_type": "code",
   "execution_count": 86,
   "id": "182196c8",
   "metadata": {},
   "outputs": [
    {
     "data": {
      "text/plain": [
       "array([[100.       , 200.       ],\n",
       "       [200.       , 400.       ],\n",
       "       [300.       , 600.       ],\n",
       "       [400.       , 800.       ],\n",
       "       [200.       , 400.0000001]])"
      ]
     },
     "execution_count": 86,
     "metadata": {},
     "output_type": "execute_result"
    }
   ],
   "source": [
    "from fancyimpute import KNN\n",
    "\n",
    "features = np.array([[100,200],[200,400],[300,600],[400,800],[200,np.nan]])\n",
    "KNN(k = 5, verbose = 0).fit_transform(features)"
   ]
  },
  {
   "cell_type": "markdown",
   "id": "b8bd70e3",
   "metadata": {},
   "source": [
    "# 범주형 데이터"
   ]
  },
  {
   "cell_type": "markdown",
   "id": "d29e2cb2",
   "metadata": {},
   "source": [
    "## one hot encoding"
   ]
  },
  {
   "cell_type": "code",
   "execution_count": 4,
   "id": "a66e77ba",
   "metadata": {},
   "outputs": [
    {
     "data": {
      "text/html": [
       "<div>\n",
       "<style scoped>\n",
       "    .dataframe tbody tr th:only-of-type {\n",
       "        vertical-align: middle;\n",
       "    }\n",
       "\n",
       "    .dataframe tbody tr th {\n",
       "        vertical-align: top;\n",
       "    }\n",
       "\n",
       "    .dataframe thead th {\n",
       "        text-align: right;\n",
       "    }\n",
       "</style>\n",
       "<table border=\"1\" class=\"dataframe\">\n",
       "  <thead>\n",
       "    <tr style=\"text-align: right;\">\n",
       "      <th></th>\n",
       "      <th>mpg</th>\n",
       "      <th>cylinders</th>\n",
       "      <th>displacement</th>\n",
       "      <th>horsepower</th>\n",
       "      <th>weight</th>\n",
       "      <th>acceleration</th>\n",
       "      <th>model year</th>\n",
       "      <th>origin</th>\n",
       "      <th>name</th>\n",
       "    </tr>\n",
       "  </thead>\n",
       "  <tbody>\n",
       "    <tr>\n",
       "      <th>0</th>\n",
       "      <td>18.0</td>\n",
       "      <td>8</td>\n",
       "      <td>307.0</td>\n",
       "      <td>130.0</td>\n",
       "      <td>3504.0</td>\n",
       "      <td>12.0</td>\n",
       "      <td>70</td>\n",
       "      <td>1</td>\n",
       "      <td>chevrolet chevelle malibu</td>\n",
       "    </tr>\n",
       "    <tr>\n",
       "      <th>1</th>\n",
       "      <td>15.0</td>\n",
       "      <td>8</td>\n",
       "      <td>350.0</td>\n",
       "      <td>165.0</td>\n",
       "      <td>3693.0</td>\n",
       "      <td>11.5</td>\n",
       "      <td>70</td>\n",
       "      <td>1</td>\n",
       "      <td>buick skylark 320</td>\n",
       "    </tr>\n",
       "    <tr>\n",
       "      <th>2</th>\n",
       "      <td>18.0</td>\n",
       "      <td>8</td>\n",
       "      <td>318.0</td>\n",
       "      <td>150.0</td>\n",
       "      <td>3436.0</td>\n",
       "      <td>11.0</td>\n",
       "      <td>70</td>\n",
       "      <td>1</td>\n",
       "      <td>plymouth satellite</td>\n",
       "    </tr>\n",
       "    <tr>\n",
       "      <th>3</th>\n",
       "      <td>16.0</td>\n",
       "      <td>8</td>\n",
       "      <td>304.0</td>\n",
       "      <td>150.0</td>\n",
       "      <td>3433.0</td>\n",
       "      <td>12.0</td>\n",
       "      <td>70</td>\n",
       "      <td>1</td>\n",
       "      <td>amc rebel sst</td>\n",
       "    </tr>\n",
       "    <tr>\n",
       "      <th>4</th>\n",
       "      <td>17.0</td>\n",
       "      <td>8</td>\n",
       "      <td>302.0</td>\n",
       "      <td>140.0</td>\n",
       "      <td>3449.0</td>\n",
       "      <td>10.5</td>\n",
       "      <td>70</td>\n",
       "      <td>1</td>\n",
       "      <td>ford torino</td>\n",
       "    </tr>\n",
       "  </tbody>\n",
       "</table>\n",
       "</div>"
      ],
      "text/plain": [
       "    mpg  cylinders  displacement  horsepower  weight  acceleration  \\\n",
       "0  18.0          8         307.0       130.0  3504.0          12.0   \n",
       "1  15.0          8         350.0       165.0  3693.0          11.5   \n",
       "2  18.0          8         318.0       150.0  3436.0          11.0   \n",
       "3  16.0          8         304.0       150.0  3433.0          12.0   \n",
       "4  17.0          8         302.0       140.0  3449.0          10.5   \n",
       "\n",
       "   model year  origin                       name  \n",
       "0          70       1  chevrolet chevelle malibu  \n",
       "1          70       1          buick skylark 320  \n",
       "2          70       1         plymouth satellite  \n",
       "3          70       1              amc rebel sst  \n",
       "4          70       1                ford torino  "
      ]
     },
     "execution_count": 4,
     "metadata": {},
     "output_type": "execute_result"
    }
   ],
   "source": [
    "#auto_mpg data를 가져와서 horsepower의 이상치를 제거하고 숫자 타입으로 변환 \n",
    "#데이터 읽어오기\n",
    "auto_mpg = pd.read_csv(file_path + 'auto-mpg.csv', header = None)\n",
    "#컬럼 이름 설정\n",
    "auto_mpg.columns = ['mpg','cylinders','displacement','horsepower','weight','acceleration','model year','origin','name']\n",
    "#horsepower 열의 자료형을 실수로 변경\n",
    "#? -> None으로 치환하고 제거한 후 자료형 변경\n",
    "auto_mpg.horsepower.replace('?', np.nan, inplace = True)\n",
    "auto_mpg.dropna(subset = ['horsepower'], axis = 0, inplace = True)\n",
    "auto_mpg.horsepower = auto_mpg.horsepower.astype('float')\n",
    "\n",
    "auto_mpg.head()"
   ]
  },
  {
   "cell_type": "code",
   "execution_count": 8,
   "id": "1b85843c",
   "metadata": {},
   "outputs": [
    {
     "data": {
      "text/html": [
       "<div>\n",
       "<style scoped>\n",
       "    .dataframe tbody tr th:only-of-type {\n",
       "        vertical-align: middle;\n",
       "    }\n",
       "\n",
       "    .dataframe tbody tr th {\n",
       "        vertical-align: top;\n",
       "    }\n",
       "\n",
       "    .dataframe thead th {\n",
       "        text-align: right;\n",
       "    }\n",
       "</style>\n",
       "<table border=\"1\" class=\"dataframe\">\n",
       "  <thead>\n",
       "    <tr style=\"text-align: right;\">\n",
       "      <th></th>\n",
       "      <th>저출력</th>\n",
       "      <th>보통출력</th>\n",
       "      <th>고출력</th>\n",
       "    </tr>\n",
       "  </thead>\n",
       "  <tbody>\n",
       "    <tr>\n",
       "      <th>0</th>\n",
       "      <td>0</td>\n",
       "      <td>1</td>\n",
       "      <td>0</td>\n",
       "    </tr>\n",
       "    <tr>\n",
       "      <th>1</th>\n",
       "      <td>0</td>\n",
       "      <td>1</td>\n",
       "      <td>0</td>\n",
       "    </tr>\n",
       "    <tr>\n",
       "      <th>2</th>\n",
       "      <td>0</td>\n",
       "      <td>1</td>\n",
       "      <td>0</td>\n",
       "    </tr>\n",
       "    <tr>\n",
       "      <th>3</th>\n",
       "      <td>0</td>\n",
       "      <td>1</td>\n",
       "      <td>0</td>\n",
       "    </tr>\n",
       "    <tr>\n",
       "      <th>4</th>\n",
       "      <td>0</td>\n",
       "      <td>1</td>\n",
       "      <td>0</td>\n",
       "    </tr>\n",
       "    <tr>\n",
       "      <th>...</th>\n",
       "      <td>...</td>\n",
       "      <td>...</td>\n",
       "      <td>...</td>\n",
       "    </tr>\n",
       "    <tr>\n",
       "      <th>393</th>\n",
       "      <td>1</td>\n",
       "      <td>0</td>\n",
       "      <td>0</td>\n",
       "    </tr>\n",
       "    <tr>\n",
       "      <th>394</th>\n",
       "      <td>1</td>\n",
       "      <td>0</td>\n",
       "      <td>0</td>\n",
       "    </tr>\n",
       "    <tr>\n",
       "      <th>395</th>\n",
       "      <td>1</td>\n",
       "      <td>0</td>\n",
       "      <td>0</td>\n",
       "    </tr>\n",
       "    <tr>\n",
       "      <th>396</th>\n",
       "      <td>1</td>\n",
       "      <td>0</td>\n",
       "      <td>0</td>\n",
       "    </tr>\n",
       "    <tr>\n",
       "      <th>397</th>\n",
       "      <td>1</td>\n",
       "      <td>0</td>\n",
       "      <td>0</td>\n",
       "    </tr>\n",
       "  </tbody>\n",
       "</table>\n",
       "<p>392 rows × 3 columns</p>\n",
       "</div>"
      ],
      "text/plain": [
       "     저출력  보통출력  고출력\n",
       "0      0     1    0\n",
       "1      0     1    0\n",
       "2      0     1    0\n",
       "3      0     1    0\n",
       "4      0     1    0\n",
       "..   ...   ...  ...\n",
       "393    1     0    0\n",
       "394    1     0    0\n",
       "395    1     0    0\n",
       "396    1     0    0\n",
       "397    1     0    0\n",
       "\n",
       "[392 rows x 3 columns]"
      ]
     },
     "execution_count": 8,
     "metadata": {},
     "output_type": "execute_result"
    }
   ],
   "source": [
    "#horsepower 의 onehot encoding\n",
    "#horsepower 특성을 범주형으로 추가 -> 3개의 영역으로 구분\n",
    "count, bin_dividers = np.histogram(auto_mpg['horsepower'], bins =3)\n",
    "\n",
    "#범주형의 형태로 생성\n",
    "auto_mpg['hp_bin'] = pd.cut(x = auto_mpg['horsepower'],\n",
    "                            bins = bin_dividers,\n",
    "                            labels = ['저출력', '보통출력', '고출력'],\n",
    "                            include_lowest = True)\n",
    "\n",
    "auto_mpg[['horsepower','hp_bin']].head()\n",
    "\n",
    "#one hot encoding - 값이 3 종류 이므로 3개의 특성이 만들어지고 값은 하나만 1\n",
    "horsepower_dummies = pd.get_dummies(auto_mpg['hp_bin'])\n",
    "horsepower_dummies"
   ]
  },
  {
   "cell_type": "markdown",
   "id": "85abad9f",
   "metadata": {},
   "source": [
    "## sklearn.preprocessing"
   ]
  },
  {
   "cell_type": "code",
   "execution_count": 10,
   "id": "dab5db25",
   "metadata": {},
   "outputs": [
    {
     "data": {
      "text/plain": [
       "array(['고출력', '보통출력', '저출력'], dtype='<U4')"
      ]
     },
     "execution_count": 10,
     "metadata": {},
     "output_type": "execute_result"
    }
   ],
   "source": [
    "#하나의 특성을 one hot encoding 해주는 class\n",
    "from sklearn.preprocessing import LabelBinarizer\n",
    "\n",
    "one_hot = LabelBinarizer()\n",
    "one_hot.fit_transform(auto_mpg['hp_bin'])\n",
    "\n",
    "#이름 확인\n",
    "one_hot.classes_"
   ]
  },
  {
   "cell_type": "code",
   "execution_count": 12,
   "id": "7e00cb73",
   "metadata": {},
   "outputs": [
    {
     "data": {
      "text/plain": [
       "(array([[0, 1, 0, 1, 0, 0, 0],\n",
       "        [0, 1, 0, 0, 0, 1, 0],\n",
       "        [1, 0, 0, 1, 0, 0, 0],\n",
       "        [0, 0, 0, 1, 1, 0, 0],\n",
       "        [0, 0, 1, 0, 0, 1, 0],\n",
       "        [0, 0, 0, 0, 0, 1, 1]]),\n",
       " array(['C#', 'C++', 'Go', 'Java', 'Kotlin', 'Python', 'R'], dtype=object))"
      ]
     },
     "execution_count": 12,
     "metadata": {},
     "output_type": "execute_result"
    }
   ],
   "source": [
    "#2개 이상의 특성을 가지고 one hot encoding\n",
    "#2개 이상의 1이 등장할 수 있음\n",
    "from sklearn.preprocessing import MultiLabelBinarizer\n",
    "\n",
    "multi_features = [('Java', 'C++'),('C++','Python'),('Java','C#'),\n",
    "                  ('Java','Kotlin'),('Python','Go'),('Python','R')]\n",
    "\n",
    "one_hot_multiclass = MultiLabelBinarizer()\n",
    "\n",
    "one_hot_multiclass.fit_transform(multi_features), one_hot_multiclass.classes_"
   ]
  },
  {
   "cell_type": "markdown",
   "id": "059dba73",
   "metadata": {},
   "source": [
    "## data 순서 - 의미 O"
   ]
  },
  {
   "cell_type": "code",
   "execution_count": 13,
   "id": "8a86bc32",
   "metadata": {},
   "outputs": [
    {
     "data": {
      "text/html": [
       "<div>\n",
       "<style scoped>\n",
       "    .dataframe tbody tr th:only-of-type {\n",
       "        vertical-align: middle;\n",
       "    }\n",
       "\n",
       "    .dataframe tbody tr th {\n",
       "        vertical-align: top;\n",
       "    }\n",
       "\n",
       "    .dataframe thead th {\n",
       "        text-align: right;\n",
       "    }\n",
       "</style>\n",
       "<table border=\"1\" class=\"dataframe\">\n",
       "  <thead>\n",
       "    <tr style=\"text-align: right;\">\n",
       "      <th></th>\n",
       "      <th>Score</th>\n",
       "      <th>encoder</th>\n",
       "    </tr>\n",
       "  </thead>\n",
       "  <tbody>\n",
       "    <tr>\n",
       "      <th>0</th>\n",
       "      <td>저조</td>\n",
       "      <td>1</td>\n",
       "    </tr>\n",
       "    <tr>\n",
       "      <th>1</th>\n",
       "      <td>보통</td>\n",
       "      <td>2</td>\n",
       "    </tr>\n",
       "    <tr>\n",
       "      <th>2</th>\n",
       "      <td>보통</td>\n",
       "      <td>2</td>\n",
       "    </tr>\n",
       "    <tr>\n",
       "      <th>3</th>\n",
       "      <td>저조</td>\n",
       "      <td>1</td>\n",
       "    </tr>\n",
       "    <tr>\n",
       "      <th>4</th>\n",
       "      <td>우수</td>\n",
       "      <td>3</td>\n",
       "    </tr>\n",
       "    <tr>\n",
       "      <th>5</th>\n",
       "      <td>매우우수</td>\n",
       "      <td>4</td>\n",
       "    </tr>\n",
       "  </tbody>\n",
       "</table>\n",
       "</div>"
      ],
      "text/plain": [
       "  Score  encoder\n",
       "0    저조        1\n",
       "1    보통        2\n",
       "2    보통        2\n",
       "3    저조        1\n",
       "4    우수        3\n",
       "5  매우우수        4"
      ]
     },
     "execution_count": 13,
     "metadata": {},
     "output_type": "execute_result"
    }
   ],
   "source": [
    "#순서가 의미를 갖는 경우 - replace 함수 이용\n",
    "df = pd.DataFrame({'Score':['저조','보통','보통','저조','우수','매우우수']})\n",
    "\n",
    "scale_mapper = {'저조':1, '보통':2, '우수':3, '매우우수': 4}\n",
    "df['encoder'] = df['Score'].replace(scale_mapper)\n",
    "df"
   ]
  },
  {
   "cell_type": "code",
   "execution_count": 15,
   "id": "fad0758c",
   "metadata": {},
   "outputs": [
    {
     "data": {
      "text/plain": [
       "(array([[1., 0.],\n",
       "        [2., 2.],\n",
       "        [0., 1.]]),\n",
       " [array(['High', 'Low', 'Normal'], dtype='<U11'),\n",
       "  array(['10', '15', '20'], dtype='<U11')])"
      ]
     },
     "execution_count": 15,
     "metadata": {},
     "output_type": "execute_result"
    }
   ],
   "source": [
    "#Ordinal Encoder 사용\n",
    "from sklearn.preprocessing import OrdinalEncoder\n",
    "\n",
    "features = np.array([['Low', 10],['Normal', 20], ['High', 15]])\n",
    "ordinal_encoder = OrdinalEncoder()\n",
    "\n",
    "ordinal_encoder.fit_transform(features), ordinal_encoder.categories_"
   ]
  },
  {
   "cell_type": "markdown",
   "id": "05031a39",
   "metadata": {},
   "source": [
    "## 결측치 값 대체"
   ]
  },
  {
   "cell_type": "code",
   "execution_count": 33,
   "id": "254d529c",
   "metadata": {},
   "outputs": [
    {
     "name": "stdout",
     "output_type": "stream",
     "text": [
      "[[ 0.    0.87  0.31]\n",
      " [ 1.   -0.67 -0.22]]\n"
     ]
    },
    {
     "data": {
      "text/plain": [
       "array([[ 0.  ,  0.87,  0.31],\n",
       "       [ 1.  , -0.67, -0.22],\n",
       "       [ 0.  ,  2.1 ,  1.45],\n",
       "       [ 1.  ,  1.18,  1.33],\n",
       "       [ 0.  ,  1.22,  1.27],\n",
       "       [ 1.  , -0.21, -1.19]])"
      ]
     },
     "execution_count": 33,
     "metadata": {},
     "output_type": "execute_result"
    }
   ],
   "source": [
    "#분류 모델을 이용한 결측치값 대체\n",
    "from sklearn.neighbors import KNeighborsClassifier\n",
    "\n",
    "#훈련 데이터 생성\n",
    "X = np.array([[0,2.10,1.45],[1,1.18,1.33],[0,1.22,1.27],[1,-0.21,-1.19]])\n",
    "\n",
    "#예측에 사용할 데이터\n",
    "X_with_nan = np.array([[np.nan,0.87,0.31],[np.nan,-0.67,-0.22]])\n",
    "\n",
    "#KNN 학습기 생성\n",
    "clf = KNeighborsClassifier(3, weights = 'distance')\n",
    "\n",
    "#1번째 데이터 - label, 나머지 데이터 - feature로 설정해서 훈련\n",
    "trained_model = clf.fit(X[:,1:],X[:,0]) \n",
    "\n",
    "#예측\n",
    "imputed_values = trained_model.predict(X_with_nan[:,1:])\n",
    "imputed_values\n",
    "\n",
    "#예측 데이터와 원본 데이터 합치기\n",
    "X_with_imputed = np.hstack((imputed_values.reshape(-1,1), X_with_nan[:,1:]))\n",
    "X_with_imputed\n",
    "\n",
    "#결측치를 대체한 데이터와 훈련에 사용한 데이터와 합치기\n",
    "result = np.vstack((X_with_imputed, X))\n",
    "result"
   ]
  },
  {
   "cell_type": "code",
   "execution_count": 34,
   "id": "7d167113",
   "metadata": {},
   "outputs": [
    {
     "name": "stdout",
     "output_type": "stream",
     "text": [
      "[[  nan  0.87  0.31]\n",
      " [  nan -0.67 -0.22]\n",
      " [ 0.    2.1   1.45]\n",
      " [ 1.    1.18  1.33]\n",
      " [ 0.    1.22  1.27]\n",
      " [ 1.   -0.21 -1.19]]\n"
     ]
    },
    {
     "data": {
      "text/plain": [
       "array([[ 0.  ,  0.87,  0.31],\n",
       "       [ 0.  , -0.67, -0.22],\n",
       "       [ 0.  ,  2.1 ,  1.45],\n",
       "       [ 1.  ,  1.18,  1.33],\n",
       "       [ 0.  ,  1.22,  1.27],\n",
       "       [ 1.  , -0.21, -1.19]])"
      ]
     },
     "execution_count": 34,
     "metadata": {},
     "output_type": "execute_result"
    }
   ],
   "source": [
    "#가장 많이 나오는 데이터로 대체 \n",
    "from sklearn.impute import SimpleImputer\n",
    "\n",
    "X_complete = np.vstack((X_with_nan, X))\n",
    "print(X_complete)\n",
    "imputer = SimpleImputer(strategy = 'most_frequent')\n",
    "imputer.fit_transform(X_complete)"
   ]
  },
  {
   "cell_type": "markdown",
   "id": "4b365dd2",
   "metadata": {},
   "source": [
    "# text data"
   ]
  },
  {
   "cell_type": "markdown",
   "id": "d9273872",
   "metadata": {},
   "source": [
    "## 정규 표현식"
   ]
  },
  {
   "cell_type": "code",
   "execution_count": 84,
   "id": "771c860c",
   "metadata": {},
   "outputs": [
    {
     "name": "stdout",
     "output_type": "stream",
     "text": [
      "<re.Match object; span=(0, 1), match='1'>\n",
      "None\n"
     ]
    }
   ],
   "source": [
    "import re\n",
    "\n",
    "#매칭 여부 확인\n",
    "match = re.match('[0-9]','1234')\n",
    "#패턴에 일치하는 데이터가 있으면 Match 객체를 return 하고 없으면 None return\n",
    "print(match)\n",
    "\n",
    "match = re.match('[0-9]', 'abc')\n",
    "#패턴에 일치하는 데이터가 있으면 Match 객체를 return 하고 없으면 None return\n",
    "print(match)"
   ]
  },
  {
   "cell_type": "code",
   "execution_count": 87,
   "id": "c7a72c73",
   "metadata": {},
   "outputs": [
    {
     "name": "stdout",
     "output_type": "stream",
     "text": [
      "@안녕하세요 반갑습니다 ^^  의미 없는 숫자.... !!!!\n",
      " 안녕하세요 반갑습니다 의미 없는 숫자 \n"
     ]
    }
   ],
   "source": [
    "string = '@안녕하세요 반갑습니다 ^^ 123 의미 없는 숫자.... !!!!'\n",
    "\n",
    "#숫자 데이터 제거 \n",
    "p = re.compile('[0-9]+')\n",
    "result = p.sub('', string)\n",
    "print(result)\n",
    "\n",
    "p = re.compile('\\W+')\n",
    "result = p.sub(' ', result)\n",
    "print(result)"
   ]
  },
  {
   "cell_type": "code",
   "execution_count": 93,
   "id": "c3f064a1",
   "metadata": {},
   "outputs": [
    {
     "data": {
      "text/plain": [
       "['안녕하세요 반갑습니다', 'My Job is Programmer', 'CC++C Python']"
      ]
     },
     "execution_count": 93,
     "metadata": {},
     "output_type": "execute_result"
    }
   ],
   "source": [
    "import unicodedata\n",
    "import sys\n",
    "\n",
    "text_data = ['안녕하세요 반갑습니다.','My Job is Programmer','C&C++,C#, Python']\n",
    "\n",
    "#구두 점 dictionary를 생성\n",
    "punctuation = dict.fromkeys(i for i in range(sys.maxunicode)\n",
    "                           if unicodedata.category(chr(i)).startswith('P'))\n",
    "\n",
    "result = [string.translate(punctuation) for string in text_data]\n",
    "result"
   ]
  },
  {
   "cell_type": "markdown",
   "id": "0b0bf509",
   "metadata": {},
   "source": [
    "## text tokenization"
   ]
  },
  {
   "cell_type": "code",
   "execution_count": 94,
   "id": "bdbe4f78",
   "metadata": {},
   "outputs": [
    {
     "name": "stderr",
     "output_type": "stream",
     "text": [
      "[nltk_data] Downloading package punkt to\n",
      "[nltk_data]     C:\\Users\\USER\\AppData\\Roaming\\nltk_data...\n",
      "[nltk_data]   Unzipping tokenizers\\punkt.zip.\n",
      "[nltk_data] Downloading package stopwords to\n",
      "[nltk_data]     C:\\Users\\USER\\AppData\\Roaming\\nltk_data...\n",
      "[nltk_data]   Unzipping corpora\\stopwords.zip.\n"
     ]
    },
    {
     "data": {
      "text/plain": [
       "True"
      ]
     },
     "execution_count": 94,
     "metadata": {},
     "output_type": "execute_result"
    }
   ],
   "source": [
    "import nltk\n",
    "nltk.download('punkt')\n",
    "nltk.download('stopwords')"
   ]
  },
  {
   "cell_type": "code",
   "execution_count": 96,
   "id": "b0675f90",
   "metadata": {},
   "outputs": [
    {
     "name": "stdout",
     "output_type": "stream",
     "text": [
      "['The', 'science', 'of', 'today', 'is', 'the', 'technology', 'of', 'tomorrow']\n"
     ]
    },
    {
     "data": {
      "text/plain": [
       "['품질은 양보다 중요합니다.',\n",
       " '한 번의 홈런이 두번의 2루타보다 낫습니다.',\n",
       " '혁신은 현존하는 수천 가지 것들에 아니라고 말하는 것이다.',\n",
       " '시간이 없습니다 누군가를 위해서 단신의 삶을 버리지 마세요.']"
      ]
     },
     "execution_count": 96,
     "metadata": {},
     "output_type": "execute_result"
    }
   ],
   "source": [
    "from nltk.tokenize import word_tokenize\n",
    "from nltk.tokenize import sent_tokenize\n",
    "\n",
    "string = 'The science of today is the technology of tomorrow'\n",
    "\n",
    "print(word_tokenize(string))\n",
    "\n",
    "string = \"\"\"품질은 양보다 중요합니다. 한 번의 홈런이 두번의 2루타보다 낫습니다.\n",
    "            혁신은 현존하는 수천 가지 것들에 아니라고 말하는 것이다.\n",
    "            시간이 없습니다 누군가를 위해서 단신의 삶을 버리지 마세요.\"\"\"\n",
    "sent_tokenize(string)"
   ]
  },
  {
   "cell_type": "markdown",
   "id": "2ba80d32",
   "metadata": {},
   "source": [
    "## 불용어 처리"
   ]
  },
  {
   "cell_type": "code",
   "execution_count": 120,
   "id": "01c513ca",
   "metadata": {},
   "outputs": [
    {
     "name": "stdout",
     "output_type": "stream",
     "text": [
      "['1월', '3월', '4월']\n",
      "['chief', 'president', 'kenedy']\n"
     ]
    },
    {
     "data": {
      "text/plain": [
       "['chief', 'president', 'kenedy']"
      ]
     },
     "execution_count": 120,
     "metadata": {},
     "output_type": "execute_result"
    }
   ],
   "source": [
    "from nltk.corpus import stopwords\n",
    "\n",
    "#불용어 제거 - 한글은 불용어 사전이 없어서 불용어 사전을 직접 작성\n",
    "word_korean = ['1월', '2월','3월','4월']\n",
    "kr_stopwords = ['2월','5월']\n",
    "#i for in word_korean if i inot in stopwords라는 작업을 수행해서 generator 생성\n",
    "#generator는 iterator로 접근 할 수 있는 객체\n",
    "result = [i for i in word_korean if i not in kr_stopwords]\n",
    "print(result)\n",
    "\n",
    "#영문은 nltk에서 기본적인 불용어 사전을 제공\n",
    "word_english = ['chief', 'the','an','and','president','kenedy']\n",
    "result = [w for w in word_english if not w in stopwords.words('english')]\n",
    "print(result)\n",
    "\n",
    "#sklearn이 nltk보다 불용어의 개수가 조금 더 많음\n",
    "from sklearn.feature_extraction.text import ENGLISH_STOP_WORDS\n",
    "result = [w for w in word_english if not w in ENGLISH_STOP_WORDS]\n",
    "result"
   ]
  },
  {
   "cell_type": "markdown",
   "id": "af301382",
   "metadata": {},
   "source": [
    "## 어간 추출"
   ]
  },
  {
   "cell_type": "code",
   "execution_count": 121,
   "id": "280b8a18",
   "metadata": {},
   "outputs": [],
   "source": [
    "#영문 어간 추출\n",
    "from nltk.stem import PorterStemmer\n",
    "from nltk.stem.lancaster import LancasterStemmer\n",
    "\n",
    "from nltk.tokenize import word_tokenize"
   ]
  },
  {
   "cell_type": "code",
   "execution_count": 130,
   "id": "df89eaa9",
   "metadata": {},
   "outputs": [
    {
     "name": "stdout",
     "output_type": "stream",
     "text": [
      "['All', 'pythoners', 'have', 'pythoned', 'poorly', 'at', 'least', 'once']\n",
      "all\tpython\thave\tpython\tpoorli\tat\tleast\tonc\t\n",
      "al\tpython\thav\tpython\tpoor\tat\tleast\tont\t\n"
     ]
    }
   ],
   "source": [
    "string = 'All pythoners have pythoned poorly at least once'\n",
    "\n",
    "#단어 token화 - 공백을 기준으로 분할해서 list로 생성\n",
    "words = word_tokenize(string)\n",
    "print(words)\n",
    "\n",
    "ps_stemmer = PorterStemmer()\n",
    "#어간 추출\n",
    "for w in words:\n",
    "    print(ps_stemmer.stem(w), end ='\\t')\n",
    "print()\n",
    "\n",
    "ls_stemmer = LancasterStemmer()\n",
    "#어간 추출\n",
    "for w in words:\n",
    "    print(ls_stemmer.stem(w), end ='\\t')\n",
    "print()"
   ]
  },
  {
   "cell_type": "markdown",
   "id": "a84775d7",
   "metadata": {},
   "source": [
    "## 형태소 분석"
   ]
  },
  {
   "cell_type": "code",
   "execution_count": 134,
   "id": "47cb9503",
   "metadata": {},
   "outputs": [
    {
     "name": "stdout",
     "output_type": "stream",
     "text": [
      "[('The', 'DT'), ('little', 'JJ'), ('yellow', 'JJ'), ('don', 'NN'), ('barked', 'VBD'), ('at', 'IN'), ('the', 'DT'), ('Persian', 'JJ'), ('cat', 'NN')]\n",
      "['don', 'cat']\n"
     ]
    },
    {
     "name": "stderr",
     "output_type": "stream",
     "text": [
      "[nltk_data] Downloading package averaged_perceptron_tagger to\n",
      "[nltk_data]     C:\\Users\\USER\\AppData\\Roaming\\nltk_data...\n",
      "[nltk_data]   Package averaged_perceptron_tagger is already up-to-\n",
      "[nltk_data]       date!\n"
     ]
    }
   ],
   "source": [
    "import nltk\n",
    "nltk.download('averaged_perceptron_tagger')\n",
    "\n",
    "from nltk import pos_tag\n",
    "from nltk import word_tokenize\n",
    "\n",
    "tokens = word_tokenize('The little yellow don barked at the Persian cat')\n",
    "tags_en = pos_tag(tokens)\n",
    "#단어와 품사를 튜플의 list로 출력\n",
    "#품사 (NNP - 고유명사, NN - 명사, RB: 부사, VBD: 동사, VBG: 동사, 동명사, 현재분사, JJ:형용사)\n",
    "print(tags_en)\n",
    "\n",
    "#명사와 고유 명사만 추출\n",
    "print([word for word, tag in tags_en if tag in ['NN','NNP']])"
   ]
  },
  {
   "cell_type": "markdown",
   "id": "cec36015",
   "metadata": {},
   "source": [
    "## 한글 형태소 분석"
   ]
  },
  {
   "cell_type": "code",
   "execution_count": 137,
   "id": "2f5ad11c",
   "metadata": {},
   "outputs": [],
   "source": [
    "from konlpy.tag import Kkma\n",
    "from konlpy.tag import Hannanum"
   ]
  },
  {
   "cell_type": "code",
   "execution_count": 136,
   "id": "5a515711",
   "metadata": {},
   "outputs": [
    {
     "name": "stdout",
     "output_type": "stream",
     "text": [
      "['태양계는 지금으로부터 약 46억 년 전 거대한 분자 구름의 일부분이 중력 붕괴를 일으키면서 형성되었다.']\n",
      "['태양계', '지금', '46', '46억', '억', '년', '전', '거대', '분자', '구름', '일부분', '중력', '붕괴', '형성']\n",
      "[('태양계', 'NNG'), ('는', 'JX'), ('지금', 'NNG'), ('으로', 'JKM'), ('부터', 'JX'), ('약', 'MDN'), ('46', 'NR'), ('억', 'NR'), ('년', 'NNB'), ('전', 'NNG'), ('거대', 'NNG'), ('하', 'XSV'), ('ㄴ', 'ETD'), ('분자', 'NNG'), ('구름', 'NNG'), ('의', 'JKG'), ('일부분', 'NNG'), ('이', 'JKS'), ('중력', 'NNG'), ('붕괴', 'NNG'), ('를', 'JKO'), ('일으키', 'VV'), ('면서', 'ECE'), ('형성', 'NNG'), ('되', 'XSV'), ('었', 'EPT'), ('다', 'EFN'), ('.', 'SF')]\n"
     ]
    }
   ],
   "source": [
    "text = '''태양계는 지금으로부터 약 46억 년 전 거대한 분자 구름의 일부분이 중력 붕괴를 일으키면서 형성되었다.'''\n",
    "\n",
    "kkma = Kkma()\n",
    "#문장 분석\n",
    "print(kkma.sentences(text))\n",
    "#단어 분석\n",
    "print(kkma.nouns(text))\n",
    "#형태소 분석 - 데이터의 길이에 따라 시간이 오래 걸릴 수 있음\n",
    "print(kkma.pos(text))"
   ]
  },
  {
   "cell_type": "code",
   "execution_count": 140,
   "id": "460d4781",
   "metadata": {},
   "outputs": [
    {
     "name": "stdout",
     "output_type": "stream",
     "text": [
      "['태양계', '지금', '약', '46억', '년', '전', '거대', '자', '구름', '일부분', '중력', '붕괴', '형성']\n",
      "['태양계', '는', '지금', '으로부터', '약', '46억', '년', '전', '거대', '하', 'ㄴ', '불', 'ㄴ', '자', '구름', '의', '일부분', '이', '중력', '붕괴', '를', '일으키', '면서', '형성', '되', '었다', '.']\n",
      "[('태양계', 'N'), ('는', 'J'), ('지금', 'N'), ('으로부터', 'J'), ('약', 'N'), ('46억', 'N'), ('년', 'N'), ('전', 'N'), ('거대', 'N'), ('하', 'X'), ('ㄴ', 'E'), ('불', 'P'), ('ㄴ', 'E'), ('자', 'N'), ('구름', 'N'), ('의', 'J'), ('일부분', 'N'), ('이', 'J'), ('중력', 'N'), ('붕괴', 'N'), ('를', 'J'), ('일으키', 'P'), ('면서', 'E'), ('형성', 'N'), ('되', 'X'), ('었다', 'E'), ('.', 'S')]\n"
     ]
    }
   ],
   "source": [
    "#다른 형태소 분석기\n",
    "#성능은 Kkma가 우수하다고 알려져 있는데 메모리 사용량이 많고 속도가 조금 느림\n",
    "\n",
    "hannanum = Hannanum()\n",
    "#단어 분석\n",
    "print(hannanum.nouns(text))\n",
    "#형태소 분석 - 데이터의 길이에 따라 시간이 오래 걸릴 수 있음\n",
    "print(hannanum.morphs(text))\n",
    "print(hannanum.pos(text))"
   ]
  },
  {
   "cell_type": "markdown",
   "id": "128fe415",
   "metadata": {},
   "source": [
    "## BoW"
   ]
  },
  {
   "cell_type": "code",
   "execution_count": 145,
   "id": "7795ae5d",
   "metadata": {},
   "outputs": [
    {
     "name": "stdout",
     "output_type": "stream",
     "text": [
      "  (0, 7)\t1\n",
      "  (0, 8)\t2\n",
      "  (1, 9)\t1\n",
      "  (1, 5)\t1\n",
      "  (1, 3)\t1\n",
      "  (2, 4)\t1\n",
      "  (2, 6)\t1\n",
      "  (3, 2)\t1\n",
      "  (3, 0)\t1\n",
      "  (3, 1)\t1\n",
      "['beats' 'both' 'germany' 'good' 'hate' 'is' 'japan' 'love' 'newziland'\n",
      " 'sweden']\n"
     ]
    },
    {
     "data": {
      "text/plain": [
       "array([[0, 0, 0, 0, 0, 0, 0, 1, 2, 0],\n",
       "       [0, 0, 0, 1, 0, 1, 0, 0, 0, 1],\n",
       "       [0, 0, 0, 0, 1, 0, 1, 0, 0, 0],\n",
       "       [1, 1, 1, 0, 0, 0, 0, 0, 0, 0]], dtype=int64)"
      ]
     },
     "execution_count": 145,
     "metadata": {},
     "output_type": "execute_result"
    }
   ],
   "source": [
    "#Bag of Words - 단어의 개수 \n",
    "from sklearn.feature_extraction.text import CountVectorizer\n",
    "\n",
    "text_data = np.array([\n",
    "    'I love Newziland newziland',\n",
    "    'Sweden is good',\n",
    "    'I hate Japan',\n",
    "    'Germany beats both'\n",
    "])\n",
    "\n",
    "count = CountVectorizer()\n",
    "bag_of_words = count.fit_transform(text_data)\n",
    "#희소 행렬의 형태로 출력\n",
    "print(bag_of_words)\n",
    "\n",
    "#특성 이름 확인\n",
    "print(count.get_feature_names_out())\n",
    "\n",
    "#밀집 행렬로 변환\n",
    "bag_of_words.toarray()"
   ]
  },
  {
   "cell_type": "code",
   "execution_count": 149,
   "id": "64cc4bfb",
   "metadata": {},
   "outputs": [
    {
     "name": "stdout",
     "output_type": "stream",
     "text": [
      "{'love': 8, 'newziland': 9, 'sweden': 11, 'is': 5, 'good': 3, 'hate': 4, 'japan': 6, 'germany': 2, 'beats': 0, 'both': 1, 'korea': 7, 'top': 13, 'of': 10, 'the': 12}\n"
     ]
    },
    {
     "data": {
      "text/plain": [
       "array([[0.        , 0.        , 0.        , 0.        , 0.        ,\n",
       "        0.        , 0.        , 0.        , 0.4472136 , 0.89442719,\n",
       "        0.        , 0.        , 0.        , 0.        ],\n",
       "       [0.        , 0.        , 0.        , 0.61418897, 0.        ,\n",
       "        0.49552379, 0.        , 0.        , 0.        , 0.        ,\n",
       "        0.        , 0.61418897, 0.        , 0.        ],\n",
       "       [0.        , 0.        , 0.        , 0.        , 0.70710678,\n",
       "        0.        , 0.70710678, 0.        , 0.        , 0.        ,\n",
       "        0.        , 0.        , 0.        , 0.        ],\n",
       "       [0.57735027, 0.57735027, 0.57735027, 0.        , 0.        ,\n",
       "        0.        , 0.        , 0.        , 0.        , 0.        ,\n",
       "        0.        , 0.        , 0.        , 0.        ],\n",
       "       [0.        , 0.        , 0.        , 0.        , 0.        ,\n",
       "        0.29167942, 0.        , 0.36152912, 0.        , 0.        ,\n",
       "        0.36152912, 0.        , 0.36152912, 0.72305823]])"
      ]
     },
     "execution_count": 149,
     "metadata": {},
     "output_type": "execute_result"
    }
   ],
   "source": [
    "from sklearn.feature_extraction.text import TfidfVectorizer\n",
    "\n",
    "text_data = np.array([\n",
    "    'I love Newziland newziland',\n",
    "    'Sweden is good',\n",
    "    'I hate Japan',\n",
    "    'Germany beats both',\n",
    "    'Korea is top of the top'\n",
    "])\n",
    "\n",
    "#tf - idf 객체 생성\n",
    "tfidf = TfidfVectorizer()\n",
    "feature_matrix = tfidf.fit_transform(text_data)\n",
    "\n",
    "#print(featur_matrix)\n",
    "print(tfidf.vocabulary_)\n",
    "feature_matrix.toarray()"
   ]
  },
  {
   "cell_type": "markdown",
   "id": "1138f670",
   "metadata": {},
   "source": [
    "# 시계열 데이터"
   ]
  },
  {
   "cell_type": "markdown",
   "id": "05f0c683",
   "metadata": {},
   "source": [
    "## 문자열 -> 시계열 변환"
   ]
  },
  {
   "cell_type": "code",
   "execution_count": 5,
   "id": "e266fe55",
   "metadata": {},
   "outputs": [
    {
     "data": {
      "text/html": [
       "<div>\n",
       "<style scoped>\n",
       "    .dataframe tbody tr th:only-of-type {\n",
       "        vertical-align: middle;\n",
       "    }\n",
       "\n",
       "    .dataframe tbody tr th {\n",
       "        vertical-align: top;\n",
       "    }\n",
       "\n",
       "    .dataframe thead th {\n",
       "        text-align: right;\n",
       "    }\n",
       "</style>\n",
       "<table border=\"1\" class=\"dataframe\">\n",
       "  <thead>\n",
       "    <tr style=\"text-align: right;\">\n",
       "      <th></th>\n",
       "      <th>Date</th>\n",
       "      <th>Close</th>\n",
       "      <th>Start</th>\n",
       "      <th>High</th>\n",
       "      <th>Low</th>\n",
       "      <th>Volume</th>\n",
       "    </tr>\n",
       "  </thead>\n",
       "  <tbody>\n",
       "    <tr>\n",
       "      <th>0</th>\n",
       "      <td>2018-07-02</td>\n",
       "      <td>10100</td>\n",
       "      <td>10850</td>\n",
       "      <td>10900</td>\n",
       "      <td>10000</td>\n",
       "      <td>137977</td>\n",
       "    </tr>\n",
       "    <tr>\n",
       "      <th>1</th>\n",
       "      <td>2018-06-29</td>\n",
       "      <td>10700</td>\n",
       "      <td>10550</td>\n",
       "      <td>10900</td>\n",
       "      <td>9990</td>\n",
       "      <td>170253</td>\n",
       "    </tr>\n",
       "    <tr>\n",
       "      <th>2</th>\n",
       "      <td>2018-06-28</td>\n",
       "      <td>10400</td>\n",
       "      <td>10900</td>\n",
       "      <td>10950</td>\n",
       "      <td>10150</td>\n",
       "      <td>155769</td>\n",
       "    </tr>\n",
       "    <tr>\n",
       "      <th>3</th>\n",
       "      <td>2018-06-27</td>\n",
       "      <td>10900</td>\n",
       "      <td>10800</td>\n",
       "      <td>11050</td>\n",
       "      <td>10500</td>\n",
       "      <td>133548</td>\n",
       "    </tr>\n",
       "    <tr>\n",
       "      <th>4</th>\n",
       "      <td>2018-06-26</td>\n",
       "      <td>10800</td>\n",
       "      <td>10900</td>\n",
       "      <td>11000</td>\n",
       "      <td>10700</td>\n",
       "      <td>63039</td>\n",
       "    </tr>\n",
       "  </tbody>\n",
       "</table>\n",
       "</div>"
      ],
      "text/plain": [
       "         Date  Close  Start   High    Low  Volume\n",
       "0  2018-07-02  10100  10850  10900  10000  137977\n",
       "1  2018-06-29  10700  10550  10900   9990  170253\n",
       "2  2018-06-28  10400  10900  10950  10150  155769\n",
       "3  2018-06-27  10900  10800  11050  10500  133548\n",
       "4  2018-06-26  10800  10900  11000  10700   63039"
      ]
     },
     "execution_count": 5,
     "metadata": {},
     "output_type": "execute_result"
    }
   ],
   "source": [
    "#데이터 읽어오기 - stock-data.csv\n",
    "df = pd.read_csv(file_path+'stock-data.csv')\n",
    "df.head()"
   ]
  },
  {
   "cell_type": "code",
   "execution_count": 6,
   "id": "c84aece3",
   "metadata": {},
   "outputs": [
    {
     "name": "stdout",
     "output_type": "stream",
     "text": [
      "<class 'pandas.core.frame.DataFrame'>\n",
      "RangeIndex: 20 entries, 0 to 19\n",
      "Data columns (total 7 columns):\n",
      " #   Column   Non-Null Count  Dtype         \n",
      "---  ------   --------------  -----         \n",
      " 0   Date     20 non-null     object        \n",
      " 1   Close    20 non-null     int64         \n",
      " 2   Start    20 non-null     int64         \n",
      " 3   High     20 non-null     int64         \n",
      " 4   Low      20 non-null     int64         \n",
      " 5   Volume   20 non-null     int64         \n",
      " 6   NewDate  20 non-null     datetime64[ns]\n",
      "dtypes: datetime64[ns](1), int64(5), object(1)\n",
      "memory usage: 1.2+ KB\n"
     ]
    }
   ],
   "source": [
    "#날짜 자료형으로 변경해서 새로운 필드로 저장\n",
    "df['NewDate'] = pd.to_datetime(df['Date'])\n",
    "df.info()"
   ]
  },
  {
   "cell_type": "code",
   "execution_count": 7,
   "id": "a2d0cfab",
   "metadata": {},
   "outputs": [
    {
     "data": {
      "text/html": [
       "<div>\n",
       "<style scoped>\n",
       "    .dataframe tbody tr th:only-of-type {\n",
       "        vertical-align: middle;\n",
       "    }\n",
       "\n",
       "    .dataframe tbody tr th {\n",
       "        vertical-align: top;\n",
       "    }\n",
       "\n",
       "    .dataframe thead th {\n",
       "        text-align: right;\n",
       "    }\n",
       "</style>\n",
       "<table border=\"1\" class=\"dataframe\">\n",
       "  <thead>\n",
       "    <tr style=\"text-align: right;\">\n",
       "      <th></th>\n",
       "      <th>Close</th>\n",
       "      <th>Start</th>\n",
       "      <th>High</th>\n",
       "      <th>Low</th>\n",
       "      <th>Volume</th>\n",
       "    </tr>\n",
       "    <tr>\n",
       "      <th>NewDate</th>\n",
       "      <th></th>\n",
       "      <th></th>\n",
       "      <th></th>\n",
       "      <th></th>\n",
       "      <th></th>\n",
       "    </tr>\n",
       "  </thead>\n",
       "  <tbody>\n",
       "    <tr>\n",
       "      <th>2018-07-02</th>\n",
       "      <td>10100</td>\n",
       "      <td>10850</td>\n",
       "      <td>10900</td>\n",
       "      <td>10000</td>\n",
       "      <td>137977</td>\n",
       "    </tr>\n",
       "    <tr>\n",
       "      <th>2018-06-29</th>\n",
       "      <td>10700</td>\n",
       "      <td>10550</td>\n",
       "      <td>10900</td>\n",
       "      <td>9990</td>\n",
       "      <td>170253</td>\n",
       "    </tr>\n",
       "    <tr>\n",
       "      <th>2018-06-28</th>\n",
       "      <td>10400</td>\n",
       "      <td>10900</td>\n",
       "      <td>10950</td>\n",
       "      <td>10150</td>\n",
       "      <td>155769</td>\n",
       "    </tr>\n",
       "    <tr>\n",
       "      <th>2018-06-27</th>\n",
       "      <td>10900</td>\n",
       "      <td>10800</td>\n",
       "      <td>11050</td>\n",
       "      <td>10500</td>\n",
       "      <td>133548</td>\n",
       "    </tr>\n",
       "    <tr>\n",
       "      <th>2018-06-26</th>\n",
       "      <td>10800</td>\n",
       "      <td>10900</td>\n",
       "      <td>11000</td>\n",
       "      <td>10700</td>\n",
       "      <td>63039</td>\n",
       "    </tr>\n",
       "  </tbody>\n",
       "</table>\n",
       "</div>"
      ],
      "text/plain": [
       "            Close  Start   High    Low  Volume\n",
       "NewDate                                       \n",
       "2018-07-02  10100  10850  10900  10000  137977\n",
       "2018-06-29  10700  10550  10900   9990  170253\n",
       "2018-06-28  10400  10900  10950  10150  155769\n",
       "2018-06-27  10900  10800  11050  10500  133548\n",
       "2018-06-26  10800  10900  11000  10700   63039"
      ]
     },
     "execution_count": 7,
     "metadata": {},
     "output_type": "execute_result"
    }
   ],
   "source": [
    "#새로 만들어진 날짜 컬럼을 인덱스로 지정하고 기존의 날짜 컬럼 삭제\n",
    "df.set_index('NewDate', inplace = True)\n",
    "df.drop('Date', axis = 1, inplace = True)\n",
    "df.head()"
   ]
  },
  {
   "cell_type": "markdown",
   "id": "a4b93384",
   "metadata": {},
   "source": []
  },
  {
   "cell_type": "code",
   "execution_count": null,
   "id": "9f6ecfd8",
   "metadata": {},
   "outputs": [],
   "source": []
  },
  {
   "cell_type": "code",
   "execution_count": 20,
   "id": "c888bfa9",
   "metadata": {},
   "outputs": [
    {
     "name": "stdout",
     "output_type": "stream",
     "text": [
      "[array(['03-04-2005 11:35PM', '04-0902005 09:09 TM'], dtype='<U19')]\n",
      "<class 'pandas.core.frame.DataFrame'>\n",
      "RangeIndex: 2 entries, 0 to 1\n",
      "Data columns (total 1 columns):\n",
      " #   Column  Non-Null Count  Dtype \n",
      "---  ------  --------------  ----- \n",
      " 0   0       2 non-null      object\n",
      "dtypes: object(1)\n",
      "memory usage: 144.0+ bytes\n",
      "None\n"
     ]
    },
    {
     "data": {
      "text/plain": [
       "\"\\nprint(pd.DataFrame([pd.to_datetime(date, format = '%d-%m-%Y %I:%M %p', errors = 'raise')\\n          for date in date_strings]).info()) #자료형 통일\\n\""
      ]
     },
     "execution_count": 20,
     "metadata": {},
     "output_type": "execute_result"
    }
   ],
   "source": [
    "#첫 번째 데이터 - 날짜로 변경 가능한 데이터\n",
    "#두 번째 데이터 - 날짜로 변경 불가능한 데이터 \n",
    "date_strings = np.array([\n",
    "    '03-04-2005 11:35PM', '04-0902005 09:09 TM'\n",
    "])\n",
    "\n",
    "#예외 발생\n",
    "#[pd.to_datetime(date, format = '%d-%m-%Y %I:%M %p') for date in date_strings]\n",
    "#예외가 발생하면 문자열 그대로 저장\n",
    "#list는 2ㅐ의 데이터 자료형이 달라도 문제가 없지만\n",
    "#array나 DataFrame으로 변환해서 사용하는 경우에는 문제가 발생할 수 있음\n",
    "#-> 이 방법 권장 X\n",
    "print([np.array([pd.to_datetime(date, format = '%d-%m-%Y %I:%M %p', errors = 'ignore')\n",
    "          for date in date_strings])])\n",
    "print(pd.DataFrame([pd.to_datetime(date, format = '%d-%m-%Y %I:%M %p', errors = 'ignore')\n",
    "          for date in date_strings]).info()) #자료형 통일\n",
    "\n",
    "#변환이 안되는 경우는 NaT로 설정: 결측치로 처리\n",
    "'''\n",
    "print(pd.DataFrame([pd.to_datetime(date, format = '%d-%m-%Y %I:%M %p', errors = 'coerce')\n",
    "          for date in date_strings]).info()) \n",
    "'''\n",
    "\n",
    "#예외 발생 시키기\n",
    "'''\n",
    "print(pd.DataFrame([pd.to_datetime(date, format = '%d-%m-%Y %I:%M %p', errors = 'raise')\n",
    "          for date in date_strings]).info()) #자료형 통일\n",
    "'''"
   ]
  },
  {
   "cell_type": "code",
   "execution_count": 22,
   "id": "c7bdce18",
   "metadata": {},
   "outputs": [
    {
     "data": {
      "text/plain": [
       "PeriodIndex(['2023-01', '2023-02', '2023-02', '2023-04'], dtype='period[M]')"
      ]
     },
     "execution_count": 22,
     "metadata": {},
     "output_type": "execute_result"
    }
   ],
   "source": [
    "date_strings = np.array([\n",
    "    '2023-01-01','2023-02-02', '2023-02-03', '2023-04-05'\n",
    "])\n",
    "\n",
    "pddates = pd.to_datetime(date_strings)\n",
    "#월 단위로 변경\n",
    "pr_months = pddates.to_period(freq = 'M')\n",
    "pr_months"
   ]
  },
  {
   "cell_type": "markdown",
   "id": "073e0b3a",
   "metadata": {},
   "source": [
    "## 주기를 갖는 날짜 생성"
   ]
  },
  {
   "cell_type": "code",
   "execution_count": 25,
   "id": "99e67dfa",
   "metadata": {},
   "outputs": [
    {
     "data": {
      "text/plain": [
       "DatetimeIndex(['2023-01-01 00:00:00+09:00', '2023-02-01 00:00:00+09:00',\n",
       "               '2023-03-01 00:00:00+09:00', '2023-04-01 00:00:00+09:00',\n",
       "               '2023-05-01 00:00:00+09:00', '2023-06-01 00:00:00+09:00',\n",
       "               '2023-07-01 00:00:00+09:00', '2023-08-01 00:00:00+09:00',\n",
       "               '2023-09-01 00:00:00+09:00', '2023-10-01 00:00:00+09:00',\n",
       "               '2023-11-01 00:00:00+09:00', '2023-12-01 00:00:00+09:00'],\n",
       "              dtype='datetime64[ns, Asia/Seoul]', freq='MS')"
      ]
     },
     "execution_count": 25,
     "metadata": {},
     "output_type": "execute_result"
    }
   ],
   "source": [
    "#2023년 1월1일 부터 월 단위로 12개를 생성\n",
    "ts_ms = pd.date_range(start = '2023-01-01', periods = 12, freq = 'MS', tz= 'Asia/Seoul')\n",
    "ts_ms"
   ]
  },
  {
   "cell_type": "markdown",
   "id": "8b135a4e",
   "metadata": {},
   "source": [
    "## datetime64 - 인덱스 설정 사용"
   ]
  },
  {
   "cell_type": "code",
   "execution_count": 28,
   "id": "18679d99",
   "metadata": {},
   "outputs": [
    {
     "data": {
      "text/html": [
       "<div>\n",
       "<style scoped>\n",
       "    .dataframe tbody tr th:only-of-type {\n",
       "        vertical-align: middle;\n",
       "    }\n",
       "\n",
       "    .dataframe tbody tr th {\n",
       "        vertical-align: top;\n",
       "    }\n",
       "\n",
       "    .dataframe thead th {\n",
       "        text-align: right;\n",
       "    }\n",
       "</style>\n",
       "<table border=\"1\" class=\"dataframe\">\n",
       "  <thead>\n",
       "    <tr style=\"text-align: right;\">\n",
       "      <th></th>\n",
       "      <th>Date</th>\n",
       "      <th>Close</th>\n",
       "      <th>Start</th>\n",
       "      <th>High</th>\n",
       "      <th>Low</th>\n",
       "      <th>Volume</th>\n",
       "    </tr>\n",
       "    <tr>\n",
       "      <th>new_Date</th>\n",
       "      <th></th>\n",
       "      <th></th>\n",
       "      <th></th>\n",
       "      <th></th>\n",
       "      <th></th>\n",
       "      <th></th>\n",
       "    </tr>\n",
       "  </thead>\n",
       "  <tbody>\n",
       "    <tr>\n",
       "      <th>2018-07-02</th>\n",
       "      <td>2018-07-02</td>\n",
       "      <td>10100</td>\n",
       "      <td>10850</td>\n",
       "      <td>10900</td>\n",
       "      <td>10000</td>\n",
       "      <td>137977</td>\n",
       "    </tr>\n",
       "  </tbody>\n",
       "</table>\n",
       "</div>"
      ],
      "text/plain": [
       "                  Date  Close  Start   High    Low  Volume\n",
       "new_Date                                                  \n",
       "2018-07-02  2018-07-02  10100  10850  10900  10000  137977"
      ]
     },
     "execution_count": 28,
     "metadata": {},
     "output_type": "execute_result"
    }
   ],
   "source": [
    "#데이터 읽어와서 문자열 -> 날짜 변경\n",
    "df =pd.read_csv(file_path+'stock-data.csv')\n",
    "df['new_Date'] = pd.to_datetime(df['Date'])\n",
    "df.set_index('new_Date', inplace = True)\n",
    "df.head()\n",
    "\n",
    "#날짜 인덱스라서 날짜의 일부분을 가지고 인덱싱 가능\n",
    "df_y = df['2018']\n",
    "df_y.head()\n",
    "\n",
    "df_y = df['2018-07']\n",
    "df_y.head()"
   ]
  },
  {
   "cell_type": "code",
   "execution_count": 31,
   "id": "dcdd0fb8",
   "metadata": {},
   "outputs": [
    {
     "data": {
      "text/html": [
       "<div>\n",
       "<style scoped>\n",
       "    .dataframe tbody tr th:only-of-type {\n",
       "        vertical-align: middle;\n",
       "    }\n",
       "\n",
       "    .dataframe tbody tr th {\n",
       "        vertical-align: top;\n",
       "    }\n",
       "\n",
       "    .dataframe thead th {\n",
       "        text-align: right;\n",
       "    }\n",
       "</style>\n",
       "<table border=\"1\" class=\"dataframe\">\n",
       "  <thead>\n",
       "    <tr style=\"text-align: right;\">\n",
       "      <th></th>\n",
       "      <th>Start</th>\n",
       "      <th>High</th>\n",
       "      <th>Low</th>\n",
       "    </tr>\n",
       "    <tr>\n",
       "      <th>new_Date</th>\n",
       "      <th></th>\n",
       "      <th></th>\n",
       "      <th></th>\n",
       "    </tr>\n",
       "  </thead>\n",
       "  <tbody>\n",
       "    <tr>\n",
       "      <th>2018-06-29</th>\n",
       "      <td>10550</td>\n",
       "      <td>10900</td>\n",
       "      <td>9990</td>\n",
       "    </tr>\n",
       "    <tr>\n",
       "      <th>2018-06-28</th>\n",
       "      <td>10900</td>\n",
       "      <td>10950</td>\n",
       "      <td>10150</td>\n",
       "    </tr>\n",
       "    <tr>\n",
       "      <th>2018-06-27</th>\n",
       "      <td>10800</td>\n",
       "      <td>11050</td>\n",
       "      <td>10500</td>\n",
       "    </tr>\n",
       "    <tr>\n",
       "      <th>2018-06-26</th>\n",
       "      <td>10900</td>\n",
       "      <td>11000</td>\n",
       "      <td>10700</td>\n",
       "    </tr>\n",
       "    <tr>\n",
       "      <th>2018-06-25</th>\n",
       "      <td>11400</td>\n",
       "      <td>11450</td>\n",
       "      <td>11000</td>\n",
       "    </tr>\n",
       "  </tbody>\n",
       "</table>\n",
       "</div>"
      ],
      "text/plain": [
       "            Start   High    Low\n",
       "new_Date                       \n",
       "2018-06-29  10550  10900   9990\n",
       "2018-06-28  10900  10950  10150\n",
       "2018-06-27  10800  11050  10500\n",
       "2018-06-26  10900  11000  10700\n",
       "2018-06-25  11400  11450  11000"
      ]
     },
     "execution_count": 31,
     "metadata": {},
     "output_type": "execute_result"
    }
   ],
   "source": [
    "df_y = df.loc['2018-06-25':'2018-06-30']\n",
    "df_y.head()\n",
    "\n",
    "df_y = df.loc['2018-06-25':'2018-06-30', 'Start':'Low']\n",
    "df_y.head()"
   ]
  },
  {
   "cell_type": "markdown",
   "id": "67e0225f",
   "metadata": {},
   "source": [
    "## 결측치 처리"
   ]
  },
  {
   "cell_type": "code",
   "execution_count": 36,
   "id": "11a25a9c",
   "metadata": {},
   "outputs": [
    {
     "data": {
      "text/html": [
       "<div>\n",
       "<style scoped>\n",
       "    .dataframe tbody tr th:only-of-type {\n",
       "        vertical-align: middle;\n",
       "    }\n",
       "\n",
       "    .dataframe tbody tr th {\n",
       "        vertical-align: top;\n",
       "    }\n",
       "\n",
       "    .dataframe thead th {\n",
       "        text-align: right;\n",
       "    }\n",
       "</style>\n",
       "<table border=\"1\" class=\"dataframe\">\n",
       "  <thead>\n",
       "    <tr style=\"text-align: right;\">\n",
       "      <th></th>\n",
       "      <th>Sales</th>\n",
       "    </tr>\n",
       "  </thead>\n",
       "  <tbody>\n",
       "    <tr>\n",
       "      <th>2023-01-31</th>\n",
       "      <td>0.1</td>\n",
       "    </tr>\n",
       "    <tr>\n",
       "      <th>2023-02-28</th>\n",
       "      <td>2.0</td>\n",
       "    </tr>\n",
       "    <tr>\n",
       "      <th>2023-03-31</th>\n",
       "      <td>NaN</td>\n",
       "    </tr>\n",
       "    <tr>\n",
       "      <th>2023-04-30</th>\n",
       "      <td>NaN</td>\n",
       "    </tr>\n",
       "    <tr>\n",
       "      <th>2023-05-31</th>\n",
       "      <td>5.0</td>\n",
       "    </tr>\n",
       "  </tbody>\n",
       "</table>\n",
       "</div>"
      ],
      "text/plain": [
       "            Sales\n",
       "2023-01-31    0.1\n",
       "2023-02-28    2.0\n",
       "2023-03-31    NaN\n",
       "2023-04-30    NaN\n",
       "2023-05-31    5.0"
      ]
     },
     "execution_count": 36,
     "metadata": {},
     "output_type": "execute_result"
    }
   ],
   "source": [
    "time_index = pd.date_range('01-01-2023', periods = 5, freq = 'M')\n",
    "dataframe = pd.DataFrame(index = time_index)\n",
    "dataframe['Sales'] = [0.1,2.0,np.nan, np.nan, 5.0]\n",
    "dataframe\n",
    "\n",
    "#앞의 데이터로 채우기\n",
    "#dataframe.ffill()\n",
    "\n",
    "#선형 보간 - 1차\n",
    "#dataframe.interpolate()\n",
    "\n",
    "#비선형 보간 - 다항 \n",
    "#dataframe.interpolate(method = 'quadratic')"
   ]
  },
  {
   "cell_type": "code",
   "execution_count": 39,
   "id": "cde31bd6",
   "metadata": {},
   "outputs": [
    {
     "data": {
      "text/html": [
       "<div>\n",
       "<style scoped>\n",
       "    .dataframe tbody tr th:only-of-type {\n",
       "        vertical-align: middle;\n",
       "    }\n",
       "\n",
       "    .dataframe tbody tr th {\n",
       "        vertical-align: top;\n",
       "    }\n",
       "\n",
       "    .dataframe thead th {\n",
       "        text-align: right;\n",
       "    }\n",
       "</style>\n",
       "<table border=\"1\" class=\"dataframe\">\n",
       "  <thead>\n",
       "    <tr style=\"text-align: right;\">\n",
       "      <th></th>\n",
       "      <th>Sales</th>\n",
       "      <th>Stock_Price</th>\n",
       "    </tr>\n",
       "  </thead>\n",
       "  <tbody>\n",
       "    <tr>\n",
       "      <th>2023-01-31</th>\n",
       "      <td>0.100000</td>\n",
       "      <td>1.000000</td>\n",
       "    </tr>\n",
       "    <tr>\n",
       "      <th>2023-02-28</th>\n",
       "      <td>1.366667</td>\n",
       "      <td>1.666667</td>\n",
       "    </tr>\n",
       "    <tr>\n",
       "      <th>2023-03-31</th>\n",
       "      <td>1.366667</td>\n",
       "      <td>2.428571</td>\n",
       "    </tr>\n",
       "    <tr>\n",
       "      <th>2023-04-30</th>\n",
       "      <td>1.366667</td>\n",
       "      <td>3.266667</td>\n",
       "    </tr>\n",
       "    <tr>\n",
       "      <th>2023-05-31</th>\n",
       "      <td>4.426316</td>\n",
       "      <td>4.161290</td>\n",
       "    </tr>\n",
       "  </tbody>\n",
       "</table>\n",
       "</div>"
      ],
      "text/plain": [
       "               Sales  Stock_Price\n",
       "2023-01-31  0.100000     1.000000\n",
       "2023-02-28  1.366667     1.666667\n",
       "2023-03-31  1.366667     2.428571\n",
       "2023-04-30  1.366667     3.266667\n",
       "2023-05-31  4.426316     4.161290"
      ]
     },
     "execution_count": 39,
     "metadata": {},
     "output_type": "execute_result"
    }
   ],
   "source": [
    "dataframe['Stock_Price'] = [1,2,3,4,5]\n",
    "#단순 이동 평균\n",
    "dataframe.rolling(window = 3).mean()\n",
    "#지수 이동 평균\n",
    "dataframe.ewm(span = 3).mean()"
   ]
  },
  {
   "cell_type": "code",
   "execution_count": null,
   "id": "bd82f8ee",
   "metadata": {},
   "outputs": [],
   "source": []
  }
 ],
 "metadata": {
  "kernelspec": {
   "display_name": "Python 3 (ipykernel)",
   "language": "python",
   "name": "python3"
  },
  "language_info": {
   "codemirror_mode": {
    "name": "ipython",
    "version": 3
   },
   "file_extension": ".py",
   "mimetype": "text/x-python",
   "name": "python",
   "nbconvert_exporter": "python",
   "pygments_lexer": "ipython3",
   "version": "3.10.9"
  }
 },
 "nbformat": 4,
 "nbformat_minor": 5
}
