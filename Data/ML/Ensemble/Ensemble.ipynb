{
 "cells": [
  {
   "cell_type": "markdown",
   "metadata": {},
   "source": [
    "# 기본 설정"
   ]
  },
  {
   "cell_type": "code",
   "execution_count": 1,
   "metadata": {},
   "outputs": [],
   "source": [
    "import sys\n",
    "# sklearn ≥0.20 필수\n",
    "import sklearn\n",
    "assert sklearn.__version__ >= \"0.20\"\n",
    "# 공통 모듈 임포트\n",
    "import numpy as np\n",
    "import pandas as pd\n",
    "import seaborn as sns\n",
    "import os\n",
    "import platform\n",
    "# 노트북 실행 결과를 동일하게 유지하기 위해\n",
    "np.random.seed(42)"
   ]
  },
  {
   "cell_type": "code",
   "execution_count": 2,
   "metadata": {},
   "outputs": [],
   "source": [
    "# 깔끔한 그래프 출력을 위해\n",
    "%matplotlib inline\n",
    "import matplotlib as mpl\n",
    "import matplotlib.pyplot as plt\n",
    "from matplotlib import font_manager, rc\n",
    "mpl.rc('axes', labelsize=14)\n",
    "mpl.rc('xtick', labelsize=12)\n",
    "mpl.rc('ytick', labelsize=12)"
   ]
  },
  {
   "cell_type": "code",
   "execution_count": 3,
   "metadata": {},
   "outputs": [],
   "source": [
    "# 그림을 저장할 위치\n",
    "PROJECT_ROOT_DIR = \".\"\n",
    "CHAPTER_ID = \"ensembles\"\n",
    "IMAGES_PATH = os.path.join(PROJECT_ROOT_DIR, \"images\", CHAPTER_ID)\n",
    "os.makedirs(IMAGES_PATH, exist_ok=True)"
   ]
  },
  {
   "cell_type": "code",
   "execution_count": 4,
   "metadata": {},
   "outputs": [],
   "source": [
    "file_path = 'C:\\\\Users\\\\USER\\\\Documents\\\\LGhv_practice\\\\resource\\\\ml\\\\data/'"
   ]
  },
  {
   "cell_type": "code",
   "execution_count": 5,
   "metadata": {},
   "outputs": [],
   "source": [
    "#한글 설정\n",
    "#매킨토시의 경우\n",
    "if platform.system() == 'Darwin':\n",
    "    rc('font', family='AppleGothic')\n",
    "\n",
    "#윈도우의 경우\n",
    "elif platform.system() == 'Windows':\n",
    "    font_name = font_manager.FontProperties(fname=\"c:/Windows/Fonts/malgun.ttf\").get_name()\n",
    "    rc('font', family=font_name)"
   ]
  },
  {
   "cell_type": "code",
   "execution_count": 6,
   "metadata": {},
   "outputs": [],
   "source": [
    "#음수 표현을 위한 설정\n",
    "mpl.rcParams['axes.unicode_minus'] = False\n",
    "\n",
    "def save_fig(fig_id, tight_layout=True, fig_extension=\"png\", resolution=300):\n",
    "    path = os.path.join(IMAGES_PATH, fig_id + \".\" + fig_extension)\n",
    "    print(\"그림 저장:\", fig_id)\n",
    "    if tight_layout:\n",
    "        plt.tight_layout()\n",
    "    plt.savefig(path, format=fig_extension, dpi=resolution)"
   ]
  },
  {
   "cell_type": "code",
   "execution_count": 25,
   "metadata": {},
   "outputs": [],
   "source": [
    "from sklearn.model_selection import train_test_split\n",
    "from sklearn.metrics import confusion_matrix, accuracy_score\n",
    "from sklearn.metrics import precision_score, recall_score\n",
    "from sklearn.metrics import f1_score, roc_auc_score\n"
   ]
  },
  {
   "cell_type": "markdown",
   "metadata": {},
   "source": [
    "# Ensemble"
   ]
  },
  {
   "cell_type": "markdown",
   "metadata": {},
   "source": [
    "## 투표 기반 분류기"
   ]
  },
  {
   "cell_type": "code",
   "execution_count": 10,
   "metadata": {},
   "outputs": [
    {
     "data": {
      "text/plain": [
       "(array([[ 0.83103915, -0.25874875],\n",
       "        [ 1.18506381,  0.92038714],\n",
       "        [ 1.16402213, -0.45552558],\n",
       "        [-0.0236556 ,  1.08628844],\n",
       "        [ 0.48050273,  1.50942444]]),\n",
       " array([1, 0, 1, 0, 0], dtype=int64))"
      ]
     },
     "execution_count": 10,
     "metadata": {},
     "output_type": "execute_result"
    }
   ],
   "source": [
    "# 데이터 생성\n",
    "from sklearn.model_selection import train_test_split\n",
    "from sklearn.datasets import make_moons\n",
    "X, y = make_moons(n_samples=500, noise=0.30, random_state=42)\n",
    "X_train, X_test, y_train, y_test = train_test_split(X, y, random_state=42)\n",
    "\n",
    "X[:5], y[:5]"
   ]
  },
  {
   "cell_type": "code",
   "execution_count": 12,
   "metadata": {},
   "outputs": [
    {
     "data": {
      "text/html": [
       "<style>#sk-container-id-1 {color: black;background-color: white;}#sk-container-id-1 pre{padding: 0;}#sk-container-id-1 div.sk-toggleable {background-color: white;}#sk-container-id-1 label.sk-toggleable__label {cursor: pointer;display: block;width: 100%;margin-bottom: 0;padding: 0.3em;box-sizing: border-box;text-align: center;}#sk-container-id-1 label.sk-toggleable__label-arrow:before {content: \"▸\";float: left;margin-right: 0.25em;color: #696969;}#sk-container-id-1 label.sk-toggleable__label-arrow:hover:before {color: black;}#sk-container-id-1 div.sk-estimator:hover label.sk-toggleable__label-arrow:before {color: black;}#sk-container-id-1 div.sk-toggleable__content {max-height: 0;max-width: 0;overflow: hidden;text-align: left;background-color: #f0f8ff;}#sk-container-id-1 div.sk-toggleable__content pre {margin: 0.2em;color: black;border-radius: 0.25em;background-color: #f0f8ff;}#sk-container-id-1 input.sk-toggleable__control:checked~div.sk-toggleable__content {max-height: 200px;max-width: 100%;overflow: auto;}#sk-container-id-1 input.sk-toggleable__control:checked~label.sk-toggleable__label-arrow:before {content: \"▾\";}#sk-container-id-1 div.sk-estimator input.sk-toggleable__control:checked~label.sk-toggleable__label {background-color: #d4ebff;}#sk-container-id-1 div.sk-label input.sk-toggleable__control:checked~label.sk-toggleable__label {background-color: #d4ebff;}#sk-container-id-1 input.sk-hidden--visually {border: 0;clip: rect(1px 1px 1px 1px);clip: rect(1px, 1px, 1px, 1px);height: 1px;margin: -1px;overflow: hidden;padding: 0;position: absolute;width: 1px;}#sk-container-id-1 div.sk-estimator {font-family: monospace;background-color: #f0f8ff;border: 1px dotted black;border-radius: 0.25em;box-sizing: border-box;margin-bottom: 0.5em;}#sk-container-id-1 div.sk-estimator:hover {background-color: #d4ebff;}#sk-container-id-1 div.sk-parallel-item::after {content: \"\";width: 100%;border-bottom: 1px solid gray;flex-grow: 1;}#sk-container-id-1 div.sk-label:hover label.sk-toggleable__label {background-color: #d4ebff;}#sk-container-id-1 div.sk-serial::before {content: \"\";position: absolute;border-left: 1px solid gray;box-sizing: border-box;top: 0;bottom: 0;left: 50%;z-index: 0;}#sk-container-id-1 div.sk-serial {display: flex;flex-direction: column;align-items: center;background-color: white;padding-right: 0.2em;padding-left: 0.2em;position: relative;}#sk-container-id-1 div.sk-item {position: relative;z-index: 1;}#sk-container-id-1 div.sk-parallel {display: flex;align-items: stretch;justify-content: center;background-color: white;position: relative;}#sk-container-id-1 div.sk-item::before, #sk-container-id-1 div.sk-parallel-item::before {content: \"\";position: absolute;border-left: 1px solid gray;box-sizing: border-box;top: 0;bottom: 0;left: 50%;z-index: -1;}#sk-container-id-1 div.sk-parallel-item {display: flex;flex-direction: column;z-index: 1;position: relative;background-color: white;}#sk-container-id-1 div.sk-parallel-item:first-child::after {align-self: flex-end;width: 50%;}#sk-container-id-1 div.sk-parallel-item:last-child::after {align-self: flex-start;width: 50%;}#sk-container-id-1 div.sk-parallel-item:only-child::after {width: 0;}#sk-container-id-1 div.sk-dashed-wrapped {border: 1px dashed gray;margin: 0 0.4em 0.5em 0.4em;box-sizing: border-box;padding-bottom: 0.4em;background-color: white;}#sk-container-id-1 div.sk-label label {font-family: monospace;font-weight: bold;display: inline-block;line-height: 1.2em;}#sk-container-id-1 div.sk-label-container {text-align: center;}#sk-container-id-1 div.sk-container {/* jupyter's `normalize.less` sets `[hidden] { display: none; }` but bootstrap.min.css set `[hidden] { display: none !important; }` so we also need the `!important` here to be able to override the default hidden behavior on the sphinx rendered scikit-learn.org. See: https://github.com/scikit-learn/scikit-learn/issues/21755 */display: inline-block !important;position: relative;}#sk-container-id-1 div.sk-text-repr-fallback {display: none;}</style><div id=\"sk-container-id-1\" class=\"sk-top-container\"><div class=\"sk-text-repr-fallback\"><pre>VotingClassifier(estimators=[(&#x27;lr&#x27;, LogisticRegression(random_state=42)),\n",
       "                             (&#x27;rf&#x27;, RandomForestClassifier(random_state=42)),\n",
       "                             (&#x27;svc&#x27;, SVC(random_state=42))])</pre><b>In a Jupyter environment, please rerun this cell to show the HTML representation or trust the notebook. <br />On GitHub, the HTML representation is unable to render, please try loading this page with nbviewer.org.</b></div><div class=\"sk-container\" hidden><div class=\"sk-item sk-dashed-wrapped\"><div class=\"sk-label-container\"><div class=\"sk-label sk-toggleable\"><input class=\"sk-toggleable__control sk-hidden--visually\" id=\"sk-estimator-id-1\" type=\"checkbox\" ><label for=\"sk-estimator-id-1\" class=\"sk-toggleable__label sk-toggleable__label-arrow\">VotingClassifier</label><div class=\"sk-toggleable__content\"><pre>VotingClassifier(estimators=[(&#x27;lr&#x27;, LogisticRegression(random_state=42)),\n",
       "                             (&#x27;rf&#x27;, RandomForestClassifier(random_state=42)),\n",
       "                             (&#x27;svc&#x27;, SVC(random_state=42))])</pre></div></div></div><div class=\"sk-parallel\"><div class=\"sk-parallel-item\"><div class=\"sk-item\"><div class=\"sk-label-container\"><div class=\"sk-label sk-toggleable\"><label>lr</label></div></div><div class=\"sk-serial\"><div class=\"sk-item\"><div class=\"sk-estimator sk-toggleable\"><input class=\"sk-toggleable__control sk-hidden--visually\" id=\"sk-estimator-id-2\" type=\"checkbox\" ><label for=\"sk-estimator-id-2\" class=\"sk-toggleable__label sk-toggleable__label-arrow\">LogisticRegression</label><div class=\"sk-toggleable__content\"><pre>LogisticRegression(random_state=42)</pre></div></div></div></div></div></div><div class=\"sk-parallel-item\"><div class=\"sk-item\"><div class=\"sk-label-container\"><div class=\"sk-label sk-toggleable\"><label>rf</label></div></div><div class=\"sk-serial\"><div class=\"sk-item\"><div class=\"sk-estimator sk-toggleable\"><input class=\"sk-toggleable__control sk-hidden--visually\" id=\"sk-estimator-id-3\" type=\"checkbox\" ><label for=\"sk-estimator-id-3\" class=\"sk-toggleable__label sk-toggleable__label-arrow\">RandomForestClassifier</label><div class=\"sk-toggleable__content\"><pre>RandomForestClassifier(random_state=42)</pre></div></div></div></div></div></div><div class=\"sk-parallel-item\"><div class=\"sk-item\"><div class=\"sk-label-container\"><div class=\"sk-label sk-toggleable\"><label>svc</label></div></div><div class=\"sk-serial\"><div class=\"sk-item\"><div class=\"sk-estimator sk-toggleable\"><input class=\"sk-toggleable__control sk-hidden--visually\" id=\"sk-estimator-id-4\" type=\"checkbox\" ><label for=\"sk-estimator-id-4\" class=\"sk-toggleable__label sk-toggleable__label-arrow\">SVC</label><div class=\"sk-toggleable__content\"><pre>SVC(random_state=42)</pre></div></div></div></div></div></div></div></div></div></div>"
      ],
      "text/plain": [
       "VotingClassifier(estimators=[('lr', LogisticRegression(random_state=42)),\n",
       "                             ('rf', RandomForestClassifier(random_state=42)),\n",
       "                             ('svc', SVC(random_state=42))])"
      ]
     },
     "execution_count": 12,
     "metadata": {},
     "output_type": "execute_result"
    }
   ],
   "source": [
    "#모델 생성 및 훈련\n",
    "from sklearn.ensemble import RandomForestClassifier\n",
    "from sklearn.ensemble import VotingClassifier\n",
    "from sklearn.linear_model import LogisticRegression\n",
    "from sklearn.svm import SVC\n",
    "\n",
    "log_clf = LogisticRegression(solver=\"lbfgs\", random_state=42)\n",
    "rnd_clf = RandomForestClassifier(n_estimators=100, random_state=42)\n",
    "svm_clf = SVC(gamma=\"scale\", random_state=42)\n",
    "\n",
    "voting_clf = VotingClassifier(estimators=[('lr', log_clf), ('rf', rnd_clf), ('svc', svm_clf)], voting='hard')\n",
    "voting_clf.fit(X_train, y_train)"
   ]
  },
  {
   "cell_type": "code",
   "execution_count": 13,
   "metadata": {},
   "outputs": [
    {
     "name": "stdout",
     "output_type": "stream",
     "text": [
      "LogisticRegression 0.864\n",
      "RandomForestClassifier 0.896\n",
      "SVC 0.896\n",
      "VotingClassifier 0.912\n"
     ]
    }
   ],
   "source": [
    "#각 모델의 정확도 확인\n",
    "from sklearn.metrics import accuracy_score\n",
    "for clf in (log_clf, rnd_clf, svm_clf, voting_clf):\n",
    "    clf.fit(X_train, y_train)\n",
    "    y_pred = clf.predict(X_test)\n",
    "    print(clf.__class__.__name__, accuracy_score(y_test, y_pred))\n"
   ]
  },
  {
   "cell_type": "markdown",
   "metadata": {},
   "source": [
    "## 간접 투표 방식"
   ]
  },
  {
   "cell_type": "code",
   "execution_count": 14,
   "metadata": {},
   "outputs": [
    {
     "data": {
      "text/html": [
       "<style>#sk-container-id-2 {color: black;background-color: white;}#sk-container-id-2 pre{padding: 0;}#sk-container-id-2 div.sk-toggleable {background-color: white;}#sk-container-id-2 label.sk-toggleable__label {cursor: pointer;display: block;width: 100%;margin-bottom: 0;padding: 0.3em;box-sizing: border-box;text-align: center;}#sk-container-id-2 label.sk-toggleable__label-arrow:before {content: \"▸\";float: left;margin-right: 0.25em;color: #696969;}#sk-container-id-2 label.sk-toggleable__label-arrow:hover:before {color: black;}#sk-container-id-2 div.sk-estimator:hover label.sk-toggleable__label-arrow:before {color: black;}#sk-container-id-2 div.sk-toggleable__content {max-height: 0;max-width: 0;overflow: hidden;text-align: left;background-color: #f0f8ff;}#sk-container-id-2 div.sk-toggleable__content pre {margin: 0.2em;color: black;border-radius: 0.25em;background-color: #f0f8ff;}#sk-container-id-2 input.sk-toggleable__control:checked~div.sk-toggleable__content {max-height: 200px;max-width: 100%;overflow: auto;}#sk-container-id-2 input.sk-toggleable__control:checked~label.sk-toggleable__label-arrow:before {content: \"▾\";}#sk-container-id-2 div.sk-estimator input.sk-toggleable__control:checked~label.sk-toggleable__label {background-color: #d4ebff;}#sk-container-id-2 div.sk-label input.sk-toggleable__control:checked~label.sk-toggleable__label {background-color: #d4ebff;}#sk-container-id-2 input.sk-hidden--visually {border: 0;clip: rect(1px 1px 1px 1px);clip: rect(1px, 1px, 1px, 1px);height: 1px;margin: -1px;overflow: hidden;padding: 0;position: absolute;width: 1px;}#sk-container-id-2 div.sk-estimator {font-family: monospace;background-color: #f0f8ff;border: 1px dotted black;border-radius: 0.25em;box-sizing: border-box;margin-bottom: 0.5em;}#sk-container-id-2 div.sk-estimator:hover {background-color: #d4ebff;}#sk-container-id-2 div.sk-parallel-item::after {content: \"\";width: 100%;border-bottom: 1px solid gray;flex-grow: 1;}#sk-container-id-2 div.sk-label:hover label.sk-toggleable__label {background-color: #d4ebff;}#sk-container-id-2 div.sk-serial::before {content: \"\";position: absolute;border-left: 1px solid gray;box-sizing: border-box;top: 0;bottom: 0;left: 50%;z-index: 0;}#sk-container-id-2 div.sk-serial {display: flex;flex-direction: column;align-items: center;background-color: white;padding-right: 0.2em;padding-left: 0.2em;position: relative;}#sk-container-id-2 div.sk-item {position: relative;z-index: 1;}#sk-container-id-2 div.sk-parallel {display: flex;align-items: stretch;justify-content: center;background-color: white;position: relative;}#sk-container-id-2 div.sk-item::before, #sk-container-id-2 div.sk-parallel-item::before {content: \"\";position: absolute;border-left: 1px solid gray;box-sizing: border-box;top: 0;bottom: 0;left: 50%;z-index: -1;}#sk-container-id-2 div.sk-parallel-item {display: flex;flex-direction: column;z-index: 1;position: relative;background-color: white;}#sk-container-id-2 div.sk-parallel-item:first-child::after {align-self: flex-end;width: 50%;}#sk-container-id-2 div.sk-parallel-item:last-child::after {align-self: flex-start;width: 50%;}#sk-container-id-2 div.sk-parallel-item:only-child::after {width: 0;}#sk-container-id-2 div.sk-dashed-wrapped {border: 1px dashed gray;margin: 0 0.4em 0.5em 0.4em;box-sizing: border-box;padding-bottom: 0.4em;background-color: white;}#sk-container-id-2 div.sk-label label {font-family: monospace;font-weight: bold;display: inline-block;line-height: 1.2em;}#sk-container-id-2 div.sk-label-container {text-align: center;}#sk-container-id-2 div.sk-container {/* jupyter's `normalize.less` sets `[hidden] { display: none; }` but bootstrap.min.css set `[hidden] { display: none !important; }` so we also need the `!important` here to be able to override the default hidden behavior on the sphinx rendered scikit-learn.org. See: https://github.com/scikit-learn/scikit-learn/issues/21755 */display: inline-block !important;position: relative;}#sk-container-id-2 div.sk-text-repr-fallback {display: none;}</style><div id=\"sk-container-id-2\" class=\"sk-top-container\"><div class=\"sk-text-repr-fallback\"><pre>VotingClassifier(estimators=[(&#x27;lr&#x27;, LogisticRegression(random_state=42)),\n",
       "                             (&#x27;rf&#x27;, RandomForestClassifier(random_state=42)),\n",
       "                             (&#x27;svc&#x27;, SVC(probability=True, random_state=42))],\n",
       "                 voting=&#x27;soft&#x27;)</pre><b>In a Jupyter environment, please rerun this cell to show the HTML representation or trust the notebook. <br />On GitHub, the HTML representation is unable to render, please try loading this page with nbviewer.org.</b></div><div class=\"sk-container\" hidden><div class=\"sk-item sk-dashed-wrapped\"><div class=\"sk-label-container\"><div class=\"sk-label sk-toggleable\"><input class=\"sk-toggleable__control sk-hidden--visually\" id=\"sk-estimator-id-5\" type=\"checkbox\" ><label for=\"sk-estimator-id-5\" class=\"sk-toggleable__label sk-toggleable__label-arrow\">VotingClassifier</label><div class=\"sk-toggleable__content\"><pre>VotingClassifier(estimators=[(&#x27;lr&#x27;, LogisticRegression(random_state=42)),\n",
       "                             (&#x27;rf&#x27;, RandomForestClassifier(random_state=42)),\n",
       "                             (&#x27;svc&#x27;, SVC(probability=True, random_state=42))],\n",
       "                 voting=&#x27;soft&#x27;)</pre></div></div></div><div class=\"sk-parallel\"><div class=\"sk-parallel-item\"><div class=\"sk-item\"><div class=\"sk-label-container\"><div class=\"sk-label sk-toggleable\"><label>lr</label></div></div><div class=\"sk-serial\"><div class=\"sk-item\"><div class=\"sk-estimator sk-toggleable\"><input class=\"sk-toggleable__control sk-hidden--visually\" id=\"sk-estimator-id-6\" type=\"checkbox\" ><label for=\"sk-estimator-id-6\" class=\"sk-toggleable__label sk-toggleable__label-arrow\">LogisticRegression</label><div class=\"sk-toggleable__content\"><pre>LogisticRegression(random_state=42)</pre></div></div></div></div></div></div><div class=\"sk-parallel-item\"><div class=\"sk-item\"><div class=\"sk-label-container\"><div class=\"sk-label sk-toggleable\"><label>rf</label></div></div><div class=\"sk-serial\"><div class=\"sk-item\"><div class=\"sk-estimator sk-toggleable\"><input class=\"sk-toggleable__control sk-hidden--visually\" id=\"sk-estimator-id-7\" type=\"checkbox\" ><label for=\"sk-estimator-id-7\" class=\"sk-toggleable__label sk-toggleable__label-arrow\">RandomForestClassifier</label><div class=\"sk-toggleable__content\"><pre>RandomForestClassifier(random_state=42)</pre></div></div></div></div></div></div><div class=\"sk-parallel-item\"><div class=\"sk-item\"><div class=\"sk-label-container\"><div class=\"sk-label sk-toggleable\"><label>svc</label></div></div><div class=\"sk-serial\"><div class=\"sk-item\"><div class=\"sk-estimator sk-toggleable\"><input class=\"sk-toggleable__control sk-hidden--visually\" id=\"sk-estimator-id-8\" type=\"checkbox\" ><label for=\"sk-estimator-id-8\" class=\"sk-toggleable__label sk-toggleable__label-arrow\">SVC</label><div class=\"sk-toggleable__content\"><pre>SVC(probability=True, random_state=42)</pre></div></div></div></div></div></div></div></div></div></div>"
      ],
      "text/plain": [
       "VotingClassifier(estimators=[('lr', LogisticRegression(random_state=42)),\n",
       "                             ('rf', RandomForestClassifier(random_state=42)),\n",
       "                             ('svc', SVC(probability=True, random_state=42))],\n",
       "                 voting='soft')"
      ]
     },
     "execution_count": 14,
     "metadata": {},
     "output_type": "execute_result"
    }
   ],
   "source": [
    "log_clf = LogisticRegression(solver=\"lbfgs\", random_state=42)\n",
    "rnd_clf = RandomForestClassifier(n_estimators=100, random_state=42)\n",
    "#svm은 원래 predict_proba 함수를 사용 할 수 없기 때문에 probability = True 옵션 설정\n",
    "svm_clf = SVC(gamma=\"scale\", probability=True, random_state=42)\n",
    "\n",
    "voting_clf = VotingClassifier(\n",
    "    estimators=[('lr', log_clf), ('rf', rnd_clf), ('svc', svm_clf)], voting='soft')\n",
    "voting_clf.fit(X_train, y_train)"
   ]
  },
  {
   "cell_type": "code",
   "execution_count": 15,
   "metadata": {},
   "outputs": [
    {
     "name": "stdout",
     "output_type": "stream",
     "text": [
      "LogisticRegression 0.864\n",
      "RandomForestClassifier 0.896\n",
      "SVC 0.896\n",
      "VotingClassifier 0.92\n"
     ]
    }
   ],
   "source": [
    "from sklearn.metrics import accuracy_score\n",
    "\n",
    "for clf in (log_clf, rnd_clf, svm_clf, voting_clf):\n",
    "    clf.fit(X_train, y_train)\n",
    "    y_pred = clf.predict(X_test)\n",
    "    print(clf.__class__.__name__, accuracy_score(y_test, y_pred))"
   ]
  },
  {
   "cell_type": "markdown",
   "metadata": {},
   "source": [
    "## Bagging"
   ]
  },
  {
   "cell_type": "code",
   "execution_count": 16,
   "metadata": {},
   "outputs": [
    {
     "name": "stdout",
     "output_type": "stream",
     "text": [
      "0.904\n"
     ]
    }
   ],
   "source": [
    "from sklearn.ensemble import BaggingClassifier\n",
    "from sklearn.tree import DecisionTreeClassifier\n",
    "\n",
    "bag_clf = BaggingClassifier(\n",
    "    DecisionTreeClassifier(), n_estimators=500, max_samples=100, bootstrap=True, random_state=42)\n",
    "bag_clf.fit(X_train, y_train)\n",
    "\n",
    "y_pred = bag_clf.predict(X_test)\n",
    "\n",
    "from sklearn.metrics import accuracy_score\n",
    "print(accuracy_score(y_test, y_pred))"
   ]
  },
  {
   "cell_type": "code",
   "execution_count": 18,
   "metadata": {},
   "outputs": [
    {
     "name": "stdout",
     "output_type": "stream",
     "text": [
      "0.856\n"
     ]
    }
   ],
   "source": [
    "tree_clf = DecisionTreeClassifier(random_state=42)\n",
    "tree_clf.fit(X_train, y_train)\n",
    "y_pred_tree = tree_clf.predict(X_test)\n",
    "print(accuracy_score(y_test, y_pred_tree))"
   ]
  },
  {
   "cell_type": "markdown",
   "metadata": {},
   "source": [
    "## oob"
   ]
  },
  {
   "cell_type": "code",
   "execution_count": 19,
   "metadata": {},
   "outputs": [
    {
     "data": {
      "text/plain": [
       "0.8986666666666666"
      ]
     },
     "execution_count": 19,
     "metadata": {},
     "output_type": "execute_result"
    }
   ],
   "source": [
    "#oob 평가\n",
    "bag_clf = BaggingClassifier(DecisionTreeClassifier(), n_estimators=500,\n",
    "                            bootstrap=True, oob_score=True, random_state=40)\n",
    "bag_clf.fit(X_train, y_train)\n",
    "bag_clf.oob_score_"
   ]
  },
  {
   "cell_type": "markdown",
   "metadata": {},
   "source": [
    "## Bagging & Random Forest"
   ]
  },
  {
   "cell_type": "code",
   "execution_count": 20,
   "metadata": {},
   "outputs": [],
   "source": [
    "#bagging\n",
    "bag_clf = BaggingClassifier( DecisionTreeClassifier(max_features=\"sqrt\", \n",
    "                                                    max_leaf_nodes=16),\n",
    "                                                    n_estimators=500, random_state=42)\n",
    "bag_clf.fit(X_train, y_train)\n",
    "y_pred = bag_clf.predict(X_test)"
   ]
  },
  {
   "cell_type": "code",
   "execution_count": 21,
   "metadata": {},
   "outputs": [],
   "source": [
    "# random forest\n",
    "from sklearn.ensemble import RandomForestClassifier\n",
    "\n",
    "rnd_clf = RandomForestClassifier(n_estimators=500, max_leaf_nodes=16, random_state=42)\n",
    "rnd_clf.fit(X_train, y_train)\n",
    "y_pred_rf = rnd_clf.predict(X_test)"
   ]
  },
  {
   "cell_type": "code",
   "execution_count": 22,
   "metadata": {},
   "outputs": [
    {
     "name": "stdout",
     "output_type": "stream",
     "text": [
      "1.0\n"
     ]
    }
   ],
   "source": [
    "print(np.sum(y_pred == y_pred_rf) / len(y_pred))"
   ]
  },
  {
   "cell_type": "markdown",
   "metadata": {},
   "source": [
    "## titanic data - RandomForest 적용"
   ]
  },
  {
   "cell_type": "code",
   "execution_count": 24,
   "metadata": {},
   "outputs": [],
   "source": [
    "# load_dataset 함수를 사용하여 데이터프레임으로 변환\n",
    "df = sns.load_dataset('titanic')\n",
    "\n",
    "#결측치 처리\n",
    "# NaN값이 많은 deck 열을 삭제, embarked와 내용이 겹치는 embark_town 열을 삭제\n",
    "rdf = df.drop(['deck', 'embark_town'], axis=1)\n",
    "\n",
    "# age 열에 나이 데이터가 없는 모든 행을 삭제 - age 열(891개 중 177개의 NaN 값)\n",
    "rdf = rdf.dropna(subset=['age'], how='any', axis=0)\n",
    "\n",
    "# embarked 열의 NaN값을 승선도시 중에서 가장 많이 출현한 값으로 치환하기\n",
    "most_freq = rdf['embarked'].value_counts(dropna=True).idxmax()\n",
    "rdf['embarked'].fillna(most_freq, inplace=True)\n",
    "\n",
    "# 분석에 활용할 열(속성)을 선택\n",
    "ndf = rdf[['survived', 'pclass', 'sex', 'age', 'sibsp', 'parch', 'embarked']]"
   ]
  },
  {
   "cell_type": "code",
   "execution_count": 25,
   "metadata": {},
   "outputs": [],
   "source": [
    "# 원핫인코딩 - 범주형 데이터를 모형이 인식할 수 있도록 숫자형으로 변환\n",
    "onehot_sex = pd.get_dummies(ndf['sex'])\n",
    "ndf = pd.concat([ndf, onehot_sex], axis=1)\n",
    "\n",
    "onehot_embarked = pd.get_dummies(ndf['embarked'], prefix='town')\n",
    "ndf = pd.concat([ndf, onehot_embarked], axis=1)\n",
    "\n",
    "ndf.drop(['sex', 'embarked'], axis=1, inplace=True)"
   ]
  },
  {
   "cell_type": "code",
   "execution_count": 26,
   "metadata": {},
   "outputs": [],
   "source": [
    "# 속성(변수) 선택 - feature / target 분리\n",
    "X=ndf[['pclass', 'age', 'sibsp', 'parch', 'female', 'male',\n",
    "'town_C', 'town_Q', 'town_S']] #독립 변수 X\n",
    "y=ndf['survived'] #종속 변수 Y"
   ]
  },
  {
   "cell_type": "code",
   "execution_count": 31,
   "metadata": {},
   "outputs": [
    {
     "data": {
      "text/plain": [
       "array([[ 0.91123237, -0.53037664,  0.52457013, -0.50589515, -0.75905134,\n",
       "         0.75905134, -0.47180795, -0.20203051,  0.53307848],\n",
       "       [-1.47636364,  0.57183099,  0.52457013, -0.50589515,  1.31743394,\n",
       "        -1.31743394,  2.11950647, -0.20203051, -1.87589641],\n",
       "       [ 0.91123237, -0.25482473, -0.55170307, -0.50589515,  1.31743394,\n",
       "        -1.31743394, -0.47180795, -0.20203051,  0.53307848],\n",
       "       [-1.47636364,  0.36516706,  0.52457013, -0.50589515,  1.31743394,\n",
       "        -1.31743394, -0.47180795, -0.20203051,  0.53307848],\n",
       "       [ 0.91123237,  0.36516706, -0.55170307, -0.50589515, -0.75905134,\n",
       "         0.75905134, -0.47180795, -0.20203051,  0.53307848]])"
      ]
     },
     "execution_count": 31,
     "metadata": {},
     "output_type": "execute_result"
    }
   ],
   "source": [
    "# 설명 변수 데이터를 정규화(normalization)\n",
    "from sklearn import preprocessing\n",
    "\n",
    "X = preprocessing.StandardScaler().fit(X).transform(X)\n",
    "X[:5]"
   ]
  },
  {
   "cell_type": "code",
   "execution_count": 29,
   "metadata": {},
   "outputs": [],
   "source": [
    "#train data 와 test data로 구분(7:3 비율)\n",
    "#1. 데이터의 배치가 random한지 아닌지\n",
    "#데이터가 random 하게 배치되어 있다면 분할을 할 때 부가적인 shuffle 필요 X \n",
    "#2. target의 비율\n",
    "#target의 비율이 고르지 않다면 \n",
    "#2-1 층화 추출\n",
    "#2-2 oversampling / undersampling\n",
    "#이상치 탐지에서 이부분이 항상 고려 대상\n",
    "from sklearn.model_selection import train_test_split\n",
    "\n",
    "X_train, X_test, y_train, y_test = train_test_split(X, y, test_size=0.3, random_state=10)"
   ]
  },
  {
   "cell_type": "code",
   "execution_count": 32,
   "metadata": {},
   "outputs": [
    {
     "data": {
      "text/html": [
       "<style>#sk-container-id-3 {color: black;background-color: white;}#sk-container-id-3 pre{padding: 0;}#sk-container-id-3 div.sk-toggleable {background-color: white;}#sk-container-id-3 label.sk-toggleable__label {cursor: pointer;display: block;width: 100%;margin-bottom: 0;padding: 0.3em;box-sizing: border-box;text-align: center;}#sk-container-id-3 label.sk-toggleable__label-arrow:before {content: \"▸\";float: left;margin-right: 0.25em;color: #696969;}#sk-container-id-3 label.sk-toggleable__label-arrow:hover:before {color: black;}#sk-container-id-3 div.sk-estimator:hover label.sk-toggleable__label-arrow:before {color: black;}#sk-container-id-3 div.sk-toggleable__content {max-height: 0;max-width: 0;overflow: hidden;text-align: left;background-color: #f0f8ff;}#sk-container-id-3 div.sk-toggleable__content pre {margin: 0.2em;color: black;border-radius: 0.25em;background-color: #f0f8ff;}#sk-container-id-3 input.sk-toggleable__control:checked~div.sk-toggleable__content {max-height: 200px;max-width: 100%;overflow: auto;}#sk-container-id-3 input.sk-toggleable__control:checked~label.sk-toggleable__label-arrow:before {content: \"▾\";}#sk-container-id-3 div.sk-estimator input.sk-toggleable__control:checked~label.sk-toggleable__label {background-color: #d4ebff;}#sk-container-id-3 div.sk-label input.sk-toggleable__control:checked~label.sk-toggleable__label {background-color: #d4ebff;}#sk-container-id-3 input.sk-hidden--visually {border: 0;clip: rect(1px 1px 1px 1px);clip: rect(1px, 1px, 1px, 1px);height: 1px;margin: -1px;overflow: hidden;padding: 0;position: absolute;width: 1px;}#sk-container-id-3 div.sk-estimator {font-family: monospace;background-color: #f0f8ff;border: 1px dotted black;border-radius: 0.25em;box-sizing: border-box;margin-bottom: 0.5em;}#sk-container-id-3 div.sk-estimator:hover {background-color: #d4ebff;}#sk-container-id-3 div.sk-parallel-item::after {content: \"\";width: 100%;border-bottom: 1px solid gray;flex-grow: 1;}#sk-container-id-3 div.sk-label:hover label.sk-toggleable__label {background-color: #d4ebff;}#sk-container-id-3 div.sk-serial::before {content: \"\";position: absolute;border-left: 1px solid gray;box-sizing: border-box;top: 0;bottom: 0;left: 50%;z-index: 0;}#sk-container-id-3 div.sk-serial {display: flex;flex-direction: column;align-items: center;background-color: white;padding-right: 0.2em;padding-left: 0.2em;position: relative;}#sk-container-id-3 div.sk-item {position: relative;z-index: 1;}#sk-container-id-3 div.sk-parallel {display: flex;align-items: stretch;justify-content: center;background-color: white;position: relative;}#sk-container-id-3 div.sk-item::before, #sk-container-id-3 div.sk-parallel-item::before {content: \"\";position: absolute;border-left: 1px solid gray;box-sizing: border-box;top: 0;bottom: 0;left: 50%;z-index: -1;}#sk-container-id-3 div.sk-parallel-item {display: flex;flex-direction: column;z-index: 1;position: relative;background-color: white;}#sk-container-id-3 div.sk-parallel-item:first-child::after {align-self: flex-end;width: 50%;}#sk-container-id-3 div.sk-parallel-item:last-child::after {align-self: flex-start;width: 50%;}#sk-container-id-3 div.sk-parallel-item:only-child::after {width: 0;}#sk-container-id-3 div.sk-dashed-wrapped {border: 1px dashed gray;margin: 0 0.4em 0.5em 0.4em;box-sizing: border-box;padding-bottom: 0.4em;background-color: white;}#sk-container-id-3 div.sk-label label {font-family: monospace;font-weight: bold;display: inline-block;line-height: 1.2em;}#sk-container-id-3 div.sk-label-container {text-align: center;}#sk-container-id-3 div.sk-container {/* jupyter's `normalize.less` sets `[hidden] { display: none; }` but bootstrap.min.css set `[hidden] { display: none !important; }` so we also need the `!important` here to be able to override the default hidden behavior on the sphinx rendered scikit-learn.org. See: https://github.com/scikit-learn/scikit-learn/issues/21755 */display: inline-block !important;position: relative;}#sk-container-id-3 div.sk-text-repr-fallback {display: none;}</style><div id=\"sk-container-id-3\" class=\"sk-top-container\"><div class=\"sk-text-repr-fallback\"><pre>RandomForestClassifier(criterion=&#x27;entropy&#x27;, n_estimators=25, n_jobs=2,\n",
       "                       random_state=1)</pre><b>In a Jupyter environment, please rerun this cell to show the HTML representation or trust the notebook. <br />On GitHub, the HTML representation is unable to render, please try loading this page with nbviewer.org.</b></div><div class=\"sk-container\" hidden><div class=\"sk-item\"><div class=\"sk-estimator sk-toggleable\"><input class=\"sk-toggleable__control sk-hidden--visually\" id=\"sk-estimator-id-9\" type=\"checkbox\" checked><label for=\"sk-estimator-id-9\" class=\"sk-toggleable__label sk-toggleable__label-arrow\">RandomForestClassifier</label><div class=\"sk-toggleable__content\"><pre>RandomForestClassifier(criterion=&#x27;entropy&#x27;, n_estimators=25, n_jobs=2,\n",
       "                       random_state=1)</pre></div></div></div></div></div>"
      ],
      "text/plain": [
       "RandomForestClassifier(criterion='entropy', n_estimators=25, n_jobs=2,\n",
       "                       random_state=1)"
      ]
     },
     "execution_count": 32,
     "metadata": {},
     "output_type": "execute_result"
    }
   ],
   "source": [
    "#\n",
    "forest = RandomForestClassifier(criterion='entropy',\n",
    "                                n_estimators=25,\n",
    "                                random_state=1,\n",
    "                                n_jobs=2)\n",
    "forest.fit(X_train, y_train)\n"
   ]
  },
  {
   "cell_type": "code",
   "execution_count": 33,
   "metadata": {},
   "outputs": [
    {
     "name": "stdout",
     "output_type": "stream",
     "text": [
      "[0 0 1 0 0 1 1 0 0 0]\n",
      "[0 0 1 0 0 1 1 1 0 0]\n",
      "\n",
      "\n"
     ]
    }
   ],
   "source": [
    "# test data를 가지고 y_hat을 예측 (분류)\n",
    "y_hat = forest.predict(X_test)\n",
    "print(y_hat[0:10])\n",
    "print(y_test.values[0:10])\n",
    "print('\\n')"
   ]
  },
  {
   "cell_type": "code",
   "execution_count": 34,
   "metadata": {},
   "outputs": [
    {
     "name": "stdout",
     "output_type": "stream",
     "text": [
      "[[106  19]\n",
      " [ 27  63]]\n",
      "\n",
      "\n"
     ]
    }
   ],
   "source": [
    "# 모형 성능 평가 - Confusion Matrix 계산\n",
    "#오차 행렬 계산\n",
    "from sklearn import metrics\n",
    "tree_matrix = metrics.confusion_matrix(y_test, y_hat)\n",
    "print(tree_matrix)\n",
    "print('\\n')\n",
    "\n",
    "#정확도 계산\n",
    "print((tree_matrix[0,0] + tree_matrix[1,1]) / np.sum(tree_matrix))"
   ]
  },
  {
   "cell_type": "code",
   "execution_count": 35,
   "metadata": {},
   "outputs": [
    {
     "name": "stdout",
     "output_type": "stream",
     "text": [
      "              precision    recall  f1-score   support\n",
      "\n",
      "           0       0.80      0.85      0.82       125\n",
      "           1       0.77      0.70      0.73        90\n",
      "\n",
      "    accuracy                           0.79       215\n",
      "   macro avg       0.78      0.77      0.78       215\n",
      "weighted avg       0.78      0.79      0.78       215\n",
      "\n"
     ]
    }
   ],
   "source": [
    "# 모형 성능 평가 - 평가지표 계산\n",
    "tree_report = metrics.classification_report(y_test, y_hat)\n",
    "print(tree_report)"
   ]
  },
  {
   "cell_type": "code",
   "execution_count": 36,
   "metadata": {},
   "outputs": [
    {
     "data": {
      "text/plain": [
       "(-1.0, 9.0)"
      ]
     },
     "execution_count": 36,
     "metadata": {},
     "output_type": "execute_result"
    },
    {
     "data": {
      "image/png": "[encoded data removed]",
      "text/plain": [
       "<Figure size 640x480 with 1 Axes>"
      ]
     },
     "metadata": {},
     "output_type": "display_data"
    }
   ],
   "source": [
    "#특성 중요도\n",
    "n_features = X.data.shape[1]\n",
    "plt.barh(np.arange(n_features), forest.feature_importances_, align='center')\n",
    "plt.yticks(np.arange(n_features), ['pclass', 'age', 'sibsp', 'parch', 'female', 'male',\n",
    "                                   'town_C', 'town_Q', 'town_S'])\n",
    "plt.xlabel(\"특성 중요도\")\n",
    "plt.ylabel(\"특성\")\n",
    "plt.ylim(-1, n_features)"
   ]
  },
  {
   "cell_type": "markdown",
   "metadata": {},
   "source": [
    "## Ada Boost"
   ]
  },
  {
   "cell_type": "code",
   "execution_count": 38,
   "metadata": {},
   "outputs": [
    {
     "name": "stdout",
     "output_type": "stream",
     "text": [
      "[0 1 1 0 1 0 1 1 0 0]\n",
      "[0 0 1 0 0 1 1 1 0 0]\n"
     ]
    }
   ],
   "source": [
    "from sklearn.ensemble import AdaBoostClassifier\n",
    "\n",
    "#algorithm은 확률을 계산 할 수 있으며 \n",
    "#\n",
    "ada_clf = AdaBoostClassifier(DecisionTreeClassifier(max_depth=1), n_estimators=200,\n",
    "                             algorithm=\"SAMME.R\", learning_rate=0.5, random_state=42)\n",
    "ada_clf.fit(X_train, y_train)\n",
    "\n",
    "y_hat = ada_clf.predict(X_test)\n",
    "\n",
    "print(y_hat[0:10])\n",
    "print(y_test.values[0:10])"
   ]
  },
  {
   "cell_type": "code",
   "execution_count": 39,
   "metadata": {},
   "outputs": [
    {
     "name": "stdout",
     "output_type": "stream",
     "text": [
      "[[105  20]\n",
      " [ 20  70]]\n",
      "\n",
      "\n",
      "0.813953488372093\n",
      "              precision    recall  f1-score   support\n",
      "\n",
      "           0       0.84      0.84      0.84       125\n",
      "           1       0.78      0.78      0.78        90\n",
      "\n",
      "    accuracy                           0.81       215\n",
      "   macro avg       0.81      0.81      0.81       215\n",
      "weighted avg       0.81      0.81      0.81       215\n",
      "\n"
     ]
    }
   ],
   "source": [
    "# 모형 성능 평가 - Confusion Matrix 계산\n",
    "#오차 행렬 계산\n",
    "ada_matrix = metrics.confusion_matrix(y_test, y_hat)\n",
    "print(ada_matrix)\n",
    "print('\\n')\n",
    "\n",
    "#정확도 계산\n",
    "print((ada_matrix[0,0] + ada_matrix[1,1]) / np.sum(ada_matrix))\n",
    "\n",
    "ada_report = metrics.classification_report(y_test, y_hat)\n",
    "print(ada_report)"
   ]
  },
  {
   "cell_type": "markdown",
   "metadata": {},
   "source": [
    "## Gradient Boosting"
   ]
  },
  {
   "cell_type": "code",
   "execution_count": 43,
   "metadata": {},
   "outputs": [
    {
     "name": "stdout",
     "output_type": "stream",
     "text": [
      "[0 1 1 0 0 1 1 1 0 0]\n",
      "[0 0 1 0 0 1 1 1 0 0]\n",
      "CPU times: total: 62.5 ms\n",
      "Wall time: 70.7 ms\n"
     ]
    }
   ],
   "source": [
    "%%time\n",
    "#jupyter notebook에서 시간 측정할 때 사용 \n",
    "from sklearn.ensemble import GradientBoostingClassifier\n",
    "\n",
    "#algorithm은 확률을 계산 할 수 있으며 \n",
    "#\n",
    "gb_clf = GradientBoostingClassifier(random_state=42)\n",
    "gb_clf.fit(X_train, y_train)\n",
    "\n",
    "y_hat = gb_clf.predict(X_test)\n",
    "\n",
    "print(y_hat[0:10])\n",
    "print(y_test.values[0:10])"
   ]
  },
  {
   "cell_type": "markdown",
   "metadata": {},
   "source": [
    "## hyper parameter tuning"
   ]
  },
  {
   "cell_type": "code",
   "execution_count": 44,
   "metadata": {},
   "outputs": [
    {
     "name": "stdout",
     "output_type": "stream",
     "text": [
      "Fitting 2 folds for each of 4 candidates, totalling 8 fits\n",
      "최적 하이퍼 파라미터:\n",
      " {'learning_rate': 0.05, 'n_estimators': 100}\n",
      "최고 예측 정확도: 0.7896\n"
     ]
    }
   ],
   "source": [
    "# 하이퍼 파라미터 및 튜닝\n",
    "from sklearn.model_selection import GridSearchCV\n",
    "\n",
    "params = {\n",
    "    'n_estimators':[100, 500],\n",
    "    'learning_rate' : [ 0.05, 0.1]\n",
    "}\n",
    "grid_cv = GridSearchCV(gb_clf , param_grid=params , cv=2 ,verbose=1)\n",
    "grid_cv.fit(X_train , y_train)\n",
    "print('최적 하이퍼 파라미터:\\n', grid_cv.best_params_)\n",
    "print('최고 예측 정확도: {0:.4f}'.format(grid_cv.best_score_))"
   ]
  },
  {
   "cell_type": "code",
   "execution_count": 47,
   "metadata": {},
   "outputs": [
    {
     "name": "stdout",
     "output_type": "stream",
     "text": [
      "GBM 정확도: 0.8372\n",
      "              precision    recall  f1-score   support\n",
      "\n",
      "           0       0.81      0.94      0.87       125\n",
      "           1       0.89      0.70      0.78        90\n",
      "\n",
      "    accuracy                           0.84       215\n",
      "   macro avg       0.85      0.82      0.83       215\n",
      "weighted avg       0.84      0.84      0.83       215\n",
      "\n"
     ]
    }
   ],
   "source": [
    "#예측을 수행하고 정확도 확인\n",
    "#GridSearchCV를 이용하여 최적으로 학습된 estimator로 predict 수행.\n",
    "gb_pred = grid_cv.best_estimator_.predict(X_test)\n",
    "gb_accuracy = accuracy_score(y_test, gb_pred)\n",
    "print('GBM 정확도: {0:.4f}'.format(gb_accuracy))\n",
    "\n",
    "gb_report = metrics.classification_report(y_test, gb_pred)\n",
    "print(gb_report)"
   ]
  },
  {
   "cell_type": "markdown",
   "metadata": {},
   "source": [
    "## XGBoost"
   ]
  },
  {
   "cell_type": "code",
   "execution_count": 9,
   "metadata": {},
   "outputs": [
    {
     "name": "stdout",
     "output_type": "stream",
     "text": [
      "Collecting package metadata (current_repodata.json): ...working... done\n",
      "Solving environment: ...working... done\n",
      "\n",
      "# All requested packages already installed.\n",
      "\n"
     ]
    },
    {
     "name": "stderr",
     "output_type": "stream",
     "text": [
      "\n",
      "\n",
      "==> WARNING: A newer version of conda exists. <==\n",
      "  current version: 23.3.1\n",
      "  latest version: 23.7.3\n",
      "\n",
      "Please update conda by running\n",
      "\n",
      "    $ conda update -n base -c defaults conda\n",
      "\n",
      "Or to minimize the number of packages updated during conda update use\n",
      "\n",
      "     conda install conda=23.7.3\n",
      "\n",
      "\n"
     ]
    }
   ],
   "source": [
    "!conda install -c anaconda py-xgboost\n",
    "#!pip install xgboost"
   ]
  },
  {
   "cell_type": "code",
   "execution_count": 15,
   "metadata": {},
   "outputs": [
    {
     "data": {
      "text/html": [
       "<div>\n",
       "<style scoped>\n",
       "    .dataframe tbody tr th:only-of-type {\n",
       "        vertical-align: middle;\n",
       "    }\n",
       "\n",
       "    .dataframe tbody tr th {\n",
       "        vertical-align: top;\n",
       "    }\n",
       "\n",
       "    .dataframe thead th {\n",
       "        text-align: right;\n",
       "    }\n",
       "</style>\n",
       "<table border=\"1\" class=\"dataframe\">\n",
       "  <thead>\n",
       "    <tr style=\"text-align: right;\">\n",
       "      <th></th>\n",
       "      <th>mean radius</th>\n",
       "      <th>mean texture</th>\n",
       "      <th>mean perimeter</th>\n",
       "      <th>mean area</th>\n",
       "      <th>mean smoothness</th>\n",
       "      <th>mean compactness</th>\n",
       "      <th>mean concavity</th>\n",
       "      <th>mean concave points</th>\n",
       "      <th>mean symmetry</th>\n",
       "      <th>mean fractal dimension</th>\n",
       "      <th>...</th>\n",
       "      <th>worst texture</th>\n",
       "      <th>worst perimeter</th>\n",
       "      <th>worst area</th>\n",
       "      <th>worst smoothness</th>\n",
       "      <th>worst compactness</th>\n",
       "      <th>worst concavity</th>\n",
       "      <th>worst concave points</th>\n",
       "      <th>worst symmetry</th>\n",
       "      <th>worst fractal dimension</th>\n",
       "      <th>target</th>\n",
       "    </tr>\n",
       "  </thead>\n",
       "  <tbody>\n",
       "    <tr>\n",
       "      <th>0</th>\n",
       "      <td>17.99</td>\n",
       "      <td>10.38</td>\n",
       "      <td>122.80</td>\n",
       "      <td>1001.0</td>\n",
       "      <td>0.11840</td>\n",
       "      <td>0.27760</td>\n",
       "      <td>0.3001</td>\n",
       "      <td>0.14710</td>\n",
       "      <td>0.2419</td>\n",
       "      <td>0.07871</td>\n",
       "      <td>...</td>\n",
       "      <td>17.33</td>\n",
       "      <td>184.60</td>\n",
       "      <td>2019.0</td>\n",
       "      <td>0.1622</td>\n",
       "      <td>0.6656</td>\n",
       "      <td>0.7119</td>\n",
       "      <td>0.2654</td>\n",
       "      <td>0.4601</td>\n",
       "      <td>0.11890</td>\n",
       "      <td>0</td>\n",
       "    </tr>\n",
       "    <tr>\n",
       "      <th>1</th>\n",
       "      <td>20.57</td>\n",
       "      <td>17.77</td>\n",
       "      <td>132.90</td>\n",
       "      <td>1326.0</td>\n",
       "      <td>0.08474</td>\n",
       "      <td>0.07864</td>\n",
       "      <td>0.0869</td>\n",
       "      <td>0.07017</td>\n",
       "      <td>0.1812</td>\n",
       "      <td>0.05667</td>\n",
       "      <td>...</td>\n",
       "      <td>23.41</td>\n",
       "      <td>158.80</td>\n",
       "      <td>1956.0</td>\n",
       "      <td>0.1238</td>\n",
       "      <td>0.1866</td>\n",
       "      <td>0.2416</td>\n",
       "      <td>0.1860</td>\n",
       "      <td>0.2750</td>\n",
       "      <td>0.08902</td>\n",
       "      <td>0</td>\n",
       "    </tr>\n",
       "    <tr>\n",
       "      <th>2</th>\n",
       "      <td>19.69</td>\n",
       "      <td>21.25</td>\n",
       "      <td>130.00</td>\n",
       "      <td>1203.0</td>\n",
       "      <td>0.10960</td>\n",
       "      <td>0.15990</td>\n",
       "      <td>0.1974</td>\n",
       "      <td>0.12790</td>\n",
       "      <td>0.2069</td>\n",
       "      <td>0.05999</td>\n",
       "      <td>...</td>\n",
       "      <td>25.53</td>\n",
       "      <td>152.50</td>\n",
       "      <td>1709.0</td>\n",
       "      <td>0.1444</td>\n",
       "      <td>0.4245</td>\n",
       "      <td>0.4504</td>\n",
       "      <td>0.2430</td>\n",
       "      <td>0.3613</td>\n",
       "      <td>0.08758</td>\n",
       "      <td>0</td>\n",
       "    </tr>\n",
       "    <tr>\n",
       "      <th>3</th>\n",
       "      <td>11.42</td>\n",
       "      <td>20.38</td>\n",
       "      <td>77.58</td>\n",
       "      <td>386.1</td>\n",
       "      <td>0.14250</td>\n",
       "      <td>0.28390</td>\n",
       "      <td>0.2414</td>\n",
       "      <td>0.10520</td>\n",
       "      <td>0.2597</td>\n",
       "      <td>0.09744</td>\n",
       "      <td>...</td>\n",
       "      <td>26.50</td>\n",
       "      <td>98.87</td>\n",
       "      <td>567.7</td>\n",
       "      <td>0.2098</td>\n",
       "      <td>0.8663</td>\n",
       "      <td>0.6869</td>\n",
       "      <td>0.2575</td>\n",
       "      <td>0.6638</td>\n",
       "      <td>0.17300</td>\n",
       "      <td>0</td>\n",
       "    </tr>\n",
       "    <tr>\n",
       "      <th>4</th>\n",
       "      <td>20.29</td>\n",
       "      <td>14.34</td>\n",
       "      <td>135.10</td>\n",
       "      <td>1297.0</td>\n",
       "      <td>0.10030</td>\n",
       "      <td>0.13280</td>\n",
       "      <td>0.1980</td>\n",
       "      <td>0.10430</td>\n",
       "      <td>0.1809</td>\n",
       "      <td>0.05883</td>\n",
       "      <td>...</td>\n",
       "      <td>16.67</td>\n",
       "      <td>152.20</td>\n",
       "      <td>1575.0</td>\n",
       "      <td>0.1374</td>\n",
       "      <td>0.2050</td>\n",
       "      <td>0.4000</td>\n",
       "      <td>0.1625</td>\n",
       "      <td>0.2364</td>\n",
       "      <td>0.07678</td>\n",
       "      <td>0</td>\n",
       "    </tr>\n",
       "  </tbody>\n",
       "</table>\n",
       "<p>5 rows × 31 columns</p>\n",
       "</div>"
      ],
      "text/plain": [
       "   mean radius  mean texture  mean perimeter  mean area  mean smoothness  \\\n",
       "0        17.99         10.38          122.80     1001.0          0.11840   \n",
       "1        20.57         17.77          132.90     1326.0          0.08474   \n",
       "2        19.69         21.25          130.00     1203.0          0.10960   \n",
       "3        11.42         20.38           77.58      386.1          0.14250   \n",
       "4        20.29         14.34          135.10     1297.0          0.10030   \n",
       "\n",
       "   mean compactness  mean concavity  mean concave points  mean symmetry  \\\n",
       "0           0.27760          0.3001              0.14710         0.2419   \n",
       "1           0.07864          0.0869              0.07017         0.1812   \n",
       "2           0.15990          0.1974              0.12790         0.2069   \n",
       "3           0.28390          0.2414              0.10520         0.2597   \n",
       "4           0.13280          0.1980              0.10430         0.1809   \n",
       "\n",
       "   mean fractal dimension  ...  worst texture  worst perimeter  worst area  \\\n",
       "0                 0.07871  ...          17.33           184.60      2019.0   \n",
       "1                 0.05667  ...          23.41           158.80      1956.0   \n",
       "2                 0.05999  ...          25.53           152.50      1709.0   \n",
       "3                 0.09744  ...          26.50            98.87       567.7   \n",
       "4                 0.05883  ...          16.67           152.20      1575.0   \n",
       "\n",
       "   worst smoothness  worst compactness  worst concavity  worst concave points  \\\n",
       "0            0.1622             0.6656           0.7119                0.2654   \n",
       "1            0.1238             0.1866           0.2416                0.1860   \n",
       "2            0.1444             0.4245           0.4504                0.2430   \n",
       "3            0.2098             0.8663           0.6869                0.2575   \n",
       "4            0.1374             0.2050           0.4000                0.1625   \n",
       "\n",
       "   worst symmetry  worst fractal dimension  target  \n",
       "0          0.4601                  0.11890       0  \n",
       "1          0.2750                  0.08902       0  \n",
       "2          0.3613                  0.08758       0  \n",
       "3          0.6638                  0.17300       0  \n",
       "4          0.2364                  0.07678       0  \n",
       "\n",
       "[5 rows x 31 columns]"
      ]
     },
     "execution_count": 15,
     "metadata": {},
     "output_type": "execute_result"
    }
   ],
   "source": [
    "    import xgboost as xgb\n",
    "    from sklearn.datasets import load_breast_cancer\n",
    "\n",
    "    dataset = load_breast_cancer()\n",
    "\n",
    "    X_features = dataset.data\n",
    "    y_label = dataset.target\n",
    "\n",
    "    cancer_df = pd.DataFrame(data = X_features, columns = dataset.feature_names)\n",
    "    cancer_df['target'] = y_label\n",
    "    cancer_df.head()"
   ]
  },
  {
   "cell_type": "code",
   "execution_count": 16,
   "metadata": {},
   "outputs": [
    {
     "data": {
      "text/plain": [
       "1    357\n",
       "0    212\n",
       "Name: target, dtype: int64"
      ]
     },
     "execution_count": 16,
     "metadata": {},
     "output_type": "execute_result"
    }
   ],
   "source": [
    "#data 분포 확인 - 이 비율이 한 쪽으로 치우치면 가중치 적용 / 층화추출 고민\n",
    "cancer_df.target.value_counts()"
   ]
  },
  {
   "cell_type": "code",
   "execution_count": 20,
   "metadata": {},
   "outputs": [
    {
     "name": "stdout",
     "output_type": "stream",
     "text": [
      "(455, 30) (114, 30)\n"
     ]
    }
   ],
   "source": [
    "# 전체 데이터 중 80%는 학습용 데이터, 20%는 테스트용 데이터 추출\n",
    "X_train, X_test, y_train, y_test=train_test_split(X_features, y_label,\n",
    "test_size=0.2, random_state=42 )\n",
    "print(X_train.shape , X_test.shape)"
   ]
  },
  {
   "cell_type": "code",
   "execution_count": 21,
   "metadata": {},
   "outputs": [],
   "source": [
    "#xgboost를 이용하는 경우의 데이터 생성\n",
    "dtrain = xgb.DMatrix(data = X_train, label = y_train)\n",
    "dtest = xgb.DMatrix(data = X_test, label = y_test)"
   ]
  },
  {
   "cell_type": "code",
   "execution_count": 23,
   "metadata": {},
   "outputs": [
    {
     "name": "stdout",
     "output_type": "stream",
     "text": [
      "[0]\ttrain-logloss:0.60961\teval-logloss:0.61443\n",
      "[1]\ttrain-logloss:0.54076\teval-logloss:0.54721\n",
      "[2]\ttrain-logloss:0.48407\teval-logloss:0.49559\n",
      "[3]\ttrain-logloss:0.43324\teval-logloss:0.44659\n",
      "[4]\ttrain-logloss:0.38985\teval-logloss:0.40682\n",
      "[5]\ttrain-logloss:0.35212\teval-logloss:0.37082\n",
      "[6]\ttrain-logloss:0.31949\teval-logloss:0.34032\n",
      "[7]\ttrain-logloss:0.29139\teval-logloss:0.31559\n",
      "[8]\ttrain-logloss:0.26606\teval-logloss:0.29181\n",
      "[9]\ttrain-logloss:0.24392\teval-logloss:0.27323\n",
      "[10]\ttrain-logloss:0.22408\teval-logloss:0.25490\n",
      "[11]\ttrain-logloss:0.20697\teval-logloss:0.24217\n",
      "[12]\ttrain-logloss:0.19128\teval-logloss:0.22577\n",
      "[13]\ttrain-logloss:0.17705\teval-logloss:0.21283\n",
      "[14]\ttrain-logloss:0.16451\teval-logloss:0.19947\n",
      "[15]\ttrain-logloss:0.15319\teval-logloss:0.19169\n",
      "[16]\ttrain-logloss:0.14312\teval-logloss:0.18069\n",
      "[17]\ttrain-logloss:0.13410\teval-logloss:0.17432\n",
      "[18]\ttrain-logloss:0.12522\teval-logloss:0.16573\n",
      "[19]\ttrain-logloss:0.11687\teval-logloss:0.15517\n",
      "[20]\ttrain-logloss:0.10980\teval-logloss:0.15131\n",
      "[21]\ttrain-logloss:0.10320\teval-logloss:0.14297\n",
      "[22]\ttrain-logloss:0.09739\teval-logloss:0.14038\n",
      "[23]\ttrain-logloss:0.09171\teval-logloss:0.13659\n",
      "[24]\ttrain-logloss:0.08656\teval-logloss:0.13153\n",
      "[25]\ttrain-logloss:0.08167\teval-logloss:0.12885\n",
      "[26]\ttrain-logloss:0.07742\teval-logloss:0.12498\n",
      "[27]\ttrain-logloss:0.07337\teval-logloss:0.12312\n",
      "[28]\ttrain-logloss:0.06981\teval-logloss:0.11902\n",
      "[29]\ttrain-logloss:0.06634\teval-logloss:0.11769\n",
      "[30]\ttrain-logloss:0.06332\teval-logloss:0.11719\n",
      "[31]\ttrain-logloss:0.06013\teval-logloss:0.11469\n",
      "[32]\ttrain-logloss:0.05760\teval-logloss:0.11483\n",
      "[33]\ttrain-logloss:0.05490\teval-logloss:0.11278\n",
      "[34]\ttrain-logloss:0.05249\teval-logloss:0.11100\n",
      "[35]\ttrain-logloss:0.04981\teval-logloss:0.11050\n",
      "[36]\ttrain-logloss:0.04789\teval-logloss:0.11043\n",
      "[37]\ttrain-logloss:0.04577\teval-logloss:0.10774\n",
      "[38]\ttrain-logloss:0.04361\teval-logloss:0.10780\n",
      "[39]\ttrain-logloss:0.04212\teval-logloss:0.10597\n",
      "[40]\ttrain-logloss:0.04050\teval-logloss:0.10549\n",
      "[41]\ttrain-logloss:0.03885\teval-logloss:0.10659\n",
      "[42]\ttrain-logloss:0.03726\teval-logloss:0.10633\n",
      "[43]\ttrain-logloss:0.03566\teval-logloss:0.10575\n",
      "[44]\ttrain-logloss:0.03442\teval-logloss:0.10479\n",
      "[45]\ttrain-logloss:0.03314\teval-logloss:0.10498\n",
      "[46]\ttrain-logloss:0.03222\teval-logloss:0.10376\n",
      "[47]\ttrain-logloss:0.03105\teval-logloss:0.10413\n",
      "[48]\ttrain-logloss:0.02994\teval-logloss:0.10416\n",
      "[49]\ttrain-logloss:0.02903\teval-logloss:0.10393\n",
      "[50]\ttrain-logloss:0.02820\teval-logloss:0.10280\n",
      "[51]\ttrain-logloss:0.02727\teval-logloss:0.10118\n",
      "[52]\ttrain-logloss:0.02638\teval-logloss:0.10162\n",
      "[53]\ttrain-logloss:0.02568\teval-logloss:0.10110\n",
      "[54]\ttrain-logloss:0.02491\teval-logloss:0.10166\n",
      "[55]\ttrain-logloss:0.02414\teval-logloss:0.10151\n",
      "[56]\ttrain-logloss:0.02350\teval-logloss:0.10073\n",
      "[57]\ttrain-logloss:0.02298\teval-logloss:0.10201\n",
      "[58]\ttrain-logloss:0.02233\teval-logloss:0.10194\n",
      "[59]\ttrain-logloss:0.02177\teval-logloss:0.10158\n",
      "[60]\ttrain-logloss:0.02120\teval-logloss:0.10135\n",
      "[61]\ttrain-logloss:0.02065\teval-logloss:0.10024\n",
      "[62]\ttrain-logloss:0.02019\teval-logloss:0.09891\n",
      "[63]\ttrain-logloss:0.01973\teval-logloss:0.09916\n",
      "[64]\ttrain-logloss:0.01924\teval-logloss:0.09932\n",
      "[65]\ttrain-logloss:0.01888\teval-logloss:0.09914\n",
      "[66]\ttrain-logloss:0.01844\teval-logloss:0.10026\n",
      "[67]\ttrain-logloss:0.01805\teval-logloss:0.10109\n",
      "[68]\ttrain-logloss:0.01771\teval-logloss:0.10167\n",
      "[69]\ttrain-logloss:0.01730\teval-logloss:0.10187\n",
      "[70]\ttrain-logloss:0.01700\teval-logloss:0.10171\n",
      "[71]\ttrain-logloss:0.01671\teval-logloss:0.10082\n",
      "[72]\ttrain-logloss:0.01637\teval-logloss:0.10062\n",
      "[73]\ttrain-logloss:0.01602\teval-logloss:0.09954\n",
      "[74]\ttrain-logloss:0.01570\teval-logloss:0.09882\n",
      "[75]\ttrain-logloss:0.01534\teval-logloss:0.09954\n",
      "[76]\ttrain-logloss:0.01504\teval-logloss:0.10005\n",
      "[77]\ttrain-logloss:0.01471\teval-logloss:0.10144\n",
      "[78]\ttrain-logloss:0.01453\teval-logloss:0.10187\n",
      "[79]\ttrain-logloss:0.01435\teval-logloss:0.10158\n",
      "[80]\ttrain-logloss:0.01412\teval-logloss:0.10115\n",
      "[81]\ttrain-logloss:0.01394\teval-logloss:0.10017\n",
      "[82]\ttrain-logloss:0.01367\teval-logloss:0.10086\n",
      "[83]\ttrain-logloss:0.01349\teval-logloss:0.10086\n",
      "[84]\ttrain-logloss:0.01321\teval-logloss:0.10222\n",
      "[85]\ttrain-logloss:0.01302\teval-logloss:0.10155\n",
      "[86]\ttrain-logloss:0.01281\teval-logloss:0.10266\n",
      "[87]\ttrain-logloss:0.01268\teval-logloss:0.10308\n",
      "[88]\ttrain-logloss:0.01256\teval-logloss:0.10235\n",
      "[89]\ttrain-logloss:0.01243\teval-logloss:0.10207\n",
      "[90]\ttrain-logloss:0.01230\teval-logloss:0.10142\n",
      "[91]\ttrain-logloss:0.01215\teval-logloss:0.10146\n",
      "[92]\ttrain-logloss:0.01199\teval-logloss:0.10100\n",
      "[93]\ttrain-logloss:0.01187\teval-logloss:0.10126\n",
      "[94]\ttrain-logloss:0.01171\teval-logloss:0.10212\n",
      "[95]\ttrain-logloss:0.01161\teval-logloss:0.10146\n",
      "[96]\ttrain-logloss:0.01149\teval-logloss:0.10140\n",
      "[97]\ttrain-logloss:0.01139\teval-logloss:0.10092\n",
      "[98]\ttrain-logloss:0.01128\teval-logloss:0.10118\n",
      "[99]\ttrain-logloss:0.01119\teval-logloss:0.10055\n",
      "[100]\ttrain-logloss:0.01108\teval-logloss:0.10097\n",
      "[101]\ttrain-logloss:0.01098\teval-logloss:0.10076\n",
      "[102]\ttrain-logloss:0.01090\teval-logloss:0.10061\n",
      "[103]\ttrain-logloss:0.01079\teval-logloss:0.10059\n",
      "[104]\ttrain-logloss:0.01065\teval-logloss:0.10141\n",
      "[105]\ttrain-logloss:0.01054\teval-logloss:0.10146\n",
      "[106]\ttrain-logloss:0.01046\teval-logloss:0.10101\n",
      "[107]\ttrain-logloss:0.01040\teval-logloss:0.10102\n",
      "[108]\ttrain-logloss:0.01032\teval-logloss:0.10086\n",
      "[109]\ttrain-logloss:0.01022\teval-logloss:0.10091\n",
      "[110]\ttrain-logloss:0.01009\teval-logloss:0.10111\n",
      "[111]\ttrain-logloss:0.01000\teval-logloss:0.10136\n",
      "[112]\ttrain-logloss:0.00989\teval-logloss:0.10216\n",
      "[113]\ttrain-logloss:0.00981\teval-logloss:0.10155\n",
      "[114]\ttrain-logloss:0.00974\teval-logloss:0.10113\n",
      "[115]\ttrain-logloss:0.00966\teval-logloss:0.10113\n",
      "[116]\ttrain-logloss:0.00957\teval-logloss:0.10119\n",
      "[117]\ttrain-logloss:0.00954\teval-logloss:0.10109\n",
      "[118]\ttrain-logloss:0.00946\teval-logloss:0.10053\n",
      "[119]\ttrain-logloss:0.00935\teval-logloss:0.10016\n",
      "[120]\ttrain-logloss:0.00930\teval-logloss:0.10015\n",
      "[121]\ttrain-logloss:0.00922\teval-logloss:0.10021\n",
      "[122]\ttrain-logloss:0.00913\teval-logloss:0.10025\n",
      "[123]\ttrain-logloss:0.00907\teval-logloss:0.10012\n",
      "[124]\ttrain-logloss:0.00900\teval-logloss:0.09959\n",
      "[125]\ttrain-logloss:0.00897\teval-logloss:0.09951\n",
      "[126]\ttrain-logloss:0.00888\teval-logloss:0.09983\n",
      "[127]\ttrain-logloss:0.00880\teval-logloss:0.09988\n",
      "[128]\ttrain-logloss:0.00872\teval-logloss:0.09994\n",
      "[129]\ttrain-logloss:0.00869\teval-logloss:0.09986\n",
      "[130]\ttrain-logloss:0.00864\teval-logloss:0.09939\n",
      "[131]\ttrain-logloss:0.00861\teval-logloss:0.09932\n",
      "[132]\ttrain-logloss:0.00854\teval-logloss:0.09938\n",
      "[133]\ttrain-logloss:0.00847\teval-logloss:0.09983\n",
      "[134]\ttrain-logloss:0.00840\teval-logloss:0.09988\n",
      "[135]\ttrain-logloss:0.00835\teval-logloss:0.09976\n",
      "[136]\ttrain-logloss:0.00830\teval-logloss:0.09929\n",
      "[137]\ttrain-logloss:0.00827\teval-logloss:0.09899\n",
      "[138]\ttrain-logloss:0.00822\teval-logloss:0.09917\n",
      "[139]\ttrain-logloss:0.00820\teval-logloss:0.09910\n",
      "[140]\ttrain-logloss:0.00814\teval-logloss:0.09916\n",
      "[141]\ttrain-logloss:0.00807\teval-logloss:0.09923\n",
      "[142]\ttrain-logloss:0.00803\teval-logloss:0.09918\n",
      "[143]\ttrain-logloss:0.00801\teval-logloss:0.09889\n",
      "[144]\ttrain-logloss:0.00798\teval-logloss:0.09905\n",
      "[145]\ttrain-logloss:0.00794\teval-logloss:0.09894\n",
      "[146]\ttrain-logloss:0.00788\teval-logloss:0.09934\n",
      "[147]\ttrain-logloss:0.00785\teval-logloss:0.09892\n",
      "[148]\ttrain-logloss:0.00782\teval-logloss:0.09894\n",
      "[149]\ttrain-logloss:0.00780\teval-logloss:0.09867\n",
      "[150]\ttrain-logloss:0.00773\teval-logloss:0.09901\n",
      "[151]\ttrain-logloss:0.00769\teval-logloss:0.09896\n",
      "[152]\ttrain-logloss:0.00764\teval-logloss:0.09902\n",
      "[153]\ttrain-logloss:0.00762\teval-logloss:0.09903\n",
      "[154]\ttrain-logloss:0.00760\teval-logloss:0.09892\n",
      "[155]\ttrain-logloss:0.00753\teval-logloss:0.09960\n",
      "[156]\ttrain-logloss:0.00751\teval-logloss:0.09934\n",
      "[157]\ttrain-logloss:0.00749\teval-logloss:0.09949\n",
      "[158]\ttrain-logloss:0.00746\teval-logloss:0.09919\n",
      "[159]\ttrain-logloss:0.00741\teval-logloss:0.09909\n",
      "[160]\ttrain-logloss:0.00739\teval-logloss:0.09904\n",
      "[161]\ttrain-logloss:0.00737\teval-logloss:0.09879\n",
      "[162]\ttrain-logloss:0.00734\teval-logloss:0.09851\n",
      "[163]\ttrain-logloss:0.00732\teval-logloss:0.09860\n",
      "[164]\ttrain-logloss:0.00730\teval-logloss:0.09849\n",
      "[165]\ttrain-logloss:0.00728\teval-logloss:0.09851\n",
      "[166]\ttrain-logloss:0.00726\teval-logloss:0.09859\n",
      "[167]\ttrain-logloss:0.00725\teval-logloss:0.09815\n",
      "[168]\ttrain-logloss:0.00721\teval-logloss:0.09793\n",
      "[169]\ttrain-logloss:0.00719\teval-logloss:0.09809\n",
      "[170]\ttrain-logloss:0.00718\teval-logloss:0.09798\n",
      "[171]\ttrain-logloss:0.00716\teval-logloss:0.09767\n",
      "[172]\ttrain-logloss:0.00714\teval-logloss:0.09763\n",
      "[173]\ttrain-logloss:0.00712\teval-logloss:0.09752\n",
      "[174]\ttrain-logloss:0.00710\teval-logloss:0.09760\n",
      "[175]\ttrain-logloss:0.00709\teval-logloss:0.09749\n",
      "[176]\ttrain-logloss:0.00707\teval-logloss:0.09726\n",
      "[177]\ttrain-logloss:0.00705\teval-logloss:0.09741\n",
      "[178]\ttrain-logloss:0.00703\teval-logloss:0.09730\n",
      "[179]\ttrain-logloss:0.00702\teval-logloss:0.09689\n",
      "[180]\ttrain-logloss:0.00700\teval-logloss:0.09697\n",
      "[181]\ttrain-logloss:0.00698\teval-logloss:0.09687\n",
      "[182]\ttrain-logloss:0.00696\teval-logloss:0.09688\n",
      "[183]\ttrain-logloss:0.00695\teval-logloss:0.09696\n",
      "[184]\ttrain-logloss:0.00693\teval-logloss:0.09697\n",
      "[185]\ttrain-logloss:0.00692\teval-logloss:0.09656\n",
      "[186]\ttrain-logloss:0.00690\teval-logloss:0.09668\n",
      "[187]\ttrain-logloss:0.00688\teval-logloss:0.09683\n",
      "[188]\ttrain-logloss:0.00687\teval-logloss:0.09673\n",
      "[189]\ttrain-logloss:0.00685\teval-logloss:0.09669\n",
      "[190]\ttrain-logloss:0.00684\teval-logloss:0.09631\n",
      "[191]\ttrain-logloss:0.00682\teval-logloss:0.09633\n",
      "[192]\ttrain-logloss:0.00680\teval-logloss:0.09647\n",
      "[193]\ttrain-logloss:0.00679\teval-logloss:0.09649\n",
      "[194]\ttrain-logloss:0.00677\teval-logloss:0.09627\n",
      "[195]\ttrain-logloss:0.00676\teval-logloss:0.09634\n",
      "[196]\ttrain-logloss:0.00674\teval-logloss:0.09648\n",
      "[197]\ttrain-logloss:0.00673\teval-logloss:0.09651\n",
      "[198]\ttrain-logloss:0.00671\teval-logloss:0.09641\n",
      "[199]\ttrain-logloss:0.00670\teval-logloss:0.09649\n",
      "[200]\ttrain-logloss:0.00668\teval-logloss:0.09612\n",
      "[201]\ttrain-logloss:0.00667\teval-logloss:0.09608\n",
      "[202]\ttrain-logloss:0.00665\teval-logloss:0.09598\n",
      "[203]\ttrain-logloss:0.00664\teval-logloss:0.09606\n",
      "[204]\ttrain-logloss:0.00663\teval-logloss:0.09619\n",
      "[205]\ttrain-logloss:0.00661\teval-logloss:0.09584\n",
      "[206]\ttrain-logloss:0.00660\teval-logloss:0.09597\n",
      "[207]\ttrain-logloss:0.00658\teval-logloss:0.09588\n",
      "[208]\ttrain-logloss:0.00657\teval-logloss:0.09584\n",
      "[209]\ttrain-logloss:0.00656\teval-logloss:0.09564\n",
      "[210]\ttrain-logloss:0.00654\teval-logloss:0.09566\n",
      "[211]\ttrain-logloss:0.00653\teval-logloss:0.09568\n",
      "[212]\ttrain-logloss:0.00652\teval-logloss:0.09582\n",
      "[213]\ttrain-logloss:0.00650\teval-logloss:0.09548\n",
      "[214]\ttrain-logloss:0.00649\teval-logloss:0.09539\n",
      "[215]\ttrain-logloss:0.00648\teval-logloss:0.09535\n",
      "[216]\ttrain-logloss:0.00646\teval-logloss:0.09537\n",
      "[217]\ttrain-logloss:0.00645\teval-logloss:0.09550\n",
      "[218]\ttrain-logloss:0.00644\teval-logloss:0.09517\n",
      "[219]\ttrain-logloss:0.00643\teval-logloss:0.09508\n",
      "[220]\ttrain-logloss:0.00641\teval-logloss:0.09521\n",
      "[221]\ttrain-logloss:0.00640\teval-logloss:0.09507\n",
      "[222]\ttrain-logloss:0.00639\teval-logloss:0.09483\n",
      "[223]\ttrain-logloss:0.00638\teval-logloss:0.09486\n",
      "[224]\ttrain-logloss:0.00637\teval-logloss:0.09488\n",
      "[225]\ttrain-logloss:0.00635\teval-logloss:0.09490\n",
      "[226]\ttrain-logloss:0.00634\teval-logloss:0.09487\n",
      "[227]\ttrain-logloss:0.00633\teval-logloss:0.09488\n",
      "[228]\ttrain-logloss:0.00632\teval-logloss:0.09500\n",
      "[229]\ttrain-logloss:0.00631\teval-logloss:0.09468\n",
      "[230]\ttrain-logloss:0.00629\teval-logloss:0.09470\n",
      "[231]\ttrain-logloss:0.00628\teval-logloss:0.09472\n",
      "[232]\ttrain-logloss:0.00627\teval-logloss:0.09454\n",
      "[233]\ttrain-logloss:0.00626\teval-logloss:0.09457\n",
      "[234]\ttrain-logloss:0.00625\teval-logloss:0.09469\n",
      "[235]\ttrain-logloss:0.00624\teval-logloss:0.09472\n",
      "[236]\ttrain-logloss:0.00623\teval-logloss:0.09469\n",
      "[237]\ttrain-logloss:0.00621\teval-logloss:0.09471\n",
      "[238]\ttrain-logloss:0.00620\teval-logloss:0.09472\n",
      "[239]\ttrain-logloss:0.00619\teval-logloss:0.09454\n",
      "[240]\ttrain-logloss:0.00618\teval-logloss:0.09456\n",
      "[241]\ttrain-logloss:0.00617\teval-logloss:0.09459\n",
      "[242]\ttrain-logloss:0.00616\teval-logloss:0.09462\n",
      "[243]\ttrain-logloss:0.00615\teval-logloss:0.09429\n",
      "[244]\ttrain-logloss:0.00614\teval-logloss:0.09441\n",
      "[245]\ttrain-logloss:0.00613\teval-logloss:0.09427\n",
      "[246]\ttrain-logloss:0.00612\teval-logloss:0.09439\n",
      "[247]\ttrain-logloss:0.00611\teval-logloss:0.09442\n",
      "[248]\ttrain-logloss:0.00610\teval-logloss:0.09439\n",
      "[249]\ttrain-logloss:0.00609\teval-logloss:0.09410\n",
      "[250]\ttrain-logloss:0.00608\teval-logloss:0.09412\n",
      "[251]\ttrain-logloss:0.00607\teval-logloss:0.09413\n",
      "[252]\ttrain-logloss:0.00606\teval-logloss:0.09396\n",
      "[253]\ttrain-logloss:0.00605\teval-logloss:0.09408\n",
      "[254]\ttrain-logloss:0.00604\teval-logloss:0.09394\n",
      "[255]\ttrain-logloss:0.00603\teval-logloss:0.09397\n",
      "[256]\ttrain-logloss:0.00602\teval-logloss:0.09399\n",
      "[257]\ttrain-logloss:0.00601\teval-logloss:0.09408\n",
      "[258]\ttrain-logloss:0.00600\teval-logloss:0.09411\n",
      "[259]\ttrain-logloss:0.00599\teval-logloss:0.09422\n",
      "[260]\ttrain-logloss:0.00598\teval-logloss:0.09426\n",
      "[261]\ttrain-logloss:0.00597\teval-logloss:0.09409\n",
      "[262]\ttrain-logloss:0.00596\teval-logloss:0.09411\n",
      "[263]\ttrain-logloss:0.00595\teval-logloss:0.09409\n",
      "[264]\ttrain-logloss:0.00594\teval-logloss:0.09396\n",
      "[265]\ttrain-logloss:0.00593\teval-logloss:0.09407\n",
      "[266]\ttrain-logloss:0.00592\teval-logloss:0.09410\n",
      "[267]\ttrain-logloss:0.00591\teval-logloss:0.09382\n",
      "[268]\ttrain-logloss:0.00591\teval-logloss:0.09362\n",
      "[269]\ttrain-logloss:0.00590\teval-logloss:0.09373\n",
      "[270]\ttrain-logloss:0.00589\teval-logloss:0.09375\n",
      "[271]\ttrain-logloss:0.00588\teval-logloss:0.09377\n",
      "[272]\ttrain-logloss:0.00587\teval-logloss:0.09364\n",
      "[273]\ttrain-logloss:0.00586\teval-logloss:0.09375\n",
      "[274]\ttrain-logloss:0.00585\teval-logloss:0.09346\n",
      "[275]\ttrain-logloss:0.00584\teval-logloss:0.09355\n",
      "[276]\ttrain-logloss:0.00583\teval-logloss:0.09357\n",
      "[277]\ttrain-logloss:0.00583\teval-logloss:0.09359\n",
      "[278]\ttrain-logloss:0.00582\teval-logloss:0.09357\n",
      "[279]\ttrain-logloss:0.00581\teval-logloss:0.09355\n",
      "[280]\ttrain-logloss:0.00580\teval-logloss:0.09329\n",
      "[281]\ttrain-logloss:0.00579\teval-logloss:0.09332\n",
      "[282]\ttrain-logloss:0.00578\teval-logloss:0.09343\n",
      "[283]\ttrain-logloss:0.00578\teval-logloss:0.09331\n",
      "[284]\ttrain-logloss:0.00577\teval-logloss:0.09341\n",
      "[285]\ttrain-logloss:0.00576\teval-logloss:0.09341\n",
      "[286]\ttrain-logloss:0.00575\teval-logloss:0.09339\n",
      "[287]\ttrain-logloss:0.00574\teval-logloss:0.09347\n",
      "[288]\ttrain-logloss:0.00573\teval-logloss:0.09322\n",
      "[289]\ttrain-logloss:0.00573\teval-logloss:0.09324\n",
      "[290]\ttrain-logloss:0.00572\teval-logloss:0.09326\n",
      "[291]\ttrain-logloss:0.00571\teval-logloss:0.09325\n",
      "[292]\ttrain-logloss:0.00570\teval-logloss:0.09324\n",
      "[293]\ttrain-logloss:0.00569\teval-logloss:0.09322\n",
      "[294]\ttrain-logloss:0.00569\teval-logloss:0.09310\n",
      "[295]\ttrain-logloss:0.00568\teval-logloss:0.09321\n",
      "[296]\ttrain-logloss:0.00567\teval-logloss:0.09323\n",
      "[297]\ttrain-logloss:0.00566\teval-logloss:0.09296\n",
      "[298]\ttrain-logloss:0.00566\teval-logloss:0.09306\n",
      "[299]\ttrain-logloss:0.00565\teval-logloss:0.09294\n",
      "[300]\ttrain-logloss:0.00564\teval-logloss:0.09294\n",
      "[301]\ttrain-logloss:0.00563\teval-logloss:0.09297\n",
      "[302]\ttrain-logloss:0.00563\teval-logloss:0.09307\n",
      "[303]\ttrain-logloss:0.00562\teval-logloss:0.09305\n",
      "[304]\ttrain-logloss:0.00561\teval-logloss:0.09305\n",
      "[305]\ttrain-logloss:0.00560\teval-logloss:0.09279\n",
      "[306]\ttrain-logloss:0.00560\teval-logloss:0.09282\n",
      "[307]\ttrain-logloss:0.00559\teval-logloss:0.09280\n",
      "[308]\ttrain-logloss:0.00558\teval-logloss:0.09279\n",
      "[309]\ttrain-logloss:0.00558\teval-logloss:0.09272\n",
      "[310]\ttrain-logloss:0.00557\teval-logloss:0.09272\n",
      "[311]\ttrain-logloss:0.00556\teval-logloss:0.09274\n",
      "[312]\ttrain-logloss:0.00555\teval-logloss:0.09251\n",
      "[313]\ttrain-logloss:0.00555\teval-logloss:0.09254\n",
      "[314]\ttrain-logloss:0.00554\teval-logloss:0.09264\n",
      "[315]\ttrain-logloss:0.00553\teval-logloss:0.09262\n",
      "[316]\ttrain-logloss:0.00553\teval-logloss:0.09251\n",
      "[317]\ttrain-logloss:0.00552\teval-logloss:0.09261\n",
      "[318]\ttrain-logloss:0.00551\teval-logloss:0.09250\n",
      "[319]\ttrain-logloss:0.00551\teval-logloss:0.09250\n",
      "[320]\ttrain-logloss:0.00550\teval-logloss:0.09248\n",
      "[321]\ttrain-logloss:0.00549\teval-logloss:0.09223\n",
      "[322]\ttrain-logloss:0.00549\teval-logloss:0.09233\n",
      "[323]\ttrain-logloss:0.00548\teval-logloss:0.09222\n",
      "[324]\ttrain-logloss:0.00547\teval-logloss:0.09220\n",
      "[325]\ttrain-logloss:0.00547\teval-logloss:0.09222\n",
      "[326]\ttrain-logloss:0.00546\teval-logloss:0.09225\n",
      "[327]\ttrain-logloss:0.00545\teval-logloss:0.09234\n",
      "[328]\ttrain-logloss:0.00545\teval-logloss:0.09224\n",
      "[329]\ttrain-logloss:0.00544\teval-logloss:0.09223\n",
      "[330]\ttrain-logloss:0.00543\teval-logloss:0.09224\n",
      "[331]\ttrain-logloss:0.00543\teval-logloss:0.09222\n",
      "[332]\ttrain-logloss:0.00542\teval-logloss:0.09198\n",
      "[333]\ttrain-logloss:0.00542\teval-logloss:0.09208\n",
      "[334]\ttrain-logloss:0.00541\teval-logloss:0.09197\n",
      "[335]\ttrain-logloss:0.00540\teval-logloss:0.09197\n",
      "[336]\ttrain-logloss:0.00540\teval-logloss:0.09187\n",
      "[337]\ttrain-logloss:0.00539\teval-logloss:0.09196\n",
      "[338]\ttrain-logloss:0.00539\teval-logloss:0.09196\n",
      "[339]\ttrain-logloss:0.00538\teval-logloss:0.09186\n",
      "[340]\ttrain-logloss:0.00538\teval-logloss:0.09195\n",
      "[341]\ttrain-logloss:0.00537\teval-logloss:0.09182\n",
      "[342]\ttrain-logloss:0.00536\teval-logloss:0.09181\n",
      "[343]\ttrain-logloss:0.00536\teval-logloss:0.09183\n",
      "[344]\ttrain-logloss:0.00535\teval-logloss:0.09173\n",
      "[345]\ttrain-logloss:0.00535\teval-logloss:0.09182\n",
      "[346]\ttrain-logloss:0.00534\teval-logloss:0.09162\n",
      "[347]\ttrain-logloss:0.00534\teval-logloss:0.09164\n",
      "[348]\ttrain-logloss:0.00533\teval-logloss:0.09162\n",
      "[349]\ttrain-logloss:0.00532\teval-logloss:0.09162\n",
      "[350]\ttrain-logloss:0.00532\teval-logloss:0.09163\n",
      "[351]\ttrain-logloss:0.00531\teval-logloss:0.09153\n",
      "[352]\ttrain-logloss:0.00531\teval-logloss:0.09162\n",
      "[353]\ttrain-logloss:0.00530\teval-logloss:0.09164\n",
      "[354]\ttrain-logloss:0.00530\teval-logloss:0.09167\n",
      "[355]\ttrain-logloss:0.00529\teval-logloss:0.09165\n",
      "[356]\ttrain-logloss:0.00529\teval-logloss:0.09143\n",
      "[357]\ttrain-logloss:0.00528\teval-logloss:0.09152\n",
      "[358]\ttrain-logloss:0.00528\teval-logloss:0.09142\n",
      "[359]\ttrain-logloss:0.00527\teval-logloss:0.09143\n",
      "[360]\ttrain-logloss:0.00527\teval-logloss:0.09143\n",
      "[361]\ttrain-logloss:0.00526\teval-logloss:0.09145\n",
      "[362]\ttrain-logloss:0.00526\teval-logloss:0.09144\n",
      "[363]\ttrain-logloss:0.00525\teval-logloss:0.09153\n",
      "[364]\ttrain-logloss:0.00525\teval-logloss:0.09143\n",
      "[365]\ttrain-logloss:0.00524\teval-logloss:0.09143\n",
      "[366]\ttrain-logloss:0.00524\teval-logloss:0.09130\n",
      "[367]\ttrain-logloss:0.00523\teval-logloss:0.09129\n",
      "[368]\ttrain-logloss:0.00523\teval-logloss:0.09108\n",
      "[369]\ttrain-logloss:0.00522\teval-logloss:0.09117\n",
      "[370]\ttrain-logloss:0.00522\teval-logloss:0.09119\n",
      "[371]\ttrain-logloss:0.00521\teval-logloss:0.09120\n",
      "[372]\ttrain-logloss:0.00521\teval-logloss:0.09111\n",
      "[373]\ttrain-logloss:0.00520\teval-logloss:0.09119\n",
      "[374]\ttrain-logloss:0.00520\teval-logloss:0.09119\n",
      "[375]\ttrain-logloss:0.00519\teval-logloss:0.09110\n",
      "[376]\ttrain-logloss:0.00519\teval-logloss:0.09118\n",
      "[377]\ttrain-logloss:0.00518\teval-logloss:0.09120\n",
      "[378]\ttrain-logloss:0.00518\teval-logloss:0.09119\n",
      "[379]\ttrain-logloss:0.00517\teval-logloss:0.09120\n",
      "[380]\ttrain-logloss:0.00517\teval-logloss:0.09120\n",
      "[381]\ttrain-logloss:0.00516\teval-logloss:0.09111\n",
      "[382]\ttrain-logloss:0.00516\teval-logloss:0.09119\n",
      "[383]\ttrain-logloss:0.00515\teval-logloss:0.09121\n",
      "[384]\ttrain-logloss:0.00515\teval-logloss:0.09101\n",
      "[385]\ttrain-logloss:0.00515\teval-logloss:0.09100\n",
      "[386]\ttrain-logloss:0.00514\teval-logloss:0.09100\n",
      "[387]\ttrain-logloss:0.00514\teval-logloss:0.09101\n",
      "[388]\ttrain-logloss:0.00513\teval-logloss:0.09103\n",
      "[389]\ttrain-logloss:0.00513\teval-logloss:0.09111\n",
      "[390]\ttrain-logloss:0.00512\teval-logloss:0.09102\n",
      "[391]\ttrain-logloss:0.00512\teval-logloss:0.09110\n",
      "[392]\ttrain-logloss:0.00511\teval-logloss:0.09101\n",
      "[393]\ttrain-logloss:0.00511\teval-logloss:0.09082\n",
      "[394]\ttrain-logloss:0.00511\teval-logloss:0.09090\n",
      "[395]\ttrain-logloss:0.00510\teval-logloss:0.09092\n",
      "[396]\ttrain-logloss:0.00510\teval-logloss:0.09091\n",
      "[397]\ttrain-logloss:0.00509\teval-logloss:0.09091\n",
      "[398]\ttrain-logloss:0.00509\teval-logloss:0.09092\n",
      "[399]\ttrain-logloss:0.00508\teval-logloss:0.09083\n"
     ]
    }
   ],
   "source": [
    "#hyper paramter\n",
    "params = { 'max_depth':3,\n",
    "          'eta': 0.1,\n",
    "          'objective':'binary:logistic',\n",
    "          'eval_metric':'logloss'\n",
    "}\n",
    "num_rounds = 400\n",
    "\n",
    "#훈련 데이터와 검증 데이터 생성\n",
    "wlist = [(dtrain, 'train'), (dtest, 'eval')]\n",
    "\n",
    "#모델 생성\n",
    "xgb_model = xgb.train(params = params, dtrain = dtrain, \n",
    "                      num_boost_round = num_rounds,\n",
    "                      early_stopping_rounds = 100,\n",
    "                      evals = wlist)"
   ]
  },
  {
   "cell_type": "code",
   "execution_count": 24,
   "metadata": {},
   "outputs": [
    {
     "name": "stdout",
     "output_type": "stream",
     "text": [
      "predict( ) 수행 결과값을 10개만 표시, 예측 확률 값으로 표시됨\n",
      "[0.995 0.    0.    1.    1.    0.    0.001 0.065 0.346 1.   ]\n",
      "예측값 10개만 표시: [1, 0, 0, 1, 1, 0, 0, 0, 0, 1]\n"
     ]
    }
   ],
   "source": [
    "#예측\n",
    "pred_probs = xgb_model.predict(dtest)\n",
    "print('predict( ) 수행 결과값을 10개만 표시, 예측 확률 값으로 표시됨')\n",
    "print(np.round(pred_probs[:10],3))\n",
    "\n",
    "#확률을 가지고 실제 class 예측\n",
    "# 예측 확률이 0.5 보다 크면 1 , 그렇지 않으면 0 으로 예측값 결정하여 List 객체인 preds에 저장\n",
    "preds = [ 1 if x > 0.5 else 0 for x in pred_probs ]\n",
    "print('예측값 10개만 표시:',preds[:10])"
   ]
  },
  {
   "cell_type": "code",
   "execution_count": 26,
   "metadata": {},
   "outputs": [
    {
     "name": "stdout",
     "output_type": "stream",
     "text": [
      "오차 행렬\n",
      "[[41  2]\n",
      " [ 1 70]]\n",
      "정확도: 0.9737, 정밀도: 0.9722, 재현율: 0.9859,    F1: 0.9790, AUC:0.9941\n"
     ]
    }
   ],
   "source": [
    "#평가 지표 확인\n",
    "def get_clf_eval(y_test, pred=None, pred_proba=None):\n",
    "    confusion = confusion_matrix( y_test, pred)\n",
    "    #정확도\n",
    "    accuracy = accuracy_score(y_test , pred)\n",
    "    #정밀도 - True로 판정한 것 중에서 실제로 True인 비율: 잘못 검색되면 안되는 경우 중요\n",
    "    precision = precision_score(y_test , pred)\n",
    "    #재현율 - 실제로 True인 것 중에서 True로 판정한 비율: 정보 검색에서 중요\n",
    "    recall = recall_score(y_test , pred)\n",
    "    #f1 score: 정밀도와 재현율의 조화 평균 - 데이터가 불균형 할 때 중요\n",
    "    f1 = f1_score(y_test,pred)\n",
    "    # ROC-AUC - 1에 가까울 수록 좋은 수치\n",
    "    roc_auc = roc_auc_score(y_test, pred_proba)\n",
    "    print('오차 행렬')\n",
    "    print(confusion)\n",
    "    # ROC-AUC print 추가\n",
    "    print('정확도: {0:.4f}, 정밀도: {1:.4f}, 재현율: {2:.4f},\\\n",
    "    F1: {3:.4f}, AUC:{4:.4f}'.format(accuracy, precision, recall, f1, roc_auc))\n",
    "get_clf_eval(y_test , preds, pred_probs)"
   ]
  },
  {
   "cell_type": "code",
   "execution_count": 27,
   "metadata": {},
   "outputs": [
    {
     "data": {
      "text/plain": [
       "<Axes: title={'center': 'Feature importance'}, xlabel='F score', ylabel='Features'>"
      ]
     },
     "execution_count": 27,
     "metadata": {},
     "output_type": "execute_result"
    },
    {
     "data": {
      "image/png": "[encoded data removed]",
      "text/plain": [
       "<Figure size 1000x1200 with 1 Axes>"
      ]
     },
     "metadata": {},
     "output_type": "display_data"
    }
   ],
   "source": [
    "#feature importance = 피처 중요도 확인\n",
    "from xgboost import plot_importance\n",
    "import matplotlib.pyplot as plt\n",
    "%matplotlib inline\n",
    "\n",
    "fig, ax = plt.subplots(figsize=(10, 12))\n",
    "plot_importance(xgb_model, ax=ax)"
   ]
  },
  {
   "cell_type": "markdown",
   "metadata": {},
   "source": [
    "## Light GBM"
   ]
  },
  {
   "cell_type": "code",
   "execution_count": 31,
   "metadata": {},
   "outputs": [
    {
     "name": "stdout",
     "output_type": "stream",
     "text": [
      "[1]\tvalid_0's binary_logloss: 0.565079\n",
      "[2]\tvalid_0's binary_logloss: 0.507451\n",
      "[3]\tvalid_0's binary_logloss: 0.458489\n",
      "[4]\tvalid_0's binary_logloss: 0.417481\n",
      "[5]\tvalid_0's binary_logloss: 0.385507\n",
      "[6]\tvalid_0's binary_logloss: 0.355773\n",
      "[7]\tvalid_0's binary_logloss: 0.329587\n",
      "[8]\tvalid_0's binary_logloss: 0.308478\n",
      "[9]\tvalid_0's binary_logloss: 0.285395\n",
      "[10]\tvalid_0's binary_logloss: 0.267055\n",
      "[11]\tvalid_0's binary_logloss: 0.252013\n",
      "[12]\tvalid_0's binary_logloss: 0.237018\n",
      "[13]\tvalid_0's binary_logloss: 0.224756\n",
      "[14]\tvalid_0's binary_logloss: 0.213383\n",
      "[15]\tvalid_0's binary_logloss: 0.203058\n",
      "[16]\tvalid_0's binary_logloss: 0.194015\n",
      "[17]\tvalid_0's binary_logloss: 0.186412\n",
      "[18]\tvalid_0's binary_logloss: 0.179108\n",
      "[19]\tvalid_0's binary_logloss: 0.174004\n",
      "[20]\tvalid_0's binary_logloss: 0.167155\n",
      "[21]\tvalid_0's binary_logloss: 0.162494\n",
      "[22]\tvalid_0's binary_logloss: 0.156886\n",
      "[23]\tvalid_0's binary_logloss: 0.152855\n",
      "[24]\tvalid_0's binary_logloss: 0.151113\n",
      "[25]\tvalid_0's binary_logloss: 0.148395\n",
      "[26]\tvalid_0's binary_logloss: 0.145869\n",
      "[27]\tvalid_0's binary_logloss: 0.143036\n",
      "[28]\tvalid_0's binary_logloss: 0.14033\n",
      "[29]\tvalid_0's binary_logloss: 0.139609\n",
      "[30]\tvalid_0's binary_logloss: 0.136109\n",
      "[31]\tvalid_0's binary_logloss: 0.134867\n",
      "[32]\tvalid_0's binary_logloss: 0.134729\n",
      "[33]\tvalid_0's binary_logloss: 0.1311\n",
      "[34]\tvalid_0's binary_logloss: 0.131143\n",
      "[35]\tvalid_0's binary_logloss: 0.129435\n",
      "[36]\tvalid_0's binary_logloss: 0.128474\n",
      "[37]\tvalid_0's binary_logloss: 0.126683\n",
      "[38]\tvalid_0's binary_logloss: 0.126112\n",
      "[39]\tvalid_0's binary_logloss: 0.122831\n",
      "[40]\tvalid_0's binary_logloss: 0.123162\n",
      "[41]\tvalid_0's binary_logloss: 0.125592\n",
      "[42]\tvalid_0's binary_logloss: 0.128293\n",
      "[43]\tvalid_0's binary_logloss: 0.128123\n",
      "[44]\tvalid_0's binary_logloss: 0.12789\n",
      "[45]\tvalid_0's binary_logloss: 0.122818\n",
      "[46]\tvalid_0's binary_logloss: 0.12496\n",
      "[47]\tvalid_0's binary_logloss: 0.125578\n",
      "[48]\tvalid_0's binary_logloss: 0.127381\n",
      "[49]\tvalid_0's binary_logloss: 0.128349\n",
      "[50]\tvalid_0's binary_logloss: 0.127004\n",
      "[51]\tvalid_0's binary_logloss: 0.130288\n",
      "[52]\tvalid_0's binary_logloss: 0.131362\n",
      "[53]\tvalid_0's binary_logloss: 0.133363\n",
      "[54]\tvalid_0's binary_logloss: 0.1332\n",
      "[55]\tvalid_0's binary_logloss: 0.134543\n",
      "[56]\tvalid_0's binary_logloss: 0.130803\n",
      "[57]\tvalid_0's binary_logloss: 0.130306\n",
      "[58]\tvalid_0's binary_logloss: 0.132514\n",
      "[59]\tvalid_0's binary_logloss: 0.133278\n",
      "[60]\tvalid_0's binary_logloss: 0.134804\n",
      "[61]\tvalid_0's binary_logloss: 0.136888\n",
      "[62]\tvalid_0's binary_logloss: 0.138745\n",
      "[63]\tvalid_0's binary_logloss: 0.140497\n",
      "[64]\tvalid_0's binary_logloss: 0.141368\n",
      "[65]\tvalid_0's binary_logloss: 0.140764\n",
      "[66]\tvalid_0's binary_logloss: 0.14348\n",
      "[67]\tvalid_0's binary_logloss: 0.143418\n",
      "[68]\tvalid_0's binary_logloss: 0.143682\n",
      "[69]\tvalid_0's binary_logloss: 0.145076\n",
      "[70]\tvalid_0's binary_logloss: 0.14686\n",
      "[71]\tvalid_0's binary_logloss: 0.148051\n",
      "[72]\tvalid_0's binary_logloss: 0.147664\n",
      "[73]\tvalid_0's binary_logloss: 0.149478\n",
      "[74]\tvalid_0's binary_logloss: 0.14708\n",
      "[75]\tvalid_0's binary_logloss: 0.14545\n",
      "[76]\tvalid_0's binary_logloss: 0.148767\n",
      "[77]\tvalid_0's binary_logloss: 0.149959\n",
      "[78]\tvalid_0's binary_logloss: 0.146083\n",
      "[79]\tvalid_0's binary_logloss: 0.14638\n",
      "[80]\tvalid_0's binary_logloss: 0.148461\n",
      "[81]\tvalid_0's binary_logloss: 0.15091\n",
      "[82]\tvalid_0's binary_logloss: 0.153011\n",
      "[83]\tvalid_0's binary_logloss: 0.154807\n",
      "[84]\tvalid_0's binary_logloss: 0.156501\n",
      "[85]\tvalid_0's binary_logloss: 0.158586\n",
      "[86]\tvalid_0's binary_logloss: 0.159819\n",
      "[87]\tvalid_0's binary_logloss: 0.161745\n",
      "[88]\tvalid_0's binary_logloss: 0.162829\n",
      "[89]\tvalid_0's binary_logloss: 0.159142\n",
      "[90]\tvalid_0's binary_logloss: 0.156765\n",
      "[91]\tvalid_0's binary_logloss: 0.158625\n",
      "[92]\tvalid_0's binary_logloss: 0.156832\n",
      "[93]\tvalid_0's binary_logloss: 0.154616\n",
      "[94]\tvalid_0's binary_logloss: 0.154263\n",
      "[95]\tvalid_0's binary_logloss: 0.157156\n",
      "[96]\tvalid_0's binary_logloss: 0.158617\n",
      "[97]\tvalid_0's binary_logloss: 0.157495\n",
      "[98]\tvalid_0's binary_logloss: 0.159413\n",
      "[99]\tvalid_0's binary_logloss: 0.15847\n",
      "[100]\tvalid_0's binary_logloss: 0.160746\n",
      "[101]\tvalid_0's binary_logloss: 0.16217\n",
      "[102]\tvalid_0's binary_logloss: 0.165293\n",
      "[103]\tvalid_0's binary_logloss: 0.164749\n",
      "[104]\tvalid_0's binary_logloss: 0.167097\n",
      "[105]\tvalid_0's binary_logloss: 0.167697\n",
      "[106]\tvalid_0's binary_logloss: 0.169462\n",
      "[107]\tvalid_0's binary_logloss: 0.169947\n",
      "[108]\tvalid_0's binary_logloss: 0.171\n",
      "[109]\tvalid_0's binary_logloss: 0.16907\n",
      "[110]\tvalid_0's binary_logloss: 0.169521\n",
      "[111]\tvalid_0's binary_logloss: 0.167719\n",
      "[112]\tvalid_0's binary_logloss: 0.166648\n",
      "[113]\tvalid_0's binary_logloss: 0.169053\n",
      "[114]\tvalid_0's binary_logloss: 0.169613\n",
      "[115]\tvalid_0's binary_logloss: 0.170059\n",
      "[116]\tvalid_0's binary_logloss: 0.1723\n",
      "[117]\tvalid_0's binary_logloss: 0.174733\n",
      "[118]\tvalid_0's binary_logloss: 0.173526\n",
      "[119]\tvalid_0's binary_logloss: 0.1751\n",
      "[120]\tvalid_0's binary_logloss: 0.178254\n",
      "[121]\tvalid_0's binary_logloss: 0.182968\n",
      "[122]\tvalid_0's binary_logloss: 0.179017\n",
      "[123]\tvalid_0's binary_logloss: 0.178326\n",
      "[124]\tvalid_0's binary_logloss: 0.177149\n",
      "[125]\tvalid_0's binary_logloss: 0.179171\n",
      "[126]\tvalid_0's binary_logloss: 0.180948\n",
      "[127]\tvalid_0's binary_logloss: 0.183861\n",
      "[128]\tvalid_0's binary_logloss: 0.187579\n",
      "[129]\tvalid_0's binary_logloss: 0.188122\n",
      "[130]\tvalid_0's binary_logloss: 0.1857\n",
      "[131]\tvalid_0's binary_logloss: 0.187442\n",
      "[132]\tvalid_0's binary_logloss: 0.188578\n",
      "[133]\tvalid_0's binary_logloss: 0.189729\n",
      "[134]\tvalid_0's binary_logloss: 0.187313\n",
      "[135]\tvalid_0's binary_logloss: 0.189279\n",
      "[136]\tvalid_0's binary_logloss: 0.191068\n",
      "[137]\tvalid_0's binary_logloss: 0.192414\n",
      "[138]\tvalid_0's binary_logloss: 0.191255\n",
      "[139]\tvalid_0's binary_logloss: 0.193453\n",
      "[140]\tvalid_0's binary_logloss: 0.196969\n",
      "[141]\tvalid_0's binary_logloss: 0.196378\n",
      "[142]\tvalid_0's binary_logloss: 0.196367\n",
      "[143]\tvalid_0's binary_logloss: 0.19869\n",
      "[144]\tvalid_0's binary_logloss: 0.200352\n",
      "[145]\tvalid_0's binary_logloss: 0.19712\n"
     ]
    },
    {
     "name": "stderr",
     "output_type": "stream",
     "text": [
      "c:\\Users\\USER\\anaconda3\\lib\\site-packages\\lightgbm\\sklearn.py:726: UserWarning: 'early_stopping_rounds' argument is deprecated and will be removed in a future release of LightGBM. Pass 'early_stopping()' callback via 'callbacks' argument instead.\n",
      "  _log_warning(\"'early_stopping_rounds' argument is deprecated and will be removed in a future release of LightGBM. \"\n",
      "c:\\Users\\USER\\anaconda3\\lib\\site-packages\\lightgbm\\sklearn.py:736: UserWarning: 'verbose' argument is deprecated and will be removed in a future release of LightGBM. Pass 'log_evaluation()' callback via 'callbacks' argument instead.\n",
      "  _log_warning(\"'verbose' argument is deprecated and will be removed in a future release of LightGBM. \"\n"
     ]
    },
    {
     "data": {
      "text/html": [
       "<style>#sk-container-id-1 {color: black;background-color: white;}#sk-container-id-1 pre{padding: 0;}#sk-container-id-1 div.sk-toggleable {background-color: white;}#sk-container-id-1 label.sk-toggleable__label {cursor: pointer;display: block;width: 100%;margin-bottom: 0;padding: 0.3em;box-sizing: border-box;text-align: center;}#sk-container-id-1 label.sk-toggleable__label-arrow:before {content: \"▸\";float: left;margin-right: 0.25em;color: #696969;}#sk-container-id-1 label.sk-toggleable__label-arrow:hover:before {color: black;}#sk-container-id-1 div.sk-estimator:hover label.sk-toggleable__label-arrow:before {color: black;}#sk-container-id-1 div.sk-toggleable__content {max-height: 0;max-width: 0;overflow: hidden;text-align: left;background-color: #f0f8ff;}#sk-container-id-1 div.sk-toggleable__content pre {margin: 0.2em;color: black;border-radius: 0.25em;background-color: #f0f8ff;}#sk-container-id-1 input.sk-toggleable__control:checked~div.sk-toggleable__content {max-height: 200px;max-width: 100%;overflow: auto;}#sk-container-id-1 input.sk-toggleable__control:checked~label.sk-toggleable__label-arrow:before {content: \"▾\";}#sk-container-id-1 div.sk-estimator input.sk-toggleable__control:checked~label.sk-toggleable__label {background-color: #d4ebff;}#sk-container-id-1 div.sk-label input.sk-toggleable__control:checked~label.sk-toggleable__label {background-color: #d4ebff;}#sk-container-id-1 input.sk-hidden--visually {border: 0;clip: rect(1px 1px 1px 1px);clip: rect(1px, 1px, 1px, 1px);height: 1px;margin: -1px;overflow: hidden;padding: 0;position: absolute;width: 1px;}#sk-container-id-1 div.sk-estimator {font-family: monospace;background-color: #f0f8ff;border: 1px dotted black;border-radius: 0.25em;box-sizing: border-box;margin-bottom: 0.5em;}#sk-container-id-1 div.sk-estimator:hover {background-color: #d4ebff;}#sk-container-id-1 div.sk-parallel-item::after {content: \"\";width: 100%;border-bottom: 1px solid gray;flex-grow: 1;}#sk-container-id-1 div.sk-label:hover label.sk-toggleable__label {background-color: #d4ebff;}#sk-container-id-1 div.sk-serial::before {content: \"\";position: absolute;border-left: 1px solid gray;box-sizing: border-box;top: 0;bottom: 0;left: 50%;z-index: 0;}#sk-container-id-1 div.sk-serial {display: flex;flex-direction: column;align-items: center;background-color: white;padding-right: 0.2em;padding-left: 0.2em;position: relative;}#sk-container-id-1 div.sk-item {position: relative;z-index: 1;}#sk-container-id-1 div.sk-parallel {display: flex;align-items: stretch;justify-content: center;background-color: white;position: relative;}#sk-container-id-1 div.sk-item::before, #sk-container-id-1 div.sk-parallel-item::before {content: \"\";position: absolute;border-left: 1px solid gray;box-sizing: border-box;top: 0;bottom: 0;left: 50%;z-index: -1;}#sk-container-id-1 div.sk-parallel-item {display: flex;flex-direction: column;z-index: 1;position: relative;background-color: white;}#sk-container-id-1 div.sk-parallel-item:first-child::after {align-self: flex-end;width: 50%;}#sk-container-id-1 div.sk-parallel-item:last-child::after {align-self: flex-start;width: 50%;}#sk-container-id-1 div.sk-parallel-item:only-child::after {width: 0;}#sk-container-id-1 div.sk-dashed-wrapped {border: 1px dashed gray;margin: 0 0.4em 0.5em 0.4em;box-sizing: border-box;padding-bottom: 0.4em;background-color: white;}#sk-container-id-1 div.sk-label label {font-family: monospace;font-weight: bold;display: inline-block;line-height: 1.2em;}#sk-container-id-1 div.sk-label-container {text-align: center;}#sk-container-id-1 div.sk-container {/* jupyter's `normalize.less` sets `[hidden] { display: none; }` but bootstrap.min.css set `[hidden] { display: none !important; }` so we also need the `!important` here to be able to override the default hidden behavior on the sphinx rendered scikit-learn.org. See: https://github.com/scikit-learn/scikit-learn/issues/21755 */display: inline-block !important;position: relative;}#sk-container-id-1 div.sk-text-repr-fallback {display: none;}</style><div id=\"sk-container-id-1\" class=\"sk-top-container\"><div class=\"sk-text-repr-fallback\"><pre>LGBMClassifier(n_estimators=400)</pre><b>In a Jupyter environment, please rerun this cell to show the HTML representation or trust the notebook. <br />On GitHub, the HTML representation is unable to render, please try loading this page with nbviewer.org.</b></div><div class=\"sk-container\" hidden><div class=\"sk-item\"><div class=\"sk-estimator sk-toggleable\"><input class=\"sk-toggleable__control sk-hidden--visually\" id=\"sk-estimator-id-1\" type=\"checkbox\" checked><label for=\"sk-estimator-id-1\" class=\"sk-toggleable__label sk-toggleable__label-arrow\">LGBMClassifier</label><div class=\"sk-toggleable__content\"><pre>LGBMClassifier(n_estimators=400)</pre></div></div></div></div></div>"
      ],
      "text/plain": [
       "LGBMClassifier(n_estimators=400)"
      ]
     },
     "execution_count": 31,
     "metadata": {},
     "output_type": "execute_result"
    }
   ],
   "source": [
    "from lightgbm import LGBMClassifier\n",
    "\n",
    "dataset = load_breast_cancer()\n",
    "ftr = dataset.data\n",
    "target = dataset.target\n",
    "\n",
    "# 전체 데이터 중 80%는 학습용 데이터, 20%는 테스트용 데이터 추출\n",
    "X_train, X_test, y_train, y_test=train_test_split(ftr, target, test_size=0.2,\n",
    "random_state=156 )\n",
    "\n",
    "# 앞서 XGBoost와 동일하게 n_estimators는 400 설정.\n",
    "lgbm_wrapper = LGBMClassifier(n_estimators=400)\n",
    "\n",
    "# LightGBM도 XGBoost와 동일하게 조기 중단 수행 가능.\n",
    "evals = [(X_test, y_test)]\n",
    "lgbm_wrapper.fit(X_train, y_train, early_stopping_rounds=100, eval_metric=\"logloss\",\n",
    "eval_set=evals, verbose=True)\n"
   ]
  },
  {
   "cell_type": "code",
   "execution_count": 32,
   "metadata": {},
   "outputs": [
    {
     "name": "stdout",
     "output_type": "stream",
     "text": [
      "[1 0 1 0 1 1 1 1 1 0]\n",
      "[0.60514473 0.00747978 0.94351324 0.14309567 0.97666949 0.99589589\n",
      " 0.99463733 0.99033792 0.99349033 0.00654626]\n"
     ]
    }
   ],
   "source": [
    "#예측 수행\n",
    "preds = lgbm_wrapper.predict(X_test)\n",
    "pred_proba = lgbm_wrapper.predict_proba(X_test)[:, 1]\n",
    "\n",
    "print(preds[:10])\n",
    "print(pred_proba[:10])"
   ]
  },
  {
   "cell_type": "code",
   "execution_count": 30,
   "metadata": {},
   "outputs": [
    {
     "name": "stdout",
     "output_type": "stream",
     "text": [
      "오차 행렬\n",
      "[[33  4]\n",
      " [ 1 76]]\n",
      "정확도: 0.9561, 정밀도: 0.9500, 재현율: 0.9870,    F1: 0.9682, AUC:0.9905\n"
     ]
    }
   ],
   "source": [
    "get_clf_eval(y_test, preds, pred_proba)"
   ]
  },
  {
   "cell_type": "markdown",
   "metadata": {},
   "source": [
    "# stacking"
   ]
  },
  {
   "cell_type": "code",
   "execution_count": 36,
   "metadata": {},
   "outputs": [],
   "source": [
    "from sklearn.neighbors import KNeighborsClassifier\n",
    "from sklearn.ensemble import RandomForestClassifier\n",
    "from sklearn.ensemble import AdaBoostClassifier\n",
    "from sklearn.tree import DecisionTreeClassifier\n",
    "from sklearn.linear_model import LogisticRegression\n",
    "\n",
    "from sklearn.metrics import accuracy_score\n"
   ]
  },
  {
   "cell_type": "code",
   "execution_count": 37,
   "metadata": {},
   "outputs": [],
   "source": [
    "cancer_data = load_breast_cancer()\n",
    "X_data = cancer_data.data\n",
    "y_label = cancer_data.target\n",
    "X_train , X_test , y_train , y_test = train_test_split(X_data , y_label ,\n",
    "test_size=0.2 , random_state=0)"
   ]
  },
  {
   "cell_type": "code",
   "execution_count": 38,
   "metadata": {},
   "outputs": [],
   "source": [
    "# 개별 ML 모델을 위한 Classifier 생성.\n",
    "knn_clf = KNeighborsClassifier(n_neighbors=4)\n",
    "rf_clf = RandomForestClassifier(n_estimators=100, random_state=0)\n",
    "dt_clf = DecisionTreeClassifier()\n",
    "ada_clf = AdaBoostClassifier(n_estimators=100)\n",
    "\n",
    "# 최종 Stacking 모델을 위한 Classifier생성.\n",
    "lr_final = LogisticRegression(C=10)"
   ]
  },
  {
   "cell_type": "code",
   "execution_count": 39,
   "metadata": {},
   "outputs": [
    {
     "data": {
      "text/html": [
       "<style>#sk-container-id-2 {color: black;background-color: white;}#sk-container-id-2 pre{padding: 0;}#sk-container-id-2 div.sk-toggleable {background-color: white;}#sk-container-id-2 label.sk-toggleable__label {cursor: pointer;display: block;width: 100%;margin-bottom: 0;padding: 0.3em;box-sizing: border-box;text-align: center;}#sk-container-id-2 label.sk-toggleable__label-arrow:before {content: \"▸\";float: left;margin-right: 0.25em;color: #696969;}#sk-container-id-2 label.sk-toggleable__label-arrow:hover:before {color: black;}#sk-container-id-2 div.sk-estimator:hover label.sk-toggleable__label-arrow:before {color: black;}#sk-container-id-2 div.sk-toggleable__content {max-height: 0;max-width: 0;overflow: hidden;text-align: left;background-color: #f0f8ff;}#sk-container-id-2 div.sk-toggleable__content pre {margin: 0.2em;color: black;border-radius: 0.25em;background-color: #f0f8ff;}#sk-container-id-2 input.sk-toggleable__control:checked~div.sk-toggleable__content {max-height: 200px;max-width: 100%;overflow: auto;}#sk-container-id-2 input.sk-toggleable__control:checked~label.sk-toggleable__label-arrow:before {content: \"▾\";}#sk-container-id-2 div.sk-estimator input.sk-toggleable__control:checked~label.sk-toggleable__label {background-color: #d4ebff;}#sk-container-id-2 div.sk-label input.sk-toggleable__control:checked~label.sk-toggleable__label {background-color: #d4ebff;}#sk-container-id-2 input.sk-hidden--visually {border: 0;clip: rect(1px 1px 1px 1px);clip: rect(1px, 1px, 1px, 1px);height: 1px;margin: -1px;overflow: hidden;padding: 0;position: absolute;width: 1px;}#sk-container-id-2 div.sk-estimator {font-family: monospace;background-color: #f0f8ff;border: 1px dotted black;border-radius: 0.25em;box-sizing: border-box;margin-bottom: 0.5em;}#sk-container-id-2 div.sk-estimator:hover {background-color: #d4ebff;}#sk-container-id-2 div.sk-parallel-item::after {content: \"\";width: 100%;border-bottom: 1px solid gray;flex-grow: 1;}#sk-container-id-2 div.sk-label:hover label.sk-toggleable__label {background-color: #d4ebff;}#sk-container-id-2 div.sk-serial::before {content: \"\";position: absolute;border-left: 1px solid gray;box-sizing: border-box;top: 0;bottom: 0;left: 50%;z-index: 0;}#sk-container-id-2 div.sk-serial {display: flex;flex-direction: column;align-items: center;background-color: white;padding-right: 0.2em;padding-left: 0.2em;position: relative;}#sk-container-id-2 div.sk-item {position: relative;z-index: 1;}#sk-container-id-2 div.sk-parallel {display: flex;align-items: stretch;justify-content: center;background-color: white;position: relative;}#sk-container-id-2 div.sk-item::before, #sk-container-id-2 div.sk-parallel-item::before {content: \"\";position: absolute;border-left: 1px solid gray;box-sizing: border-box;top: 0;bottom: 0;left: 50%;z-index: -1;}#sk-container-id-2 div.sk-parallel-item {display: flex;flex-direction: column;z-index: 1;position: relative;background-color: white;}#sk-container-id-2 div.sk-parallel-item:first-child::after {align-self: flex-end;width: 50%;}#sk-container-id-2 div.sk-parallel-item:last-child::after {align-self: flex-start;width: 50%;}#sk-container-id-2 div.sk-parallel-item:only-child::after {width: 0;}#sk-container-id-2 div.sk-dashed-wrapped {border: 1px dashed gray;margin: 0 0.4em 0.5em 0.4em;box-sizing: border-box;padding-bottom: 0.4em;background-color: white;}#sk-container-id-2 div.sk-label label {font-family: monospace;font-weight: bold;display: inline-block;line-height: 1.2em;}#sk-container-id-2 div.sk-label-container {text-align: center;}#sk-container-id-2 div.sk-container {/* jupyter's `normalize.less` sets `[hidden] { display: none; }` but bootstrap.min.css set `[hidden] { display: none !important; }` so we also need the `!important` here to be able to override the default hidden behavior on the sphinx rendered scikit-learn.org. See: https://github.com/scikit-learn/scikit-learn/issues/21755 */display: inline-block !important;position: relative;}#sk-container-id-2 div.sk-text-repr-fallback {display: none;}</style><div id=\"sk-container-id-2\" class=\"sk-top-container\"><div class=\"sk-text-repr-fallback\"><pre>AdaBoostClassifier(n_estimators=100)</pre><b>In a Jupyter environment, please rerun this cell to show the HTML representation or trust the notebook. <br />On GitHub, the HTML representation is unable to render, please try loading this page with nbviewer.org.</b></div><div class=\"sk-container\" hidden><div class=\"sk-item\"><div class=\"sk-estimator sk-toggleable\"><input class=\"sk-toggleable__control sk-hidden--visually\" id=\"sk-estimator-id-2\" type=\"checkbox\" checked><label for=\"sk-estimator-id-2\" class=\"sk-toggleable__label sk-toggleable__label-arrow\">AdaBoostClassifier</label><div class=\"sk-toggleable__content\"><pre>AdaBoostClassifier(n_estimators=100)</pre></div></div></div></div></div>"
      ],
      "text/plain": [
       "AdaBoostClassifier(n_estimators=100)"
      ]
     },
     "execution_count": 39,
     "metadata": {},
     "output_type": "execute_result"
    }
   ],
   "source": [
    "# 개별 모델들을 학습.\n",
    "knn_clf.fit(X_train, y_train)\n",
    "rf_clf.fit(X_train , y_train)\n",
    "dt_clf.fit(X_train , y_train)\n",
    "ada_clf.fit(X_train, y_train)"
   ]
  },
  {
   "cell_type": "code",
   "execution_count": 42,
   "metadata": {},
   "outputs": [
    {
     "name": "stdout",
     "output_type": "stream",
     "text": [
      "KNN 정확도: 0.9211\n",
      "Random Forest 정확도: 0.9649\n",
      "결정 트리 정확도: 0.9123\n",
      "에이다부스트 정확도: 0.9561 \n"
     ]
    }
   ],
   "source": [
    "# 학습된 개별 모델들이 각자 반환하는 예측 데이터 세트을 생성하고 개별 모델의 정확도 측정.\n",
    "knn_pred = knn_clf.predict(X_test)\n",
    "rf_pred = rf_clf.predict(X_test)\n",
    "dt_pred = dt_clf.predict(X_test)\n",
    "ada_pred = ada_clf.predict(X_test)\n",
    "\n",
    "print('KNN 정확도: {0:.4f}'.format(accuracy_score(y_test, knn_pred)))\n",
    "print('Random Forest 정확도: {0:.4f}'.format(accuracy_score(y_test, rf_pred)))\n",
    "print('결정 트리 정확도: {0:.4f}'.format(accuracy_score(y_test, dt_pred)))\n",
    "print('에이다부스트 정확도: {0:.4f} '.format(accuracy_score(y_test, ada_pred)))"
   ]
  },
  {
   "cell_type": "code",
   "execution_count": 46,
   "metadata": {},
   "outputs": [
    {
     "name": "stdout",
     "output_type": "stream",
     "text": [
      "(4, 114)\n",
      "(114, 4)\n"
     ]
    }
   ],
   "source": [
    "#모델이 예측한 결과를 가지고 새로운 데이터 생성\n",
    "pred = np.array([knn_pred, rf_pred, dt_pred, ada_pred])\n",
    "print(pred.shape)\n",
    "\n",
    "# transpose를 이용해 행과 열의 위치 교환. 컬럼 레벨로 각 알고리즘의 예측 결과를 피처로 만듦.\n",
    "pred = np.transpose(pred)\n",
    "print(pred.shape)"
   ]
  },
  {
   "cell_type": "code",
   "execution_count": 45,
   "metadata": {},
   "outputs": [
    {
     "name": "stdout",
     "output_type": "stream",
     "text": [
      "최종 메타 모델의 예측 정확도: 0.9737\n"
     ]
    }
   ],
   "source": [
    "lr_final.fit(pred, y_test)\n",
    "final = lr_final.predict(pred)\n",
    "print('최종 메타 모델의 예측 정확도: {0:.4f}'.format(accuracy_score(y_test , final)))"
   ]
  },
  {
   "cell_type": "code",
   "execution_count": 50,
   "metadata": {},
   "outputs": [],
   "source": [
    "from sklearn.model_selection import KFold\n",
    "from sklearn.metrics import mean_absolute_error\n",
    "\n",
    "# 개별 기반 모델에서 최종 메타 모델이 사용할 학습 및 테스트용 데이터를 생성하기 위한 함수.\n",
    "def get_stacking_base_datasets(model, X_train_n, y_train_n, X_test_n, n_folds ):\n",
    "    # 지정된 n_folds값으로 KFold 생성.\n",
    "    kf = KFold(n_splits=n_folds, shuffle=True, random_state=42)\n",
    "    \n",
    "    #추후에 메타 모델이 사용할 학습 데이터 반환을 위한 넘파이 배열 초기화\n",
    "    train_fold_pred = np.zeros((X_train_n.shape[0] ,1 ))\n",
    "    test_pred = np.zeros((X_test_n.shape[0],n_folds))\n",
    "    print(model.__class__.__name__ , ' model 시작 ')\n",
    "\n",
    "    for folder_counter , (train_index, valid_index) in enumerate(kf.split(X_train_n)):\n",
    "        #입력된 학습 데이터에서 기반 모델이 학습/예측할 폴드 데이터 세트 추출\n",
    "        print('\\t 폴드 세트: ',folder_counter,' 시작 ')\n",
    "        X_tr = X_train_n[train_index]\n",
    "        y_tr = y_train_n[train_index]\n",
    "        X_te = X_train_n[valid_index]\n",
    "    \n",
    "        #폴드 세트 내부에서 다시 만들어진 학습 데이터로 기반 모델의 학습 수행.\n",
    "        model.fit(X_tr , y_tr)\n",
    "\n",
    "        #폴드 세트 내부에서 다시 만들어진 검증 데이터로 모델 예측 후 데이터 저장.\n",
    "        train_fold_pred[valid_index, :] = model.predict(X_te).reshape(-1,1)\n",
    "\n",
    "        #입력된 원본 테스트 데이터를 폴드 세트내 학습된 모델에서 예측 후 데이터 저장.\n",
    "        test_pred[:, folder_counter] = model.predict(X_test_n)\n",
    "\n",
    "    # 폴드 세트 내에서 원본 테스트 데이터를 예측한 데이터를 평균하여 테스트 데이터로 생성\n",
    "    test_pred_mean = np.mean(test_pred, axis=1).reshape(-1,1)\n",
    "\n",
    "    #train_fold_pred는 최종 메타 모델이 사용하는 학습 데이터, test_pred_mean은 테스트 데이터\n",
    "    return train_fold_pred , test_pred_mean"
   ]
  },
  {
   "cell_type": "code",
   "execution_count": 51,
   "metadata": {},
   "outputs": [
    {
     "name": "stdout",
     "output_type": "stream",
     "text": [
      "KNeighborsClassifier  model 시작 \n",
      "\t 폴드 세트:  0  시작 \n",
      "\t 폴드 세트:  1  시작 \n",
      "\t 폴드 세트:  2  시작 \n",
      "\t 폴드 세트:  3  시작 \n",
      "\t 폴드 세트:  4  시작 \n",
      "\t 폴드 세트:  5  시작 \n",
      "\t 폴드 세트:  6  시작 \n",
      "RandomForestClassifier  model 시작 \n",
      "\t 폴드 세트:  0  시작 \n",
      "\t 폴드 세트:  1  시작 \n",
      "\t 폴드 세트:  2  시작 \n",
      "\t 폴드 세트:  3  시작 \n",
      "\t 폴드 세트:  4  시작 \n",
      "\t 폴드 세트:  5  시작 \n",
      "\t 폴드 세트:  6  시작 \n",
      "DecisionTreeClassifier  model 시작 \n",
      "\t 폴드 세트:  0  시작 \n",
      "\t 폴드 세트:  1  시작 \n",
      "\t 폴드 세트:  2  시작 \n",
      "\t 폴드 세트:  3  시작 \n",
      "\t 폴드 세트:  4  시작 \n",
      "\t 폴드 세트:  5  시작 \n",
      "\t 폴드 세트:  6  시작 \n",
      "AdaBoostClassifier  model 시작 \n",
      "\t 폴드 세트:  0  시작 \n",
      "\t 폴드 세트:  1  시작 \n",
      "\t 폴드 세트:  2  시작 \n",
      "\t 폴드 세트:  3  시작 \n",
      "\t 폴드 세트:  4  시작 \n",
      "\t 폴드 세트:  5  시작 \n",
      "\t 폴드 세트:  6  시작 \n"
     ]
    }
   ],
   "source": [
    "knn_train, knn_test = get_stacking_base_datasets(knn_clf, X_train, y_train, X_test, 7)\n",
    "rf_train, rf_test = get_stacking_base_datasets(rf_clf, X_train, y_train, X_test, 7)\n",
    "dt_train, dt_test = get_stacking_base_datasets(dt_clf, X_train, y_train, X_test, 7)\n",
    "ada_train, ada_test = get_stacking_base_datasets(ada_clf, X_train, y_train, X_test, 7)"
   ]
  },
  {
   "cell_type": "code",
   "execution_count": 52,
   "metadata": {},
   "outputs": [
    {
     "name": "stdout",
     "output_type": "stream",
     "text": [
      "원본 학습 피처 데이터 Shape: (455, 30) 원본 테스트 피처 Shape: (114, 30)\n",
      "스태킹 학습 피처 데이터 Shape: (455, 4) 스태킹 테스트 피처 데이터 Shape: (114, 4)\n"
     ]
    }
   ],
   "source": [
    "Stack_final_X_train = np.concatenate((knn_train, rf_train, dt_train, ada_train), axis=1)\n",
    "Stack_final_X_test = np.concatenate((knn_test, rf_test, dt_test, ada_test), axis=1)\n",
    "print('원본 학습 피처 데이터 Shape:',X_train.shape, '원본 테스트 피처 Shape:',X_test.shape)\n",
    "print('스태킹 학습 피처 데이터 Shape:', Stack_final_X_train.shape,\n",
    "'스태킹 테스트 피처 데이터 Shape:',Stack_final_X_test.shape)"
   ]
  },
  {
   "cell_type": "code",
   "execution_count": 53,
   "metadata": {},
   "outputs": [
    {
     "name": "stdout",
     "output_type": "stream",
     "text": [
      "최종 메타 모델의 예측 정확도: 0.9737\n"
     ]
    }
   ],
   "source": [
    "#결과를 가지고 다시 훈련\n",
    "lr_final.fit(Stack_final_X_train, y_train)\n",
    "stack_final = lr_final.predict(Stack_final_X_test)\n",
    "print('최종 메타 모델의 예측 정확도: {0:.4f}'.format(accuracy_score(y_test, stack_final)))"
   ]
  }
 ],
 "metadata": {
  "kernelspec": {
   "display_name": "base",
   "language": "python",
   "name": "python3"
  },
  "language_info": {
   "codemirror_mode": {
    "name": "ipython",
    "version": 3
   },
   "file_extension": ".py",
   "mimetype": "text/x-python",
   "name": "python",
   "nbconvert_exporter": "python",
   "pygments_lexer": "ipython3",
   "version": "3.10.9"
  },
  "orig_nbformat": 4
 },
 "nbformat": 4,
 "nbformat_minor": 2
}
